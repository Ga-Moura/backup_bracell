{
 "cells": [
  {
   "cell_type": "code",
   "execution_count": 443,
   "metadata": {},
   "outputs": [],
   "source": [
    "import pandas as pd\n",
    "import numpy as np\n",
    "import psycopg2 as pg\n",
    "import configparser\n",
    "import os"
   ]
  },
  {
   "cell_type": "code",
   "execution_count": 444,
   "metadata": {},
   "outputs": [],
   "source": [
    "#Path pre_corte \n",
    "\n",
    "path_pre_corte = r'F:\\Qualidade_Florestal\\01- SÃO PAULO\\07- Monitoramentos de Silvicultura\\06 - SOP CODE\\01 - Bases de Dados\\01 - Bases Legado\\sop_legado_pre_corte.xlsx'"
   ]
  },
  {
   "cell_type": "code",
   "execution_count": 445,
   "metadata": {},
   "outputs": [],
   "source": [
    "#Path credenciais\n",
    "crendenciais_path = r'\\\\glwfs02.lwart.net\\LWC-FLORESTAL\\Qualidade_Florestal\\03- ADMINISTRATIVO\\2023\\06- COLABORADORES\\Gabriel\\18 - SQL\\sets.conf'\n",
    "\n",
    "credenciais = configparser.ConfigParser()\n",
    "\n",
    "credenciais.read(crendenciais_path)\n",
    "\n",
    "logins = credenciais['informacoes']\n",
    "\n",
    "\n",
    "\n",
    "conn_dwh = pg.connect(\n",
    "    user = logins['login'],\n",
    "    password = logins['senha'],\n",
    "    host = logins['host'],\n",
    "    port = logins['port'],\n",
    "    database = logins['data_base']\n",
    "    )"
   ]
  },
  {
   "cell_type": "code",
   "execution_count": 446,
   "metadata": {},
   "outputs": [],
   "source": [
    "#Função máscara\n",
    "\n",
    "def mascara(df, coluna,n_digitos):\n",
    "    df[coluna] = df[coluna].astype(str)\n",
    "    df[coluna] = str(\"000\") + df[coluna]\n",
    "    df[coluna] = df[coluna].astype(str).str[-n_digitos:] \n",
    "    return df"
   ]
  },
  {
   "cell_type": "code",
   "execution_count": 447,
   "metadata": {},
   "outputs": [],
   "source": [
    "#Realizando conexão do banco -> cadastro histórico\n",
    "\n",
    "cursor = conn_dwh.cursor()\n",
    "\n",
    "#Se atentar a região de São paulo que é 1 \n",
    "\n",
    "#Necessário mudar a consulta para fazer um left join na consulta d_cfg_espacamento para trazer a informação de espaçamento do cadastro e nome do projeto, logo foi necessário ter duas consultas\n",
    "\n",
    "\n",
    "cursor.execute(\"\"\"\n",
    "SELECT \n",
    "    f.data_plantio,\n",
    "    f.cd_regiao,\n",
    "    f.id_projeto,\n",
    "    f.cd_projeto,\n",
    "    f.cd_talhao,\n",
    "    f.num_ciclo,\n",
    "    f.cd_material_genetico,\n",
    "    f.cd_regime,\n",
    "    f.num_rotacao,\n",
    "    f.vlr_area,\n",
    "    f.source,\n",
    "    f.data_reg,\n",
    "    f.est_reg,\n",
    "    f.cd_uso_solo,\n",
    "    f.cd_caracteristica_uso_solo,\n",
    "    f.cd_espacamento,\n",
    "    d.dcr_espacamento,\n",
    "    p.nom_projeto\n",
    "FROM \n",
    "    forestry.f_cfg_uso_solo f\n",
    "LEFT JOIN \n",
    "    forestry.d_cfg_espacamento d\n",
    "ON \n",
    "    f.cd_espacamento = d.cd_espacamento\n",
    "    \n",
    "LEFT JOIN \n",
    "    forestry.cfg_projeto p\n",
    "\n",
    "ON\n",
    "    f.id_projeto = p.id_projeto\n",
    "    \n",
    "WHERE \n",
    "    f.source = 'BSP' \n",
    "    AND p.source = 'BSP'\n",
    "    AND p.cd_regiao = '1'\n",
    "    AND p.est_reg = 'A'\n",
    "    AND f.tip_reg = 'A'  \n",
    "    AND f.cd_regiao IN ('1','2')\n",
    "    \n",
    "    \n",
    "    \n",
    "\"\"\")\n",
    "\n",
    "\n",
    "\n",
    "dados_consulta = cursor.fetchall()\n",
    "\n",
    "cursor.close()\n",
    "\n",
    "#Manter a conexão do dwh aberta\n",
    "#conn_dwh.close() A conexão não foi fechada pois será utilizada novamente na consulta abaixo\n",
    "\n",
    "colunas_cad = [desc[0] for desc in cursor.description]\n",
    "\n",
    "\n",
    "cadastro_ciclo = pd.DataFrame(dados_consulta,columns=colunas_cad)"
   ]
  },
  {
   "cell_type": "code",
   "execution_count": 448,
   "metadata": {},
   "outputs": [],
   "source": [
    "pre_corte_legado = pd.read_excel(path_pre_corte, sheet_name='bd_precorte', engine = 'openpyxl', dtype={'Talhão':'str', 'Id Projeto':'str'})"
   ]
  },
  {
   "cell_type": "code",
   "execution_count": 449,
   "metadata": {},
   "outputs": [],
   "source": [
    "pre_corte_legado = mascara(pre_corte_legado,'Talhão', 3)\n",
    "\n",
    "pre_corte_legado = mascara(pre_corte_legado,'Id Projeto', 4)\n",
    "\n",
    "pre_corte_legado['objeto de locação'] = pre_corte_legado['Id Projeto'] + pre_corte_legado['Talhão']\n"
   ]
  },
  {
   "cell_type": "code",
   "execution_count": 450,
   "metadata": {},
   "outputs": [],
   "source": [
    "len_pre_corte_legado = len(pre_corte_legado)\n",
    "len_pre_corte_legado\n",
    "\n",
    "obj_inicio = set(pre_corte_legado['objeto de locação'])\n"
   ]
  },
  {
   "cell_type": "code",
   "execution_count": 451,
   "metadata": {},
   "outputs": [],
   "source": [
    "cadastro_ciclo = mascara(cadastro_ciclo,'cd_talhao',3)\n",
    "cadastro_ciclo = mascara(cadastro_ciclo,'id_projeto',4)\n",
    "cadastro_ciclo['objeto de locação'] = cadastro_ciclo['id_projeto'] + cadastro_ciclo['cd_talhao']"
   ]
  },
  {
   "cell_type": "code",
   "execution_count": 452,
   "metadata": {},
   "outputs": [
    {
     "data": {
      "text/html": [
       "<div>\n",
       "<style scoped>\n",
       "    .dataframe tbody tr th:only-of-type {\n",
       "        vertical-align: middle;\n",
       "    }\n",
       "\n",
       "    .dataframe tbody tr th {\n",
       "        vertical-align: top;\n",
       "    }\n",
       "\n",
       "    .dataframe thead th {\n",
       "        text-align: right;\n",
       "    }\n",
       "</style>\n",
       "<table border=\"1\" class=\"dataframe\">\n",
       "  <thead>\n",
       "    <tr style=\"text-align: right;\">\n",
       "      <th></th>\n",
       "      <th>objeto de locação</th>\n",
       "      <th>num_ciclo</th>\n",
       "      <th>cd_regime</th>\n",
       "      <th>data_reg</th>\n",
       "      <th>est_reg</th>\n",
       "      <th>cd_uso_solo</th>\n",
       "    </tr>\n",
       "  </thead>\n",
       "  <tbody>\n",
       "    <tr>\n",
       "      <th>0</th>\n",
       "      <td>0755011</td>\n",
       "      <td>1</td>\n",
       "      <td>7</td>\n",
       "      <td>2020-03-19 12:48:00</td>\n",
       "      <td>H</td>\n",
       "      <td>631</td>\n",
       "    </tr>\n",
       "    <tr>\n",
       "      <th>1</th>\n",
       "      <td>0755012</td>\n",
       "      <td>1</td>\n",
       "      <td>7</td>\n",
       "      <td>2020-03-19 12:48:00</td>\n",
       "      <td>H</td>\n",
       "      <td>632</td>\n",
       "    </tr>\n",
       "    <tr>\n",
       "      <th>2</th>\n",
       "      <td>0755013</td>\n",
       "      <td>1</td>\n",
       "      <td>7</td>\n",
       "      <td>2020-03-19 12:48:00</td>\n",
       "      <td>H</td>\n",
       "      <td>633</td>\n",
       "    </tr>\n",
       "    <tr>\n",
       "      <th>3</th>\n",
       "      <td>0755014</td>\n",
       "      <td>1</td>\n",
       "      <td>7</td>\n",
       "      <td>2020-03-19 12:48:00</td>\n",
       "      <td>H</td>\n",
       "      <td>634</td>\n",
       "    </tr>\n",
       "    <tr>\n",
       "      <th>4</th>\n",
       "      <td>0755015</td>\n",
       "      <td>1</td>\n",
       "      <td>7</td>\n",
       "      <td>2020-03-19 12:48:00</td>\n",
       "      <td>H</td>\n",
       "      <td>635</td>\n",
       "    </tr>\n",
       "    <tr>\n",
       "      <th>...</th>\n",
       "      <td>...</td>\n",
       "      <td>...</td>\n",
       "      <td>...</td>\n",
       "      <td>...</td>\n",
       "      <td>...</td>\n",
       "      <td>...</td>\n",
       "    </tr>\n",
       "    <tr>\n",
       "      <th>43430</th>\n",
       "      <td>0511021</td>\n",
       "      <td>2</td>\n",
       "      <td>6</td>\n",
       "      <td>2023-06-30 14:04:41</td>\n",
       "      <td>A</td>\n",
       "      <td>90433</td>\n",
       "    </tr>\n",
       "    <tr>\n",
       "      <th>43431</th>\n",
       "      <td>0511520</td>\n",
       "      <td>None</td>\n",
       "      <td>None</td>\n",
       "      <td>2023-06-30 14:05:16</td>\n",
       "      <td>H</td>\n",
       "      <td>90434</td>\n",
       "    </tr>\n",
       "    <tr>\n",
       "      <th>43432</th>\n",
       "      <td>0511307</td>\n",
       "      <td>2</td>\n",
       "      <td>6</td>\n",
       "      <td>2023-06-30 14:05:23</td>\n",
       "      <td>A</td>\n",
       "      <td>90435</td>\n",
       "    </tr>\n",
       "    <tr>\n",
       "      <th>43433</th>\n",
       "      <td>0166025</td>\n",
       "      <td>1</td>\n",
       "      <td>5</td>\n",
       "      <td>2020-01-04 12:53:40</td>\n",
       "      <td>H</td>\n",
       "      <td>19307</td>\n",
       "    </tr>\n",
       "    <tr>\n",
       "      <th>43434</th>\n",
       "      <td>0035001</td>\n",
       "      <td>4</td>\n",
       "      <td>6</td>\n",
       "      <td>2020-01-04 12:53:41</td>\n",
       "      <td>A</td>\n",
       "      <td>19308</td>\n",
       "    </tr>\n",
       "  </tbody>\n",
       "</table>\n",
       "<p>43435 rows × 6 columns</p>\n",
       "</div>"
      ],
      "text/plain": [
       "      objeto de locação num_ciclo cd_regime            data_reg est_reg  \\\n",
       "0               0755011         1         7 2020-03-19 12:48:00       H   \n",
       "1               0755012         1         7 2020-03-19 12:48:00       H   \n",
       "2               0755013         1         7 2020-03-19 12:48:00       H   \n",
       "3               0755014         1         7 2020-03-19 12:48:00       H   \n",
       "4               0755015         1         7 2020-03-19 12:48:00       H   \n",
       "...                 ...       ...       ...                 ...     ...   \n",
       "43430           0511021         2         6 2023-06-30 14:04:41       A   \n",
       "43431           0511520      None      None 2023-06-30 14:05:16       H   \n",
       "43432           0511307         2         6 2023-06-30 14:05:23       A   \n",
       "43433           0166025         1         5 2020-01-04 12:53:40       H   \n",
       "43434           0035001         4         6 2020-01-04 12:53:41       A   \n",
       "\n",
       "      cd_uso_solo  \n",
       "0             631  \n",
       "1             632  \n",
       "2             633  \n",
       "3             634  \n",
       "4             635  \n",
       "...           ...  \n",
       "43430       90433  \n",
       "43431       90434  \n",
       "43432       90435  \n",
       "43433       19307  \n",
       "43434       19308  \n",
       "\n",
       "[43435 rows x 6 columns]"
      ]
     },
     "execution_count": 452,
     "metadata": {},
     "output_type": "execute_result"
    }
   ],
   "source": [
    "cadastro_ciclo = cadastro_ciclo[['objeto de locação','num_ciclo','cd_regime','data_reg','est_reg','cd_uso_solo']]\n",
    "cadastro_ciclo"
   ]
  },
  {
   "cell_type": "code",
   "execution_count": 453,
   "metadata": {},
   "outputs": [],
   "source": [
    "pre_corte_legado = pre_corte_legado.merge(cadastro_ciclo, left_on='objeto de locação', right_on='objeto de locação', how='left')"
   ]
  },
  {
   "cell_type": "code",
   "execution_count": 454,
   "metadata": {},
   "outputs": [
    {
     "data": {
      "text/plain": [
       "10167"
      ]
     },
     "execution_count": 454,
     "metadata": {},
     "output_type": "execute_result"
    }
   ],
   "source": [
    "#Removendo talhões em branco do pre corte legado e vendo o tamanho\n",
    "\n",
    "#Quando não tiver data de pre corte, devo trazer o cto\n",
    "\n",
    "pre_corte_legado['Data PréCorte_check'] = np.where(pd.isna(pre_corte_legado['Data PréCorte']), pre_corte_legado['CTO Derrubada'], pre_corte_legado['Data PréCorte'])\n",
    "\n",
    "pre_corte_legado = pre_corte_legado[pd.notna(pre_corte_legado['Data PréCorte_check'])]\n",
    "\n",
    "len(pre_corte_legado)"
   ]
  },
  {
   "cell_type": "code",
   "execution_count": 455,
   "metadata": {},
   "outputs": [],
   "source": [
    "pre_corte_legado['delta registro'] = (pre_corte_legado['Data PréCorte_check'] - pre_corte_legado['data_reg']).dt.days\n"
   ]
  },
  {
   "cell_type": "code",
   "execution_count": 456,
   "metadata": {},
   "outputs": [],
   "source": [
    "pre_corte_legado['n de ocorrencias'] = pre_corte_legado.groupby(['objeto de locação'])['objeto de locação'].transform('count')"
   ]
  },
  {
   "cell_type": "code",
   "execution_count": 457,
   "metadata": {},
   "outputs": [],
   "source": [
    "#Intervalo definido, mantendo somente a operação que foi feita dentro do intervalo max e min\n",
    "\n",
    "intervalo_max = 365\n",
    "intervalo_min = -365\n",
    "\n",
    "\n",
    "#Só posso fazer essa regra se o talhão for maior que 1\n",
    "\n",
    "pre_corte_legado.loc[(pre_corte_legado['delta registro'] <= intervalo_max) & \n",
    "                     (pre_corte_legado['delta registro'] >= intervalo_min) & \n",
    "                     (pre_corte_legado['n de ocorrencias'] > 2), 'n de ocorrencias'] = \\\n",
    "pre_corte_legado[(pre_corte_legado['delta registro'] <= intervalo_max) & \n",
    "                 (pre_corte_legado['delta registro'] >= intervalo_min)]['n de ocorrencias']\n",
    "\n"
   ]
  },
  {
   "cell_type": "code",
   "execution_count": 458,
   "metadata": {},
   "outputs": [],
   "source": [
    "pre_corte_legado = pre_corte_legado.sort_values(['objeto de locação','delta registro','Data PréCorte_check', 'data_reg'], ascending=[True,False,True,True])"
   ]
  },
  {
   "cell_type": "code",
   "execution_count": 459,
   "metadata": {},
   "outputs": [],
   "source": [
    "pre_corte_legado = pre_corte_legado.drop_duplicates(subset='objeto de locação' ,keep='first')"
   ]
  },
  {
   "cell_type": "code",
   "execution_count": 460,
   "metadata": {},
   "outputs": [],
   "source": [
    "obj_final = set(pre_corte_legado['objeto de locação'])"
   ]
  },
  {
   "cell_type": "code",
   "execution_count": 461,
   "metadata": {},
   "outputs": [
    {
     "data": {
      "text/plain": [
       "set()"
      ]
     },
     "execution_count": 461,
     "metadata": {},
     "output_type": "execute_result"
    }
   ],
   "source": [
    "delta_obj = obj_inicio - obj_final\n",
    "\n",
    "delta_obj"
   ]
  },
  {
   "cell_type": "code",
   "execution_count": 462,
   "metadata": {},
   "outputs": [
    {
     "data": {
      "text/plain": [
       "65"
      ]
     },
     "execution_count": 462,
     "metadata": {},
     "output_type": "execute_result"
    }
   ],
   "source": [
    "tamanho_pre_corte_legado - len(pre_corte_legado)\n",
    "\n",
    "#A diferença fica somente para os talhões que eram duplicados"
   ]
  },
  {
   "cell_type": "code",
   "execution_count": 463,
   "metadata": {},
   "outputs": [],
   "source": [
    "pre_corte_legado = pre_corte_legado.drop(['n de ocorrencias', 'Data PréCorte_check','delta registro'],axis=1)"
   ]
  },
  {
   "cell_type": "code",
   "execution_count": 441,
   "metadata": {},
   "outputs": [],
   "source": [
    "path_save = r'F:\\Qualidade_Florestal\\01- SÃO PAULO\\07- Monitoramentos de Silvicultura\\06 - SOP CODE\\01 - Bases de Dados\\01 - Bases Legado'"
   ]
  },
  {
   "cell_type": "code",
   "execution_count": 465,
   "metadata": {},
   "outputs": [],
   "source": [
    "pre_corte_legado.to_excel(os.path.join(path_save,'sop_legado_pre_corte_cd_uso_solo.xlsx'))"
   ]
  }
 ],
 "metadata": {
  "kernelspec": {
   "display_name": "Python 3",
   "language": "python",
   "name": "python3"
  },
  "language_info": {
   "codemirror_mode": {
    "name": "ipython",
    "version": 3
   },
   "file_extension": ".py",
   "mimetype": "text/x-python",
   "name": "python",
   "nbconvert_exporter": "python",
   "pygments_lexer": "ipython3",
   "version": "3.11.1"
  }
 },
 "nbformat": 4,
 "nbformat_minor": 2
}
