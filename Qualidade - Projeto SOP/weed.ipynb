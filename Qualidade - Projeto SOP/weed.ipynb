{
 "cells": [
  {
   "cell_type": "code",
   "execution_count": 1,
   "metadata": {},
   "outputs": [],
   "source": [
    "#Bibliotecas \n",
    "import pandas as pd\n",
    "import openpyxl\n",
    "import os\n",
    "from datetime import datetime\n",
    "import numpy as np\n",
    "import psycopg2 as pg\n",
    "import configparser\n",
    "import pygwalker"
   ]
  },
  {
   "cell_type": "code",
   "execution_count": 2,
   "metadata": {},
   "outputs": [
    {
     "data": {
      "text/plain": [
       "Timestamp('2024-10-07 13:25:03.637055')"
      ]
     },
     "execution_count": 2,
     "metadata": {},
     "output_type": "execute_result"
    }
   ],
   "source": [
    "#Hora de início\n",
    "today = pd.Timestamp(datetime.today())\n",
    "today"
   ]
  },
  {
   "cell_type": "code",
   "execution_count": 3,
   "metadata": {},
   "outputs": [],
   "source": [
    "#Path credenciais\n",
    "crendenciais_path = r'\\\\glwfs02.lwart.net\\LWC-FLORESTAL\\Qualidade_Florestal\\03- ADMINISTRATIVO\\2023\\06- COLABORADORES\\Gabriel\\18 - SQL\\sets.conf'"
   ]
  },
  {
   "cell_type": "code",
   "execution_count": 4,
   "metadata": {},
   "outputs": [],
   "source": [
    "#Path premissas\n",
    "path_premissas = r'\\\\GLWFS02.lwart.net\\LWC-FLORESTAL\\Qualidade_Florestal\\03- ADMINISTRATIVO\\2023\\06- COLABORADORES\\Gabriel\\19 - Projeto SOP\\premissas.xlsx'"
   ]
  },
  {
   "cell_type": "code",
   "execution_count": 5,
   "metadata": {},
   "outputs": [],
   "source": [
    "#Path justificativas\n",
    "path_justificativas = r'\\\\glwfs02.lwart.net\\LWC-FLORESTAL\\Qualidade_Florestal\\03- ADMINISTRATIVO\\2023\\06- COLABORADORES\\Gabriel\\19 - Projeto SOP\\justificativas.xlsx'"
   ]
  },
  {
   "cell_type": "code",
   "execution_count": 6,
   "metadata": {},
   "outputs": [],
   "source": [
    "#Path Weed\n",
    "\n",
    "path_weed = r'F:\\Planejamento_e_Controle\\Geoprocessamento\\02_SETOR\\06_SENSORIAMENTO REMOTO\\PROJETOS\\03_MATO-COMPETICAO\\13_PLANILHA_BI\\Planilha_WEED_COMPETITION_BI.xlsx'"
   ]
  },
  {
   "cell_type": "code",
   "execution_count": 7,
   "metadata": {},
   "outputs": [],
   "source": [
    "#Path boletim\n",
    "df_boletim1 = r'F:\\Planejamento_Florestal\\Controles-Florestais\\13-DB-real\\Boletim da Silvicultura Daily\\Anual\\2020_Boletim_da_Silvicultura.parquet'\n",
    "df_boletim2 = r'F:\\Planejamento_Florestal\\Controles-Florestais\\13-DB-real\\Boletim da Silvicultura Daily\\Anual\\2021_Boletim_da_Silvicultura.parquet'\n",
    "df_boletim3 = r'F:\\Planejamento_Florestal\\Controles-Florestais\\13-DB-real\\Boletim da Silvicultura Daily\\Anual\\2022_Boletim_da_Silvicultura.parquet'\n",
    "df_boletim4 = r'F:\\Planejamento_Florestal\\Controles-Florestais\\13-DB-real\\Boletim da Silvicultura Daily\\Anual\\2023_Boletim_da_Silvicultura.parquet'\n",
    "df_boletim5 =r'F:\\Planejamento_Florestal\\Controles-Florestais\\13-DB-real\\Boletim da Silvicultura Daily\\Anual\\2024_Boletim_da_Silvicultura.parquet'"
   ]
  },
  {
   "cell_type": "code",
   "execution_count": 8,
   "metadata": {},
   "outputs": [],
   "source": [
    "#Função máscara\n",
    "\n",
    "def mascara(df, coluna,n_digitos):\n",
    "    df[coluna] = df[coluna].astype(str)\n",
    "    df[coluna] = str(\"000\") + df[coluna]\n",
    "    df[coluna] = df[coluna].astype(str).str[-n_digitos:] \n",
    "    return df"
   ]
  },
  {
   "cell_type": "code",
   "execution_count": 9,
   "metadata": {},
   "outputs": [],
   "source": [
    "#Credenciais\n",
    "\n",
    "credenciais = configparser.ConfigParser()\n",
    "\n",
    "credenciais.read(crendenciais_path)\n",
    "\n",
    "logins = credenciais['informacoes']\n",
    "\n",
    "\n",
    "\n",
    "conn_dwh = pg.connect(\n",
    "    user = logins['login'],\n",
    "    password = logins['senha'],\n",
    "    host = logins['host'],\n",
    "    port = logins['port'],\n",
    "    database = logins['data_base']\n",
    "    )"
   ]
  },
  {
   "cell_type": "code",
   "execution_count": 10,
   "metadata": {},
   "outputs": [],
   "source": [
    "#Cadastro\n",
    "\n",
    "\n",
    "cursor = conn_dwh.cursor()\n",
    "\n",
    "\n",
    "\n",
    "cursor.execute(\"\"\"\n",
    "               \n",
    "SELECT \n",
    "    f.data_plantio,\n",
    "    f.cd_regiao,\n",
    "    f.id_projeto,\n",
    "    f.cd_projeto,\n",
    "    f.cd_talhao,\n",
    "    f.num_ciclo,\n",
    "    f.cd_material_genetico,\n",
    "    f.cd_regime,\n",
    "    f.num_rotacao,\n",
    "    f.vlr_area,\n",
    "    f.source,\n",
    "    f.data_reg,\n",
    "    f.est_reg,\n",
    "    f.cd_uso_solo,\n",
    "    f.cd_caracteristica_uso_solo,\n",
    "    f.cd_espacamento\n",
    "FROM \n",
    "    forestry.f_cfg_uso_solo f\n",
    "\n",
    "\n",
    "WHERE \n",
    "    f.source = 'BSP' \n",
    "    AND f.tip_reg = 'A' \n",
    "    AND f.est_reg = 'A'           \n",
    "    AND f.cd_regiao IN ('1','2')\n",
    "\n",
    "               \"\"\")\n",
    "\n",
    "\n",
    "dados_consulta = cursor.fetchall()\n",
    "\n",
    "cursor.close()\n",
    "conn_dwh.close()\n",
    "\n",
    "\n",
    "colunas_cad = [desc[0] for desc in cursor.description]\n",
    "\n",
    "\n",
    "cadastro = pd.DataFrame(dados_consulta,columns=colunas_cad)\n",
    "cadastro = mascara(cadastro,'id_projeto', 4)\n",
    "cadastro = mascara(cadastro,'cd_talhao', 3)\n",
    "cadastro['objeto de locação'] = cadastro['id_projeto'] + cadastro['cd_talhao']\n",
    "cadastro = cadastro.drop_duplicates(subset='objeto de locação', keep='first')\n",
    "\n",
    "cadastro_type = {'data_plantio': 'datetime64[ns]',\n",
    "                 'vlr_area' : 'float'}\n",
    "\n",
    "cadastro = cadastro.astype(cadastro_type)"
   ]
  },
  {
   "cell_type": "code",
   "execution_count": 11,
   "metadata": {},
   "outputs": [],
   "source": [
    "#De para Operação\n",
    "\n",
    "operacao = pd.read_excel(path_premissas, sheet_name='operacao',usecols=['Operações', 'Grupo de Operação','Weed'])\n",
    "\n",
    "operacao = operacao[operacao['Weed'] == 'Sim']\n"
   ]
  },
  {
   "cell_type": "code",
   "execution_count": 12,
   "metadata": {},
   "outputs": [],
   "source": [
    "#De para status\n",
    "\n",
    "status = pd.read_excel(path_premissas,sheet_name='status')\n"
   ]
  },
  {
   "cell_type": "code",
   "execution_count": 13,
   "metadata": {},
   "outputs": [],
   "source": [
    "#De para classe\n",
    "classe_intensidade = pd.read_excel(path_premissas, sheet_name='Classe weed')\n"
   ]
  },
  {
   "cell_type": "code",
   "execution_count": 14,
   "metadata": {},
   "outputs": [],
   "source": [
    "#Boletim\n",
    "\n",
    "boletim1 = pd.read_parquet(df_boletim1, engine='fastparquet')\n",
    "boletim2 = pd.read_parquet(df_boletim2, engine='fastparquet')\n",
    "boletim3 = pd.read_parquet(df_boletim3, engine='fastparquet')\n",
    "boletim4 = pd.read_parquet(df_boletim4, engine='fastparquet')\n",
    "boletim5 = pd.read_parquet(df_boletim5, engine='fastparquet')\n",
    "\n",
    "boletim = pd.concat([boletim1, boletim2, boletim3, boletim4, boletim5])\n",
    "boletim = boletim[['ID_REGIAO','CD_BOLETIM_SILVICULTURA','DATA_OPERACAO','VLR_PRODUCAO','DCR_OPERACAO','CD_TALHAO','ID_PROJETO','CD_PROJETO','NOME_RECURSO','QUANTIDADE','UNIDADE_MED','DCR_FASE_PRESCRICAO','FLAG_OCORRENCIA','NOM_PROJETO','TIP_APROVACAO','CD_MATERIAL_GENETICO']]\n"
   ]
  },
  {
   "cell_type": "code",
   "execution_count": 15,
   "metadata": {},
   "outputs": [],
   "source": [
    "#Boletim; Operação; Status \n",
    "\n",
    "#Operações cadastradas\n",
    "boletim = boletim.merge(operacao, left_on='DCR_OPERACAO', right_on='Operações', how='left')\n",
    "\n",
    "boletim = boletim[boletim['Weed'] == 'Sim']\n",
    "\n",
    "\n",
    "#Status\n",
    "boletim = boletim.merge(status, left_on='TIP_APROVACAO', right_on='sigla', how='left')\n",
    "\n",
    "boletim = boletim[boletim['Status Vigente'] == 'Sim']\n",
    "\n",
    "\n",
    "\n"
   ]
  },
  {
   "cell_type": "code",
   "execution_count": 16,
   "metadata": {},
   "outputs": [],
   "source": [
    "# % de Área realizada \n",
    "\n",
    "area_realizada = 0"
   ]
  },
  {
   "cell_type": "code",
   "execution_count": 17,
   "metadata": {},
   "outputs": [],
   "source": [
    "#Tratando o Boletim\n",
    "\n",
    "boletim = mascara(boletim,'ID_PROJETO',4)\n",
    "\n",
    "boletim = mascara(boletim,'CD_TALHAO',3)\n",
    "\n",
    "boletim['objeto de locação'] = boletim['ID_PROJETO'] + boletim['CD_TALHAO']\n",
    "\n",
    "boletim['Dose/ha'] = round((boletim['QUANTIDADE'] / boletim['VLR_PRODUCAO']),3)\n",
    "\n",
    "boletim = boletim.sort_values(['DATA_OPERACAO','CD_BOLETIM_SILVICULTURA','QUANTIDADE'], ascending=[False, True, True])\n",
    "\n",
    "boletim['insumos apontados'] = boletim.groupby('CD_BOLETIM_SILVICULTURA')['NOME_RECURSO'].transform(lambda x: '; '.join(x.astype(str)))\n",
    "\n",
    "boletim['doses apontadas'] = boletim.groupby('CD_BOLETIM_SILVICULTURA')['Dose/ha'].transform(lambda x: '; '.join(x.astype(str)))\n",
    "\n",
    "\n",
    "boletim = boletim.drop_duplicates(subset=['CD_BOLETIM_SILVICULTURA'], keep='first')\n",
    "\n",
    "#Cadastro\n",
    "\n",
    "boletim = boletim.merge(cadastro[['objeto de locação','vlr_area']], left_on='objeto de locação', right_on='objeto de locação', how='left')\n",
    "\n",
    "boletim['% area realizada'] = round((boletim['vlr_area'] / boletim['VLR_PRODUCAO']),3)\n"
   ]
  },
  {
   "cell_type": "code",
   "execution_count": 18,
   "metadata": {},
   "outputs": [],
   "source": [
    "#Filtro % de área apontada\n",
    "\n",
    "percent_area = 0\n",
    "\n",
    "boletim = boletim[boletim['% area realizada'] >= percent_area]\n",
    "\n"
   ]
  },
  {
   "cell_type": "code",
   "execution_count": 19,
   "metadata": {},
   "outputs": [],
   "source": [
    "#Weed\n",
    "\n",
    "weed = pd.read_excel(path_weed, sheet_name='Planilha1')\n",
    "\n",
    "weed = weed[['ID_PROJETO', 'PROJETO', 'ID_TALHAO', 'AREA_HA', 'IDADE', 'DATA_PLANT', 'ESTADO', 'DATA_IMG','DATA_IMG_NOVA','Matocompetição', 'Plantio Limpo',\n",
    "             'Nuvem', 'Classe Idade', 'Alerta', '% DA ÁREA TOTAL','Classe_Area', 'Regional Silvicultura', 'Período', 'Data de entrega']]\n",
    "\n",
    "weed = weed[weed['ESTADO'] != 'MS']\n",
    "weed = mascara(weed,'ID_PROJETO',4)\n",
    "weed = mascara(weed,'ID_TALHAO',3)\n",
    "\n",
    "weed['objeto de locação'] = weed['ID_PROJETO'] + weed['ID_TALHAO']\n",
    "\n",
    "weed = weed.sort_values(['objeto de locação', 'DATA_IMG'], ascending=[True, False])\n",
    "\n",
    "\n",
    "weed = weed.sort_values(['objeto de locação', 'DATA_IMG'], ascending=[True, False])\n",
    "\n",
    "weed['DATA_IMG_NOVA'] = weed.apply(lambda x: x['DATA_IMG'] if pd.isna(x['DATA_IMG_NOVA']) else x['DATA_IMG_NOVA'],axis=1)\n",
    "\n",
    "weed['quinzena'] = np.where(weed['DATA_IMG_NOVA'].dt.day < 15,'1ª',\n",
    "                                 np.where(weed['DATA_IMG_NOVA'].dt.day > 15, '2ª', ''))\n",
    "\n",
    "\n",
    "weed = weed.merge(classe_intensidade, left_on=['Classe_Area'], right_on=['Classe Weed'], how='left').drop('Classe Weed',axis =1)\n",
    "\n",
    "\n",
    "weed['ordem imagem'] = weed.groupby('objeto de locação')['objeto de locação'].transform('size') - weed.groupby('objeto de locação').cumcount()\n",
    "\n",
    "\n",
    "weed['intensidade'] = np.where(\n",
    "weed['ordem imagem'] == 1 , '1º Monitoramento',\n",
    "np.where(\n",
    "(weed['objeto de locação'] == weed['objeto de locação'].shift(-1)) & (weed['Intensidade'] > weed['Intensidade'].shift(-1)) , 'Aumentou a intensidade', \n",
    "np.where(\n",
    "(weed['objeto de locação'] == weed['objeto de locação'].shift(-1)) & (weed['Intensidade'] < weed['Intensidade'].shift(-1)) , 'Reduziu a intensidade', \n",
    "'Sem alterações de intensidade' )))\n"
   ]
  },
  {
   "cell_type": "code",
   "execution_count": 20,
   "metadata": {},
   "outputs": [],
   "source": [
    "#Weed e Boletim\n",
    "\n",
    "weed = weed.merge(boletim[['CD_BOLETIM_SILVICULTURA','DATA_OPERACAO','insumos apontados', 'doses apontadas','% area realizada','objeto de locação', 'DCR_OPERACAO','Grupo de Operação']], left_on='objeto de locação', right_on='objeto de locação', how='left')\n"
   ]
  },
  {
   "cell_type": "code",
   "execution_count": 21,
   "metadata": {},
   "outputs": [],
   "source": [
    "#Calculos do weed\n",
    "intervalo_min = -20\n",
    "\n",
    "weed['intervalo imagem operação'] = (weed['DATA_OPERACAO'] - weed['DATA_IMG_NOVA']).dt.days\n",
    "\n",
    "weed['intervalo imagem operação abs'] = np.abs(weed['intervalo imagem operação'])\n",
    "\n",
    "weed['Alerta'] = weed['Alerta'].str.upper()\n",
    "\n",
    "\n",
    "weed['status'] = np.where( (weed['Alerta'] == 'ALERTA') & (pd.isna(weed['DATA_OPERACAO'])) ,\n",
    "                          'Não realizado', \n",
    "                          np.where((weed['Alerta'] == 'ALERTA') & (pd.notna(weed['DATA_OPERACAO'])),\n",
    "                                   'Realizado',\n",
    "                                np.where((weed['Alerta'] == 'SEM ALERTA'), 'Sem necessidade',\n",
    "                                    ''\n",
    "                                    )))\n",
    "\n",
    "\n",
    "weed['intervalo'] = (weed['intervalo imagem operação'] >= intervalo_min) | (weed['status'] != 'Não realizado')\n",
    "\n",
    "weed = weed[weed['intervalo'] == True]\n",
    "\n",
    "weed['chave_ordem'] = weed['objeto de locação'] + \" - \" + weed['ordem imagem'].astype(str)\n",
    "\n",
    "weed = weed.sort_values(['objeto de locação','ordem imagem', 'intervalo imagem operação abs'], ascending=[True,False,True])\n",
    "\n",
    "\n",
    "delta_priorizacao = 10\n",
    "\n",
    "weed['priorização'] = np.where((\n",
    "    (weed['chave_ordem'] == weed['chave_ordem'].shift(1)) &\\\n",
    "    ((weed['Grupo de Operação'] == 'Herbicida') & (weed['Grupo de Operação'].shift(1) == 'Roçada')) &\\\n",
    "    ((weed['intervalo imagem operação abs'] - weed['intervalo imagem operação abs'].shift(1)) <= delta_priorizacao) ) |\\\n",
    "        ((weed['chave_ordem'] == weed['chave_ordem'].shift(1)) &\\\n",
    "        ((weed['Grupo de Operação'] == 'Roçada') & (weed['Grupo de Operação'].shift(1) == 'Roçada')) &\\\n",
    "        ((weed['intervalo imagem operação abs'] - weed['intervalo imagem operação abs'].shift(1)) <= delta_priorizacao)) |\\\n",
    "            ((weed['chave_ordem'] == weed['chave_ordem'].shift(1)) &\\\n",
    "            ((weed['Grupo de Operação'] == 'Herbicida') & (weed['Grupo de Operação'].shift(1) == 'Herbicida')) &\\\n",
    "            ((weed['intervalo imagem operação abs'] - weed['intervalo imagem operação abs'].shift(1)) <= delta_priorizacao)) |\\\n",
    "(\n",
    "    (weed['chave_ordem'] == weed['chave_ordem'].shift(-1)) &\\\n",
    "    ((weed['Grupo de Operação'] == 'Herbicida') & (weed['Grupo de Operação'].shift(-1) == 'Roçada')) &\\\n",
    "    ((weed['intervalo imagem operação abs'] - weed['intervalo imagem operação abs'].shift(-1)) <= delta_priorizacao) ) |\\\n",
    "        ((weed['chave_ordem'] == weed['chave_ordem'].shift(-1)) &\\\n",
    "        ((weed['Grupo de Operação'] == 'Roçada') & (weed['Grupo de Operação'].shift(-1) == 'Roçada')) &\\\n",
    "        ((weed['intervalo imagem operação abs'] - weed['intervalo imagem operação abs'].shift(-1)) <= delta_priorizacao)) |\\\n",
    "            ((weed['chave_ordem'] == weed['chave_ordem'].shift(-1)) &\\\n",
    "            ((weed['Grupo de Operação'] == 'Herbicida') & (weed['Grupo de Operação'].shift(-1) == 'Herbicida')) &\\\n",
    "            ((weed['intervalo imagem operação abs'] - weed['intervalo imagem operação abs'].shift(-1)) <= delta_priorizacao)) \n",
    "            ,'Considerar operação', \n",
    "        \n",
    "                    np.where(pd.isna(weed['DATA_OPERACAO']), 'Sem operação', 'Não considerar operação'\n",
    "                                ))\n",
    "\n",
    "weed = weed[weed['priorização'] != 'Não considerar operação']\n",
    "\n",
    "weed = weed.drop_duplicates(subset='chave_ordem', keep='first')\n",
    "\n",
    "weed['soma alertas'] = weed.groupby('objeto de locação')['Alerta'].transform(lambda x: (x == 'ALERTA').sum())\n",
    "\n",
    "weed['numero de imagens'] = weed.groupby('objeto de locação')['objeto de locação'].transform('count')\n",
    "\n"
   ]
  },
  {
   "cell_type": "code",
   "execution_count": 22,
   "metadata": {},
   "outputs": [],
   "source": [
    "#Soma da quantidade de dias no sujo\n",
    "\n",
    "weed['Tempo no sujo'] = np.where( (weed['objeto de locação'] == weed['objeto de locação'].shift(-1)) & (weed['Alerta'] == 'ALERTA'),\n",
    "                                  (weed['DATA_IMG_NOVA'] - weed['DATA_IMG_NOVA'].shift(-1)) .dt.days,\n",
    "                                np.where( (weed['objeto de locação'] == weed['objeto de locação'].shift(1)) &\\\n",
    "                                        ((weed['Alerta'] == 'ALERTA') & (weed['Alerta'] == 'SEM ALERTA').shift(1)) & (weed['ordem imagem'] == 1) ,15 , np.nan ))\n"
   ]
  },
  {
   "cell_type": "code",
   "execution_count": 23,
   "metadata": {},
   "outputs": [],
   "source": [
    "#Assertividade\n",
    "\n",
    "#Só pode ser considerada para os talhões que tem alerta\n",
    "\n",
    "assertividade = 35\n",
    "\n",
    "\n",
    "weed['assertividade'] = np.where( (weed['Alerta'] == 'SEM ALERTA') | (weed['status'] == 'Sem necessidade'), \"\", \n",
    "                            np.where( (weed['Alerta'] == 'ALERTA') & (weed['status'] =='Realizado') & (weed['intervalo imagem operação abs'] <= assertividade),\n",
    "                                    \"No prazo\", \"Fora do prazo\")\n",
    ")\n"
   ]
  },
  {
   "cell_type": "code",
   "execution_count": 24,
   "metadata": {},
   "outputs": [],
   "source": [
    "#Boletim efetivo\n",
    "\n",
    "#resposta para a pergunta qual boletim resolveu o alerta?\n",
    "\n",
    "weed['boletim efetivo'] = np.where( weed['numero de imagens'] == 1, \n",
    "                                    weed['CD_BOLETIM_SILVICULTURA'],\n",
    "                                np.where(\n",
    "                                            ((weed['objeto de locação'] == weed['objeto de locação'].shift(-1)) | weed['ordem imagem'] == 1) &\\\n",
    "                                            (pd.notna(weed['DATA_OPERACAO'])) &\\\n",
    "                                            (weed['Alerta'] == 'ALERTA') &\\\n",
    "                                            ((weed['DATA_OPERACAO'] >= weed['DATA_OPERACAO'].shift(-1)) | weed['ordem imagem'] == 1) &\\\n",
    "                                            ((weed['Alerta'] == 'ALERTA') & (weed['Alerta'].shift(1) == 'SEM ALERTA')), \n",
    "                                            weed['CD_BOLETIM_SILVICULTURA'], np.nan ))"
   ]
  },
  {
   "cell_type": "code",
   "execution_count": 25,
   "metadata": {},
   "outputs": [
    {
     "data": {
      "text/plain": [
       "Index(['ID_PROJETO', 'PROJETO', 'ID_TALHAO', 'AREA_HA', 'IDADE', 'DATA_PLANT',\n",
       "       'ESTADO', 'DATA_IMG', 'DATA_IMG_NOVA', 'Matocompetição',\n",
       "       'Plantio Limpo', 'Nuvem', 'Classe Idade', 'Alerta', '% DA ÁREA TOTAL',\n",
       "       'Classe_Area', 'Regional Silvicultura', 'Período', 'Data de entrega',\n",
       "       'objeto de locação', 'quinzena', 'Intensidade', 'ordem imagem',\n",
       "       'intensidade', 'CD_BOLETIM_SILVICULTURA', 'DATA_OPERACAO',\n",
       "       'insumos apontados', 'doses apontadas', '% area realizada',\n",
       "       'DCR_OPERACAO', 'Grupo de Operação', 'intervalo imagem operação',\n",
       "       'intervalo imagem operação abs', 'status', 'intervalo', 'chave_ordem',\n",
       "       'priorização', 'soma alertas', 'numero de imagens', 'Tempo no sujo',\n",
       "       'assertividade', 'boletim efetivo'],\n",
       "      dtype='object')"
      ]
     },
     "execution_count": 25,
     "metadata": {},
     "output_type": "execute_result"
    }
   ],
   "source": [
    "weed.columns"
   ]
  },
  {
   "cell_type": "code",
   "execution_count": 26,
   "metadata": {},
   "outputs": [],
   "source": [
    "#Percentual de efetividade\n",
    "\n",
    "# weed['eficiencia'] = np.where((weed['Alerta'] == 'ALERTA') &\\\n",
    "#                               (weed['ordem imagem'] != weed['numero de imagens']) &\\\n",
    "#                               (weed['ordem imagem'] != 1 ) &\\\n",
    "#                               (weed['objeto de locação'] == weed['objeto de locação'].shift(-1))&\\\n",
    "#                               (weed['CD_BOLETIM_SILVICULTURA'] != weed['CD_BOLETIM_SILVICULTURA'].shift(-1))&\\\n",
    "#                               (weed['Alerta'].shift(1) == 'SEM ALERTA')\n",
    "\n",
    "#                             ,'considerado', 'nao considerado'\n",
    "#                               )"
   ]
  },
  {
   "cell_type": "code",
   "execution_count": 27,
   "metadata": {},
   "outputs": [],
   "source": [
    "#Criando base auxiliar para encontrar informações da eficiencia da operação\n",
    "\n",
    "weed_eo = weed[['objeto de locação','chave_ordem','CD_BOLETIM_SILVICULTURA','Alerta','DATA_IMG_NOVA','DATA_OPERACAO']]\n",
    "\n",
    "#Filtrar o quem data de operação vazio\n",
    "\n",
    "weed_eo = weed_eo[pd.notna(weed_eo['DATA_OPERACAO'])]\n",
    "\n",
    "weed_eo['DATA_OPERACAO'] = weed_eo['DATA_OPERACAO'].astype('datetime64[ns]')\n",
    "weed_eo['DATA_IMG_NOVA'] = weed_eo['DATA_IMG_NOVA'].astype('datetime64[ns]')"
   ]
  },
  {
   "cell_type": "code",
   "execution_count": 28,
   "metadata": {},
   "outputs": [
    {
     "data": {
      "text/plain": [
       "38994"
      ]
     },
     "execution_count": 28,
     "metadata": {},
     "output_type": "execute_result"
    }
   ],
   "source": [
    "weed.shape[0]"
   ]
  },
  {
   "cell_type": "code",
   "execution_count": 29,
   "metadata": {},
   "outputs": [],
   "source": [
    "#Base auxiliar para o weed\n",
    "\n",
    "#Esse merge irá duplicar a base, dessa forma é necessário uma regra para filtrar somente o que deve ser considerado\n",
    "weed = weed.merge(weed_eo, left_on='objeto de locação', right_on='objeto de locação', how='left', suffixes=(\"\",\"_EO\"))\n"
   ]
  },
  {
   "cell_type": "code",
   "execution_count": 30,
   "metadata": {},
   "outputs": [],
   "source": [
    "weed['dist img_op'] = (weed['DATA_OPERACAO_EO'] - weed['DATA_IMG_NOVA']).dt.days"
   ]
  },
  {
   "cell_type": "code",
   "execution_count": 31,
   "metadata": {},
   "outputs": [
    {
     "data": {
      "text/plain": [
       "402460"
      ]
     },
     "execution_count": 31,
     "metadata": {},
     "output_type": "execute_result"
    }
   ],
   "source": [
    "weed.shape[0]"
   ]
  },
  {
   "cell_type": "code",
   "execution_count": 33,
   "metadata": {},
   "outputs": [],
   "source": [
    "#weed[weed['objeto de locação'] == '0011018'].to_excel('weed.xlsx')"
   ]
  }
 ],
 "metadata": {
  "kernelspec": {
   "display_name": "Python 3",
   "language": "python",
   "name": "python3"
  },
  "language_info": {
   "codemirror_mode": {
    "name": "ipython",
    "version": 3
   },
   "file_extension": ".py",
   "mimetype": "text/x-python",
   "name": "python",
   "nbconvert_exporter": "python",
   "pygments_lexer": "ipython3",
   "version": "3.11.1"
  }
 },
 "nbformat": 4,
 "nbformat_minor": 2
}
