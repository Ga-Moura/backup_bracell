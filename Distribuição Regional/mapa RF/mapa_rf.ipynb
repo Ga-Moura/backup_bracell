{
 "cells": [
  {
   "cell_type": "code",
   "execution_count": 64,
   "metadata": {},
   "outputs": [],
   "source": [
    "import pandas as pd\n",
    "import numpy as np\n",
    "import os\n",
    "import geopandas as gd\n",
    "import openpyxl as px\n",
    "import psycopg2 as pg\n",
    "from python_calamine.pandas import pandas_monkeypatch\n",
    "pandas_monkeypatch()"
   ]
  },
  {
   "cell_type": "code",
   "execution_count": 65,
   "metadata": {},
   "outputs": [],
   "source": [
    "path_rf = r'F:\\Silvicultura\\01. SP\\PROCESSOS\\COI Silvicultura - Edicao\\01. Programações & Controles\\001. Rolling Forcast - RF\\Distribuição Regional\\mapa RF\\Programa Plantio_RF03_divulgado.xlsx'"
   ]
  },
  {
   "cell_type": "code",
   "execution_count": 66,
   "metadata": {},
   "outputs": [],
   "source": [
    "mapa_rf = pd.read_excel(path_rf,\n",
    "                             sheet_name='BD',\n",
    "                             dtype={'Objeto de locação':'object','Id Projeto':'object'},\n",
    "                             usecols=['Objeto de locação','Projeto', 'Id Projeto', 'RF'])"
   ]
  },
  {
   "cell_type": "code",
   "execution_count": 67,
   "metadata": {},
   "outputs": [],
   "source": [
    "list_rf = ['RF03','RF04','RF05','RF06']"
   ]
  },
  {
   "cell_type": "code",
   "execution_count": 68,
   "metadata": {},
   "outputs": [],
   "source": [
    "#Filtrando apenas RF de interesse\n",
    "\n",
    "mapa_rf = mapa_rf[mapa_rf['RF'].isin(list_rf)]"
   ]
  },
  {
   "cell_type": "code",
   "execution_count": 69,
   "metadata": {},
   "outputs": [],
   "source": [
    "#Ordenar pelo RF para poder remover duplicatas\n",
    "\n",
    "mapa_rf = mapa_rf.sort_values('RF', ascending=True)\n",
    "\n",
    "mapa_rf = mapa_rf.drop_duplicates('Id Projeto')"
   ]
  },
  {
   "cell_type": "code",
   "execution_count": 70,
   "metadata": {},
   "outputs": [
    {
     "data": {
      "text/html": [
       "<div>\n",
       "<style scoped>\n",
       "    .dataframe tbody tr th:only-of-type {\n",
       "        vertical-align: middle;\n",
       "    }\n",
       "\n",
       "    .dataframe tbody tr th {\n",
       "        vertical-align: top;\n",
       "    }\n",
       "\n",
       "    .dataframe thead th {\n",
       "        text-align: right;\n",
       "    }\n",
       "</style>\n",
       "<table border=\"1\" class=\"dataframe\">\n",
       "  <thead>\n",
       "    <tr style=\"text-align: right;\">\n",
       "      <th></th>\n",
       "      <th>Objeto de locação</th>\n",
       "      <th>Id Projeto</th>\n",
       "      <th>Projeto</th>\n",
       "      <th>RF</th>\n",
       "    </tr>\n",
       "  </thead>\n",
       "  <tbody>\n",
       "    <tr>\n",
       "      <th>1576</th>\n",
       "      <td>0374016</td>\n",
       "      <td>0374</td>\n",
       "      <td>SANTO ANTÔNIO VIII</td>\n",
       "      <td>RF03</td>\n",
       "    </tr>\n",
       "    <tr>\n",
       "      <th>1967</th>\n",
       "      <td>0395004</td>\n",
       "      <td>0395</td>\n",
       "      <td>JOAQUIM ÁLVARO</td>\n",
       "      <td>RF03</td>\n",
       "    </tr>\n",
       "    <tr>\n",
       "      <th>1969</th>\n",
       "      <td>0396001</td>\n",
       "      <td>0396</td>\n",
       "      <td>JOSÉ ALVARO</td>\n",
       "      <td>RF03</td>\n",
       "    </tr>\n",
       "    <tr>\n",
       "      <th>1974</th>\n",
       "      <td>0398001</td>\n",
       "      <td>0398</td>\n",
       "      <td>BOA VISTA VII</td>\n",
       "      <td>RF03</td>\n",
       "    </tr>\n",
       "    <tr>\n",
       "      <th>1962</th>\n",
       "      <td>0394011</td>\n",
       "      <td>0394</td>\n",
       "      <td>SÃO JOÃO DO INHEMA</td>\n",
       "      <td>RF03</td>\n",
       "    </tr>\n",
       "    <tr>\n",
       "      <th>...</th>\n",
       "      <td>...</td>\n",
       "      <td>...</td>\n",
       "      <td>...</td>\n",
       "      <td>...</td>\n",
       "    </tr>\n",
       "    <tr>\n",
       "      <th>780</th>\n",
       "      <td>0224007</td>\n",
       "      <td>0224</td>\n",
       "      <td>SANTA HELENA III</td>\n",
       "      <td>RF06</td>\n",
       "    </tr>\n",
       "    <tr>\n",
       "      <th>866</th>\n",
       "      <td>0231319</td>\n",
       "      <td>0231</td>\n",
       "      <td>RIO FEIO</td>\n",
       "      <td>RF06</td>\n",
       "    </tr>\n",
       "    <tr>\n",
       "      <th>672</th>\n",
       "      <td>0188301</td>\n",
       "      <td>0188</td>\n",
       "      <td>SÃO JOAQUIM</td>\n",
       "      <td>RF06</td>\n",
       "    </tr>\n",
       "    <tr>\n",
       "      <th>918</th>\n",
       "      <td>0241010</td>\n",
       "      <td>0241</td>\n",
       "      <td>MATÃO II</td>\n",
       "      <td>RF06</td>\n",
       "    </tr>\n",
       "    <tr>\n",
       "      <th>1517</th>\n",
       "      <td>0366001</td>\n",
       "      <td>0366</td>\n",
       "      <td>NEROLÂNDIA</td>\n",
       "      <td>RF06</td>\n",
       "    </tr>\n",
       "  </tbody>\n",
       "</table>\n",
       "<p>135 rows × 4 columns</p>\n",
       "</div>"
      ],
      "text/plain": [
       "     Objeto de locação Id Projeto             Projeto    RF\n",
       "1576           0374016       0374  SANTO ANTÔNIO VIII  RF03\n",
       "1967           0395004       0395      JOAQUIM ÁLVARO  RF03\n",
       "1969           0396001       0396         JOSÉ ALVARO  RF03\n",
       "1974           0398001       0398       BOA VISTA VII  RF03\n",
       "1962           0394011       0394  SÃO JOÃO DO INHEMA  RF03\n",
       "...                ...        ...                 ...   ...\n",
       "780            0224007       0224    SANTA HELENA III  RF06\n",
       "866            0231319       0231            RIO FEIO  RF06\n",
       "672            0188301       0188         SÃO JOAQUIM  RF06\n",
       "918            0241010       0241            MATÃO II  RF06\n",
       "1517           0366001       0366          NEROLÂNDIA  RF06\n",
       "\n",
       "[135 rows x 4 columns]"
      ]
     },
     "execution_count": 70,
     "metadata": {},
     "output_type": "execute_result"
    }
   ],
   "source": [
    "mapa_rf"
   ]
  },
  {
   "cell_type": "code",
   "execution_count": 71,
   "metadata": {},
   "outputs": [],
   "source": [
    "path_mapa = r'F:\\Silvicultura\\01. SP\\PROCESSOS\\COI Silvicultura - Edicao\\04. Pessoas\\Gabriel Moura\\01 - Qualidade\\23 - Mapas\\Projetos\\USO_FAZENDA.shp'"
   ]
  },
  {
   "cell_type": "code",
   "execution_count": 72,
   "metadata": {},
   "outputs": [
    {
     "name": "stderr",
     "output_type": "stream",
     "text": [
      "c:\\Users\\gamoura\\AppData\\Local\\Programs\\Python\\Python311\\Lib\\site-packages\\pyogrio\\raw.py:198: RuntimeWarning: driver ESRI Shapefile does not support open option DRIVE\n",
      "  return ogr_read(\n"
     ]
    }
   ],
   "source": [
    "projetos = gd.read_file(path_mapa, drive = 'GeoJSON')\n",
    "\n",
    "projetos = projetos.drop(['DATA_REG','AREA_HA','CD_UNIDADE'],axis=1)\n",
    "\n",
    "projetos = projetos[projetos['CD_REGIAO'] == 1 ]\n",
    "\n",
    "#EPS\n",
    "projetos = projetos.to_crs(epsg = 31983)\n",
    "\n",
    "projetos = projetos.set_geometry('geometry')"
   ]
  },
  {
   "cell_type": "code",
   "execution_count": 73,
   "metadata": {},
   "outputs": [],
   "source": [
    "projetos = projetos.merge(mapa_rf[['Id Projeto', 'RF']],  left_on= 'ID_PROJETO',  right_on= 'Id Projeto', how='left')"
   ]
  },
  {
   "cell_type": "code",
   "execution_count": 74,
   "metadata": {},
   "outputs": [],
   "source": [
    "#Removendo itens vázios\n",
    "\n",
    "projetos = projetos[pd.notna(projetos['RF'])]"
   ]
  },
  {
   "cell_type": "code",
   "execution_count": 76,
   "metadata": {},
   "outputs": [],
   "source": [
    "save_shp = r\"F:\\Silvicultura\\01. SP\\PROCESSOS\\COI Silvicultura - Edicao\\01. Programações & Controles\\001. Rolling Forcast - RF\\Distribuição Regional\\mapa RF\\ouput_mapas\\rf_mapas.shp\"\n",
    "\n",
    "\n",
    "projetos.to_file(save_shp,\n",
    "                  driver=\"ESRI Shapefile\",\n",
    "                  engine='pyogrio')"
   ]
  },
  {
   "cell_type": "code",
   "execution_count": null,
   "metadata": {},
   "outputs": [
    {
     "name": "stdout",
     "output_type": "stream",
     "text": [
      "<class 'geopandas.geodataframe.GeoDataFrame'>\n",
      "Index: 132 entries, 0 to 945\n",
      "Data columns (total 6 columns):\n",
      " #   Column      Non-Null Count  Dtype   \n",
      "---  ------      --------------  -----   \n",
      " 0   ID_PROJETO  132 non-null    object  \n",
      " 1   NOM_PROJET  132 non-null    object  \n",
      " 2   CD_REGIAO   132 non-null    float64 \n",
      " 3   geometry    132 non-null    geometry\n",
      " 4   Id Projeto  132 non-null    object  \n",
      " 5   RF          132 non-null    object  \n",
      "dtypes: float64(1), geometry(1), object(4)\n",
      "memory usage: 7.2+ KB\n"
     ]
    }
   ],
   "source": [
    "#Confirmando se temos todos os itens da base\n",
    "\n",
    "#projetos.info()"
   ]
  }
 ],
 "metadata": {
  "kernelspec": {
   "display_name": "Python 3",
   "language": "python",
   "name": "python3"
  },
  "language_info": {
   "codemirror_mode": {
    "name": "ipython",
    "version": 3
   },
   "file_extension": ".py",
   "mimetype": "text/x-python",
   "name": "python",
   "nbconvert_exporter": "python",
   "pygments_lexer": "ipython3",
   "version": "3.11.1"
  }
 },
 "nbformat": 4,
 "nbformat_minor": 2
}
