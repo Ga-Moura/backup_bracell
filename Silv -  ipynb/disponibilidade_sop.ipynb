{
 "cells": [
  {
   "cell_type": "code",
   "execution_count": 1087,
   "metadata": {},
   "outputs": [],
   "source": [
    "import pandas as pd \n",
    "import os \n",
    "import numpy as np\n",
    "import datetime"
   ]
  },
  {
   "cell_type": "code",
   "execution_count": 1088,
   "metadata": {},
   "outputs": [],
   "source": [
    "def mascara(df, coluna,n_digitos):\n",
    "    df[coluna] = df[coluna].astype(str)\n",
    "    df[coluna] = str(\"000\") + df[coluna]\n",
    "    df[coluna] = df[coluna].astype(str).str[-n_digitos:] \n",
    "    return df"
   ]
  },
  {
   "cell_type": "code",
   "execution_count": 1089,
   "metadata": {},
   "outputs": [],
   "source": [
    "#Path cto\n",
    "path_cto = r\"E:\\Qualidade_Florestal\\01- SÃO PAULO\\03- Colheita\\00 - Bases de Trabalho\\Bases de Apoio\\CTO.xlsx\""
   ]
  },
  {
   "cell_type": "code",
   "execution_count": 1090,
   "metadata": {},
   "outputs": [],
   "source": [
    "#Path estoque\n",
    "\n",
    "path_estoque = r'E:\\Qualidade_Florestal\\01- SÃO PAULO\\03- Colheita\\00 - Bases de Trabalho\\Bases de Apoio\\estoque_de_madeira.xlsx'"
   ]
  },
  {
   "cell_type": "code",
   "execution_count": 1091,
   "metadata": {},
   "outputs": [],
   "source": [
    "#Path pas\n",
    "\n",
    "path_pas = 'F:\\Planejamento_Florestal\\Equipe\\Pedro de Oliveira Sousa Castro\\Silvicultura\\Automação Plano de Demandas\\Bases\\PAS.xlsx'"
   ]
  },
  {
   "cell_type": "code",
   "execution_count": 1092,
   "metadata": {},
   "outputs": [],
   "source": [
    "#base de retalhonamento\n",
    "ret = pd.read_excel('retalhonamento.xlsx', dtype={'objeto de locação origem' : 'object', 'objeto de locação retalhonado': 'object'})\n",
    "\n",
    "ret = ret[['objeto de locação origem', 'objeto de locação retalhonado']]\n",
    "\n",
    "#Removendo duplicatas de objeto de locação origem\n",
    "ret = ret.drop_duplicates(['objeto de locação origem'], keep= 'first')"
   ]
  },
  {
   "cell_type": "code",
   "execution_count": 1093,
   "metadata": {},
   "outputs": [],
   "source": [
    "#base de CTO\n",
    "cto = pd.read_excel(path_cto, dtype={'id_projeto': 'object', 'cd_talhao': 'object'})\n",
    "\n",
    "cto['objeto de locação'] = cto['id_projeto'].astype(str) + cto['cd_talhao'].astype(str)"
   ]
  },
  {
   "cell_type": "code",
   "execution_count": 1094,
   "metadata": {},
   "outputs": [],
   "source": [
    "#base bruta\n",
    "\n",
    "bd = pd.read_excel(\"Plano Formação_regionais_v2_Marcos.xlsx\", sheet_name='BD', dtype={'Id Projeto':'object', 'Talhão': 'object', 'CHAVE': 'object'})\n",
    "\n",
    "bd = bd[pd.notna(bd['RF PLANTIO_OFICIAL'])]"
   ]
  },
  {
   "cell_type": "code",
   "execution_count": 1095,
   "metadata": {},
   "outputs": [],
   "source": [
    "#Estoque \n",
    "estoque = pd.read_excel(path_estoque, dtype={'Talhão': 'object'})\n",
    "\n",
    "estoque['id_fazenda'] = estoque['Talhão'].str[2:6]\n",
    "\n",
    "estoque['id_talhao'] = estoque['Talhão'].str[7:]\n",
    "\n",
    "estoque['objeto de locação'] = estoque['id_fazenda'].astype(str) + estoque['id_talhao'].astype(str)\n",
    "\n",
    "estoque = estoque.drop_duplicates('objeto de locação', keep='first')\n",
    "\n",
    "estoque = estoque[['objeto de locação','IPC Previsto','Baldeio','% Baldeio', '% Transporte']]"
   ]
  },
  {
   "cell_type": "code",
   "execution_count": 1096,
   "metadata": {},
   "outputs": [],
   "source": [
    "estoque['% Baldeio'] = np.where(((estoque['Baldeio'] / estoque['IPC Previsto']) * 100) > 100, 100 , ((estoque['Baldeio'] / estoque['IPC Previsto']) * 100))"
   ]
  },
  {
   "cell_type": "code",
   "execution_count": 1097,
   "metadata": {},
   "outputs": [],
   "source": [
    "pas = pd.read_excel(path_pas,skiprows=1, usecols=['Id Projeto','Talhão','Data liberação ajustada']) \n",
    "\n",
    "pas['Data liberação ajustada'] = pd.to_datetime(pas['Data liberação ajustada'], errors='coerce')\n",
    "\n",
    "pas = mascara(pas,'Id Projeto',4)\n",
    "\n",
    "pas = mascara(pas,'Talhão',3)\n",
    "\n",
    "pas['objeto de locação'] = pas['Id Projeto'] + pas['Talhão']\n",
    "\n",
    "pas = pas.drop_duplicates('objeto de locação',keep='first')\n",
    "\n",
    "pas = pas[['objeto de locação','Data liberação ajustada']]"
   ]
  },
  {
   "cell_type": "code",
   "execution_count": 1098,
   "metadata": {},
   "outputs": [
    {
     "name": "stdout",
     "output_type": "stream",
     "text": [
      "(7838, 5)\n"
     ]
    },
    {
     "data": {
      "text/html": [
       "<div>\n",
       "<style scoped>\n",
       "    .dataframe tbody tr th:only-of-type {\n",
       "        vertical-align: middle;\n",
       "    }\n",
       "\n",
       "    .dataframe tbody tr th {\n",
       "        vertical-align: top;\n",
       "    }\n",
       "\n",
       "    .dataframe thead th {\n",
       "        text-align: right;\n",
       "    }\n",
       "</style>\n",
       "<table border=\"1\" class=\"dataframe\">\n",
       "  <thead>\n",
       "    <tr style=\"text-align: right;\">\n",
       "      <th></th>\n",
       "      <th>objeto de locação</th>\n",
       "      <th>IPC Previsto</th>\n",
       "      <th>Baldeio</th>\n",
       "      <th>% Baldeio</th>\n",
       "      <th>% Transporte</th>\n",
       "    </tr>\n",
       "  </thead>\n",
       "  <tbody>\n",
       "    <tr>\n",
       "      <th>0</th>\n",
       "      <td>0265007</td>\n",
       "      <td>2457</td>\n",
       "      <td>2457</td>\n",
       "      <td>100.0</td>\n",
       "      <td>105.77</td>\n",
       "    </tr>\n",
       "    <tr>\n",
       "      <th>1</th>\n",
       "      <td>0903031</td>\n",
       "      <td>5758</td>\n",
       "      <td>5758</td>\n",
       "      <td>100.0</td>\n",
       "      <td>85.84</td>\n",
       "    </tr>\n",
       "    <tr>\n",
       "      <th>2</th>\n",
       "      <td>1067003</td>\n",
       "      <td>12052</td>\n",
       "      <td>12052</td>\n",
       "      <td>100.0</td>\n",
       "      <td>80.98</td>\n",
       "    </tr>\n",
       "  </tbody>\n",
       "</table>\n",
       "</div>"
      ],
      "text/plain": [
       "  objeto de locação  IPC Previsto  Baldeio  % Baldeio  % Transporte\n",
       "0           0265007          2457     2457      100.0        105.77\n",
       "1           0903031          5758     5758      100.0         85.84\n",
       "2           1067003         12052    12052      100.0         80.98"
      ]
     },
     "execution_count": 1098,
     "metadata": {},
     "output_type": "execute_result"
    }
   ],
   "source": [
    "print(estoque.shape)\n",
    "estoque.head(3)"
   ]
  },
  {
   "cell_type": "code",
   "execution_count": 1099,
   "metadata": {},
   "outputs": [
    {
     "name": "stdout",
     "output_type": "stream",
     "text": [
      "Nº de Fazendas sem cto: 30\n"
     ]
    }
   ],
   "source": [
    "#Econtrar as datas de CTO para cada fazenda\n",
    "\n",
    "fzd_sem_cto = bd[pd.isna(bd['Data CTO Baldeio'])]\n",
    "\n",
    "fzd_sem_cto = fzd_sem_cto['Id Projeto'].unique().tolist()\n",
    "\n",
    "print(f'Nº de Fazendas sem cto: {len(fzd_sem_cto)}')\n"
   ]
  },
  {
   "cell_type": "code",
   "execution_count": 1100,
   "metadata": {},
   "outputs": [],
   "source": [
    "#trazer o retalhonamento para a base\n",
    "\n",
    "\n",
    "#Encontrando o retalhonamento\n",
    "bd = bd.merge(ret, left_on=['CHAVE'], right_on=['objeto de locação origem'], how = 'left').drop('objeto de locação origem', axis=1)\n",
    "\n",
    "#Encontrando a data de CTO\n",
    "bd = bd.merge(cto[['objeto de locação','data_cto']].drop_duplicates('objeto de locação',keep='first'), left_on=['objeto de locação retalhonado'], right_on=['objeto de locação'], how='left').drop('objeto de locação',axis=1)\n",
    "\n",
    "#Atribuindo data de CTO quando estiver vazia\n",
    "bd['Data CTO Baldeio'] = np.where(pd.isna(bd['Data CTO Baldeio']) , bd['data_cto'], bd['Data CTO Baldeio'])\n",
    "\n",
    "#Encontrando o estoque do talhão\n",
    "bd = bd.merge(estoque, left_on=['CHAVE'], right_on=['objeto de locação'], how='left').drop('objeto de locação',axis=1)\n",
    "\n",
    "#Atribuindo o PAS a base\n",
    "bd = bd.merge(pas,left_on=['CHAVE'],right_on=['objeto de locação'], how='left')\n",
    "\n",
    "bd['Data CTO Baldeio'] = np.where(pd.isna(bd['Data CTO Baldeio']), bd['Data liberação ajustada'], bd['Data CTO Baldeio'])\n",
    "\n",
    "bd['Data CTO Baldeio'] = pd.to_datetime(bd['Data CTO Baldeio'])"
   ]
  },
  {
   "cell_type": "code",
   "execution_count": 1101,
   "metadata": {},
   "outputs": [],
   "source": [
    "#Dias úteis\n",
    "\n",
    "premissa_dict = [\n",
    "    {'EPS': 'Bracell', 'Dias_uteis': 25, 'Mês': 'RF12'},\n",
    "    {'EPS': 'Terceiros', 'Dias_uteis': 21, 'Mês': 'RF12'},\n",
    "    {'EPS': 'Bracell', 'Dias_uteis': 24, 'Mês': 'RF01'},\n",
    "    {'EPS': 'Terceiros', 'Dias_uteis': 21, 'Mês': 'RF01'}\n",
    "]\n",
    "\n",
    "premissa = pd.DataFrame(premissa_dict).astype({'Dias_uteis': 'int'})\n"
   ]
  },
  {
   "cell_type": "code",
   "execution_count": 1102,
   "metadata": {},
   "outputs": [
    {
     "data": {
      "text/html": [
       "<div>\n",
       "<style scoped>\n",
       "    .dataframe tbody tr th:only-of-type {\n",
       "        vertical-align: middle;\n",
       "    }\n",
       "\n",
       "    .dataframe tbody tr th {\n",
       "        vertical-align: top;\n",
       "    }\n",
       "\n",
       "    .dataframe thead th {\n",
       "        text-align: right;\n",
       "    }\n",
       "</style>\n",
       "<table border=\"1\" class=\"dataframe\">\n",
       "  <thead>\n",
       "    <tr style=\"text-align: right;\">\n",
       "      <th></th>\n",
       "      <th>regional</th>\n",
       "      <th>eps plantio</th>\n",
       "      <th>rf plantio oficial</th>\n",
       "      <th>Área(ha)</th>\n",
       "      <th>Classe equipe</th>\n",
       "      <th>Dias_uteis</th>\n",
       "      <th>Capacidade ha/dia</th>\n",
       "    </tr>\n",
       "  </thead>\n",
       "  <tbody>\n",
       "    <tr>\n",
       "      <th>25</th>\n",
       "      <td>NOROESTE</td>\n",
       "      <td>GERAÇÃO</td>\n",
       "      <td>RF01</td>\n",
       "      <td>216.40</td>\n",
       "      <td>Terceiros</td>\n",
       "      <td>21</td>\n",
       "      <td>10.30</td>\n",
       "    </tr>\n",
       "    <tr>\n",
       "      <th>26</th>\n",
       "      <td>NOROESTE</td>\n",
       "      <td>CARPELO</td>\n",
       "      <td>RF01</td>\n",
       "      <td>379.64</td>\n",
       "      <td>Terceiros</td>\n",
       "      <td>21</td>\n",
       "      <td>18.08</td>\n",
       "    </tr>\n",
       "    <tr>\n",
       "      <th>27</th>\n",
       "      <td>CENTRO</td>\n",
       "      <td>NILZA</td>\n",
       "      <td>RF01</td>\n",
       "      <td>329.91</td>\n",
       "      <td>Terceiros</td>\n",
       "      <td>21</td>\n",
       "      <td>15.71</td>\n",
       "    </tr>\n",
       "    <tr>\n",
       "      <th>28</th>\n",
       "      <td>CENTRO</td>\n",
       "      <td>SOLLUM</td>\n",
       "      <td>RF01</td>\n",
       "      <td>475.11</td>\n",
       "      <td>Terceiros</td>\n",
       "      <td>21</td>\n",
       "      <td>22.62</td>\n",
       "    </tr>\n",
       "    <tr>\n",
       "      <th>29</th>\n",
       "      <td>BSP</td>\n",
       "      <td>Bracell 1</td>\n",
       "      <td>RF01</td>\n",
       "      <td>500.47</td>\n",
       "      <td>Bracell</td>\n",
       "      <td>24</td>\n",
       "      <td>20.85</td>\n",
       "    </tr>\n",
       "  </tbody>\n",
       "</table>\n",
       "</div>"
      ],
      "text/plain": [
       "    regional eps plantio rf plantio oficial  Área(ha) Classe equipe  \\\n",
       "25  NOROESTE     GERAÇÃO               RF01    216.40     Terceiros   \n",
       "26  NOROESTE     CARPELO               RF01    379.64     Terceiros   \n",
       "27    CENTRO       NILZA               RF01    329.91     Terceiros   \n",
       "28    CENTRO      SOLLUM               RF01    475.11     Terceiros   \n",
       "29       BSP   Bracell 1               RF01    500.47       Bracell   \n",
       "\n",
       "    Dias_uteis  Capacidade ha/dia  \n",
       "25          21              10.30  \n",
       "26          21              18.08  \n",
       "27          21              15.71  \n",
       "28          21              22.62  \n",
       "29          24              20.85  "
      ]
     },
     "execution_count": 1102,
     "metadata": {},
     "output_type": "execute_result"
    }
   ],
   "source": [
    "#Agrupar volumes para encontrar a capacidade\n",
    "bd_agg = {'Área(ha)': 'sum'}\n",
    "\n",
    "bd_cap = bd.groupby(['Regional Excecução', 'EPS PLANTIO', 'RF PLANTIO_OFICIAL']).agg(bd_agg).reset_index()\n",
    "\n",
    "bd_cap = bd_cap.sort_values(['RF PLANTIO_OFICIAL','Regional Excecução', 'Área(ha)'], ascending=[False, False, True])\n",
    "\n",
    "\n",
    "bd_cap_rename = {'Regional Excecução': 'regional',\n",
    "                 'EPS PLANTIO' : 'eps plantio',\n",
    "                 'RF PLANTIO_OFICIAL': 'rf plantio oficial',\n",
    "                 }\n",
    "\n",
    "bd_cap = bd_cap.rename(bd_cap_rename, axis=1)\n",
    "\n",
    "bd_cap['Classe equipe'] = np.where(bd_cap['eps plantio'] == 'Bracell 1', 'Bracell', 'Terceiros') \n",
    "\n",
    "bd_cap = bd_cap.merge(premissa, left_on=['Classe equipe', 'rf plantio oficial'], right_on=['EPS', 'Mês'], how='left').drop(['EPS', 'Mês'], axis=1)\n",
    "\n",
    "bd_cap['Capacidade ha/dia'] = round(bd_cap['Área(ha)'] / bd_cap['Dias_uteis'],2)\n",
    "\n",
    "bd_cap.tail()"
   ]
  },
  {
   "cell_type": "code",
   "execution_count": 1103,
   "metadata": {},
   "outputs": [],
   "source": [
    "#Classe Baldeio\n",
    "#0-30\n",
    "#30-60\n",
    "#60-90\n",
    "#>90\n"
   ]
  },
  {
   "cell_type": "code",
   "execution_count": null,
   "metadata": {},
   "outputs": [],
   "source": [
    "#Agrupando as fazendas para iniciar o sequenciamento\n",
    "\n",
    "agg_bd_data = {'Data CTO Baldeio': ['min', 'max'],\n",
    "               'Área(ha)': 'sum',\n",
    "               }\n",
    "\n",
    "\n",
    "\n",
    "bd_seq = bd.groupby(['RF PLANTIO_OFICIAL','Regional Excecução','Id Projeto', 'Projeto', 'EPS PLANTIO']).agg(agg_bd_data).reset_index()\n",
    "\n",
    "bd_seq.columns = ['RF PLANTIO_OFICIAL', 'Regional Excecução', 'Id Projeto', 'Projeto', 'EPS PLANTIO', 'Baldeio Min', 'Baldeio Max', 'Área(ha)']\n",
    "\n",
    "\n",
    "\n",
    "#Encontrando as fazendas que se repetem em outros meses\n",
    "\n",
    "bd_seq['index_fazenda'] = bd_seq.groupby(['Projeto','EPS PLANTIO']).transform('size')\n",
    "\n",
    "\n",
    "#Definindo as prioridades para sequenciamento\n",
    "bd_seq = bd_seq.sort_values(['RF PLANTIO_OFICIAL','Regional Excecução','EPS PLANTIO','Baldeio Min','Projeto', 'Área(ha)'], ascending=[False,True,True,True,True,True])\n",
    "\n",
    "\n",
    "#Definindo a ordem das operações\n",
    "bd_seq['Ordem de Operação'] = bd_seq.groupby(['RF PLANTIO_OFICIAL','Regional Excecução', 'EPS PLANTIO']).cumcount()+1\n"
   ]
  },
  {
   "cell_type": "code",
   "execution_count": 1105,
   "metadata": {},
   "outputs": [],
   "source": [
    "#Trazendo capacidade para a base de sequenciamento\n",
    "\n",
    "bd_seq = bd_seq.merge(bd_cap[['eps plantio', 'regional', 'rf plantio oficial', 'Capacidade ha/dia', 'Dias_uteis']], \n",
    "                      left_on=['EPS PLANTIO','Regional Excecução', 'RF PLANTIO_OFICIAL'], \n",
    "                      right_on=['eps plantio', 'regional', 'rf plantio oficial'], \n",
    "                      how='left').drop(['eps plantio', 'regional', 'rf plantio oficial'],axis=1)"
   ]
  },
  {
   "cell_type": "code",
   "execution_count": 1106,
   "metadata": {},
   "outputs": [],
   "source": [
    "#Sempre arredondar para cima o número de dias para finalizar operação\n",
    "bd_seq['dias de operação'] = np.ceil(bd_seq['Área(ha)'] / bd_seq['Capacidade ha/dia']).astype(int)\n",
    "\n",
    "bd_seq['dias de operação acumulado'] = bd_seq.groupby(['RF PLANTIO_OFICIAL','EPS PLANTIO'])['dias de operação'].cumsum()\n",
    "\n",
    "#Definindo o deslocamento\n",
    "bd_seq['Dias para deslocamento'] = 1\n",
    "\n",
    "#Definindo o percentual que a operação ficará na fazenda\n",
    "bd_seq['% de dias de operação'] =  (bd_seq['dias de operação'] / bd_seq['Dias_uteis']) #* 100).map(\"{:.1f}%\".format)"
   ]
  },
  {
   "cell_type": "code",
   "execution_count": 1107,
   "metadata": {},
   "outputs": [],
   "source": [
    "#Definindo o Início do mês operacional\n",
    "\n",
    "de_para_im = {'RF12' : pd.Timestamp(day=21, month=11, year=2024), \n",
    "             'RF01' : pd.Timestamp(day=21, month=12, year= 2024)\n",
    "}\n",
    "\n",
    "bd_seq['Inicio de Operação'] = bd_seq['RF PLANTIO_OFICIAL'].map(de_para_im)\n",
    "\n",
    "bd_seq['Inicio de Operação'] = pd.to_datetime(bd_seq['Inicio de Operação'])"
   ]
  },
  {
   "cell_type": "code",
   "execution_count": 1108,
   "metadata": {},
   "outputs": [],
   "source": [
    "#Fim da Operação\n",
    "\n",
    "\n",
    "bd_seq['Final de operação'] = bd_seq.apply(\n",
    "\n",
    "\n",
    "    lambda x: np.busday_offset(\n",
    "        x['Inicio de Operação'].strftime('%Y-%m-%d'), \n",
    "        x['dias de operação acumulado'],\n",
    "        weekmask= '1111110',\n",
    "        roll='forward'\n",
    "    ) \n",
    "    \n",
    "    if x['EPS PLANTIO'] == 'Bracell 1' else \n",
    "    \n",
    "    np.busday_offset(\n",
    "        x['Inicio de Operação'].strftime('%Y-%m-%d'), \n",
    "        x['dias de operação acumulado'],\n",
    "        weekmask= '1111100',\n",
    "        roll='forward')\n",
    "    \n",
    "   \n",
    "    \n",
    "    \n",
    "    , axis=1 \n",
    ")"
   ]
  },
  {
   "cell_type": "code",
   "execution_count": 1109,
   "metadata": {},
   "outputs": [],
   "source": [
    "bd_seq ['Inicio de Operação'] = np.where( bd_seq['Ordem de Operação'] == 1 , bd_seq['Inicio de Operação'],\n",
    "                                          \n",
    "                                          ( bd_seq['Final de operação'].shift(1))\n",
    "                                          )\n"
   ]
  },
  {
   "cell_type": "code",
   "execution_count": 1110,
   "metadata": {},
   "outputs": [],
   "source": [
    "#Entrando quantos hectares estão estão sem data de CTO\n",
    "\n",
    "bd_seq.to_excel('l - bd1.xlsx',index=False)"
   ]
  },
  {
   "cell_type": "code",
   "execution_count": 1084,
   "metadata": {},
   "outputs": [],
   "source": [
    "#Já sabendo capacidade, agora dividir e redistruir a ordem das fazendas de acordo com a data mínima de baldeio por eps\n",
    "#Agrupar por fazenda considerando a data mínima de liberação\n",
    "\n",
    "\n",
    "    #1º Classificar qual é a primeira fazenda do mês para cada EPS\n",
    "\n"
   ]
  },
  {
   "cell_type": "code",
   "execution_count": 1085,
   "metadata": {},
   "outputs": [],
   "source": [
    "#Classe Baldeio\n",
    "#0-30\n",
    "#30-60\n",
    "#60-90\n",
    "#>90\n",
    "\n",
    "\n"
   ]
  },
  {
   "cell_type": "code",
   "execution_count": null,
   "metadata": {},
   "outputs": [],
   "source": [
    "#Antes de apelar para definir dias, verificar se o PAS não tem data de liberação\n",
    "\n",
    "    #O pas tem todas as datas de liberação, não é necessário utilizar a base para definir o dia com base no volume baldeado\n",
    "\n",
    "\n",
    "#Definindo data se o baldeio caso ele já tenha sido iniciado\n",
    "\n",
    "\n",
    "# percent_b_90 = pd.Timestamp(day=12, month=11, year=2024)\n",
    "\n",
    "# #Poderia utilizar a capacidade, porém não necessáriamente estariam baldeando na determinada fazenda\n",
    "\n",
    "# percent_b_b90 = percent_b_90 + pd.Timedelta(days=15)\n",
    "\n",
    "\n",
    "# bd['Data CTO Baldeio'] = np.where(\n",
    "#     (pd.isna(bd['Data CTO Baldeio'])) & (bd['% Baldeio'] >= 80), percent_b_90,\n",
    "#     np.where(\n",
    "#         (pd.isna(bd['Data CTO Baldeio'])) & (bd['% Baldeio'] < 80), percent_b_b90,\n",
    "#         bd['Data CTO Baldeio']\n",
    "#     )\n",
    "# )\n",
    "\n",
    "\n",
    "# bd['Data CTO Baldeio'] = pd.to_datetime(bd['Data CTO Baldeio'])"
   ]
  }
 ],
 "metadata": {
  "kernelspec": {
   "display_name": "Python 3",
   "language": "python",
   "name": "python3"
  },
  "language_info": {
   "codemirror_mode": {
    "name": "ipython",
    "version": 3
   },
   "file_extension": ".py",
   "mimetype": "text/x-python",
   "name": "python",
   "nbconvert_exporter": "python",
   "pygments_lexer": "ipython3",
   "version": "3.11.1"
  }
 },
 "nbformat": 4,
 "nbformat_minor": 2
}
