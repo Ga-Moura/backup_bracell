{
 "cells": [
  {
   "cell_type": "code",
   "execution_count": 29,
   "metadata": {},
   "outputs": [],
   "source": [
    "import pandas as pd\n",
    "import psycopg2 as pg\n",
    "import configparser\n"
   ]
  },
  {
   "cell_type": "code",
   "execution_count": 30,
   "metadata": {},
   "outputs": [
    {
     "data": {
      "text/plain": [
       "'pt_BR.UTF-8'"
      ]
     },
     "execution_count": 30,
     "metadata": {},
     "output_type": "execute_result"
    }
   ],
   "source": [
    "import locale\n",
    "\n",
    "# Configurar o locale para o Brasil\n",
    "locale.setlocale(locale.LC_ALL, 'pt_BR.UTF-8')"
   ]
  },
  {
   "cell_type": "code",
   "execution_count": 31,
   "metadata": {},
   "outputs": [],
   "source": [
    "crendenciais_path = r'F:\\Silvicultura\\01. SP\\PROCESSOS\\COI Silvicultura - Edicao\\04. Pessoas\\Gabriel Moura\\00 - Silvicultura\\00 - Credenciais\\credenciais.conf'"
   ]
  },
  {
   "cell_type": "code",
   "execution_count": 32,
   "metadata": {},
   "outputs": [],
   "source": [
    "save_path = r'F:\\Silvicultura\\01. SP\\PROCESSOS\\COI Silvicultura - Edicao\\01. Programações & Controles\\016. Insumos\\Novo Fluxo Insumos\\ApontamentosSGF\\ordem_programada.xlsx'"
   ]
  },
  {
   "cell_type": "code",
   "execution_count": 33,
   "metadata": {},
   "outputs": [],
   "source": [
    "#Senhas e credênciais \n",
    "\n",
    "credenciais = configparser.ConfigParser()\n",
    "\n",
    "credenciais.read(crendenciais_path)\n",
    "\n",
    "logins = credenciais['credenciais']\n",
    "\n",
    "\n",
    "conn_dwh = pg.connect(\n",
    "    user =logins['login'],\n",
    "    password =logins['senha_sql'],\n",
    "    host = logins['host'],\n",
    "    port = logins['port'],\n",
    "    database = logins['data_base']\n",
    ")"
   ]
  },
  {
   "cell_type": "code",
   "execution_count": 34,
   "metadata": {},
   "outputs": [],
   "source": [
    "cursor = conn_dwh.cursor()\n",
    "\n",
    "cursor.execute(\n",
    "\n",
    "\"\"\"\n",
    "select  \n",
    "cd_ordem_servico,\n",
    "dcr_ordem_servico,\n",
    "dcr_operacao,\n",
    "vlr_producao,\n",
    "id_projeto,\n",
    "cd_talhao,\n",
    "data_reg\n",
    "\n",
    "from forestry.f_vw_operacao_programada\n",
    "\n",
    "where\n",
    "source = 'BSP' and \n",
    "est_reg = 'A' and \n",
    "tip_programacao = 'O' and \n",
    "id_regiao = 1 and \n",
    "dcr_ordem_servico notnull \n",
    "\n",
    "\n",
    "\"\"\"\n",
    "\n",
    ")\n",
    "\n",
    "dados_consulta = cursor.fetchall()\n",
    "\n",
    "cursor.close()\n",
    "\n",
    "\n",
    "colunas = [desc[0] for desc in cursor.description]\n",
    "\n",
    "colunas_maisculuas = [ str(i).upper() for i in colunas]\n",
    "\n",
    "\n",
    "\n",
    "ctl_boletim = pd.DataFrame(dados_consulta, columns=colunas_maisculuas)"
   ]
  },
  {
   "cell_type": "code",
   "execution_count": 35,
   "metadata": {},
   "outputs": [],
   "source": [
    "ctl_boletim['Data'] = pd.to_numeric(ctl_boletim['DCR_ORDEM_SERVICO'].astype(str).str[:4], errors='coerce')\n",
    "\n",
    "ctl_boletim = ctl_boletim[(ctl_boletim['Data'] >= 2025) & (ctl_boletim['Data'] <= 2035)]"
   ]
  },
  {
   "cell_type": "code",
   "execution_count": 36,
   "metadata": {},
   "outputs": [],
   "source": [
    "ctl_boletim = ctl_boletim.drop('Data', axis=1)"
   ]
  },
  {
   "cell_type": "code",
   "execution_count": 37,
   "metadata": {},
   "outputs": [],
   "source": [
    "#Alterando o tipo de quantidade utilizada\n",
    "ctl_boletim['VLR_PRODUCAO'] = ctl_boletim['VLR_PRODUCAO'].astype('float')"
   ]
  },
  {
   "cell_type": "code",
   "execution_count": 39,
   "metadata": {},
   "outputs": [],
   "source": [
    "ctl_boletim.to_excel(save_path,index = False)"
   ]
  }
 ],
 "metadata": {
  "kernelspec": {
   "display_name": "Python 3",
   "language": "python",
   "name": "python3"
  },
  "language_info": {
   "codemirror_mode": {
    "name": "ipython",
    "version": 3
   },
   "file_extension": ".py",
   "mimetype": "text/x-python",
   "name": "python",
   "nbconvert_exporter": "python",
   "pygments_lexer": "ipython3",
   "version": "3.11.1"
  }
 },
 "nbformat": 4,
 "nbformat_minor": 2
}
