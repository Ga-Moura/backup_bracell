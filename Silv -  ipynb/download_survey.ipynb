{
 "cells": [
  {
   "cell_type": "code",
   "execution_count": 83,
   "metadata": {},
   "outputs": [],
   "source": [
    "from arcgis.gis import GIS\n",
    "import pandas as pd\n",
    "import os\n",
    "import shutil\n",
    "from math import sqrt\n",
    "import locale\n",
    "import traceback"
   ]
  },
  {
   "cell_type": "code",
   "execution_count": 84,
   "metadata": {},
   "outputs": [
    {
     "data": {
      "text/plain": [
       "'pt_BR.utf8'"
      ]
     },
     "execution_count": 84,
     "metadata": {},
     "output_type": "execute_result"
    }
   ],
   "source": [
    "locale.setlocale(locale.LC_ALL, 'pt_BR.utf8')"
   ]
  },
  {
   "cell_type": "code",
   "execution_count": 85,
   "metadata": {},
   "outputs": [],
   "source": [
    "#path premissas \n",
    "path_premissas = r'F:\\Silvicultura\\01. SP\\PROCESSOS\\COI Silvicultura - Edicao\\04. Pessoas\\Gabriel Moura\\00 - Silvicultura\\02  - Script\\00 - ipynb\\premissas_dowload_survey.xlsx'"
   ]
  },
  {
   "cell_type": "code",
   "execution_count": 86,
   "metadata": {},
   "outputs": [],
   "source": [
    "#login\n",
    "\n",
    "portal_url = pd.read_excel(path_premissas, sheet_name='login')\n",
    "\n",
    "portal_url = portal_url[portal_url['Nome Parâmetro'] == 'portal_url']\n",
    "\n",
    "portal_url = portal_url['Parâmetro'].iloc[0]"
   ]
  },
  {
   "cell_type": "code",
   "execution_count": 87,
   "metadata": {},
   "outputs": [],
   "source": [
    "#username\n",
    "\n",
    "username = pd.read_excel(path_premissas, sheet_name='login')\n",
    "\n",
    "username = username[username['Nome Parâmetro'] == 'username']\n",
    "\n",
    "username = username['Parâmetro'].iloc[0]"
   ]
  },
  {
   "cell_type": "code",
   "execution_count": 88,
   "metadata": {},
   "outputs": [],
   "source": [
    "#Password\n",
    "\n",
    "password = pd.read_excel(path_premissas, sheet_name='login')\n",
    "\n",
    "password = password[password['Nome Parâmetro'] == 'password']\n",
    "\n",
    "password = password['Parâmetro'].iloc[0]\n"
   ]
  },
  {
   "cell_type": "code",
   "execution_count": 89,
   "metadata": {},
   "outputs": [],
   "source": [
    "#local save\n",
    "\n",
    "local_save = pd.read_excel(path_premissas, sheet_name='login')\n",
    "\n",
    "local_save = local_save[local_save['Nome Parâmetro'] == 'local_save']\n",
    "\n",
    "local_save = local_save['Parâmetro'].iloc[0]\n"
   ]
  },
  {
   "cell_type": "code",
   "execution_count": 90,
   "metadata": {},
   "outputs": [],
   "source": [
    "# Define variables\n",
    "portalURL = portal_url\n",
    "username = username\n",
    "password = password\n",
    "save_path = local_save\n"
   ]
  },
  {
   "cell_type": "code",
   "execution_count": 91,
   "metadata": {},
   "outputs": [],
   "source": [
    "#Lista de itens para download\n",
    "\n",
    "list_itens = pd.read_excel(path_premissas, sheet_name='lista_download', usecols=['Id Formulário'])"
   ]
  },
  {
   "cell_type": "code",
   "execution_count": 92,
   "metadata": {},
   "outputs": [],
   "source": [
    "\n",
    "\n",
    "def baixar_survey(survey_id):\n",
    "    keep_org_item = False\n",
    "    try:\n",
    "        gis = GIS(portalURL, username, password)\n",
    "        survey_by_id = gis.content.get(survey_id)\n",
    "        print(survey_by_id.title)\n",
    "        \n",
    "        rel_fs = survey_by_id.related_items('Survey2Service', 'forward')[0]\n",
    "        item_excel = rel_fs.export(title=survey_by_id.title, export_format='Excel')\n",
    "        item_excel.download(save_path=save_path)\n",
    "        \n",
    "        if not keep_org_item:\n",
    "            item_excel.delete(force=True)\n",
    "\n",
    "    except Exception as e:\n",
    "        print(\"Tivemos problemas ao baixar o survey:\", survey_id)\n",
    "        print(\"Erro:\", e)\n",
    "        traceback.print_exc()"
   ]
  },
  {
   "cell_type": "code",
   "execution_count": 93,
   "metadata": {},
   "outputs": [
    {
     "name": "stdout",
     "output_type": "stream",
     "text": [
      "IPP - Drone\n",
      "IPP- CONJUGADO\n",
      "IPP- APS\n",
      "IPP_Irrigacao\n",
      "IPP_Autopropelido\n",
      "IPP_Adubacao_de_Cobertura\n",
      "IPP_Capina_Quimica_Manual\n",
      "IPP_Combate_Formigas\n",
      "IPP_Plantio_Replantio_Irrigacao\n",
      "IPP_Pulverizacao\n",
      "IPP_Viveiro_de_Espera\n",
      "IPP_Subsolador\n"
     ]
    }
   ],
   "source": [
    "for i in list_itens['Id Formulário']:\n",
    "    baixar_survey(i)"
   ]
  }
 ],
 "metadata": {
  "kernelspec": {
   "display_name": "Python 3",
   "language": "python",
   "name": "python3"
  },
  "language_info": {
   "codemirror_mode": {
    "name": "ipython",
    "version": 3
   },
   "file_extension": ".py",
   "mimetype": "text/x-python",
   "name": "python",
   "nbconvert_exporter": "python",
   "pygments_lexer": "ipython3",
   "version": "3.11.1"
  },
  "orig_nbformat": 4
 },
 "nbformat": 4,
 "nbformat_minor": 2
}
