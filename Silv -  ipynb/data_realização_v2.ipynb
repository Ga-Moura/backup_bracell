{
 "cells": [
  {
   "cell_type": "code",
   "execution_count": 31,
   "metadata": {},
   "outputs": [],
   "source": [
    "import pandas as pd \n",
    "import numpy as np\n",
    "from python_calamine.pandas import pandas_monkeypatch\n",
    "pandas_monkeypatch()"
   ]
  },
  {
   "cell_type": "code",
   "execution_count": 32,
   "metadata": {},
   "outputs": [],
   "source": [
    "#path premissas \n",
    "path_premissas = r'F:\\Silvicultura\\01. SP\\PROCESSOS\\COI Silvicultura - Consulta\\01. Programacoes e Controles\\001. Rolling Forcast - RF\\2025\\00 - Sequencia de Operação\\premissas.xlsx'"
   ]
  },
  {
   "cell_type": "code",
   "execution_count": 33,
   "metadata": {},
   "outputs": [],
   "source": [
    "#def Premissas\n",
    "\n",
    "premissas_df = pd.read_excel(path_premissas, sheet_name='path')\n",
    "\n",
    "def input_file(file):\n",
    "    premissas = premissas_df.copy()\n",
    "    \n",
    "    premissas = premissas[premissas['status'] == 'ativo']\n",
    "\n",
    "    premissas = premissas[premissas['arquivos de consumo'] == file]\n",
    "\n",
    "    path = premissas['path'].iloc[0]\n",
    "\n",
    "    return path"
   ]
  },
  {
   "cell_type": "code",
   "execution_count": 34,
   "metadata": {},
   "outputs": [],
   "source": [
    "#Mascara mês operacional\n",
    "\n",
    "def mes_operacional(df, coluna, nome_coluna):\n",
    "    # Garantir que a coluna é do tipo datetime\n",
    "    if not pd.api.types.is_datetime64_any_dtype(df[coluna]):\n",
    "        df[coluna] = pd.to_datetime(df[coluna], errors='coerce')\n",
    "    \n",
    "    \n",
    "    def calcular_mes_operacional(data):\n",
    "        \n",
    "        if pd.isna(data):\n",
    "            return None \n",
    "        \n",
    "        \n",
    "        dia = data.day\n",
    "        mes = data.month\n",
    "        ano = data.year\n",
    "        \n",
    "        \n",
    "        if dia > 20:\n",
    "            mes = (mes % 12) + 1\n",
    "            if mes == 1:\n",
    "                ano += 1\n",
    "        \n",
    "        # Retornar um Timestamp, garantindo que todos são inteiros\n",
    "        return pd.Timestamp(year=int(ano), month=int(mes), day=1)\n",
    "\n",
    "    # Aplicar a função para a coluna\n",
    "    df[nome_coluna] = df[coluna].apply(calcular_mes_operacional)\n",
    "\n",
    "    return df"
   ]
  },
  {
   "cell_type": "code",
   "execution_count": 35,
   "metadata": {},
   "outputs": [],
   "source": [
    "# path_sequenciamento = input_file('path_fazenda_programa')\n",
    "\n",
    "# sequenciamento = pd.read_excel(path_sequenciamento,\n",
    "#                                sheet_name='SEQUENCIAMENTO',\n",
    "#                                skiprows=6,\n",
    "#                                usecols=['Nova Coordenação Plantio 2','  EPS Plantio','ORDEM PLANTIO','Id Projeto','DATA INÍCIO'],\n",
    "#                                dtype={'Id Projeto':'object'}).rename({'Nova Coordenação Plantio 2':'Nova Coordenação Plantio'},axis=1)\n",
    "\n",
    "\n",
    "# sequenciamento = sequenciamento[(sequenciamento['  EPS Plantio'] != '(vazio)') & (pd.notna(sequenciamento['  EPS Plantio']))]\n",
    "\n",
    "\n",
    "# sequenciamento = mes_operacional(sequenciamento,'DATA INÍCIO','mes_operacional')"
   ]
  },
  {
   "cell_type": "code",
   "execution_count": 36,
   "metadata": {},
   "outputs": [],
   "source": [
    "#Caminho do programa\n",
    "\n",
    "path_programa = input_file('path_fazenda_programa')\n",
    "\n",
    "programa = pd.read_excel(path_programa,sheet_name='BD',\n",
    "                         usecols=['Id Projeto','Talhão','Expectativa de Plantio','Nova EPS Plantio','Área(ha)','ORDEM PLANTIO',\n",
    "                                   'Data de Referência', 'Origem referência', 'cto baldeio', 'cto colheita'],\n",
    "                         dtype={'Id Projeto':'object', 'Talhão':'object'},\n",
    "                         engine='calamine')\n",
    "\n",
    "#Objeto de locação\n",
    "programa['objeto de locação'] = programa['Id Projeto'].astype(str) + programa['Talhão'].astype(str)\n",
    "\n",
    "#Ordem de plantio\n",
    "    #Rmovendo tudo que está vazio\n",
    "\n",
    "programa = programa[pd.notna(programa['ORDEM PLANTIO'])]\n",
    "\n",
    "#Ordenando as prioridades de execução de operação\n",
    "\n",
    "programa = programa.sort_values(['ORDEM PLANTIO','Id Projeto','Talhão' ,'cto baldeio', 'cto colheita','Data de Referência','Nova EPS Plantio'], ascending=[True,True ,True,True,True,True, True])\n",
    "\n",
    "\n",
    "#Definindo qual será a data start para cada operação\n",
    "data_start = pd.to_datetime(input_file('data_start'))\n",
    "\n",
    "data_start_bracell02 = pd.to_datetime(input_file('data_start_bracell02'))\n",
    "\n",
    "\n",
    "#data start jfi dourado\n",
    "\n",
    "\n",
    "data_start_jfi_dourado = pd.to_datetime(input_file('data_start_JFI DOURADO'))\n",
    "\n",
    "\n",
    "# Número sequencial dentro de cada projeto\n",
    "programa['n_talhao'] = programa.groupby('Id Projeto').cumcount() + 1\n",
    "\n",
    "# Total de talhões dentro de cada projeto\n",
    "programa['nt_talhao'] = programa.groupby('Id Projeto')['Talhão'].transform('count')\n",
    "\n",
    "\n",
    "#Definindo data de início da fazenda\n",
    "programa['Data Start'] = np.where((programa['Nova EPS Plantio'] == 'BRACELL 02') , data_start_bracell02,\n",
    "                                np.where((programa['Nova EPS Plantio'] == 'JFI DOURADO'), data_start_jfi_dourado,\n",
    "                                                                data_start))\n",
    "\n",
    "\n",
    "\n",
    "\n",
    "\n",
    "programa = mes_operacional(programa, 'Data Start', 'Data Start Operacional')"
   ]
  },
  {
   "cell_type": "code",
   "execution_count": 37,
   "metadata": {},
   "outputs": [
    {
     "name": "stdout",
     "output_type": "stream",
     "text": [
      "2820\n",
      "0\n",
      "2820\n"
     ]
    }
   ],
   "source": [
    "#Garantir que não há duplicatas\n",
    "\n",
    "\n",
    "#Número de talhões \n",
    "\n",
    "print(programa.shape[0])\n",
    "\n",
    "#Se for > 1, está errado\n",
    "\n",
    "print(programa[programa['objeto de locação'].duplicated()].shape[0])\n",
    "\n",
    "\n",
    "#Removendo duplicatas para garantir que não há problemas de talhão\n",
    "programa = programa.drop_duplicates('objeto de locação')\n",
    "\n",
    "\n",
    "print(programa.shape[0])\n"
   ]
  },
  {
   "cell_type": "code",
   "execution_count": 38,
   "metadata": {},
   "outputs": [],
   "source": [
    "#Curva de dias trabalhados\n",
    "\n",
    "curva_plantio_dias = pd.read_excel(path_premissas,sheet_name='dias_trabalhados')\n",
    "\n",
    "curva_plantio_dias = curva_plantio_dias.melt(id_vars=['Provider'],\n",
    "                                   value_vars=['03_25', '04_25', '05_25', '06_25',\n",
    "                                    '07_25', '08_25', '09_25', '10_25', '11_25', '12_25',\n",
    "                                    '01_26', '02_26', '03_26', '04_26','05_26','06_26',\n",
    "                                    '07_26', '08_26', '09_26', '10_26', '11_26', '12_26'],\n",
    "                                    var_name='Mês Operacional', value_name='dias operacionais')\n",
    "\n",
    "curva_plantio_dias['Mês Operacional'] = pd.to_datetime(curva_plantio_dias['Mês Operacional'],format='%m_%y')\n",
    "\n",
    "curva_plantio_dias['dias operacionais'] = pd.to_numeric(curva_plantio_dias['dias operacionais'], errors='coerce')\n",
    "\n",
    "\n",
    "#Curva de Plantio\n",
    "\n",
    "curva_plantio = pd.read_excel(path_premissas,sheet_name='Programa de Plantio')\n",
    "\n",
    "curva_plantio = curva_plantio.melt(id_vars=['Provider'],\n",
    "                                   value_vars=['03_25', '04_25', '05_25', '06_25',\n",
    "                                    '07_25', '08_25', '09_25', '10_25', '11_25', '12_25',\n",
    "                                    '01_26', '02_26', '03_26', '04_26','05_26','06_26',\n",
    "                                    '07_26', '08_26', '09_26', '10_26', '11_26', '12_26'],\n",
    "                                    var_name='Mês Operacional', value_name='capacidade')\n",
    "\n",
    "curva_plantio['Mês Operacional'] = pd.to_datetime(curva_plantio['Mês Operacional'],format='%m_%y')\n",
    "\n",
    "curva_plantio = curva_plantio.merge(curva_plantio_dias, left_on = ['Provider', 'Mês Operacional'], right_on = ['Provider', 'Mês Operacional'], how='left')\n",
    "\n",
    "curva_plantio['Rendimento'] = curva_plantio['capacidade'] / curva_plantio['dias operacionais']\n",
    "\n",
    "\n",
    "#Definindo a capacidade acumulada\n",
    "curva_plantio['capacidade_acumulada'] = curva_plantio.groupby(['Provider'])['capacidade'].cumsum()"
   ]
  },
  {
   "cell_type": "code",
   "execution_count": 39,
   "metadata": {},
   "outputs": [],
   "source": [
    "#Rendimento considerado\n",
    "\n",
    "#Soma acumulada de produção Definindo qual rendimento deve ser considerado\n",
    "\n",
    "#1º Ordenar as ordens de EPS e ordem de plantio\n",
    "    #A base já foi ordenada, mas para esse momento deve ser considerado a eps independente da sua ordem\n",
    "\n",
    "programa = programa.sort_values(['Nova EPS Plantio', 'ORDEM PLANTIO','n_talhao'], ascending=[True, True,True])\n",
    "\n",
    "\n",
    "#Com a base ordenada o objetivo é realizar a soma acumulada dos talhões\n",
    "\n",
    "programa['soma_acumulada'] = programa.groupby('Nova EPS Plantio')['Área(ha)'].cumsum()\n",
    "\n",
    "\n",
    "#trazer a curva de plantio, volume a ser considerado para o volume de plantio\n",
    "\n",
    "programa = programa.merge(curva_plantio[['Mês Operacional','capacidade_acumulada','Provider']],left_on=['Nova EPS Plantio'], right_on=['Provider'], how='left').drop('Provider', axis=1).rename({'Mês Operacional': 'Mês cop capacidade'},axis=1)\n",
    "\n",
    "\n",
    "#Definindo o que esta dentro da capacidade \n",
    "\n",
    "#Dentro da capacidade == 0\n",
    "\n",
    "#Fora da capacidade == 1\n",
    "\n",
    "programa['status cap'] = np.where(programa['soma_acumulada'] <= programa['capacidade_acumulada'], 0, 1)\n",
    "\n",
    "#Remover o que é igual a fora da capacidade, dessa forma, sempre terei os meses que estão dentro da capacidade e garante que sempre terá apenas opções que estão dentro da capacidade\n",
    "\n",
    "#Antes de remover, importante garantir que sempre terei uma unidade do talhão, dessa forma, se o mínimo do talhão for 1, necessário considerar ele zero e definir capacidade 0\n",
    "\n",
    "programa['status mínimo'] = programa.groupby('objeto de locação')['status cap'].transform('min')\n",
    "\n",
    "#Garantindo o status mínimo, assim todas as linhas serão mantidas\n",
    "programa = programa[(programa['status cap'] != 1) | (programa['status mínimo'] != 0 )]\n",
    "\n",
    "\n",
    "#Removendo as duplicatas para garantir que tenha somente um único talhão\n",
    "programa = programa.drop_duplicates('objeto de locação', keep='first')\n",
    "\n",
    "#Para os talhões que status mínimo é igual a 1, eles devem ter o mês cop capacidade zerado, pois não podem ter capacidade atrelada\n",
    "\n",
    "programa['Mês cop capacidade'] = np.where((programa['status mínimo'] == 1), pd.NaT, programa['Mês cop capacidade'])\n",
    "\n",
    "\n",
    "programa['Status Capacidade'] = np.where(pd.isna(programa['Mês cop capacidade']), 'Equipe sem capacidade', pd.NaT)\n",
    "\n",
    "programa['Mês cop capacidade'] = pd.to_datetime(programa['Mês cop capacidade'], errors='ignore')\n"
   ]
  },
  {
   "cell_type": "code",
   "execution_count": 40,
   "metadata": {},
   "outputs": [],
   "source": [
    "#Programa & curva de plantio\n",
    "\n",
    "programa = programa.merge(curva_plantio[['Provider', 'Mês Operacional', 'Rendimento']],\n",
    "                           left_on=['Nova EPS Plantio', 'Mês cop capacidade'],\n",
    "                           right_on=['Provider', 'Mês Operacional'],\n",
    "                           how='left').drop('Mês Operacional', axis=1)"
   ]
  },
  {
   "cell_type": "code",
   "execution_count": 41,
   "metadata": {},
   "outputs": [],
   "source": [
    "#Agrupar para encontrar o volume de produção da fazenda\n",
    "\n",
    "agg = {'Área(ha)': 'sum',\n",
    "       'n_talhao': 'max',\n",
    "       'nt_talhao': 'max',\n",
    "       'Rendimento': 'max',\n",
    "       'Data Start':'max',\n",
    "       'ORDEM PLANTIO':'min'}\n",
    "\n",
    "programa_agrupado = programa.groupby(['Id Projeto','Nova EPS Plantio','Talhão']).agg(agg).reset_index()\n",
    "\n",
    "programa_agrupado = programa_agrupado.sort_values(['Nova EPS Plantio','ORDEM PLANTIO'], ascending=[True, True])"
   ]
  },
  {
   "cell_type": "code",
   "execution_count": 42,
   "metadata": {},
   "outputs": [],
   "source": [
    "#Dias de deslocamento\n",
    "\n",
    "dia_deslocamento = float(input_file('dias_deslocamento'))"
   ]
  },
  {
   "cell_type": "code",
   "execution_count": 43,
   "metadata": {},
   "outputs": [],
   "source": [
    "#Dias para operação\n",
    "\n",
    "programa_agrupado['dias_operacao'] = programa_agrupado['Área(ha)'] / programa_agrupado['Rendimento']\n",
    "\n",
    "\n",
    "programa_agrupado['deslocamento'] = np.where(programa_agrupado['n_talhao'] == programa_agrupado['nt_talhao'], dia_deslocamento, np.nan)\n",
    "\n",
    "programa_agrupado['dias_acumulados'] = np.where( pd.isna(programa_agrupado['deslocamento']),\n",
    "                                                 programa_agrupado['dias_operacao'],\n",
    "                                                 programa_agrupado['dias_operacao'] + programa_agrupado['deslocamento'])\n"
   ]
  },
  {
   "cell_type": "code",
   "execution_count": 44,
   "metadata": {},
   "outputs": [],
   "source": [
    "#Soma Acumulada de dias para trabalho\n",
    "programa_agrupado['soma_acumulada'] = programa_agrupado.groupby(['Nova EPS Plantio'])['dias_acumulados'].transform('cumsum')\n",
    "\n",
    "programa_agrupado['data_referencia'] = np.where(programa_agrupado['Nova EPS Plantio'] == 'BRACELL 02',data_start_bracell02,\n",
    "                                                \n",
    "                                                np.where(programa_agrupado['Nova EPS Plantio'] == 'JFI DOURADO', data_start_jfi_dourado, \n",
    "                                                \n",
    "                                                data_start))\n"
   ]
  },
  {
   "cell_type": "code",
   "execution_count": 45,
   "metadata": {},
   "outputs": [],
   "source": [
    "#Data fim da operação\n",
    "\n",
    "\n",
    "#Se for bracell, trabalha de sabado, caso contrário, só considera trablho em dias úteis\n",
    "\n",
    "programa_agrupado['fim_operacao'] = programa_agrupado.apply(\n",
    "    lambda x: (\n",
    "        np.busday_offset(\n",
    "            x['data_referencia'].strftime('%Y-%m-%d'), \n",
    "            x['soma_acumulada'],\n",
    "            weekmask='1111110',\n",
    "            roll='forward'\n",
    "        ) if x['Nova EPS Plantio'] in ['BRACELL 01', 'BRACELL 02']\n",
    "        else np.busday_offset(\n",
    "            x['data_referencia'].strftime('%Y-%m-%d'), \n",
    "            x['soma_acumulada'],\n",
    "            weekmask='1111100',\n",
    "            roll='forward'\n",
    "        )\n",
    "    ) if not (pd.isna(x['data_referencia']) or pd.isna(x['soma_acumulada'])) else np.nan,  # Se algum valor for NaN, retorna NaN\n",
    "    axis=1\n",
    ")\n",
    "\n",
    "\n",
    "\n"
   ]
  },
  {
   "cell_type": "code",
   "execution_count": 46,
   "metadata": {},
   "outputs": [],
   "source": [
    "#Definindo qual é a data start de cada operação\n",
    "\n",
    "programa_agrupado['Data Start'] = np.where( (programa_agrupado['ORDEM PLANTIO'] == 1) & (programa_agrupado['n_talhao'] == 1),\n",
    "                                            programa_agrupado['Data Start'],\n",
    "                                            programa_agrupado['fim_operacao'].shift(1))"
   ]
  },
  {
   "cell_type": "code",
   "execution_count": 47,
   "metadata": {},
   "outputs": [],
   "source": [
    "programa_agrupado = mes_operacional(programa_agrupado, 'Data Start', 'Data Start_cop')"
   ]
  },
  {
   "cell_type": "code",
   "execution_count": 48,
   "metadata": {},
   "outputs": [],
   "source": [
    "programa_agrupado = mes_operacional(programa_agrupado,'fim_operacao','fim_operacao_cop')"
   ]
  },
  {
   "cell_type": "code",
   "execution_count": 49,
   "metadata": {},
   "outputs": [],
   "source": [
    "programa_agrupado = programa_agrupado.rename({\n",
    "    'Nova EPS Plantio':'EPS Plantio',\n",
    "    'Área(ha)': 'Área ha',\n",
    "    'Rendimento':'Rendimento ha/dia',\n",
    "    'ORDEM PLANTIO':'Ordem Plantio',\n",
    "    'dias_operacao': 'Dias para operação',\n",
    "    'dias_acumulados': 'Dias totais para operação e deslocamento',\n",
    "    'fim_operacao' :'Data Final',\n",
    "    'fim_operacao_cop': 'Data Final Mês Operacional'\n",
    "\n",
    "}, axis=1)"
   ]
  },
  {
   "cell_type": "code",
   "execution_count": 50,
   "metadata": {},
   "outputs": [],
   "source": [
    "programa_agrupado = programa_agrupado.drop(['soma_acumulada','data_referencia'],axis=1)"
   ]
  },
  {
   "cell_type": "code",
   "execution_count": 51,
   "metadata": {},
   "outputs": [],
   "source": [
    "programa_agrupado.to_excel('sequenciamento.xlsx',index=False)"
   ]
  }
 ],
 "metadata": {
  "kernelspec": {
   "display_name": "Python 3",
   "language": "python",
   "name": "python3"
  },
  "language_info": {
   "codemirror_mode": {
    "name": "ipython",
    "version": 3
   },
   "file_extension": ".py",
   "mimetype": "text/x-python",
   "name": "python",
   "nbconvert_exporter": "python",
   "pygments_lexer": "ipython3",
   "version": "3.11.1"
  }
 },
 "nbformat": 4,
 "nbformat_minor": 2
}
