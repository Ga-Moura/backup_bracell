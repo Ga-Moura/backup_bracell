{
 "cells": [
  {
   "cell_type": "code",
   "execution_count": null,
   "metadata": {},
   "outputs": [],
   "source": [
    "import win32com.client as win32\n",
    "import pandas as pd\n",
    "import xlwings as xw\n",
    "import os\n",
    "import PyPDF2 as pdf\n",
    "from python_calamine.pandas import pandas_monkeypatch\n",
    "from time import sleep\n",
    "\n",
    "pandas_monkeypatch()"
   ]
  },
  {
   "cell_type": "code",
   "execution_count": 3,
   "metadata": {},
   "outputs": [],
   "source": [
    "path_premissa = r'F:\\Silvicultura\\01. SP\\PROCESSOS\\COI Silvicultura - Edicao\\01. Programações & Controles\\016. Insumos\\Novo Fluxo Insumos\\E-mails EPS.xlsx'"
   ]
  },
  {
   "cell_type": "code",
   "execution_count": 4,
   "metadata": {},
   "outputs": [],
   "source": [
    "path_report = r'F:\\Silvicultura\\01. SP\\PROCESSOS\\COI Silvicultura - Edicao\\01. Programações & Controles\\016. Insumos\\Novo Fluxo Insumos\\Análise Insumos.xlsx'\n",
    "\n",
    "aba_report = 'Controle NFs'\n",
    "\n",
    "aba_notas = 'NotasFiscais'"
   ]
  },
  {
   "cell_type": "code",
   "execution_count": 5,
   "metadata": {},
   "outputs": [],
   "source": [
    "path_anexo2 = r'F:\\Silvicultura\\01. SP\\PROCESSOS\\COI Silvicultura - Edicao\\01. Programações & Controles\\016. Insumos\\Novo Fluxo Insumos\\Report Apontamentos.xlsx'"
   ]
  },
  {
   "cell_type": "code",
   "execution_count": 6,
   "metadata": {},
   "outputs": [
    {
     "name": "stderr",
     "output_type": "stream",
     "text": [
      "c:\\Users\\gamoura\\AppData\\Local\\Programs\\Python\\Python311\\Lib\\site-packages\\openpyxl\\worksheet\\_reader.py:329: UserWarning: Data Validation extension is not supported and will be removed\n",
      "  warn(msg)\n"
     ]
    }
   ],
   "source": [
    "premissa = pd.read_excel(path_premissa,sheet_name='email')"
   ]
  },
  {
   "cell_type": "code",
   "execution_count": 7,
   "metadata": {},
   "outputs": [],
   "source": [
    "#Contatos Próprio 1\n",
    "\n",
    "out_p1 = premissa[['EPS','Contatos Próprio 1']]\n",
    "\n",
    "out_p1 = out_p1[pd.notna(out_p1['Contatos Próprio 1'])]\n",
    "\n",
    "out_p1 = out_p1.rename({'Contatos Próprio 1':'Contatos EPS'},axis=1)"
   ]
  },
  {
   "cell_type": "code",
   "execution_count": 8,
   "metadata": {},
   "outputs": [],
   "source": [
    "#Contatos Próprio 2\n",
    "out_p2 = premissa[['EPS','Contatos Próprio 2']]\n",
    "\n",
    "out_p2 = out_p2[pd.notna(out_p2['Contatos Próprio 2'])]\n",
    "\n",
    "out_p2 = out_p2.rename({'Contatos Próprio 2':'Contatos EPS'},axis=1)"
   ]
  },
  {
   "cell_type": "code",
   "execution_count": 9,
   "metadata": {},
   "outputs": [],
   "source": [
    "#Emails em cópia\n",
    "\n",
    "copia = premissa[pd.notna(premissa['Cópia'])][['Cópia']].copy()\n"
   ]
  },
  {
   "cell_type": "code",
   "execution_count": 10,
   "metadata": {},
   "outputs": [],
   "source": [
    "#Corpo do email\n",
    "\n",
    "corpo_email = pd.read_excel( path_premissa,sheet_name='Corpo email')\n",
    "\n",
    "\n",
    "#Assunto\n",
    "assunto = corpo_email[['Assunto']].copy()\n",
    "\n",
    "#Corpo email\n",
    "corpo_email = corpo_email[['Corpo do Email']]\n"
   ]
  },
  {
   "cell_type": "code",
   "execution_count": 11,
   "metadata": {},
   "outputs": [],
   "source": [
    "#Premissas\n",
    "\n",
    "premissa = premissa[['EPS','Contatos EPS']]\n",
    "\n",
    "contatos = pd.concat([out_p1,out_p2,premissa])"
   ]
  },
  {
   "cell_type": "code",
   "execution_count": 12,
   "metadata": {},
   "outputs": [],
   "source": [
    "contatos = contatos.sort_values('EPS', ascending=True)\n",
    "\n",
    "#Removendo itens duplicados\n",
    "contatos = contatos.drop_duplicates(['EPS', 'Contatos EPS'],keep='first')\n"
   ]
  },
  {
   "cell_type": "code",
   "execution_count": 13,
   "metadata": {},
   "outputs": [],
   "source": [
    "caminho_output = r\"F:\\Silvicultura\\01. SP\\PROCESSOS\\COI Silvicultura - Edicao\\01. Programações & Controles\\016. Insumos\\Novo Fluxo Insumos\\export\\Output.pdf\""
   ]
  },
  {
   "cell_type": "code",
   "execution_count": 14,
   "metadata": {},
   "outputs": [
    {
     "ename": "ValueError",
     "evalue": "Unknown engine: calamine",
     "output_type": "error",
     "traceback": [
      "\u001b[1;31m---------------------------------------------------------------------------\u001b[0m",
      "\u001b[1;31mValueError\u001b[0m                                Traceback (most recent call last)",
      "Cell \u001b[1;32mIn[14], line 4\u001b[0m\n\u001b[0;32m      1\u001b[0m \u001b[38;5;66;03m#Criar função para exportar um excel para cada eps de acordo com as informações da dinâmica\u001b[39;00m\n\u001b[1;32m----> 4\u001b[0m notas_fiscais \u001b[38;5;241m=\u001b[39m \u001b[43mpd\u001b[49m\u001b[38;5;241;43m.\u001b[39;49m\u001b[43mread_excel\u001b[49m\u001b[43m(\u001b[49m\u001b[43mpath_report\u001b[49m\u001b[43m,\u001b[49m\n\u001b[0;32m      5\u001b[0m \u001b[43m                               \u001b[49m\u001b[43msheet_name\u001b[49m\u001b[38;5;241;43m=\u001b[39;49m\u001b[43m \u001b[49m\u001b[43maba_notas\u001b[49m\u001b[43m,\u001b[49m\n\u001b[0;32m      6\u001b[0m \u001b[43m                               \u001b[49m\u001b[43mengine\u001b[49m\u001b[38;5;241;43m=\u001b[39;49m\u001b[43m \u001b[49m\u001b[38;5;124;43m'\u001b[39;49m\u001b[38;5;124;43mcalamine\u001b[39;49m\u001b[38;5;124;43m'\u001b[39;49m\u001b[43m,\u001b[49m\u001b[43m \u001b[49m\n\u001b[0;32m      7\u001b[0m \u001b[43m                               \u001b[49m\u001b[43musecols\u001b[49m\u001b[38;5;241;43m=\u001b[39;49m\u001b[43m[\u001b[49m\u001b[38;5;124;43m'\u001b[39;49m\u001b[38;5;124;43mStatus NF\u001b[39;49m\u001b[38;5;124;43m'\u001b[39;49m\u001b[43m,\u001b[49m\u001b[43m \u001b[49m\u001b[38;5;124;43m'\u001b[39;49m\u001b[38;5;124;43mEPS\u001b[39;49m\u001b[38;5;124;43m'\u001b[39;49m\u001b[43m,\u001b[49m\u001b[43m \u001b[49m\u001b[38;5;124;43m'\u001b[39;49m\u001b[38;5;124;43mSemana Emissão\u001b[39;49m\u001b[38;5;124;43m'\u001b[39;49m\u001b[43m,\u001b[49m\u001b[38;5;124;43m'\u001b[39;49m\u001b[38;5;124;43mNF\u001b[39;49m\u001b[38;5;124;43m'\u001b[39;49m\u001b[43m,\u001b[49m\u001b[38;5;124;43m'\u001b[39;49m\u001b[38;5;124;43mInsumo\u001b[39;49m\u001b[38;5;124;43m'\u001b[39;49m\u001b[43m,\u001b[49m\u001b[38;5;124;43m'\u001b[39;49m\u001b[38;5;124;43mQuantidade com EPS\u001b[39;49m\u001b[38;5;124;43m'\u001b[39;49m\u001b[43m,\u001b[49m\u001b[38;5;124;43m'\u001b[39;49m\u001b[38;5;124;43mSaldo NF tratado\u001b[39;49m\u001b[38;5;124;43m'\u001b[39;49m\u001b[43m,\u001b[49m\u001b[38;5;124;43m'\u001b[39;49m\u001b[38;5;124;43mSaldo NF\u001b[39;49m\u001b[38;5;124;43m'\u001b[39;49m\u001b[43m]\u001b[49m\u001b[43m,\u001b[49m\n\u001b[0;32m      8\u001b[0m \u001b[43m                               \u001b[49m\u001b[43mdtype\u001b[49m\u001b[38;5;241;43m=\u001b[39;49m\u001b[43m{\u001b[49m\u001b[43m \u001b[49m\u001b[38;5;124;43m'\u001b[39;49m\u001b[38;5;124;43mNF\u001b[39;49m\u001b[38;5;124;43m'\u001b[39;49m\u001b[43m:\u001b[49m\u001b[43m \u001b[49m\u001b[38;5;124;43m'\u001b[39;49m\u001b[38;5;124;43mobject\u001b[39;49m\u001b[38;5;124;43m'\u001b[39;49m\u001b[43m}\u001b[49m\u001b[43m)\u001b[49m\n\u001b[0;32m     10\u001b[0m notas_fiscais \u001b[38;5;241m=\u001b[39m notas_fiscais\u001b[38;5;241m.\u001b[39mrename({\n\u001b[0;32m     11\u001b[0m     \u001b[38;5;124m'\u001b[39m\u001b[38;5;124mQuantidade com EPS\u001b[39m\u001b[38;5;124m'\u001b[39m:\u001b[38;5;124m'\u001b[39m\u001b[38;5;124mQuantidade Retirada\u001b[39m\u001b[38;5;124m'\u001b[39m,\n\u001b[0;32m     12\u001b[0m     \u001b[38;5;124m'\u001b[39m\u001b[38;5;124mSaldo NF tratado\u001b[39m\u001b[38;5;124m'\u001b[39m : \u001b[38;5;124m'\u001b[39m\u001b[38;5;124mSaldo Notas\u001b[39m\u001b[38;5;124m'\u001b[39m,\n\u001b[0;32m     13\u001b[0m     \u001b[38;5;124m'\u001b[39m\u001b[38;5;124mSaldo NF\u001b[39m\u001b[38;5;124m'\u001b[39m: \u001b[38;5;124m'\u001b[39m\u001b[38;5;124mSaldo Real NFs\u001b[39m\u001b[38;5;124m'\u001b[39m\n\u001b[0;32m     14\u001b[0m }, axis\u001b[38;5;241m=\u001b[39m\u001b[38;5;241m1\u001b[39m)\n\u001b[0;32m     18\u001b[0m agg_nf \u001b[38;5;241m=\u001b[39m {\u001b[38;5;124m'\u001b[39m\u001b[38;5;124mQuantidade Retirada\u001b[39m\u001b[38;5;124m'\u001b[39m: \u001b[38;5;124m'\u001b[39m\u001b[38;5;124msum\u001b[39m\u001b[38;5;124m'\u001b[39m ,\n\u001b[0;32m     19\u001b[0m            \u001b[38;5;124m'\u001b[39m\u001b[38;5;124mSaldo Notas\u001b[39m\u001b[38;5;124m'\u001b[39m : \u001b[38;5;124m'\u001b[39m\u001b[38;5;124msum\u001b[39m\u001b[38;5;124m'\u001b[39m,\n\u001b[0;32m     20\u001b[0m            \u001b[38;5;124m'\u001b[39m\u001b[38;5;124mSaldo Real NFs\u001b[39m\u001b[38;5;124m'\u001b[39m : \u001b[38;5;124m'\u001b[39m\u001b[38;5;124msum\u001b[39m\u001b[38;5;124m'\u001b[39m}\n",
      "File \u001b[1;32mc:\\Users\\gamoura\\AppData\\Local\\Programs\\Python\\Python311\\Lib\\site-packages\\pandas\\io\\excel\\_base.py:504\u001b[0m, in \u001b[0;36mread_excel\u001b[1;34m(io, sheet_name, header, names, index_col, usecols, dtype, engine, converters, true_values, false_values, skiprows, nrows, na_values, keep_default_na, na_filter, verbose, parse_dates, date_parser, date_format, thousands, decimal, comment, skipfooter, storage_options, dtype_backend, engine_kwargs)\u001b[0m\n\u001b[0;32m    502\u001b[0m \u001b[38;5;28;01mif\u001b[39;00m \u001b[38;5;129;01mnot\u001b[39;00m \u001b[38;5;28misinstance\u001b[39m(io, ExcelFile):\n\u001b[0;32m    503\u001b[0m     should_close \u001b[38;5;241m=\u001b[39m \u001b[38;5;28;01mTrue\u001b[39;00m\n\u001b[1;32m--> 504\u001b[0m     io \u001b[38;5;241m=\u001b[39m \u001b[43mExcelFile\u001b[49m\u001b[43m(\u001b[49m\n\u001b[0;32m    505\u001b[0m \u001b[43m        \u001b[49m\u001b[43mio\u001b[49m\u001b[43m,\u001b[49m\n\u001b[0;32m    506\u001b[0m \u001b[43m        \u001b[49m\u001b[43mstorage_options\u001b[49m\u001b[38;5;241;43m=\u001b[39;49m\u001b[43mstorage_options\u001b[49m\u001b[43m,\u001b[49m\n\u001b[0;32m    507\u001b[0m \u001b[43m        \u001b[49m\u001b[43mengine\u001b[49m\u001b[38;5;241;43m=\u001b[39;49m\u001b[43mengine\u001b[49m\u001b[43m,\u001b[49m\n\u001b[0;32m    508\u001b[0m \u001b[43m        \u001b[49m\u001b[43mengine_kwargs\u001b[49m\u001b[38;5;241;43m=\u001b[39;49m\u001b[43mengine_kwargs\u001b[49m\u001b[43m,\u001b[49m\n\u001b[0;32m    509\u001b[0m \u001b[43m    \u001b[49m\u001b[43m)\u001b[49m\n\u001b[0;32m    510\u001b[0m \u001b[38;5;28;01melif\u001b[39;00m engine \u001b[38;5;129;01mand\u001b[39;00m engine \u001b[38;5;241m!=\u001b[39m io\u001b[38;5;241m.\u001b[39mengine:\n\u001b[0;32m    511\u001b[0m     \u001b[38;5;28;01mraise\u001b[39;00m \u001b[38;5;167;01mValueError\u001b[39;00m(\n\u001b[0;32m    512\u001b[0m         \u001b[38;5;124m\"\u001b[39m\u001b[38;5;124mEngine should not be specified when passing \u001b[39m\u001b[38;5;124m\"\u001b[39m\n\u001b[0;32m    513\u001b[0m         \u001b[38;5;124m\"\u001b[39m\u001b[38;5;124man ExcelFile - ExcelFile already has the engine set\u001b[39m\u001b[38;5;124m\"\u001b[39m\n\u001b[0;32m    514\u001b[0m     )\n",
      "File \u001b[1;32mc:\\Users\\gamoura\\AppData\\Local\\Programs\\Python\\Python311\\Lib\\site-packages\\pandas\\io\\excel\\_base.py:1531\u001b[0m, in \u001b[0;36mExcelFile.__init__\u001b[1;34m(self, path_or_buffer, engine, storage_options, engine_kwargs)\u001b[0m\n\u001b[0;32m   1528\u001b[0m     engine_kwargs \u001b[38;5;241m=\u001b[39m {}\n\u001b[0;32m   1530\u001b[0m \u001b[38;5;28;01mif\u001b[39;00m engine \u001b[38;5;129;01mis\u001b[39;00m \u001b[38;5;129;01mnot\u001b[39;00m \u001b[38;5;28;01mNone\u001b[39;00m \u001b[38;5;129;01mand\u001b[39;00m engine \u001b[38;5;129;01mnot\u001b[39;00m \u001b[38;5;129;01min\u001b[39;00m \u001b[38;5;28mself\u001b[39m\u001b[38;5;241m.\u001b[39m_engines:\n\u001b[1;32m-> 1531\u001b[0m     \u001b[38;5;28;01mraise\u001b[39;00m \u001b[38;5;167;01mValueError\u001b[39;00m(\u001b[38;5;124mf\u001b[39m\u001b[38;5;124m\"\u001b[39m\u001b[38;5;124mUnknown engine: \u001b[39m\u001b[38;5;132;01m{\u001b[39;00mengine\u001b[38;5;132;01m}\u001b[39;00m\u001b[38;5;124m\"\u001b[39m)\n\u001b[0;32m   1533\u001b[0m \u001b[38;5;66;03m# First argument can also be bytes, so create a buffer\u001b[39;00m\n\u001b[0;32m   1534\u001b[0m \u001b[38;5;28;01mif\u001b[39;00m \u001b[38;5;28misinstance\u001b[39m(path_or_buffer, \u001b[38;5;28mbytes\u001b[39m):\n",
      "\u001b[1;31mValueError\u001b[0m: Unknown engine: calamine"
     ]
    }
   ],
   "source": [
    "#Criar função para exportar um excel para cada eps de acordo com as informações da dinâmica\n",
    "\n",
    "\n",
    "notas_fiscais = pd.read_excel(path_report,\n",
    "                               sheet_name= aba_notas,\n",
    "                               engine= 'calamine', \n",
    "                               usecols=['Status NF', 'EPS', 'Semana Emissão','NF','Insumo','Quantidade com EPS','Saldo NF tratado','Saldo NF'],\n",
    "                               dtype={ 'NF': 'object'})\n",
    "\n",
    "notas_fiscais = notas_fiscais.rename({\n",
    "    'Quantidade com EPS':'Quantidade Retirada',\n",
    "    'Saldo NF tratado' : 'Saldo Notas',\n",
    "    'Saldo NF': 'Saldo Real NFs'\n",
    "}, axis=1)\n",
    "\n",
    "\n",
    "\n",
    "agg_nf = {'Quantidade Retirada': 'sum' ,\n",
    "           'Saldo Notas' : 'sum',\n",
    "           'Saldo Real NFs' : 'sum'}\n",
    "\n",
    "notas_fiscais = notas_fiscais.groupby(['EPS', 'Semana Emissão', 'NF', 'Insumo']).agg(agg_nf).reset_index()\n",
    "\n",
    "\n",
    "\n",
    "#Mudando o tipo de dado e garantindo que tenha 9 dígitos\n",
    "\n",
    "notas_fiscais['NF'] = notas_fiscais['NF'].astype('str')\n",
    "\n",
    "notas_fiscais['NF'] = notas_fiscais['NF'].str.zfill(9)\n"
   ]
  },
  {
   "cell_type": "code",
   "execution_count": null,
   "metadata": {},
   "outputs": [],
   "source": [
    "caminho_output_export = r\"F:\\Silvicultura\\01. SP\\PROCESSOS\\COI Silvicultura - Edicao\\01. Programações & Controles\\016. Insumos\\Novo Fluxo Insumos\\export\""
   ]
  },
  {
   "cell_type": "code",
   "execution_count": null,
   "metadata": {},
   "outputs": [],
   "source": [
    "#Exportar as notas ficais\n",
    "\n",
    "def export_notas (notas_fiscais):\n",
    "    for i in notas_fiscais['EPS']:\n",
    "        notas_fiscais_filtro = notas_fiscais[notas_fiscais['EPS'] == i]\n",
    "        notas_fiscais_filtro.to_excel( os.path.join(caminho_output_export, f'notas_fiscais_{i}.xlsx'),sheet_name=f'notas_{i}', index=False)\n"
   ]
  },
  {
   "cell_type": "code",
   "execution_count": null,
   "metadata": {},
   "outputs": [],
   "source": [
    "export_notas(notas_fiscais=notas_fiscais)"
   ]
  },
  {
   "cell_type": "code",
   "execution_count": null,
   "metadata": {},
   "outputs": [],
   "source": [
    "eps_lista = []\n",
    "\n",
    "def excel_insumo(path, aba, nome_tabela, campo_filtro, valor_filtro, coluna_eps):\n",
    "    with xw.App(visible=False) as app:\n",
    "        \n",
    "        # Abrir o Excel\n",
    "        workbook = app.books.open(path, read_only=True)\n",
    "        worksheet = workbook.sheets[aba]\n",
    "       \n",
    "        # Acessar a Tabela Dinâmica\n",
    "        tabela_dinamica = worksheet.api.PivotTables(nome_tabela)\n",
    "\n",
    "        # # Aplicar filtro para o campo (ex: \"Status NF\")\n",
    "        # campo_filtro_obj = tabela_dinamica.PivotFields(campo_filtro)\n",
    "        # campo_filtro_obj.ClearAllFilters()\n",
    "        # campo_filtro_obj.CurrentPage = valor_filtro\n",
    "\n",
    "        #Listar itens do campo\n",
    "\n",
    "        campo_eps = tabela_dinamica.PivotFields(coluna_eps)\n",
    "        \n",
    "\n",
    "\n",
    "        \n",
    "        \n",
    "        itens = [item.Name for item in campo_eps.PivotItems()]\n",
    "\n",
    "        eps_lista.extend(itens)\n",
    "\n",
    "\n",
    "        for i in itens:\n",
    "            # Limpar filtros anteriores\n",
    "            campo_eps.ClearAllFilters()\n",
    "\n",
    "            # Iterar sobre os itens da coluna_eps e aplicar o filtro para cada um\n",
    "            for item in campo_eps.PivotItems():\n",
    "                if item.Name == i:\n",
    "                    item.Visible = True  # Exibir o item desejado\n",
    "                else:\n",
    "                    item.Visible = False  # Ocultar os itens que não são o desejado\n",
    "\n",
    "        \n",
    "            # Gerar caminho para salvar o PDF com o nome do item filtrado\n",
    "            caminho_pdf = caminho_output.replace(\".pdf\", f\"_{i}.pdf\")\n",
    "           \n",
    "\n",
    "            #Mudar a orientação da página\n",
    "                        \n",
    "            worksheet.api.PageSetup.FitToPagesWide = 1\n",
    "            \n",
    "            worksheet.api.PageSetup.Orientation = 2\n",
    "\n",
    "            worksheet.api.PageSetup.PaperSize = 8\n",
    "                      \n",
    "\n",
    "            worksheet.api.ExportAsFixedFormat(0, caminho_pdf)\n",
    "\n",
    "       "
   ]
  },
  {
   "cell_type": "code",
   "execution_count": 18,
   "metadata": {},
   "outputs": [],
   "source": [
    "excel_insumo(path=path_report, aba=aba_report, nome_tabela='SaldoNFS', campo_filtro='Status NF', valor_filtro='Pendente',coluna_eps='EPS')"
   ]
  },
  {
   "cell_type": "code",
   "execution_count": 19,
   "metadata": {},
   "outputs": [],
   "source": [
    "\n",
    "lista_itens = r\"F:\\Silvicultura\\01. SP\\PROCESSOS\\COI Silvicultura - Edicao\\01. Programações & Controles\\016. Insumos\\Novo Fluxo Insumos\\export\""
   ]
  },
  {
   "cell_type": "code",
   "execution_count": 20,
   "metadata": {},
   "outputs": [],
   "source": [
    "#Editar PDF\n",
    "\n",
    "def editar_pdf(caminho_pdf):\n",
    "    \n",
    "    for i in os.listdir(caminho_pdf):\n",
    "        if i.lower().endswith('.pdf'):\n",
    "\n",
    "\n",
    "            file = os.path.join(caminho_pdf, i)\n",
    "        \n",
    "            with open(file, 'rb') as pdf_file:\n",
    "                reader = pdf.PdfReader(pdf_file)\n",
    "                \n",
    "                writer = pdf.PdfWriter()\n",
    "\n",
    "                    # Iterar sobre as páginas e adicionar apenas as que não estão vazias\n",
    "                for page_number, page in enumerate(reader.pages, start=1):\n",
    "                    text = page.extract_text()\n",
    "\n",
    "                    # Adicionar a página ao novo PDF se não estiver vazia\n",
    "                    if text.strip():  # Verificar se a página contém texto\n",
    "                        writer.add_page(page)\n",
    "\n",
    "                with open(file, 'wb') as output_pdf:\n",
    "                    writer.write(output_pdf)\n",
    "\n",
    "editar_pdf(lista_itens)"
   ]
  },
  {
   "cell_type": "code",
   "execution_count": 21,
   "metadata": {},
   "outputs": [],
   "source": [
    "eps_lista = ['TESTE']"
   ]
  },
  {
   "cell_type": "code",
   "execution_count": 22,
   "metadata": {},
   "outputs": [],
   "source": [
    "def envio_email_pers(contatos, eps_lista,caminho_anexo):\n",
    "      # Mover para fora do loop para armazenar todos os e-mails\n",
    "    \n",
    "    for eps in eps_lista:\n",
    "\n",
    "\n",
    "        anexo = []\n",
    "\n",
    "        for arquivo in os.listdir(caminho_anexo):\n",
    "            if eps in arquivo and arquivo.lower().endswith('.pdf'):\n",
    "                caminho_anexo_envio = os.path.join(caminho_anexo, arquivo)\n",
    "                anexo.append(caminho_anexo_envio)\n",
    "        print(anexo)\n",
    "\n",
    "\n",
    "        anexo_xlsx = []\n",
    "\n",
    "        for arquivo in os.listdir(caminho_anexo):\n",
    "            if eps in arquivo and arquivo.lower().endswith('.xlsx'):\n",
    "                caminho_anexo_envio = os.path.join(caminho_anexo, arquivo)\n",
    "                anexo_xlsx.append(caminho_anexo_envio)\n",
    "        print(anexo_xlsx)\n",
    "\n",
    "\n",
    "\n",
    "        email_responsavel = []\n",
    "\n",
    "        for k, v in contatos.iterrows():\n",
    "          \n",
    "            if eps == v['EPS']:               \n",
    "\n",
    "                email_responsavel.append(v['Contatos EPS'])                \n",
    "\n",
    "                #emails_flat = [\"\".join(email) for email in email_responsavel]                \n",
    "\n",
    "                email_to = \" ; \".join(email_responsavel)\n",
    "                print(email_to)        \n",
    "\n",
    "        print(eps)\n",
    "\n",
    "\n",
    "        email = win32.Dispatch('Outlook.Application').CreateItem(0)\n",
    "        \n",
    "        email.To = email_to\n",
    "\n",
    "        email.Subject = assunto['Assunto'].iloc[0] + \" - \" + str(eps)\n",
    "\n",
    "        email.Body = corpo_email['Corpo do Email'].iloc[0] \n",
    "\n",
    "        email.CC = \" ; \".join(copia['Cópia'])\n",
    "\n",
    "        email.Attachments.Add(anexo[0])\n",
    "\n",
    "        email.Attachments.Add(anexo_xlsx[0])\n",
    "\n",
    "        email.Attachments.Add(path_anexo2)\n",
    "        \n",
    "        #Ativar quando camila estiver executando\n",
    "        email.SentOnBehalfOfName = \"insumo_silvi@bracell.com\"\n",
    "        \n",
    "\n",
    "\n",
    "\n",
    "\n",
    "        email.Send()\n",
    "\n",
    "        print(f'O e-mail foi enviado para a EPS {eps}')\n",
    "    #return email_responsavel\n"
   ]
  },
  {
   "cell_type": "code",
   "execution_count": 23,
   "metadata": {},
   "outputs": [
    {
     "name": "stdout",
     "output_type": "stream",
     "text": [
      "['F:\\\\Silvicultura\\\\01. SP\\\\PROCESSOS\\\\COI Silvicultura - Edicao\\\\01. Programações & Controles\\\\016. Insumos\\\\Novo Fluxo Insumos\\\\export\\\\Output_TESTE.pdf', 'F:\\\\Silvicultura\\\\01. SP\\\\PROCESSOS\\\\COI Silvicultura - Edicao\\\\01. Programações & Controles\\\\016. Insumos\\\\Novo Fluxo Insumos\\\\export\\\\TESTE.pdf']\n",
      "['F:\\\\Silvicultura\\\\01. SP\\\\PROCESSOS\\\\COI Silvicultura - Edicao\\\\01. Programações & Controles\\\\016. Insumos\\\\Novo Fluxo Insumos\\\\export\\\\notas_fiscais_TESTE.xlsx']\n",
      "gamoura@bracell.com\n",
      "TESTE\n",
      "O e-mail foi enviado para a EPS TESTE\n"
     ]
    }
   ],
   "source": [
    "envio_email_pers(contatos=contatos, eps_lista=eps_lista, caminho_anexo=lista_itens)"
   ]
  },
  {
   "cell_type": "code",
   "execution_count": 24,
   "metadata": {},
   "outputs": [],
   "source": [
    "sleep(30)"
   ]
  },
  {
   "cell_type": "code",
   "execution_count": 25,
   "metadata": {},
   "outputs": [],
   "source": [
    "# #Apagar PDF \n",
    "\n",
    "\n",
    "# def apagar_pdf(caminho_output):\n",
    "#     for i in os.listdir(caminho_output):\n",
    "#         os.remove(os.path.join(lista_itens,i))\n",
    "        \n",
    "\n",
    "# #apagar_pdf(remove_itens)"
   ]
  }
 ],
 "metadata": {
  "kernelspec": {
   "display_name": "Python 3",
   "language": "python",
   "name": "python3"
  },
  "language_info": {
   "codemirror_mode": {
    "name": "ipython",
    "version": 3
   },
   "file_extension": ".py",
   "mimetype": "text/x-python",
   "name": "python",
   "nbconvert_exporter": "python",
   "pygments_lexer": "ipython3",
   "version": "3.11.1"
  }
 },
 "nbformat": 4,
 "nbformat_minor": 2
}
