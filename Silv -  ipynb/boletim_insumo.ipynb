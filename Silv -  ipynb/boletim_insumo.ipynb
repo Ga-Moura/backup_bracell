{
 "cells": [
  {
   "cell_type": "code",
   "execution_count": 26,
   "metadata": {},
   "outputs": [],
   "source": [
    "import pandas as pd\n",
    "import psycopg2 as pg\n",
    "import configparser\n"
   ]
  },
  {
   "cell_type": "code",
   "execution_count": 27,
   "metadata": {},
   "outputs": [
    {
     "data": {
      "text/plain": [
       "'pt_BR.UTF-8'"
      ]
     },
     "execution_count": 27,
     "metadata": {},
     "output_type": "execute_result"
    }
   ],
   "source": [
    "import locale\n",
    "\n",
    "# Configurar o locale para o Brasil\n",
    "locale.setlocale(locale.LC_ALL, 'pt_BR.UTF-8')"
   ]
  },
  {
   "cell_type": "code",
   "execution_count": 28,
   "metadata": {},
   "outputs": [],
   "source": [
    "crendenciais_path = r'F:\\Silvicultura\\01. SP\\PROCESSOS\\COI Silvicultura - Edicao\\04. Pessoas\\Gabriel Moura\\00 - Silvicultura\\00 - Credenciais\\credenciais.conf'"
   ]
  },
  {
   "cell_type": "code",
   "execution_count": 29,
   "metadata": {},
   "outputs": [],
   "source": [
    "save_path = r'F:\\Silvicultura\\01. SP\\PROCESSOS\\COI Silvicultura - Edicao\\01. Programações & Controles\\016. Insumos\\Novo Fluxo Insumos\\ApontamentosSGF\\ApontamentoSGF.xlsx'"
   ]
  },
  {
   "cell_type": "code",
   "execution_count": 30,
   "metadata": {},
   "outputs": [],
   "source": [
    "#Senhas e credênciais \n",
    "\n",
    "credenciais = configparser.ConfigParser()\n",
    "\n",
    "credenciais.read(crendenciais_path)\n",
    "\n",
    "logins = credenciais['credenciais']\n",
    "\n",
    "\n",
    "conn_dwh = pg.connect(\n",
    "    user =logins['login'],\n",
    "    password =logins['senha_sql'],\n",
    "    host = logins['host'],\n",
    "    port = logins['port'],\n",
    "    database = logins['data_base']\n",
    ")"
   ]
  },
  {
   "cell_type": "code",
   "execution_count": 34,
   "metadata": {},
   "outputs": [],
   "source": [
    "cursor = conn_dwh.cursor()\n",
    "\n",
    "cursor.execute(\n",
    "\n",
    "\"\"\"\n",
    "select\n",
    "cd_boletim_insumo,\n",
    "qtd_utilizada,\n",
    "data_reg,\n",
    "est_reg,\n",
    "data_utilizacao,\n",
    "cd_boletim_silvicultura,\n",
    "cd_uso_solo,\n",
    "cd_processo,\n",
    "cd_material,\n",
    "cd_unidade,\n",
    "dcr_obs\n",
    "\n",
    "\n",
    "from forestry.f_ctl_boletim_insumo\n",
    "\n",
    "where \n",
    "\n",
    "source = 'BSP' and \n",
    "dcr_obs <> '' and\n",
    "data_reg >= '11/14/2024' and\n",
    "cd_material NOT IN (30, 39, 40, 55, 277, 257, 258, 259, 276, 268, 89, 93, 88, 90, 91, 92, 35, 33, 32, 31, 17, 246, 1, 37, 38, 94, 56, 34, 36);\n",
    "\n",
    "\n",
    "\"\"\"\n",
    "\n",
    ")\n",
    "\n",
    "dados_consulta = cursor.fetchall()\n",
    "\n",
    "cursor.close()\n",
    "\n",
    "\n",
    "colunas = [desc[0] for desc in cursor.description]\n",
    "\n",
    "colunas_maisculuas = [ str(i).upper() for i in colunas]\n",
    "\n",
    "\n",
    "\n",
    "ctl_boletim = pd.DataFrame(dados_consulta, columns=colunas_maisculuas)"
   ]
  },
  {
   "cell_type": "code",
   "execution_count": 32,
   "metadata": {},
   "outputs": [],
   "source": [
    "#Alterando o tipo de quantidade utilizada\n",
    "ctl_boletim['QTD_UTILIZADA'] = ctl_boletim['QTD_UTILIZADA'].astype('float')"
   ]
  },
  {
   "cell_type": "code",
   "execution_count": 33,
   "metadata": {},
   "outputs": [],
   "source": [
    "ctl_boletim.to_excel(save_path,index = False)"
   ]
  }
 ],
 "metadata": {
  "kernelspec": {
   "display_name": "Python 3",
   "language": "python",
   "name": "python3"
  },
  "language_info": {
   "codemirror_mode": {
    "name": "ipython",
    "version": 3
   },
   "file_extension": ".py",
   "mimetype": "text/x-python",
   "name": "python",
   "nbconvert_exporter": "python",
   "pygments_lexer": "ipython3",
   "version": "3.11.1"
  }
 },
 "nbformat": 4,
 "nbformat_minor": 2
}
