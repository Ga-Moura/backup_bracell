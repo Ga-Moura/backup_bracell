{
 "cells": [
  {
   "cell_type": "code",
   "execution_count": 174,
   "metadata": {},
   "outputs": [],
   "source": [
    "import pandas as pd\n",
    "import openpyxl as px\n",
    "import os\n",
    "import datetime as dt\n",
    "from matplotlib import pyplot as plt"
   ]
  },
  {
   "cell_type": "code",
   "execution_count": 175,
   "metadata": {},
   "outputs": [],
   "source": [
    "path_cadastro = r'F:\\Qualidade_Florestal\\03- ADMINISTRATIVO\\2023\\06- COLABORADORES\\Gabriel\\1 - Processamento de dados\\Cadastro Florestal.xlsx'"
   ]
  },
  {
   "cell_type": "code",
   "execution_count": 176,
   "metadata": {},
   "outputs": [],
   "source": [
    "path_adubacao_cob = r\"F:\\Qualidade_Florestal\\01- SÃO PAULO\\02- Silvicultura e Sobrevivência\\00 - Arquivos Surveys\\QLD_adubacao_de_cobertura.xlsx\""
   ]
  },
  {
   "cell_type": "code",
   "execution_count": 177,
   "metadata": {},
   "outputs": [],
   "source": [
    "path_formiga_dose = r\"F:\\Qualidade_Florestal\\01- SÃO PAULO\\02- Silvicultura e Sobrevivência\\00 - Arquivos Surveys\\QLD_formiga_manual_dosagem.xlsx\""
   ]
  },
  {
   "cell_type": "code",
   "execution_count": 178,
   "metadata": {},
   "outputs": [],
   "source": [
    "path_formiga_acomp = r\"F:\\Qualidade_Florestal\\01- SÃO PAULO\\02- Silvicultura e Sobrevivência\\00 - Arquivos Surveys\\QLD_formiga_manual_acompanhamento.xlsx\""
   ]
  },
  {
   "cell_type": "code",
   "execution_count": 179,
   "metadata": {},
   "outputs": [],
   "source": [
    "path_covas = r\"F:\\Qualidade_Florestal\\01- SÃO PAULO\\02- Silvicultura e Sobrevivência\\00 - Arquivos Surveys\\QLD_marcacao_covas_manual.xlsx\""
   ]
  },
  {
   "cell_type": "code",
   "execution_count": 180,
   "metadata": {},
   "outputs": [],
   "source": [
    "path_desbrota = r\"F:\\Qualidade_Florestal\\01- SÃO PAULO\\02- Silvicultura e Sobrevivência\\00 - Arquivos Surveys\\QLD_desbrota.xlsx\""
   ]
  },
  {
   "cell_type": "code",
   "execution_count": 181,
   "metadata": {},
   "outputs": [],
   "source": [
    "path_pulverizacao = r\"F:\\Qualidade_Florestal\\01- SÃO PAULO\\02- Silvicultura e Sobrevivência\\00 - Arquivos Surveys\\QLD_avaliacao_de_pulverizacao.xlsx\""
   ]
  },
  {
   "cell_type": "code",
   "execution_count": 182,
   "metadata": {},
   "outputs": [],
   "source": [
    "path_plantio = r\"F:\\Qualidade_Florestal\\01- SÃO PAULO\\02- Silvicultura e Sobrevivência\\00 - Arquivos Surveys\\QLD_plantio_operacional.xlsx\""
   ]
  },
  {
   "cell_type": "code",
   "execution_count": 183,
   "metadata": {},
   "outputs": [],
   "source": [
    "path_precisao = r\"F:\\Qualidade_Florestal\\01- SÃO PAULO\\02- Silvicultura e Sobrevivência\\00 - Arquivos Surveys\\QLD_adubacao_precisao_e_pulverizacao.xlsx\""
   ]
  },
  {
   "cell_type": "code",
   "execution_count": 184,
   "metadata": {},
   "outputs": [],
   "source": [
    "path_irrigacao = r\"F:\\Qualidade_Florestal\\01- SÃO PAULO\\02- Silvicultura e Sobrevivência\\00 - Arquivos Surveys\\QLD_irrigacao_silvicultura.xlsx\""
   ]
  },
  {
   "cell_type": "code",
   "execution_count": 185,
   "metadata": {},
   "outputs": [],
   "source": [
    "path_preparo = r\"F:\\Qualidade_Florestal\\01- SÃO PAULO\\02- Silvicultura e Sobrevivência\\00 - Arquivos Surveys\\QLD_preparo_de_solo.xlsx\""
   ]
  },
  {
   "cell_type": "code",
   "execution_count": 186,
   "metadata": {},
   "outputs": [],
   "source": [
    "path_calcario = r\"F:\\Qualidade_Florestal\\01- SÃO PAULO\\02- Silvicultura e Sobrevivência\\00 - Arquivos Surveys\\QLD_aplicacao_calcario.xlsx\""
   ]
  },
  {
   "cell_type": "code",
   "execution_count": 187,
   "metadata": {},
   "outputs": [],
   "source": [
    "path_cap_manual = r'F:\\Qualidade_Florestal\\01- SÃO PAULO\\02- Silvicultura e Sobrevivência\\00 - Arquivos Surveys\\QLD_capina_quimica_manual.xlsx'"
   ]
  },
  {
   "cell_type": "code",
   "execution_count": 188,
   "metadata": {},
   "outputs": [],
   "source": [
    "path_drone = r'F:\\Qualidade_Florestal\\01- SÃO PAULO\\02- Silvicultura e Sobrevivência\\00 - Arquivos Surveys\\QLD_pulverizacao_com_drone.xlsx'"
   ]
  },
  {
   "cell_type": "code",
   "execution_count": 189,
   "metadata": {},
   "outputs": [],
   "source": [
    "path_sobrevivencia = r'F:\\Qualidade_Florestal\\01- SÃO PAULO\\02- Silvicultura e Sobrevivência\\00 - Arquivos Surveys\\QLD_sobrevivencia_silvicultura.xlsx'"
   ]
  },
  {
   "cell_type": "code",
   "execution_count": 190,
   "metadata": {},
   "outputs": [],
   "source": [
    "path_de_para = r'\\\\GLWFS02.lwart.net\\LWC-FLORESTAL\\Qualidade_Florestal\\01- SÃO PAULO\\10- Planejamento e Controle 2°nível\\2023\\01 - Silvicultura\\01- Base de dados\\00 - Apontamento 2 nível produção\\de_para - 2º Nível.xlsx'"
   ]
  },
  {
   "cell_type": "code",
   "execution_count": 191,
   "metadata": {},
   "outputs": [],
   "source": [
    "###Cadastro####\n",
    "\n",
    "cadastro = pd.read_excel(path_cadastro)\n",
    "cadastro['Talhão'] = cadastro['Talhão'].fillna('').astype(str).str.split('.').str[0].str.zfill(3)\n",
    "cadastro['Id Projeto'] = cadastro['Id Projeto'].fillna('').astype(str).str.split('.').str[0].str.zfill(4)\n",
    "cadastro[\"Projeto e Talhão\"] = cadastro['Id Projeto']+ cadastro['Talhão']\n",
    "cadastro = cadastro[['Projeto e Talhão','Projeto','Área(ha)']]"
   ]
  },
  {
   "cell_type": "code",
   "execution_count": 192,
   "metadata": {},
   "outputs": [],
   "source": [
    "###Adubação e Pulverização de Precisão###\n",
    "\n",
    "adb_precisao = pd.read_excel(path_precisao)\n",
    "\n",
    "adb_precisao['id_talhao'] = adb_precisao['id_talhao'].fillna('').astype(str).str.split('.').str[0].str.zfill(3)\n",
    "adb_precisao['fazenda'] = adb_precisao['fazenda'].fillna('').astype(str).str.split('.').str[0].str.zfill(4)\n",
    "adb_precisao['operacao'] = \"Adubação & Pulverização de Precisão (Preparo de solo)\"\n",
    "adb_precisao['maquina'] = adb_precisao.apply(lambda x: x['outro_trator'] if x['trator'] == 'Outro' else x['trator'], axis = 1) \n",
    "adb_precisao['Avaliação realizada'] = 'SILVICULTURA'\n",
    "adb_precisao = adb_precisao[['fazenda', 'id_talhao','objectid', 'data_avaliacao', 'regiao', 'nivel', 'equipe', 'equipe_equilibrio','houve_acompanhamento', 'maquina','operacao','Avaliação realizada']]\n",
    "adb_precisao = adb_precisao.rename(columns={'data_avaliacao': 'data'})\n"
   ]
  },
  {
   "cell_type": "code",
   "execution_count": 193,
   "metadata": {},
   "outputs": [],
   "source": [
    "###Adubação de Cobertura###\n",
    "\n",
    "adb_cob = pd.read_excel(path_adubacao_cob)\n",
    "adb_cob['equipe'] = adb_cob.apply(lambda x: x['equipe_ms'] if pd.isnull(x['equipe_sp']) else x['equipe_sp'],axis=1)\n",
    "adb_cob['id_talhao'] = adb_cob['id_talhao'].fillna('').astype(str).str.split('.').str[0].str.zfill(3)\n",
    "adb_cob['fazenda'] = adb_cob['fazenda'].fillna('').astype(str).str.split('.').str[0].str.zfill(4)\n",
    "adb_cob['operacao'] = \"Adubação de Cobertura\"\n",
    "adb_cob['Avaliação realizada'] = 'SILVICULTURA'\n",
    "adb_cob = adb_cob.rename({'trator':'maquina'},axis=1)\n",
    "adb_cob = adb_cob[['fazenda','id_talhao','objectid' ,'data','regiao','nivel','equipe','equipe_equilibrio','acompanhamento','operacao', 'maquina','Avaliação realizada']]\n",
    "adb_cob = adb_cob.rename(columns={'acompanhamento': 'houve_acompanhamento'})\n",
    "\n",
    "#DF duplicado para manter duas bases, uma de produção e outra de apontamentos\n",
    "adb_cob_silv = adb_cob.copy()\n",
    "\n",
    "#gerar uma base cópia para criar um novo DF com as informações duplicadas\n",
    "\n",
    "#dropar colunas duplicadas\n",
    "#chave: objeto de locacao; operacao; equipe; mes operacional; maquina\n",
    "adb_cob = adb_cob.query('nivel == \"2° Nível\"') \n",
    "adb_cob = adb_cob.sort_values(['data'])\n",
    "adb_cob = adb_cob.drop_duplicates(subset=['fazenda','id_talhao','operacao'], keep= 'first')"
   ]
  },
  {
   "cell_type": "code",
   "execution_count": 194,
   "metadata": {},
   "outputs": [],
   "source": [
    "###Formiga Dose###\n",
    "form_dose = pd.read_excel(path_formiga_dose,sheet_name='Formiga_Manual_Dosagem')\n",
    "form_dose['talhao'] = form_dose['talhao'].fillna('').astype(str).str.split('.').str[0].str.zfill(3)\n",
    "form_dose['fazenda'] = form_dose['fazenda'].fillna('').astype(str).str.split('.').str[0].str.zfill(4)\n",
    "form_dose['operacao'] = \"Formiga Manual (somente dosagem)\"\n",
    "form_dose['maquina'] = None\n",
    "form_dose['Avaliação realizada'] = 'SILVICULTURA'\n",
    "form_dose = form_dose[['fazenda', 'talhao', 'objectid', 'data','regiao','nivel','equipe','equipe_equilibrio','houve_acompanhamento','operacao', 'maquina','Avaliação realizada']]\n",
    "form_dose = form_dose.rename(columns={'talhao':'id_talhao'})"
   ]
  },
  {
   "cell_type": "code",
   "execution_count": 195,
   "metadata": {},
   "outputs": [],
   "source": [
    "###Formiga Acompanhamento###\n",
    "form_acmp = pd.read_excel(path_formiga_acomp,sheet_name='QLD_formiga_manual_acompanhamen')\n",
    "form_acmp['talhao'] = form_acmp['talhao'].fillna('').astype(str).str.split('.').str[0].str.zfill(3)\n",
    "form_acmp['fazenda'] = form_acmp['fazenda'].fillna('').astype(str).str.split('.').str[0].str.zfill(4)\n",
    "form_acmp['operacao'] = \"Formiga Manual & Operacional\"\n",
    "form_acmp['maquina'] = None\n",
    "form_acmp['Avaliação realizada'] = 'SILVICULTURA'\n",
    "form_acmp = form_acmp[['fazenda', 'talhao', 'objectid', 'data','regiao','nivel','equipe','equipe_equilibrio','houve_acompanhamento','operacao','maquina','Avaliação realizada']]\n",
    "form_acmp = form_acmp.rename(columns={'talhao':'id_talhao'})\n"
   ]
  },
  {
   "cell_type": "code",
   "execution_count": 196,
   "metadata": {},
   "outputs": [],
   "source": [
    "###Irrigação###\n",
    "irrig = pd.read_excel(path_irrigacao, sheet_name= 'QLD_irrigacao_silvicultura')\n",
    "irrig['id_talhao'] = irrig['id_talhao'].fillna('').astype(str).str.split('.').str[0].str.zfill(3)\n",
    "irrig['fazenda'] = irrig['fazenda'].fillna('').astype(str).str.split('.').str[0].str.zfill(4)\n",
    "irrig['equipe'] = irrig.apply(lambda x: x['equipe_ms'] if pd.isnull(x['equipe_sp']) else x['equipe_sp'],axis=1)\n",
    "irrig['operacao'] = 'Irrigação' \n",
    "irrig = irrig.rename({'trator':'maquina'},axis=1)\n",
    "irrig['Avaliação realizada'] = 'SILVICULTURA'\n",
    "irrig_silv = irrig.copy()\n",
    "irrig_silv = irrig_silv[['fazenda', 'id_talhao', 'objectid', 'data','regiao','nivel','equipe','equipe_equilibrio','acompanhamento','operacao','maquina','Avaliação realizada']]\n",
    "irrig_silv = irrig_silv.rename(columns={'acompanhamento':'houve_acompanhamento'})\n",
    "\n",
    "#Chave, fazenda, Talhão e sequencia - Removendo duplicatas e mantendo o primeiro apontamento\n",
    "#Devido a sequencia de operação\n",
    "irrig = irrig.query('nivel == \"2° Nível\"')\n",
    "irrig = irrig.sort_values(['data'])\n",
    "irrig = irrig.drop_duplicates(['fazenda','id_talhao','sequencia'], keep='first')\n",
    "\n",
    "irrig = irrig[['fazenda', 'id_talhao', 'objectid', 'data','regiao','nivel','equipe','equipe_equilibrio','acompanhamento','operacao','maquina','Avaliação realizada']]\n",
    "irrig = irrig.rename(columns={'acompanhamento':'houve_acompanhamento'})\n"
   ]
  },
  {
   "cell_type": "code",
   "execution_count": 197,
   "metadata": {},
   "outputs": [],
   "source": [
    "###Plantio###\n",
    "plantio = pd.read_excel(path_plantio, sheet_name='QLD_plantio_operacional')\n",
    "plantio['talhao'] = plantio['talhao'].fillna('').astype(str).str.split('.').str[0].str.zfill(3)\n",
    "plantio['fazenda'] = plantio['fazenda'].fillna('').astype(str).str.split('.').str[0].str.zfill(4)\n",
    "plantio['operacao'] = 'Plantio'\n",
    "plantio['maquina'] = None\n",
    "plantio['Avaliação realizada'] = 'SILVICULTURA'\n",
    "plantio = plantio[['fazenda', 'talhao', 'objectid', 'data','regiao','nivel','equipe','equipe_equilibrio','houve_acompanhamento','operacao','maquina','Avaliação realizada']]\n",
    "plantio = plantio.rename(columns={'talhao': 'id_talhao'})"
   ]
  },
  {
   "cell_type": "code",
   "execution_count": 198,
   "metadata": {},
   "outputs": [],
   "source": [
    "###Pulverização###\n",
    "pulv = pd.read_excel(path_pulverizacao, sheet_name='QLD_avaliacao_de_pulverizacao')\n",
    "pulv['talhao'] = pulv['talhao'].fillna('').astype(str).str.split('.').str[0].str.zfill(3)\n",
    "pulv['fazenda'] = pulv['fazenda'].fillna('').astype(str).str.split('.').str[0].str.zfill(4)\n",
    "pulv['operacao'] = 'Pulverização'\n",
    "pulv = pulv.rename({'trator':'maquina'},axis=1)\n",
    "pulv['Avaliação realizada'] = 'SILVICULTURA'\n",
    "\n",
    "pulv_silv = pulv.copy()\n",
    "pulv_silv = pulv_silv[['fazenda', 'talhao', 'objectid', 'data','regiao','nivel','equipe','equipe_equilibrio','houve_acompanhamento','operacao','maquina','Avaliação realizada']]\n",
    "pulv_silv = pulv_silv.rename(columns={'talhao': 'id_talhao'})\n",
    "\n",
    "#Remover duplicatas da chave - fazenda, talhao, mês operacional\n",
    "#Criando apenas chave para remover a duplicata\n",
    "pulv['mes_operacional'] = pulv['data'].apply(lambda x: (\n",
    "    (x + dt.timedelta(days=11)).replace(day=1)\n",
    ").strftime('01/%m/%y') if x.day > 20 else (x.replace(day=1)).strftime('01/%m/%y'))\n",
    "\n",
    "\n",
    "pulv = pulv.query('nivel == \"2° Nível\"')\n",
    "\n",
    "pulv = pulv.sort_values('data')\n",
    "\n",
    "pulv['chave'] = pulv['fazenda'] + pulv['talhao'] + pulv['mes_operacional']\n",
    "\n",
    "pulv = pulv.drop_duplicates(['chave'],keep='first')\n",
    "\n",
    "pulv = pulv[['fazenda', 'talhao', 'objectid', 'data','regiao','nivel','equipe','equipe_equilibrio','houve_acompanhamento','operacao','maquina','Avaliação realizada']]\n",
    "pulv = pulv.rename(columns={'talhao': 'id_talhao'})\n"
   ]
  },
  {
   "cell_type": "code",
   "execution_count": 199,
   "metadata": {},
   "outputs": [],
   "source": [
    "###Preparo de Solos e Savannah###\n",
    "prep = pd.read_excel(path_preparo,sheet_name='QLD_preparo_de_solo')\n",
    "prep['talhao'] = prep['talhao'].fillna('').astype(str).str.split('.').str[0].str.zfill(3)\n",
    "prep['nome_fazenda'] = prep['nome_fazenda'].fillna('').astype(str).str.split('.').str[0].str.zfill(4)\n",
    "prep['equipe'] = prep.apply(lambda x:x['equipe_ms'] if pd.isnull(x['equipe_sp']) else x['equipe_sp'],axis=1)\n",
    "prep['operacao'] = 'Preparo de solo'\n",
    "prep['Avaliação realizada'] = 'SILVICULTURA'\n",
    "prep['maquina'] = prep.apply(lambda x: x['outro_trator'] if x['trator'] == 'outro' else x['trator'],axis = 1)\n",
    "prep = prep[['nome_fazenda', 'talhao', 'objectid', 'datahoje','regiao','nivel','equipe','equipe_equilibrio','acompanhamento','operacao', 'maquina','Avaliação realizada']]\n",
    "prep = prep.rename(columns={'datahoje':'data', 'nome_fazenda': 'fazenda', 'acompanhamento': 'houve_acompanhamento', 'talhao':'id_talhao'})"
   ]
  },
  {
   "cell_type": "code",
   "execution_count": 200,
   "metadata": {},
   "outputs": [],
   "source": [
    "###Desbrota###\n",
    "desb = pd.read_excel(path_desbrota,sheet_name='QLD_desbrota')\n",
    "desb['talhao'] = desb['talhao'].fillna('').astype(str).str.split('.').str[0].str.zfill(3)\n",
    "desb['fazenda'] = desb['fazenda'].fillna('').astype(str).str.split('.').str[0].str.zfill(4)\n",
    "desb['operacao'] = 'Desbrota'\n",
    "desb['maquina'] = None\n",
    "desb['Avaliação realizada'] = 'SILVICULTURA'\n",
    "desb = desb[['fazenda','talhao','objectid','data','regiao', 'nivel','equipe','equipe_equilibrio', 'houve_acompanhamento','operacao','maquina','Avaliação realizada']]\n",
    "desb = desb.rename(columns={'talhao':'id_talhao'})\n"
   ]
  },
  {
   "cell_type": "code",
   "execution_count": 201,
   "metadata": {},
   "outputs": [],
   "source": [
    "###Marcação de Covas###\n",
    "marc = pd.read_excel(path_covas, sheet_name='QLD_marcacao_covas_manual')\n",
    "marc['talhao'] = marc['talhao'].fillna('').astype(str).str.split('.').str[0].str.zfill(3)\n",
    "marc['fazenda'] = marc['fazenda'].fillna('').astype(str).str.split('.').str[0].str.zfill(4)\n",
    "marc['operacao'] = 'Marcação de Covas'\n",
    "marc['maquina'] = None\n",
    "marc['Avaliação realizada'] = 'SILVICULTURA'\n",
    "marc = marc[['fazenda','talhao','objectid','data','regiao', 'nivel','equipe','equipe_equilibrio','houve_acompanhamento','operacao', 'maquina','Avaliação realizada']]\n",
    "marc = marc.rename(columns={'talhao':'id_talhao'})\n"
   ]
  },
  {
   "cell_type": "code",
   "execution_count": 202,
   "metadata": {},
   "outputs": [],
   "source": [
    "###calcário###\n",
    "\n",
    "calc = pd.read_excel(path_calcario,sheet_name='QLD_aplicacao_calcario')\n",
    "calc['talhao'] = calc['talhao'].fillna('').astype(str).str.split('.').str[0].str.zfill(3)\n",
    "calc['fazenda'] = calc['fazenda'].fillna('').astype(str).str.split('.').str[0].str.zfill(4)\n",
    "calc['operacao'] = 'Calcário'\n",
    "calc['Avaliação realizada'] = 'SILVICULTURA'\n",
    "calc = calc.rename({'trator' : 'maquina'}, axis=1)\n",
    "calc = calc[['fazenda','talhao','objectid','data','regiao', 'nivel','equipe','equipe_equilibrio','houve_acompanhamento','operacao', 'maquina', 'Avaliação realizada']]\n",
    "calc = calc.rename(columns={'talhao':'id_talhao'})\n"
   ]
  },
  {
   "cell_type": "code",
   "execution_count": 203,
   "metadata": {},
   "outputs": [],
   "source": [
    "###Capina Quimica Manual###\n",
    "\n",
    "cap_man = pd.read_excel(path_cap_manual, sheet_name='QLD_capina_quimica_manual')\n",
    "cap_man['talhao'] = cap_man['talhao'].fillna('').astype(str).str.split(\".\").str[0].str.zfill(3)\n",
    "cap_man['fazenda'] = cap_man['fazenda'].fillna('').astype(str).str.split(\".\").str[0].str.zfill(4)\n",
    "cap_man['operacao'] = 'Capina Química Manual'\n",
    "cap_man['maquina'] = None\n",
    "cap_man['Avaliação realizada'] = 'SILVICULTURA'\n",
    "cap_man = cap_man[['fazenda','talhao','objectid','data','regiao','nivel','equipe','equipe_equilibrio','houve_acompanhamento','operacao', 'maquina', 'Avaliação realizada']]\n",
    "cap_man = cap_man.rename(columns={'talhao':'id_talhao'})\n",
    "#Não foi adicionado a Prod_silv por não ter apontamentos o suficiente"
   ]
  },
  {
   "cell_type": "code",
   "execution_count": 204,
   "metadata": {},
   "outputs": [],
   "source": [
    "###Pulverização com Drone###\n",
    "\n",
    "drone = pd.read_excel(path_drone,sheet_name='QLD_pulverizacao_com_drone')\n",
    "drone['talhao'] = drone['talhao'].fillna('').astype(str).str.split('.').str[0].str.zfill(3)\n",
    "drone['fazenda'] = drone['fazenda'].fillna('').astype(str).str.split(\".\").str[0].str.zfill(4)\n",
    "drone['operacao'] = \"Pulverização com Drone\"\n",
    "drone['maquina'] = None\n",
    "drone['Avaliação realizada'] =  'SILVICULTURA'\n",
    "drone = drone[['fazenda','talhao','objectid','data','regiao','nivel','equipe','equipe_equilibrio','houve_acompanhamento','operacao','maquina','Avaliação realizada']]\n",
    "drone = drone.rename(columns={'talhao':'id_talhao'})\n",
    "\n",
    "#Não foi adicionado a Prod_silv por não ter apontamentos o suficiente"
   ]
  },
  {
   "cell_type": "code",
   "execution_count": 205,
   "metadata": {},
   "outputs": [],
   "source": [
    "sobrevivencia = pd.read_excel(path_sobrevivencia,sheet_name='QLD_sobrevivencia_silvicultura')\n",
    "sobrevivencia['talhao'] = sobrevivencia['talhao'].fillna('').astype(str).str.split('.').str[0].str.zfill(3)\n",
    "sobrevivencia['nome_fazenda'] = sobrevivencia['nome_fazenda'].fillna('').astype(str).str.split('.').str[0].str.zfill(4)\n",
    "sobrevivencia['operacao'] = 'Sobrevivência'\n",
    "sobrevivencia['Avaliação realizada'] = 'SOBREVIVÊNCIA'\n",
    "sobrevivencia = sobrevivencia.rename({'nome_fazenda':'fazenda','datahoje':'data', 'acompanhamento':'houve_acompanhamento','talhao':'id_talhao'},axis=1)\n",
    "sobrevivencia = sobrevivencia[['fazenda','id_talhao','objectid','data','regiao','nivel','equipe','equipe_equilibrio','houve_acompanhamento','operacao','Avaliação realizada','descarte','motivo_descarte','avaliacao']]\n",
    "sobrevivencia['nivel'] = sobrevivencia['nivel'].replace({'2º Nível':'2° Nível'})\n"
   ]
  },
  {
   "cell_type": "code",
   "execution_count": 206,
   "metadata": {},
   "outputs": [],
   "source": [
    "###Juntando todas as bases - Produção Silvicultura###\n",
    "\n",
    "prod_2n = [prep,calc, marc, desb, pulv, plantio, irrig, form_acmp, form_dose, adb_precisao, adb_cob,sobrevivencia]\n",
    "\n",
    "prod_2n = pd.concat(prod_2n, ignore_index=True)\n",
    "\n",
    "prod_2n['fazenda'] = prod_2n.apply(lambda x: \"6\"+x['fazenda'][-3:] if x['regiao'] == \"MS\" and x['fazenda'][0] == \"2\" else x['fazenda'] , axis = 1)\n",
    "\n",
    "prod_2n['objeto de locacao'] = prod_2n['fazenda']+prod_2n['id_talhao']\n",
    "\n",
    "prod_2n['data'] = pd.to_datetime(prod_2n['data'], format='%d/%m/%y')\n",
    "\n",
    "prod_2n['mes_operacional'] = prod_2n['data'].apply(lambda x: (\n",
    "    (x + dt.timedelta(days=11)).replace(day=1)\n",
    ").strftime('01/%m/%y') if x.day > 20 else (x.replace(day=1)).strftime('01/%m/%y'))\n",
    "\n",
    "prod_2n['nivel'] = prod_2n['nivel'].replace({'1º Nível':'1° Nível'})\n",
    "\n",
    "prod_2n = prod_2n.merge(cadastro, left_on = 'objeto de locacao', right_on = 'Projeto e Talhão', how = 'left')\n",
    "\n",
    "prod_2n = prod_2n.rename(columns = {'objectid':'Código de identificação', 'operacao': 'Operação', 'id_talhao': 'Talhão', 'regiao': 'Região', 'nivel': 'Nível', 'mes_operacional': 'Mês Operacional'})\n",
    "\n",
    "prod_2n = prod_2n.drop('Projeto e Talhão', axis=1)\n",
    "\n",
    "prod_2n['week'] = prod_2n['data'].apply(lambda x: str(x.isocalendar()[1]) + \" - \" + str(x.strftime('%b')))\n",
    "\n",
    "###Filtro para apenas segundo nível e regiã SP###\n",
    "\n",
    "prod_2n = prod_2n.query(\"\"\"Nível == '2° Nível'\"\"\")\n",
    "\n",
    "prod_2n = prod_2n.query(\"\"\"Região == 'SP' \"\"\")"
   ]
  },
  {
   "cell_type": "code",
   "execution_count": 207,
   "metadata": {},
   "outputs": [],
   "source": [
    "### De para - 2º Nível###\n",
    "\n",
    "de_para_empresa = pd.read_excel(path_de_para, sheet_name=\"empresa_servico\")\n",
    "de_para_empresa = de_para_empresa[['de_empresa','para_empresa']]\n",
    "\n",
    "\n",
    "de_para_equipe_avl = pd.read_excel(path_de_para,sheet_name='equipe_avaliadora')\n",
    "de_para_equipe_avl = de_para_equipe_avl[['de_equipe','para_equipe']]\n",
    "\n",
    "\n",
    "de_para_operacao = pd.read_excel(path_de_para, sheet_name='operacao')\n",
    "de_para_operacao = de_para_operacao[['de_operacao','para_operacao']]\n",
    "\n",
    "\n",
    "prod_2n = prod_2n.merge(de_para_operacao[['para_operacao','de_operacao']], left_on='Operação', right_on='de_operacao', how='left').drop(columns=['de_operacao'],axis=1)\n",
    "prod_2n = prod_2n.merge(de_para_empresa[['para_empresa','de_empresa']], left_on='equipe', right_on='de_empresa', how='left').drop(columns=['de_empresa'],axis=1)\n",
    "prod_2n = prod_2n.merge(de_para_equipe_avl[['de_equipe','para_equipe']], left_on='equipe_equilibrio', right_on='de_equipe',how='left').drop(columns=['de_equipe'],axis=1)"
   ]
  },
  {
   "cell_type": "code",
   "execution_count": 208,
   "metadata": {},
   "outputs": [],
   "source": [
    "#Apenas para ver os apontamentos duplicados\n",
    "#Apenas  \n",
    "\n",
    "prod_op = prod_2n.groupby(by = ['objeto de locacao', 'Operação', 'equipe', 'Mês Operacional','maquina']).size().reset_index(name = 'nº de avaliações')"
   ]
  },
  {
   "cell_type": "code",
   "execution_count": 209,
   "metadata": {},
   "outputs": [
    {
     "ename": "FileCreateError",
     "evalue": "[Errno 28] No space left on device",
     "output_type": "error",
     "traceback": [
      "\u001b[1;31m---------------------------------------------------------------------------\u001b[0m",
      "\u001b[1;31mOSError\u001b[0m                                   Traceback (most recent call last)",
      "File \u001b[1;32mc:\\Users\\gamoura.AMCNET\\AppData\\Local\\Programs\\Python\\Python311\\Lib\\site-packages\\xlsxwriter\\workbook.py:322\u001b[0m, in \u001b[0;36mWorkbook.close\u001b[1;34m(self)\u001b[0m\n\u001b[0;32m    321\u001b[0m \u001b[38;5;28;01mtry\u001b[39;00m:\n\u001b[1;32m--> 322\u001b[0m     \u001b[38;5;28;43mself\u001b[39;49m\u001b[38;5;241;43m.\u001b[39;49m\u001b[43m_store_workbook\u001b[49m\u001b[43m(\u001b[49m\u001b[43m)\u001b[49m\n\u001b[0;32m    323\u001b[0m \u001b[38;5;28;01mexcept\u001b[39;00m \u001b[38;5;167;01mIOError\u001b[39;00m \u001b[38;5;28;01mas\u001b[39;00m e:\n",
      "File \u001b[1;32mc:\\Users\\gamoura.AMCNET\\AppData\\Local\\Programs\\Python\\Python311\\Lib\\site-packages\\xlsxwriter\\workbook.py:746\u001b[0m, in \u001b[0;36mWorkbook._store_workbook\u001b[1;34m(self)\u001b[0m\n\u001b[0;32m    745\u001b[0m \u001b[38;5;28;01mtry\u001b[39;00m:\n\u001b[1;32m--> 746\u001b[0m     \u001b[43mxlsx_file\u001b[49m\u001b[38;5;241;43m.\u001b[39;49m\u001b[43mwrite\u001b[49m\u001b[43m(\u001b[49m\u001b[43mos_filename\u001b[49m\u001b[43m,\u001b[49m\u001b[43m \u001b[49m\u001b[43mxml_filename\u001b[49m\u001b[43m)\u001b[49m\n\u001b[0;32m    747\u001b[0m     os\u001b[38;5;241m.\u001b[39mremove(os_filename)\n",
      "File \u001b[1;32mc:\\Users\\gamoura.AMCNET\\AppData\\Local\\Programs\\Python\\Python311\\Lib\\zipfile.py:1790\u001b[0m, in \u001b[0;36mZipFile.write\u001b[1;34m(self, filename, arcname, compress_type, compresslevel)\u001b[0m\n\u001b[0;32m   1789\u001b[0m \u001b[38;5;28;01mwith\u001b[39;00m \u001b[38;5;28mopen\u001b[39m(filename, \u001b[38;5;124m\"\u001b[39m\u001b[38;5;124mrb\u001b[39m\u001b[38;5;124m\"\u001b[39m) \u001b[38;5;28;01mas\u001b[39;00m src, \u001b[38;5;28mself\u001b[39m\u001b[38;5;241m.\u001b[39mopen(zinfo, \u001b[38;5;124m'\u001b[39m\u001b[38;5;124mw\u001b[39m\u001b[38;5;124m'\u001b[39m) \u001b[38;5;28;01mas\u001b[39;00m dest:\n\u001b[1;32m-> 1790\u001b[0m     \u001b[43mshutil\u001b[49m\u001b[38;5;241;43m.\u001b[39;49m\u001b[43mcopyfileobj\u001b[49m\u001b[43m(\u001b[49m\u001b[43msrc\u001b[49m\u001b[43m,\u001b[49m\u001b[43m \u001b[49m\u001b[43mdest\u001b[49m\u001b[43m,\u001b[49m\u001b[43m \u001b[49m\u001b[38;5;241;43m1024\u001b[39;49m\u001b[38;5;241;43m*\u001b[39;49m\u001b[38;5;241;43m8\u001b[39;49m\u001b[43m)\u001b[49m\n",
      "File \u001b[1;32mc:\\Users\\gamoura.AMCNET\\AppData\\Local\\Programs\\Python\\Python311\\Lib\\shutil.py:200\u001b[0m, in \u001b[0;36mcopyfileobj\u001b[1;34m(fsrc, fdst, length)\u001b[0m\n\u001b[0;32m    199\u001b[0m     \u001b[38;5;28;01mbreak\u001b[39;00m\n\u001b[1;32m--> 200\u001b[0m \u001b[43mfdst_write\u001b[49m\u001b[43m(\u001b[49m\u001b[43mbuf\u001b[49m\u001b[43m)\u001b[49m\n",
      "File \u001b[1;32mc:\\Users\\gamoura.AMCNET\\AppData\\Local\\Programs\\Python\\Python311\\Lib\\zipfile.py:1165\u001b[0m, in \u001b[0;36m_ZipWriteFile.write\u001b[1;34m(self, data)\u001b[0m\n\u001b[0;32m   1164\u001b[0m     \u001b[38;5;28mself\u001b[39m\u001b[38;5;241m.\u001b[39m_compress_size \u001b[38;5;241m+\u001b[39m\u001b[38;5;241m=\u001b[39m \u001b[38;5;28mlen\u001b[39m(data)\n\u001b[1;32m-> 1165\u001b[0m \u001b[38;5;28mself\u001b[39m\u001b[38;5;241m.\u001b[39m_fileobj\u001b[38;5;241m.\u001b[39mwrite(data)\n\u001b[0;32m   1166\u001b[0m \u001b[38;5;28;01mreturn\u001b[39;00m nbytes\n",
      "\u001b[1;31mOSError\u001b[0m: [Errno 28] No space left on device",
      "\nDuring handling of the above exception, another exception occurred:\n",
      "\u001b[1;31mFileCreateError\u001b[0m                           Traceback (most recent call last)",
      "Cell \u001b[1;32mIn[209], line 3\u001b[0m\n\u001b[0;32m      1\u001b[0m path_producao_2n \u001b[38;5;241m=\u001b[39m\u001b[38;5;124mr\u001b[39m\u001b[38;5;124m'\u001b[39m\u001b[38;5;124mF:\u001b[39m\u001b[38;5;124m\\\u001b[39m\u001b[38;5;124mQualidade_Florestal\u001b[39m\u001b[38;5;124m\\\u001b[39m\u001b[38;5;124m01- SÃO PAULO\u001b[39m\u001b[38;5;124m\\\u001b[39m\u001b[38;5;124m10- Planejamento e Controle 2°nível\u001b[39m\u001b[38;5;124m\\\u001b[39m\u001b[38;5;124m2023\u001b[39m\u001b[38;5;124m\\\u001b[39m\u001b[38;5;124m01 - Silvicultura\u001b[39m\u001b[38;5;124m\\\u001b[39m\u001b[38;5;124m01- Base de dados\u001b[39m\u001b[38;5;124m\\\u001b[39m\u001b[38;5;124m00 - Apontamento 2 nível produção\u001b[39m\u001b[38;5;124m\\\u001b[39m\u001b[38;5;124mApontamentos de Produção 2°Nível.xlsx\u001b[39m\u001b[38;5;124m'\u001b[39m\n\u001b[1;32m----> 3\u001b[0m \u001b[43mprod_2n\u001b[49m\u001b[38;5;241;43m.\u001b[39;49m\u001b[43mto_excel\u001b[49m\u001b[43m(\u001b[49m\u001b[43mpath_producao_2n\u001b[49m\u001b[43m,\u001b[49m\u001b[43m \u001b[49m\u001b[43mindex\u001b[49m\u001b[38;5;241;43m=\u001b[39;49m\u001b[43m \u001b[49m\u001b[38;5;28;43;01mFalse\u001b[39;49;00m\u001b[43m)\u001b[49m\n",
      "File \u001b[1;32mc:\\Users\\gamoura.AMCNET\\AppData\\Local\\Programs\\Python\\Python311\\Lib\\site-packages\\pandas\\util\\_decorators.py:333\u001b[0m, in \u001b[0;36mdeprecate_nonkeyword_arguments.<locals>.decorate.<locals>.wrapper\u001b[1;34m(*args, **kwargs)\u001b[0m\n\u001b[0;32m    327\u001b[0m \u001b[38;5;28;01mif\u001b[39;00m \u001b[38;5;28mlen\u001b[39m(args) \u001b[38;5;241m>\u001b[39m num_allow_args:\n\u001b[0;32m    328\u001b[0m     warnings\u001b[38;5;241m.\u001b[39mwarn(\n\u001b[0;32m    329\u001b[0m         msg\u001b[38;5;241m.\u001b[39mformat(arguments\u001b[38;5;241m=\u001b[39m_format_argument_list(allow_args)),\n\u001b[0;32m    330\u001b[0m         \u001b[38;5;167;01mFutureWarning\u001b[39;00m,\n\u001b[0;32m    331\u001b[0m         stacklevel\u001b[38;5;241m=\u001b[39mfind_stack_level(),\n\u001b[0;32m    332\u001b[0m     )\n\u001b[1;32m--> 333\u001b[0m \u001b[38;5;28;01mreturn\u001b[39;00m \u001b[43mfunc\u001b[49m\u001b[43m(\u001b[49m\u001b[38;5;241;43m*\u001b[39;49m\u001b[43margs\u001b[49m\u001b[43m,\u001b[49m\u001b[43m \u001b[49m\u001b[38;5;241;43m*\u001b[39;49m\u001b[38;5;241;43m*\u001b[39;49m\u001b[43mkwargs\u001b[49m\u001b[43m)\u001b[49m\n",
      "File \u001b[1;32mc:\\Users\\gamoura.AMCNET\\AppData\\Local\\Programs\\Python\\Python311\\Lib\\site-packages\\pandas\\core\\generic.py:2417\u001b[0m, in \u001b[0;36mNDFrame.to_excel\u001b[1;34m(self, excel_writer, sheet_name, na_rep, float_format, columns, header, index, index_label, startrow, startcol, engine, merge_cells, inf_rep, freeze_panes, storage_options, engine_kwargs)\u001b[0m\n\u001b[0;32m   2404\u001b[0m \u001b[38;5;28;01mfrom\u001b[39;00m \u001b[38;5;21;01mpandas\u001b[39;00m\u001b[38;5;21;01m.\u001b[39;00m\u001b[38;5;21;01mio\u001b[39;00m\u001b[38;5;21;01m.\u001b[39;00m\u001b[38;5;21;01mformats\u001b[39;00m\u001b[38;5;21;01m.\u001b[39;00m\u001b[38;5;21;01mexcel\u001b[39;00m \u001b[38;5;28;01mimport\u001b[39;00m ExcelFormatter\n\u001b[0;32m   2406\u001b[0m formatter \u001b[38;5;241m=\u001b[39m ExcelFormatter(\n\u001b[0;32m   2407\u001b[0m     df,\n\u001b[0;32m   2408\u001b[0m     na_rep\u001b[38;5;241m=\u001b[39mna_rep,\n\u001b[1;32m   (...)\u001b[0m\n\u001b[0;32m   2415\u001b[0m     inf_rep\u001b[38;5;241m=\u001b[39minf_rep,\n\u001b[0;32m   2416\u001b[0m )\n\u001b[1;32m-> 2417\u001b[0m \u001b[43mformatter\u001b[49m\u001b[38;5;241;43m.\u001b[39;49m\u001b[43mwrite\u001b[49m\u001b[43m(\u001b[49m\n\u001b[0;32m   2418\u001b[0m \u001b[43m    \u001b[49m\u001b[43mexcel_writer\u001b[49m\u001b[43m,\u001b[49m\n\u001b[0;32m   2419\u001b[0m \u001b[43m    \u001b[49m\u001b[43msheet_name\u001b[49m\u001b[38;5;241;43m=\u001b[39;49m\u001b[43msheet_name\u001b[49m\u001b[43m,\u001b[49m\n\u001b[0;32m   2420\u001b[0m \u001b[43m    \u001b[49m\u001b[43mstartrow\u001b[49m\u001b[38;5;241;43m=\u001b[39;49m\u001b[43mstartrow\u001b[49m\u001b[43m,\u001b[49m\n\u001b[0;32m   2421\u001b[0m \u001b[43m    \u001b[49m\u001b[43mstartcol\u001b[49m\u001b[38;5;241;43m=\u001b[39;49m\u001b[43mstartcol\u001b[49m\u001b[43m,\u001b[49m\n\u001b[0;32m   2422\u001b[0m \u001b[43m    \u001b[49m\u001b[43mfreeze_panes\u001b[49m\u001b[38;5;241;43m=\u001b[39;49m\u001b[43mfreeze_panes\u001b[49m\u001b[43m,\u001b[49m\n\u001b[0;32m   2423\u001b[0m \u001b[43m    \u001b[49m\u001b[43mengine\u001b[49m\u001b[38;5;241;43m=\u001b[39;49m\u001b[43mengine\u001b[49m\u001b[43m,\u001b[49m\n\u001b[0;32m   2424\u001b[0m \u001b[43m    \u001b[49m\u001b[43mstorage_options\u001b[49m\u001b[38;5;241;43m=\u001b[39;49m\u001b[43mstorage_options\u001b[49m\u001b[43m,\u001b[49m\n\u001b[0;32m   2425\u001b[0m \u001b[43m    \u001b[49m\u001b[43mengine_kwargs\u001b[49m\u001b[38;5;241;43m=\u001b[39;49m\u001b[43mengine_kwargs\u001b[49m\u001b[43m,\u001b[49m\n\u001b[0;32m   2426\u001b[0m \u001b[43m\u001b[49m\u001b[43m)\u001b[49m\n",
      "File \u001b[1;32mc:\\Users\\gamoura.AMCNET\\AppData\\Local\\Programs\\Python\\Python311\\Lib\\site-packages\\pandas\\io\\formats\\excel.py:962\u001b[0m, in \u001b[0;36mExcelFormatter.write\u001b[1;34m(self, writer, sheet_name, startrow, startcol, freeze_panes, engine, storage_options, engine_kwargs)\u001b[0m\n\u001b[0;32m    959\u001b[0m \u001b[38;5;28;01mfinally\u001b[39;00m:\n\u001b[0;32m    960\u001b[0m     \u001b[38;5;66;03m# make sure to close opened file handles\u001b[39;00m\n\u001b[0;32m    961\u001b[0m     \u001b[38;5;28;01mif\u001b[39;00m need_save:\n\u001b[1;32m--> 962\u001b[0m         \u001b[43mwriter\u001b[49m\u001b[38;5;241;43m.\u001b[39;49m\u001b[43mclose\u001b[49m\u001b[43m(\u001b[49m\u001b[43m)\u001b[49m\n",
      "File \u001b[1;32mc:\\Users\\gamoura.AMCNET\\AppData\\Local\\Programs\\Python\\Python311\\Lib\\site-packages\\pandas\\io\\excel\\_base.py:1357\u001b[0m, in \u001b[0;36mExcelWriter.close\u001b[1;34m(self)\u001b[0m\n\u001b[0;32m   1355\u001b[0m \u001b[38;5;28;01mdef\u001b[39;00m \u001b[38;5;21mclose\u001b[39m(\u001b[38;5;28mself\u001b[39m) \u001b[38;5;241m-\u001b[39m\u001b[38;5;241m>\u001b[39m \u001b[38;5;28;01mNone\u001b[39;00m:\n\u001b[0;32m   1356\u001b[0m \u001b[38;5;250m    \u001b[39m\u001b[38;5;124;03m\"\"\"synonym for save, to make it more file-like\"\"\"\u001b[39;00m\n\u001b[1;32m-> 1357\u001b[0m     \u001b[38;5;28;43mself\u001b[39;49m\u001b[38;5;241;43m.\u001b[39;49m\u001b[43m_save\u001b[49m\u001b[43m(\u001b[49m\u001b[43m)\u001b[49m\n\u001b[0;32m   1358\u001b[0m     \u001b[38;5;28mself\u001b[39m\u001b[38;5;241m.\u001b[39m_handles\u001b[38;5;241m.\u001b[39mclose()\n",
      "File \u001b[1;32mc:\\Users\\gamoura.AMCNET\\AppData\\Local\\Programs\\Python\\Python311\\Lib\\site-packages\\pandas\\io\\excel\\_xlsxwriter.py:239\u001b[0m, in \u001b[0;36mXlsxWriter._save\u001b[1;34m(self)\u001b[0m\n\u001b[0;32m    235\u001b[0m \u001b[38;5;28;01mdef\u001b[39;00m \u001b[38;5;21m_save\u001b[39m(\u001b[38;5;28mself\u001b[39m) \u001b[38;5;241m-\u001b[39m\u001b[38;5;241m>\u001b[39m \u001b[38;5;28;01mNone\u001b[39;00m:\n\u001b[0;32m    236\u001b[0m \u001b[38;5;250m    \u001b[39m\u001b[38;5;124;03m\"\"\"\u001b[39;00m\n\u001b[0;32m    237\u001b[0m \u001b[38;5;124;03m    Save workbook to disk.\u001b[39;00m\n\u001b[0;32m    238\u001b[0m \u001b[38;5;124;03m    \"\"\"\u001b[39;00m\n\u001b[1;32m--> 239\u001b[0m     \u001b[38;5;28;43mself\u001b[39;49m\u001b[38;5;241;43m.\u001b[39;49m\u001b[43mbook\u001b[49m\u001b[38;5;241;43m.\u001b[39;49m\u001b[43mclose\u001b[49m\u001b[43m(\u001b[49m\u001b[43m)\u001b[49m\n",
      "File \u001b[1;32mc:\\Users\\gamoura.AMCNET\\AppData\\Local\\Programs\\Python\\Python311\\Lib\\site-packages\\xlsxwriter\\workbook.py:324\u001b[0m, in \u001b[0;36mWorkbook.close\u001b[1;34m(self)\u001b[0m\n\u001b[0;32m    322\u001b[0m     \u001b[38;5;28mself\u001b[39m\u001b[38;5;241m.\u001b[39m_store_workbook()\n\u001b[0;32m    323\u001b[0m \u001b[38;5;28;01mexcept\u001b[39;00m \u001b[38;5;167;01mIOError\u001b[39;00m \u001b[38;5;28;01mas\u001b[39;00m e:\n\u001b[1;32m--> 324\u001b[0m     \u001b[38;5;28;01mraise\u001b[39;00m FileCreateError(e)\n\u001b[0;32m    325\u001b[0m \u001b[38;5;28;01mexcept\u001b[39;00m LargeZipFile:\n\u001b[0;32m    326\u001b[0m     \u001b[38;5;28;01mraise\u001b[39;00m FileSizeError(\n\u001b[0;32m    327\u001b[0m         \u001b[38;5;124m\"\u001b[39m\u001b[38;5;124mFilesize would require ZIP64 extensions. \u001b[39m\u001b[38;5;124m\"\u001b[39m\n\u001b[0;32m    328\u001b[0m         \u001b[38;5;124m\"\u001b[39m\u001b[38;5;124mUse workbook.use_zip64().\u001b[39m\u001b[38;5;124m\"\u001b[39m\n\u001b[0;32m    329\u001b[0m     )\n",
      "\u001b[1;31mFileCreateError\u001b[0m: [Errno 28] No space left on device"
     ]
    }
   ],
   "source": [
    "path_producao_2n =r'F:\\Qualidade_Florestal\\01- SÃO PAULO\\10- Planejamento e Controle 2°nível\\2023\\01 - Silvicultura\\01- Base de dados\\00 - Apontamento 2 nível produção\\Apontamentos de Produção 2°Nível.xlsx'\n",
    "\n",
    "prod_2n.to_excel(path_producao_2n, index= False)\n",
    "\n"
   ]
  },
  {
   "cell_type": "code",
   "execution_count": null,
   "metadata": {},
   "outputs": [],
   "source": [
    "###Juntando todas as bases - Produção Silvicultura###\n",
    "\n",
    "#Bases: irrig_silv; adb_cob_silv; pulv_silv\n",
    "\n",
    "prod_silv = [prep,calc, marc, desb, pulv_silv, plantio, irrig_silv, form_acmp, form_dose, adb_precisao, adb_cob_silv,sobrevivencia]\n",
    "\n",
    "prod_silv = pd.concat(prod_silv, ignore_index=True)\n",
    "\n",
    "prod_silv['fazenda'] = prod_silv.apply(lambda x: \"6\"+x['fazenda'][-3:] if x['regiao'] == \"MS\" and x['fazenda'][0] == \"2\" else x['fazenda'] , axis = 1)\n",
    "\n",
    "prod_silv['objeto de locacao'] = prod_silv['fazenda']+prod_silv['id_talhao']\n",
    "\n",
    "prod_silv['data'] = pd.to_datetime(prod_silv['data'], format='%d/%m/%y')\n",
    "\n",
    "prod_silv['mes_operacional'] = prod_silv['data'].apply(lambda x: (\n",
    "    (x + dt.timedelta(days=11)).replace(day=1)\n",
    ").strftime('01/%m/%y') if x.day > 20 else (x.replace(day=1)).strftime('01/%m/%y'))\n",
    "\n",
    "prod_silv['nivel'] = prod_silv['nivel'].replace({'1º Nível':'1° Nível'})\n",
    "\n",
    "prod_silv = prod_silv.merge(cadastro, left_on = 'objeto de locacao', right_on = 'Projeto e Talhão', how = 'left')\n",
    "\n",
    "prod_silv = prod_silv.rename(columns = {'objectid':'Código de identificação', 'operacao': 'Operação', 'id_talhao': 'Talhão', 'regiao': 'Região', 'nivel': 'Nível', 'mes_operacional': 'Mês Operacional'})\n",
    "\n",
    "prod_silv = prod_silv.drop('Projeto e Talhão', axis=1)\n",
    "\n",
    "prod_silv['week'] = prod_silv['data'].apply(lambda x: str(x.isocalendar()[1]) + \" - \" + str(x.strftime('%b')))\n",
    "\n",
    "###Filtro para apenas segundo nível e regiã SP###\n",
    "\n",
    "prod_silv = prod_silv.query(\"\"\"Nível == '2° Nível'\"\"\")\n"
   ]
  },
  {
   "cell_type": "code",
   "execution_count": null,
   "metadata": {},
   "outputs": [],
   "source": [
    "path_save =r'F:\\Qualidade_Florestal\\01- SÃO PAULO\\10- Planejamento e Controle 2°nível\\2023\\01 - Silvicultura\\01- Base de dados\\00 - Apontamento 2 nível produção\\Apontamentos de Silvicultura 2°Nível.xlsx'\n",
    "\n",
    "prod_silv.to_excel(path_save, index = False)\n"
   ]
  },
  {
   "cell_type": "code",
   "execution_count": null,
   "metadata": {},
   "outputs": [],
   "source": [
    "prod_silv"
   ]
  }
 ],
 "metadata": {
  "kernelspec": {
   "display_name": "Python 3",
   "language": "python",
   "name": "python3"
  },
  "language_info": {
   "codemirror_mode": {
    "name": "ipython",
    "version": 3
   },
   "file_extension": ".py",
   "mimetype": "text/x-python",
   "name": "python",
   "nbconvert_exporter": "python",
   "pygments_lexer": "ipython3",
   "version": "3.11.1"
  },
  "orig_nbformat": 4
 },
 "nbformat": 4,
 "nbformat_minor": 2
}
