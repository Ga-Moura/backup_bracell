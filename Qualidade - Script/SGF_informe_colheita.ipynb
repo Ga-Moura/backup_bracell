{
 "cells": [
  {
   "cell_type": "code",
   "execution_count": 1,
   "metadata": {},
   "outputs": [],
   "source": [
    "import selenium\n",
    "from selenium import webdriver\n",
    "from time import sleep\n",
    "import pandas as pd\n",
    "from selenium.webdriver.support.ui import WebDriverWait\n",
    "from selenium.webdriver.support import expected_conditions as EC\n",
    "from selenium.webdriver.common.by import By\n",
    "from selenium.webdriver.common.action_chains import ActionChains\n",
    "import zipfile as zf\n",
    "import os\n",
    "import shutil\n",
    "import xlsxwriter\n",
    "import datetime"
   ]
  },
  {
   "cell_type": "code",
   "execution_count": 6,
   "metadata": {},
   "outputs": [],
   "source": [
    "#criando o web driver\n",
    "options = webdriver.ChromeOptions()\n",
    "\n",
    "#atualizando a preferência\n",
    "prefs = {\"download.default_directory\": r\"F:\\Qualidade_Florestal\\03- ADMINISTRATIVO\\2023\\06- COLABORADORES\\Gabriel\\1 - Processamento de dados\"}\n",
    "\n",
    "#definindo que a nova preferência seja atualizada\n",
    "options.add_experimental_option(\"prefs\", prefs)\n",
    "\n",
    "#definindo que o webdriver.chrome deve vir com as definições options\n",
    "nav = webdriver.Chrome(options=options)"
   ]
  },
  {
   "cell_type": "code",
   "execution_count": 7,
   "metadata": {},
   "outputs": [
    {
     "name": "stdout",
     "output_type": "stream",
     "text": [
      "Tentativa: 1, elemento não encontrado\n",
      "Tentativa: 2, elemento não encontrado\n"
     ]
    }
   ],
   "source": [
    "\n",
    "\n",
    "num_repeats = 4\n",
    "\n",
    "chances = 0\n",
    "\n",
    "while chances < num_repeats:\n",
    "\n",
    "    try:\n",
    "\n",
    "\n",
    "        link = r'https://sgf-sp.bracell.com/sgf/'\n",
    "        login = 'gamoura'\n",
    "        password = 'Marte.04'\n",
    "        #mazimizando a janela\n",
    "\n",
    "        nav.maximize_window()\n",
    "        #abrindo site\n",
    "        nav.get(link)\n",
    "        sleep(2)\n",
    "        nav.find_element('xpath', '//*[@id=\"txtLogin\"]').send_keys(login)\n",
    "        sleep(2)\n",
    "        nav.find_element('xpath','//*[@id=\"txtSenha\"]').send_keys(password)\n",
    "        sleep(2)\n",
    "        nav.find_element('xpath','//*[@id=\"btnOk\"]').click()\n",
    "        sleep(3)\n",
    "        nav.find_element('xpath', '//*[@id=\"imbModuloP2\"]').click()\n",
    "        sleep(2)\n",
    "        \n",
    "        element = WebDriverWait(nav, 10).until(EC.presence_of_element_located((By.XPATH, '//*[@id=\"IcMessage\"]/table/tbody/tr/td[2]/div/img')))\n",
    "        sleep(5)\n",
    "        element.click()\n",
    "        sleep(5)\n",
    "        nav.find_element('xpath','//*[@id=\"Menu1-menuItem000\"]/div').click()\n",
    "        sleep(5)\n",
    "        element1= WebDriverWait(nav,5).until(EC.presence_of_element_located((By.XPATH,'//*[@id=\"Menu1-menuItem000-subMenu-menuItem000\"]')))\n",
    "        element1.click()\n",
    "        sleep(5)\n",
    "        element2 = WebDriverWait(nav,5).until(EC.presence_of_element_located((By.XPATH, '//*[@id=\"Menu1-menuItem000-subMenu-menuItem000-subMenu-menuItem001\"]')))\n",
    "        element2.click()\n",
    "        sleep(5)\n",
    "        iframe = WebDriverWait(nav, 10).until(EC.presence_of_element_located((By.XPATH, '//*[@id=\"conteudo\"]')))\n",
    "        nav.switch_to.frame(iframe)\n",
    "        sleep(5)\n",
    "        element3 = WebDriverWait(nav,10).until(EC.presence_of_element_located((By.XPATH,'//*[@id=\"ctl03_ctl00\"]/input[2]')))\n",
    "        element3.click()\n",
    "        break\n",
    "        print(\"Concluído com sucesso\")\n",
    "    except:\n",
    "        print(f'Tentativa: {chances+1}, elemento não encontrado')\n",
    "        chances+=1"
   ]
  },
  {
   "cell_type": "code",
   "execution_count": 8,
   "metadata": {},
   "outputs": [],
   "source": [
    "import calendar\n",
    "hoje = datetime.datetime.now()\n",
    "mes = hoje.month\n",
    "ano = hoje.year\n",
    "_,num_dias = calendar.monthrange(ano,mes)\n",
    "max_dias = str(num_dias)\n",
    "mes = \"{:02d}\".format(mes)\n",
    "\n",
    "data_inicio = '01'+ str(mes)+ str(ano)\n",
    "data_fim = str(max_dias)+ str(mes)+str(ano)\n"
   ]
  },
  {
   "cell_type": "code",
   "execution_count": 9,
   "metadata": {},
   "outputs": [],
   "source": [
    "element2 = WebDriverWait(nav, 10).until(EC.visibility_of_element_located((By.XPATH, '//*[@id=\"ctl03_ctl01_ctl03_DataOperacao\"]')))\n",
    "element2.send_keys(data_inicio)"
   ]
  },
  {
   "cell_type": "code",
   "execution_count": 10,
   "metadata": {},
   "outputs": [],
   "source": [
    "element3 =WebDriverWait(nav,10).until(EC.presence_of_element_located((By.XPATH, '//*[@id=\"ctl03_ctl01_ctl03_DataOperacaoATE\"]')))\n",
    "element3.send_keys(data_fim)"
   ]
  },
  {
   "cell_type": "code",
   "execution_count": 11,
   "metadata": {},
   "outputs": [],
   "source": [
    "element4 = WebDriverWait(nav,10).until(EC.presence_of_element_located((By.XPATH, ' //*[@id=\"ctl03_ctl00_tabPage\"]/div/table/tbody/tr[2]/td[1]/a[1]/img')))\n",
    "element4.click()\n",
    "sleep(10)"
   ]
  },
  {
   "cell_type": "code",
   "execution_count": 12,
   "metadata": {},
   "outputs": [],
   "source": [
    "element5 = WebDriverWait(nav,10).until(EC.presence_of_element_located((By.XPATH,'//*[@id=\"ctl03_ctl00\"]/input[3]')))\n",
    "element5.click()\n",
    "sleep(20)\n",
    "nav.quit()"
   ]
  },
  {
   "cell_type": "code",
   "execution_count": 13,
   "metadata": {},
   "outputs": [],
   "source": [
    "path = r\"F:\\Qualidade_Florestal\\03- ADMINISTRATIVO\\2023\\06- COLABORADORES\\Gabriel\\1 - Processamento de dados\"\n",
    "arquivos = [os.path.join(path, arquivo) for arquivo in os.listdir(path)]\n",
    "arquivo_mais_recente = max(arquivos, key=os.path.getctime)"
   ]
  },
  {
   "cell_type": "code",
   "execution_count": 14,
   "metadata": {},
   "outputs": [],
   "source": [
    "if arquivo_mais_recente.endswith('.zip'):\n",
    "    with zf.ZipFile(arquivo_mais_recente,\"r\") as z:\n",
    "        z.extractall(path)\n",
    "    os.remove(arquivo_mais_recente)"
   ]
  },
  {
   "cell_type": "code",
   "execution_count": 15,
   "metadata": {},
   "outputs": [],
   "source": [
    "directory_path = 'F:/Qualidade_Florestal/03- ADMINISTRATIVO/2023/06- COLABORADORES/Gabriel/1 - Processamento de dados'\n",
    "\n",
    "for file_name in os.listdir(directory_path):\n",
    "    if 'gamoura' in file_name:\n",
    "        file_path = os.path.join(directory_path, file_name )"
   ]
  },
  {
   "cell_type": "code",
   "execution_count": 16,
   "metadata": {},
   "outputs": [],
   "source": [
    "import locale\n",
    "\n",
    "# Defina o locale correto para o seu sistema operacional\n",
    "locale.setlocale(locale.LC_ALL, 'pt_BR.utf8')\n",
    "\n",
    "# Carregue a tabela HTML e especifique o locale\n",
    "tabela = pd.read_html(file_path, decimal=',', thousands='.', header=0, index_col=False)[0]"
   ]
  },
  {
   "cell_type": "code",
   "execution_count": 17,
   "metadata": {},
   "outputs": [],
   "source": [
    "caminho_sgf = 'F:/Qualidade_Florestal/03- ADMINISTRATIVO/2023/06- COLABORADORES/Gabriel/1 - Processamento de dados/colheita_export {}.{}.xlsx'.format(mes, ano)\n",
    "sgf_export = tabela.to_excel(caminho_sgf, index=False)\n",
    "os.remove(file_path)"
   ]
  },
  {
   "cell_type": "code",
   "execution_count": 18,
   "metadata": {},
   "outputs": [],
   "source": [
    "# Ler o arquivo original\n",
    "sgf = pd.read_excel(caminho_sgf)\n",
    "# Salvar em um novo arquivo com a nova aba\n",
    "with pd.ExcelWriter('F:/Qualidade_Florestal/03- ADMINISTRATIVO/2023/06- COLABORADORES/Gabriel/1 - Processamento de dados/colheita_export {}.{}.xlsx'.format(mes, ano), engine='xlsxwriter') as writer:\n",
    "    sgf.to_excel(writer, sheet_name='Export', index=False)"
   ]
  },
  {
   "cell_type": "code",
   "execution_count": 19,
   "metadata": {},
   "outputs": [],
   "source": [
    "df_sgf = pd.DataFrame() # inicializa um dataframe vazio para armazenar a concatenação\n",
    "\n",
    "for arquivos in os.listdir(directory_path):\n",
    "    url = str(directory_path) + \"/\" + str(arquivos)\n",
    "    if \"colheita_export\" in arquivos:\n",
    "        concatenado = pd.read_excel(url)\n",
    "        df_sgf = pd.concat([df_sgf, concatenado], axis=0, ignore_index=True)"
   ]
  },
  {
   "cell_type": "code",
   "execution_count": 20,
   "metadata": {},
   "outputs": [],
   "source": [
    "df_sgf.to_excel(r\"F:\\Qualidade_Florestal\\01- SÃO PAULO\\04- Logística, transporte e estradas\\00 - Bases de Trabalho\\informe_colheita.xlsx\" , sheet_name= \"Export\")\n",
    "df_sgf.to_excel(r\"F:\\Qualidade_Florestal\\01- SÃO PAULO\\03- Colheita\\00 - Bases de Trabalho\\Bases de Apoio\\informe_colheita.xlsx\",sheet_name=\"Export\")"
   ]
  }
 ],
 "metadata": {
  "kernelspec": {
   "display_name": "Python 3",
   "language": "python",
   "name": "python3"
  },
  "language_info": {
   "codemirror_mode": {
    "name": "ipython",
    "version": 3
   },
   "file_extension": ".py",
   "mimetype": "text/x-python",
   "name": "python",
   "nbconvert_exporter": "python",
   "pygments_lexer": "ipython3",
   "version": "3.11.1"
  },
  "orig_nbformat": 4
 },
 "nbformat": 4,
 "nbformat_minor": 2
}
