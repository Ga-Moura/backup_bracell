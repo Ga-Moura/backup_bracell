{
 "cells": [
  {
   "cell_type": "code",
   "execution_count": 1,
   "metadata": {},
   "outputs": [],
   "source": [
    "import shutil\n",
    "import arcgis\n",
    "from arcgis.gis import GIS\n",
    "import re, csv\n",
    "import pandas as pd\n",
    "import os\n",
    "# Define variables\n",
    "portalURL = r'https://gissp.bracell.com/portal/'\n",
    "username = \"Qualidade_Florestal\"\n",
    "password = \"Qualidade@24\"\n",
    "survey_item_id = \"70e124db3aa34a8c816bbfa9dbee237d\"\n",
    "save_path = r\"F:\\Qualidade_Florestal\\03- ADMINISTRATIVO\\2023\\06- COLABORADORES\\Gabriel\\1 - Processamento de dados\""
   ]
  },
  {
   "cell_type": "code",
   "execution_count": null,
   "metadata": {},
   "outputs": [],
   "source": [
    "keep_org_item = False\n",
    "\n",
    "# Connect to GIS Portal and identify Survey form\n",
    "gis = GIS(portalURL, username, password)\n",
    "survey_by_id = gis.content.get(survey_item_id)\n",
    "print(survey_by_id.type)\n",
    "survey_by_id\n",
    "\n",
    "# Download service\n",
    "rel_fs = survey_by_id.related_items('Survey2Service','forward')[0]\n",
    "rel_fs\n",
    "\n",
    "item_excel = rel_fs.export(title=survey_by_id.title, export_format='Excel')\n",
    "item_excel.download(save_path=save_path)\n",
    "if not bool(keep_org_item):\n",
    "    item_excel.delete(force=True)"
   ]
  },
  {
   "cell_type": "code",
   "execution_count": 4,
   "metadata": {},
   "outputs": [],
   "source": [
    "import pandas as pd\n",
    "from openpyxl import load_workbook\n",
    "\n",
    "# Carregar o arquivo Excel existente\n",
    "path_arquivo = os.path.join(save_path, \"Avaliação_de_Sobrevivência_30_e_90.xlsx\")\n",
    "\n",
    "# Ler a aba específica em um DataFrame\n",
    "nome_aba = \"Formulario_2\"\n",
    "dados = pd.read_excel(path_arquivo, sheet_name=nome_aba)\n",
    "\n",
    "# Aplicar as modificações desejadas no DataFrame\n",
    "dados['talhao'] = dados['talhao'].fillna('').astype(str).str.zfill(3)\n",
    "dados['id_fazenda'] = dados['id_fazenda'].fillna('').astype(str).str.zfill(4)\n",
    "# Salvar o DataFrame na aba específica mantendo as outras abas\n",
    "with pd.ExcelWriter(path_arquivo, mode='a', engine='openpyxl') as writer:\n",
    "    if nome_aba in writer.book.sheetnames:\n",
    "        writer.book.remove(writer.book[nome_aba])\n",
    "    dados.to_excel(writer, sheet_name=nome_aba, index=False)\n"
   ]
  },
  {
   "cell_type": "code",
   "execution_count": null,
   "metadata": {},
   "outputs": [],
   "source": [
    "destino =(r\"F:\\Qualidade_Florestal\\02- MATO GROSSO DO SUL\\08- Planejamento e Controle 2°nível\\2023\\02 - Programação Sobrevivência\\Apontamentos\\Avaliação_de_Sobrevivência_30_e_90.xlsx\")"
   ]
  },
  {
   "cell_type": "code",
   "execution_count": null,
   "metadata": {},
   "outputs": [],
   "source": [
    "shutil.copy(path_arquivo,destino)"
   ]
  }
 ],
 "metadata": {
  "kernelspec": {
   "display_name": "Python 3",
   "language": "python",
   "name": "python3"
  },
  "language_info": {
   "codemirror_mode": {
    "name": "ipython",
    "version": 3
   },
   "file_extension": ".py",
   "mimetype": "text/x-python",
   "name": "python",
   "nbconvert_exporter": "python",
   "pygments_lexer": "ipython3",
   "version": "3.7.11"
  },
  "orig_nbformat": 4
 },
 "nbformat": 4,
 "nbformat_minor": 2
}
