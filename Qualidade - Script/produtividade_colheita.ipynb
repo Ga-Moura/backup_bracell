{
 "cells": [
  {
   "cell_type": "code",
   "execution_count": 1,
   "metadata": {},
   "outputs": [],
   "source": [
    "import os\n",
    "import pandas as pd\n",
    "import numpy as np \n",
    "import openpyxl as px\n",
    "import datetime as dt"
   ]
  },
  {
   "cell_type": "code",
   "execution_count": 2,
   "metadata": {},
   "outputs": [],
   "source": [
    "path = r'F:\\Colheita\\COLHEITA FLORESTAL\\CONTROLES\\Controles - 2024\\05 - PREMIO PRODUÇÃO\\Gestão à Vista'"
   ]
  },
  {
   "cell_type": "code",
   "execution_count": 3,
   "metadata": {},
   "outputs": [
    {
     "name": "stderr",
     "output_type": "stream",
     "text": [
      "c:\\Users\\gamoura.AMCNET\\AppData\\Local\\Programs\\Python\\Python311\\Lib\\site-packages\\openpyxl\\worksheet\\_reader.py:329: UserWarning: Conditional Formatting extension is not supported and will be removed\n",
      "  warn(msg)\n",
      "c:\\Users\\gamoura.AMCNET\\AppData\\Local\\Programs\\Python\\Python311\\Lib\\site-packages\\openpyxl\\worksheet\\_reader.py:329: UserWarning: Slicer List extension is not supported and will be removed\n",
      "  warn(msg)\n",
      "c:\\Users\\gamoura.AMCNET\\AppData\\Local\\Programs\\Python\\Python311\\Lib\\site-packages\\openpyxl\\worksheet\\_reader.py:329: UserWarning: Conditional Formatting extension is not supported and will be removed\n",
      "  warn(msg)\n",
      "c:\\Users\\gamoura.AMCNET\\AppData\\Local\\Programs\\Python\\Python311\\Lib\\site-packages\\openpyxl\\worksheet\\_reader.py:329: UserWarning: Slicer List extension is not supported and will be removed\n",
      "  warn(msg)\n"
     ]
    }
   ],
   "source": [
    "colunas_desejadas_fw = ['Matricula','Meta Produtividade', 'Real Produtividade', 'Aderência Produtividade','COLABORADOR','Aderência Produtividade final','Aderência Produtividade Ponderada']\n",
    "\n",
    "df_fw = pd.DataFrame()\n",
    "\n",
    "for root, dir, files in os.walk(path):\n",
    "    for file in files:\n",
    "\n",
    "\n",
    "        if 'gestão a vista' in file.lower() and \"xsl\" in file.lower() and not \"~$\" in file:\n",
    "            file_path = os.path.join(root,file)\n",
    "\n",
    "            base_fw = pd.read_excel(file_path, \n",
    "                     engine='openpyxl',\n",
    "                     sheet_name=\"PRODUTIVIDADE_FW\",\n",
    "                     skiprows=6 ,\n",
    "                     dtype={\"Matricula\":\"object\"})\n",
    "            colunas = list(base_fw.columns)\n",
    "\n",
    "            colunas_comuns = list(set(colunas_desejadas_fw) & set(colunas))\n",
    "            \n",
    "            base_fw = base_fw[colunas_comuns]\n",
    "            \n",
    "            base_fw = base_fw[base_fw['Matricula'].notna()]\n",
    "            \n",
    "            base_fw['Operação'] = \"Forwarder\"\n",
    "            \n",
    "            base_fw['Data de Referência'] = file.lower().partition(\".\")[0].split('-')[1]\n",
    "            \n",
    "            df_fw = pd.concat([df_fw,base_fw],ignore_index=True,axis=0)\n",
    "\n",
    "df_fw['Aderencia FW'] = df_fw.apply(lambda x: x['Aderência Produtividade Ponderada'] if pd.isna(x['Aderência Produtividade final']) else x['Aderência Produtividade final'], axis=1)\n",
    "\n",
    "df_fw = df_fw.drop(['Aderência Produtividade final','Aderência Produtividade Ponderada'],axis=1)\n",
    "\n",
    "df_fw = df_fw.query('`Aderencia FW`.notna()')\n"
   ]
  },
  {
   "cell_type": "code",
   "execution_count": 4,
   "metadata": {},
   "outputs": [
    {
     "name": "stderr",
     "output_type": "stream",
     "text": [
      "c:\\Users\\gamoura.AMCNET\\AppData\\Local\\Programs\\Python\\Python311\\Lib\\site-packages\\openpyxl\\worksheet\\_reader.py:329: UserWarning: Conditional Formatting extension is not supported and will be removed\n",
      "  warn(msg)\n",
      "c:\\Users\\gamoura.AMCNET\\AppData\\Local\\Programs\\Python\\Python311\\Lib\\site-packages\\openpyxl\\worksheet\\_reader.py:329: UserWarning: Slicer List extension is not supported and will be removed\n",
      "  warn(msg)\n",
      "c:\\Users\\gamoura.AMCNET\\AppData\\Local\\Programs\\Python\\Python311\\Lib\\site-packages\\openpyxl\\worksheet\\_reader.py:329: UserWarning: Conditional Formatting extension is not supported and will be removed\n",
      "  warn(msg)\n",
      "c:\\Users\\gamoura.AMCNET\\AppData\\Local\\Programs\\Python\\Python311\\Lib\\site-packages\\openpyxl\\worksheet\\_reader.py:329: UserWarning: Slicer List extension is not supported and will be removed\n",
      "  warn(msg)\n"
     ]
    }
   ],
   "source": [
    "colunas_desejadas_hv = ['Matricula','Meta Produtividade', 'Real Produtividade','Aderência Produtividade','COLABORADOR','Produtividade Final']\n",
    "\n",
    "df_hv = pd.DataFrame()\n",
    "\n",
    "\n",
    "for root, dir, files in os.walk(path):\n",
    "    for file in files:\n",
    "        if 'gestão a vista' in file.lower() and \"xsl\" in file.lower() and not \"~$\" in file:\n",
    "            file_path = os.path.join(root,file)\n",
    "            base_hv = pd.read_excel(file_path, \n",
    "                     engine='openpyxl',\n",
    "                     sheet_name=\"PRODUTIVIDADE_HV\",\n",
    "                     skiprows=6 ,\n",
    "                     dtype={\"Matricula\":\"object\"})\n",
    "            \n",
    "            colunas = list(base_hv.columns)\n",
    "\n",
    "            colunas_comuns = list(set(colunas_desejadas_hv) & set(colunas))\n",
    "\n",
    "            base_hv = base_hv[colunas_comuns]\n",
    "\n",
    "            base_hv = base_hv[base_hv['Matricula'].notna()]\n",
    "\n",
    "            base_hv['Operação'] = \"Harvester\"\n",
    "\n",
    "            base_hv['Data de Referência'] = file.lower().partition(\".\")[0].split('-')[1]\n",
    "\n",
    "            base_hv = base_hv.query(\"`Produtividade Final`.notna()\")\n",
    "\n",
    "            df_hv = pd.concat([df_hv,base_hv],ignore_index=True,axis=0)\n"
   ]
  },
  {
   "cell_type": "code",
   "execution_count": 5,
   "metadata": {},
   "outputs": [],
   "source": [
    "with pd.ExcelWriter(r\"F:\\Qualidade_Florestal\\01- SÃO PAULO\\03- Colheita\\00 - Bases de Trabalho\\Produtividade.xlsx\") as writer:\n",
    "    df_fw.to_excel(writer,sheet_name=\"Produtividade Forwarder\", index=False)\n",
    "    df_hv.to_excel(writer, sheet_name=\"Produtividade Harvester\", index=False)"
   ]
  }
 ],
 "metadata": {
  "kernelspec": {
   "display_name": "Python 3",
   "language": "python",
   "name": "python3"
  },
  "language_info": {
   "codemirror_mode": {
    "name": "ipython",
    "version": 3
   },
   "file_extension": ".py",
   "mimetype": "text/x-python",
   "name": "python",
   "nbconvert_exporter": "python",
   "pygments_lexer": "ipython3",
   "version": "3.11.1"
  }
 },
 "nbformat": 4,
 "nbformat_minor": 2
}
