{
 "cells": [
  {
   "cell_type": "code",
   "execution_count": 1,
   "metadata": {},
   "outputs": [],
   "source": [
    "import pandas as pd\n",
    "import os\n",
    "from reportlab.pdfgen import canvas\n",
    "from reportlab.lib.pagesizes import A4\n",
    "from reportlab.lib.colors import HexColor\n",
    "from matplotlib import pyplot as plt"
   ]
  },
  {
   "cell_type": "code",
   "execution_count": 2,
   "metadata": {},
   "outputs": [],
   "source": [
    "logo_bracel = r'F:\\Qualidade_Florestal\\03- ADMINISTRATIVO\\2023\\06- COLABORADORES\\Gabriel\\2 - Modelagem\\logo - Bracell.jpg'"
   ]
  },
  {
   "cell_type": "code",
   "execution_count": 3,
   "metadata": {},
   "outputs": [],
   "source": [
    "logo_msf = r'F:\\Qualidade_Florestal\\03- ADMINISTRATIVO\\2023\\06- COLABORADORES\\Gabriel\\2 - Modelagem\\logo msf jpg.jpg'"
   ]
  },
  {
   "cell_type": "code",
   "execution_count": 4,
   "metadata": {},
   "outputs": [],
   "source": [
    "foto_branco = r'F:\\Qualidade_Florestal\\03- ADMINISTRATIVO\\2023\\06- COLABORADORES\\Gabriel\\2 - Modelagem\\Imagem em Branco - Pdfs.png'"
   ]
  },
  {
   "cell_type": "code",
   "execution_count": 7,
   "metadata": {},
   "outputs": [],
   "source": [
    "path = r\"F:\\Qualidade_Florestal\\01- SÃO PAULO\\02- Silvicultura e Sobrevivência\\00 - Arquivos Surveys\\Calcario_attachments\""
   ]
  },
  {
   "cell_type": "code",
   "execution_count": 8,
   "metadata": {},
   "outputs": [],
   "source": [
    "path_fotos = []\n",
    "for i in os.listdir(path):\n",
    "    fotos= os.path.join(path,i)\n",
    "    path_fotos.append(fotos)\n",
    "\n",
    "base_fotos = pd.DataFrame(path_fotos)\n",
    "base_fotos = base_fotos.rename(columns={0: 'url'})"
   ]
  },
  {
   "cell_type": "code",
   "execution_count": 11,
   "metadata": {},
   "outputs": [],
   "source": [
    "base_fotos['nome_foto'] = base_fotos['url'].apply(lambda x: x.split(\"\\\\\")[-1] )\n",
    "base_fotos['tipo'] = base_fotos['nome_foto'].apply(lambda x: x.split(\"-\")[1] if len(x.split(\"-\")) > 1 else None)\n",
    "base_fotos['objectid'] = base_fotos['nome_foto'].apply(lambda x: x.split(\"-\")[0] if len(x.split(\"-\")) > 1 else -1).astype(int)\n",
    "base_fotos = base_fotos.loc[base_fotos['objectid'].notna()]"
   ]
  },
  {
   "cell_type": "code",
   "execution_count": 19,
   "metadata": {},
   "outputs": [],
   "source": [
    "base_fotos_assinatura = base_fotos.loc[base_fotos['tipo']=='assinatura']\n",
    "base_fotos_assinatura = base_fotos_assinatura.rename(columns={\"tipo\":\"tipo_assinatura\", 'url':'url_assinatura'})\n",
    "\n",
    "base_fotos_pes = base_fotos.loc[base_fotos['tipo']=='evidencia_pesagem']\n",
    "base_fotos_pes = base_fotos_pes.rename(columns={\"tipo\":\"tipo_pesagem\", 'url':'url_pesagem'})\n",
    "\n",
    "base_fotos_local_coleta = base_fotos.loc[base_fotos['tipo']=='coleta']\n",
    "base_fotos_local_coleta = base_fotos_local_coleta.rename(columns={'tipo':'coleta', 'url':'url_coleta'})\n",
    "\n",
    "base_fotos_ident = base_fotos.loc[base_fotos['tipo']=='identificacao_maq']\n",
    "base_fotos_ident = base_fotos_ident.rename(columns={'tipo':'ident_maq', 'url':'url_ident_maq'})"
   ]
  },
  {
   "cell_type": "code",
   "execution_count": 21,
   "metadata": {},
   "outputs": [],
   "source": [
    "url_base_att = r'F:\\Qualidade_Florestal\\01- SÃO PAULO\\02- Silvicultura e Sobrevivência\\00 - Arquivos Surveys\\Calcario_attachments.csv'"
   ]
  },
  {
   "cell_type": "code",
   "execution_count": 22,
   "metadata": {},
   "outputs": [],
   "source": [
    "url_base_survey = r'F:\\Qualidade_Florestal\\01- SÃO PAULO\\02- Silvicultura e Sobrevivência\\00 - Arquivos Surveys\\Calcário.xlsx'"
   ]
  },
  {
   "cell_type": "code",
   "execution_count": 23,
   "metadata": {},
   "outputs": [],
   "source": [
    "path_cadastro = r'F:\\Qualidade_Florestal\\03- ADMINISTRATIVO\\2023\\06- COLABORADORES\\Gabriel\\1 - Processamento de dados\\Cadastro Florestal.xlsx'"
   ]
  },
  {
   "cell_type": "code",
   "execution_count": 24,
   "metadata": {},
   "outputs": [],
   "source": [
    "base_att = pd.read_csv(url_base_att,delimiter=\",\")"
   ]
  },
  {
   "cell_type": "code",
   "execution_count": 25,
   "metadata": {},
   "outputs": [],
   "source": [
    "cadastro = pd.read_excel(path_cadastro)\n",
    "cadastro = cadastro[['Talhão','Id Projeto','Projeto','Região']]\n",
    "cadastro.loc[:, 'Talhão'] = cadastro['Talhão'].fillna('').astype(str).str.split('.').str[0].str.zfill(3)\n",
    "cadastro.loc[:,'Id Projeto'] = cadastro['Id Projeto'].fillna('').astype(str).str.split('.').str[0].str.zfill(4)\n",
    "cadastro[\"Projeto e Talhão\"] = cadastro['Id Projeto']+ cadastro['Talhão']"
   ]
  },
  {
   "cell_type": "code",
   "execution_count": 26,
   "metadata": {},
   "outputs": [],
   "source": [
    "import calendar\n",
    "import datetime\n",
    "hoje = datetime.datetime.now()\n",
    "mes = hoje.month\n",
    "ano = hoje.year\n",
    "_,num_dias = calendar.monthrange(ano,mes)\n",
    "max_dias = str(num_dias)\n",
    "mes = \"{:02d}\".format(mes)\n",
    "\n",
    "data_filtro = str(mes) +\"-\"+ str(ano)"
   ]
  },
  {
   "cell_type": "code",
   "execution_count": 27,
   "metadata": {},
   "outputs": [
    {
     "data": {
      "text/plain": [
       "Index(['objectid', 'globalid', 'data', 'nivel', 'regiao', 'controle_1_nivel',\n",
       "       'equipe_equilibrio', 'equipe', 'outro_equipe', 'supervisor',\n",
       "       'coordenador', 'responsavel', 'fazenda', 'talhao', 'faixa_apl',\n",
       "       'trator', 'outro_implemento', 'operador', 'ruas', 'calagem',\n",
       "       'dose_recomendada', 'dose_maximasp', 'dose_minimasp', 'dose_maximams',\n",
       "       'dose_minimams', 'tempo_desloc', 'velocidade', 'qtd_adubo1',\n",
       "       'dose_obtida', 'dose_desvio', 'avaliador', 'houve_acompanhamento',\n",
       "       'ciente_resultados', 'observacoes', 'created_date', 'created_user',\n",
       "       'last_edited_date', 'last_edited_user', 'x', 'y'],\n",
       "      dtype='object')"
      ]
     },
     "execution_count": 27,
     "metadata": {},
     "output_type": "execute_result"
    }
   ],
   "source": [
    "survey = pd.read_excel(url_base_survey)\n",
    "\n",
    "survey.keys()"
   ]
  },
  {
   "cell_type": "code",
   "execution_count": 28,
   "metadata": {},
   "outputs": [],
   "source": [
    "##Filtro para o nível, não é necessário fazer todos os prints e sim apenas os que competem a função\n",
    "survey = pd.read_excel(url_base_survey)\n",
    "survey = survey[['objectid','fazenda', 'talhao','nivel','data', 'observacoes','regiao']]\n",
    "#survey = survey.loc[survey['nivel'] =='2° Nível']\n",
    "survey['mes_ano'] = survey['data'].dt.to_period('M')\n",
    "survey = survey.loc[survey['mes_ano'] == data_filtro ]\n",
    "survey['talhao'] = survey['talhao'].fillna('').astype(str).str.split('.').str[0].str.zfill(3)\n",
    "survey['nome_fazenda'] = survey['fazenda'].fillna('').astype(str).str.split('.').str[0].str.zfill(4)\n",
    "survey['Projeto e Talhão'] = survey['nome_fazenda']+ survey['talhao']\n",
    "survey['datahoje'] = survey['data'].dt.date\n",
    "survey['observacoes_gerais'] = survey['observacoes'].fillna(\"\")"
   ]
  },
  {
   "cell_type": "code",
   "execution_count": 29,
   "metadata": {},
   "outputs": [],
   "source": [
    "survey = survey.merge(cadastro, left_on='Projeto e Talhão', right_on='Projeto e Talhão', how = 'left')"
   ]
  },
  {
   "cell_type": "code",
   "execution_count": 30,
   "metadata": {},
   "outputs": [],
   "source": [
    "survey = survey.merge(base_fotos_assinatura[['url_assinatura','tipo_assinatura','objectid']], left_on='objectid', right_on='objectid',how='left')"
   ]
  },
  {
   "cell_type": "code",
   "execution_count": 33,
   "metadata": {},
   "outputs": [],
   "source": [
    "survey = survey.merge(base_fotos_pes[['url_pesagem','tipo_pesagem','objectid']], left_on='objectid', right_on='objectid',how='left')"
   ]
  },
  {
   "cell_type": "code",
   "execution_count": 35,
   "metadata": {},
   "outputs": [],
   "source": [
    "survey = survey.merge(base_fotos_local_coleta[['url_coleta','coleta','objectid']],left_on='objectid',right_on='objectid',how='left')"
   ]
  },
  {
   "cell_type": "code",
   "execution_count": 38,
   "metadata": {},
   "outputs": [],
   "source": [
    "survey = survey.merge(base_fotos_ident[['url_ident_maq','ident_maq','objectid']],left_on='objectid',right_on='objectid', how='left')"
   ]
  },
  {
   "cell_type": "code",
   "execution_count": 39,
   "metadata": {},
   "outputs": [
    {
     "data": {
      "text/html": [
       "<div>\n",
       "<style scoped>\n",
       "    .dataframe tbody tr th:only-of-type {\n",
       "        vertical-align: middle;\n",
       "    }\n",
       "\n",
       "    .dataframe tbody tr th {\n",
       "        vertical-align: top;\n",
       "    }\n",
       "\n",
       "    .dataframe thead th {\n",
       "        text-align: right;\n",
       "    }\n",
       "</style>\n",
       "<table border=\"1\" class=\"dataframe\">\n",
       "  <thead>\n",
       "    <tr style=\"text-align: right;\">\n",
       "      <th></th>\n",
       "      <th>objectid</th>\n",
       "      <th>fazenda</th>\n",
       "      <th>talhao</th>\n",
       "      <th>nivel</th>\n",
       "      <th>data</th>\n",
       "      <th>observacoes</th>\n",
       "      <th>regiao</th>\n",
       "      <th>mes_ano</th>\n",
       "      <th>nome_fazenda</th>\n",
       "      <th>Projeto e Talhão</th>\n",
       "      <th>...</th>\n",
       "      <th>Projeto</th>\n",
       "      <th>Região</th>\n",
       "      <th>url_assinatura</th>\n",
       "      <th>tipo_assinatura</th>\n",
       "      <th>url_pesagem</th>\n",
       "      <th>tipo_pesagem</th>\n",
       "      <th>url_coleta</th>\n",
       "      <th>coleta</th>\n",
       "      <th>url_ident_maq</th>\n",
       "      <th>ident_maq</th>\n",
       "    </tr>\n",
       "  </thead>\n",
       "  <tbody>\n",
       "    <tr>\n",
       "      <th>0</th>\n",
       "      <td>1</td>\n",
       "      <td>1</td>\n",
       "      <td>001</td>\n",
       "      <td>2° Nível</td>\n",
       "      <td>2023-09-18 15:00:00</td>\n",
       "      <td>NaN</td>\n",
       "      <td>SP</td>\n",
       "      <td>2023-09</td>\n",
       "      <td>0001</td>\n",
       "      <td>0001001</td>\n",
       "      <td>...</td>\n",
       "      <td>MAMEDINA</td>\n",
       "      <td>BRACELL SP</td>\n",
       "      <td>F:\\Qualidade_Florestal\\01- SÃO PAULO\\02- Silvi...</td>\n",
       "      <td>assinatura</td>\n",
       "      <td>F:\\Qualidade_Florestal\\01- SÃO PAULO\\02- Silvi...</td>\n",
       "      <td>evidencia_pesagem</td>\n",
       "      <td>F:\\Qualidade_Florestal\\01- SÃO PAULO\\02- Silvi...</td>\n",
       "      <td>coleta</td>\n",
       "      <td>F:\\Qualidade_Florestal\\01- SÃO PAULO\\02- Silvi...</td>\n",
       "      <td>identificacao_maq</td>\n",
       "    </tr>\n",
       "    <tr>\n",
       "      <th>1</th>\n",
       "      <td>2</td>\n",
       "      <td>1</td>\n",
       "      <td>001</td>\n",
       "      <td>2° Nível</td>\n",
       "      <td>2023-09-18 15:00:00</td>\n",
       "      <td>NaN</td>\n",
       "      <td>MS</td>\n",
       "      <td>2023-09</td>\n",
       "      <td>0001</td>\n",
       "      <td>0001001</td>\n",
       "      <td>...</td>\n",
       "      <td>MAMEDINA</td>\n",
       "      <td>BRACELL SP</td>\n",
       "      <td>F:\\Qualidade_Florestal\\01- SÃO PAULO\\02- Silvi...</td>\n",
       "      <td>assinatura</td>\n",
       "      <td>F:\\Qualidade_Florestal\\01- SÃO PAULO\\02- Silvi...</td>\n",
       "      <td>evidencia_pesagem</td>\n",
       "      <td>F:\\Qualidade_Florestal\\01- SÃO PAULO\\02- Silvi...</td>\n",
       "      <td>coleta</td>\n",
       "      <td>F:\\Qualidade_Florestal\\01- SÃO PAULO\\02- Silvi...</td>\n",
       "      <td>identificacao_maq</td>\n",
       "    </tr>\n",
       "  </tbody>\n",
       "</table>\n",
       "<p>2 rows × 24 columns</p>\n",
       "</div>"
      ],
      "text/plain": [
       "   objectid  fazenda talhao     nivel                data  observacoes regiao  \\\n",
       "0         1        1    001  2° Nível 2023-09-18 15:00:00          NaN     SP   \n",
       "1         2        1    001  2° Nível 2023-09-18 15:00:00          NaN     MS   \n",
       "\n",
       "   mes_ano nome_fazenda Projeto e Talhão  ...   Projeto      Região  \\\n",
       "0  2023-09         0001          0001001  ...  MAMEDINA  BRACELL SP   \n",
       "1  2023-09         0001          0001001  ...  MAMEDINA  BRACELL SP   \n",
       "\n",
       "                                      url_assinatura tipo_assinatura  \\\n",
       "0  F:\\Qualidade_Florestal\\01- SÃO PAULO\\02- Silvi...      assinatura   \n",
       "1  F:\\Qualidade_Florestal\\01- SÃO PAULO\\02- Silvi...      assinatura   \n",
       "\n",
       "                                         url_pesagem       tipo_pesagem  \\\n",
       "0  F:\\Qualidade_Florestal\\01- SÃO PAULO\\02- Silvi...  evidencia_pesagem   \n",
       "1  F:\\Qualidade_Florestal\\01- SÃO PAULO\\02- Silvi...  evidencia_pesagem   \n",
       "\n",
       "                                          url_coleta  coleta  \\\n",
       "0  F:\\Qualidade_Florestal\\01- SÃO PAULO\\02- Silvi...  coleta   \n",
       "1  F:\\Qualidade_Florestal\\01- SÃO PAULO\\02- Silvi...  coleta   \n",
       "\n",
       "                                       url_ident_maq          ident_maq  \n",
       "0  F:\\Qualidade_Florestal\\01- SÃO PAULO\\02- Silvi...  identificacao_maq  \n",
       "1  F:\\Qualidade_Florestal\\01- SÃO PAULO\\02- Silvi...  identificacao_maq  \n",
       "\n",
       "[2 rows x 24 columns]"
      ]
     },
     "execution_count": 39,
     "metadata": {},
     "output_type": "execute_result"
    }
   ],
   "source": [
    "survey"
   ]
  },
  {
   "cell_type": "code",
   "execution_count": 40,
   "metadata": {},
   "outputs": [],
   "source": [
    "survey['url_assinatura'] = survey['url_assinatura'].apply(lambda x: foto_branco if pd.isnull(x) else x)\n",
    "survey['url_pesagem'] = survey['url_pesagem'].apply(lambda x: foto_branco if pd.isnull(x) else x)\n",
    "survey['url_coleta'] = survey['url_coleta'].apply(lambda x: foto_branco if pd.isnull(x) else x)\n",
    "survey['url_ident_maq'] = survey['url_ident_maq'].apply(lambda x:foto_branco if pd.isnull(x) else x)"
   ]
  },
  {
   "cell_type": "code",
   "execution_count": 42,
   "metadata": {},
   "outputs": [],
   "source": [
    "import os\n",
    "caminho_completo = os.path.abspath(r\"F:\\Qualidade_Florestal\\01- SÃO PAULO\\02- Silvicultura e Sobrevivência\\00 - Arquivos Surveys\\Arquivos PDF\\Calcário\")\n",
    "for arquivo in os.listdir(caminho_completo):\n",
    "    caminho_arquivo = os.path.join(caminho_completo, arquivo)\n",
    "    try:\n",
    "        os.remove(caminho_arquivo)\n",
    "    except OSError as e:\n",
    "        print(f\"Erro ao deletar arquivo {arquivo}: {e}\")"
   ]
  },
  {
   "cell_type": "code",
   "execution_count": 43,
   "metadata": {},
   "outputs": [],
   "source": [
    "for i, row in survey.iterrows():\n",
    "        try:\n",
    "                filename = 'CDI{} - {} {} - {} - {} - {}.pdf'.format(row['objectid'], row['Projeto'], row['Talhão'], row['nivel'], row['regiao'], row['datahoje'])\n",
    "                cnv = canvas.Canvas(r'F:/Qualidade_Florestal/01- SÃO PAULO/02- Silvicultura e Sobrevivência/00 - Arquivos Surveys/Arquivos PDF/Calcário/' + filename)\n",
    "                #cnv = canvas.Canvas(survey['Projeto'][0] + \" \" + str(survey['Talhão'][0]) + \" - \" + str(survey['datahoje'][0]) + '.pdf')\n",
    "                \n",
    "                if row['regiao'] == \"SP\":\n",
    "                        logo = logo_bracel\n",
    "                else:\n",
    "                        logo = logo_msf\n",
    "\n",
    "                cnv.drawImage(logo, 0,(820 - 25), width=100, height=25)\n",
    "                cnv.setFont(\"Helvetica-Bold\", 15)\n",
    "                cnv.drawString(110,(820-20), \"Evidência de Aplicação de Calcário\")\n",
    "                cor_linha = HexColor(\"#A4d061\")\n",
    "                cnv.setStrokeColor(cor_linha)\n",
    "                cnv.line(10,(820-40),596,(820-40))\n",
    "\n",
    "                cnv.drawString(10,(820-70), \"Código de Identificação:\")\n",
    "\n",
    "                cnv.setFont('Helvetica',13)\n",
    "                cnv.drawString(190,(820-70),str(row['objectid']))\n",
    "                cnv.setFont(\"Helvetica-Bold\", 15)\n",
    "                cnv.drawString(10,(820-100),\"Data:\")\n",
    "\n",
    "                cnv.setFont(\"Helvetica\", 13)\n",
    "                cnv.drawString(50,(820-100),str(row['datahoje']))\n",
    "\n",
    "\n",
    "                cnv.setFont(\"Helvetica-Bold\", 15)\n",
    "                cnv.drawString(10,(820-130),\"Fazenda:\")\n",
    "                cnv.setFont(\"Helvetica\", 13)\n",
    "                cnv.drawString(80,(820-130),str(row['Projeto']))\n",
    "\n",
    "                \n",
    "\n",
    "                cnv.setFont(\"Helvetica-Bold\", 15)\n",
    "                cnv.drawString(10,(820-160),\"Talhão:\")\n",
    "                cnv.setFont(\"Helvetica\", 13)\n",
    "                cnv.drawString(80,(820-160),str(row['Talhão']))\n",
    "\n",
    "\n",
    "                cnv.setFont(\"Helvetica-Bold\", 15)\n",
    "                cnv.drawString(10,(820-190),\"Região:\")\n",
    "                cnv.setFont(\"Helvetica\", 13)\n",
    "                cnv.drawString(80,(820-190),str(row['Região']))\n",
    "                \n",
    "\n",
    "                cnv.setFont(\"Helvetica\", 13)\n",
    "                cnv.drawString(40 ,(550),\"Evidência da Avaliação:\")\n",
    "\n",
    "        #Evidência Avaliação\n",
    "                cnv.drawImage(str(row['url_pesagem']),40,(330),width=200 ,height=200)\n",
    "\n",
    "                \n",
    "\n",
    "                cnv.setFont('Helvetica',13)\n",
    "                cnv.drawString(360,(550),\"Local de Coleta:\")\n",
    "\n",
    "        #Adicionar imagem aqui\n",
    "                cnv.drawImage(str(row['url_coleta']),360,(330),width=200 ,height=200)\n",
    "                \n",
    "\n",
    "\n",
    "                cnv.setFont('Helvetica',13)\n",
    "                cnv.drawString(40,(300),\"Identificação de Máquina:\")\n",
    "\n",
    "        #Adicionar imagem aqui\n",
    "                cnv.drawImage(str(row['url_ident_maq']),40,80,width=200,height=200)\n",
    "\n",
    "                cnv.setFont('Helvetica',13)\n",
    "                cnv.drawString(360,(300),\"Assinatura:\")\n",
    "\n",
    "                cnv.drawImage(str(row['url_assinatura']),360,80,width=200,height=200)\n",
    "\n",
    "\n",
    "        #Adicionar imagem aqui\n",
    "\n",
    "                cnv.setFont('Helvetica',13)\n",
    "                cnv.drawString(250,(60),\"Observações\")\n",
    "\n",
    "                cnv.setFont('Helvetica',10)\n",
    "                cnv.drawString(100,(40), str(row['observacoes_gerais']))\n",
    "\n",
    "\n",
    "                cnv.save()\n",
    "        except Exception as e:\n",
    "                print(f\"Erro ao processar arquivo para o objeto de identificação {row['objectid']}: {e}\")\n",
    "                continue"
   ]
  }
 ],
 "metadata": {
  "kernelspec": {
   "display_name": "Python 3",
   "language": "python",
   "name": "python3"
  },
  "language_info": {
   "codemirror_mode": {
    "name": "ipython",
    "version": 3
   },
   "file_extension": ".py",
   "mimetype": "text/x-python",
   "name": "python",
   "nbconvert_exporter": "python",
   "pygments_lexer": "ipython3",
   "version": "3.7.11"
  },
  "orig_nbformat": 4
 },
 "nbformat": 4,
 "nbformat_minor": 2
}
