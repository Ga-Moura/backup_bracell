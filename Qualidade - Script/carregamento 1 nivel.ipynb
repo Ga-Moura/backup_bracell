{
 "cells": [
  {
   "cell_type": "code",
   "execution_count": 1,
   "metadata": {},
   "outputs": [],
   "source": [
    "import shutil\n",
    "import arcgis\n",
    "from arcgis.gis import GIS\n",
    "import re, csv\n",
    "import pandas as pd\n",
    "import os\n",
    "# Define variables\n",
    "portalURL = r'https://gissp.bracell.com/portal/'\n",
    "username = \"Qualidade_Florestal\"\n",
    "password = \"Qualidade@24\"\n",
    "survey_item_id = \"0a4c2758a198446da98fd2b8172f8fde\"\n",
    "save_path = r\"F:\\Qualidade_Florestal\\01- SÃO PAULO\\04- Logística, transporte e estradas\\00 - Bases de Trabalho\\Carregamento Primeiro Nível\""
   ]
  },
  {
   "cell_type": "code",
   "execution_count": 2,
   "metadata": {},
   "outputs": [
    {
     "name": "stdout",
     "output_type": "stream",
     "text": [
      "Form\n"
     ]
    },
    {
     "ename": "Exception",
     "evalue": "Could not export item: 85dda3e3facc4d649f07904dedc6bb6c",
     "output_type": "error",
     "traceback": [
      "\u001b[1;31m---------------------------------------------------------------------------\u001b[0m",
      "\u001b[1;31mException\u001b[0m                                 Traceback (most recent call last)",
      "\u001b[1;32m<ipython-input-2-5c16ab8f71a5>\u001b[0m in \u001b[0;36m<module>\u001b[1;34m\u001b[0m\n\u001b[0;32m     12\u001b[0m \u001b[0mrel_fs\u001b[0m\u001b[1;33m\u001b[0m\u001b[1;33m\u001b[0m\u001b[0m\n\u001b[0;32m     13\u001b[0m \u001b[1;33m\u001b[0m\u001b[0m\n\u001b[1;32m---> 14\u001b[1;33m \u001b[0mitem_excel\u001b[0m \u001b[1;33m=\u001b[0m \u001b[0mrel_fs\u001b[0m\u001b[1;33m.\u001b[0m\u001b[0mexport\u001b[0m\u001b[1;33m(\u001b[0m\u001b[0mtitle\u001b[0m\u001b[1;33m=\u001b[0m\u001b[0msurvey_by_id\u001b[0m\u001b[1;33m.\u001b[0m\u001b[0mtitle\u001b[0m\u001b[1;33m,\u001b[0m \u001b[0mexport_format\u001b[0m\u001b[1;33m=\u001b[0m\u001b[1;34m'Excel'\u001b[0m\u001b[1;33m)\u001b[0m\u001b[1;33m\u001b[0m\u001b[1;33m\u001b[0m\u001b[0m\n\u001b[0m\u001b[0;32m     15\u001b[0m \u001b[0mitem_excel\u001b[0m\u001b[1;33m.\u001b[0m\u001b[0mdownload\u001b[0m\u001b[1;33m(\u001b[0m\u001b[0msave_path\u001b[0m\u001b[1;33m=\u001b[0m\u001b[0msave_path\u001b[0m\u001b[1;33m)\u001b[0m\u001b[1;33m\u001b[0m\u001b[1;33m\u001b[0m\u001b[0m\n\u001b[0;32m     16\u001b[0m \u001b[1;32mif\u001b[0m \u001b[1;32mnot\u001b[0m \u001b[0mbool\u001b[0m\u001b[1;33m(\u001b[0m\u001b[0mkeep_org_item\u001b[0m\u001b[1;33m)\u001b[0m\u001b[1;33m:\u001b[0m\u001b[1;33m\u001b[0m\u001b[1;33m\u001b[0m\u001b[0m\n",
      "\u001b[1;32mc:\\Program Files\\ArcGIS\\Pro\\bin\\Python\\envs\\arcgispro-py3\\lib\\site-packages\\arcgis\\gis\\__init__.py\u001b[0m in \u001b[0;36mexport\u001b[1;34m(self, title, export_format, parameters, wait, enforce_fld_vis, tags, snippet, overwrite)\u001b[0m\n\u001b[0;32m  10859\u001b[0m                 \u001b[0mstatus\u001b[0m \u001b[1;33m=\u001b[0m \u001b[0mexport_item\u001b[0m\u001b[1;33m.\u001b[0m\u001b[0mstatus\u001b[0m\u001b[1;33m(\u001b[0m\u001b[0mjob_id\u001b[0m\u001b[1;33m=\u001b[0m\u001b[0mres\u001b[0m\u001b[1;33m[\u001b[0m\u001b[1;34m\"jobId\"\u001b[0m\u001b[1;33m]\u001b[0m\u001b[1;33m,\u001b[0m \u001b[0mjob_type\u001b[0m\u001b[1;33m=\u001b[0m\u001b[1;34m\"export\"\u001b[0m\u001b[1;33m)\u001b[0m\u001b[1;33m\u001b[0m\u001b[1;33m\u001b[0m\u001b[0m\n\u001b[0;32m  10860\u001b[0m                 \u001b[1;32mif\u001b[0m \u001b[0mstatus\u001b[0m\u001b[1;33m[\u001b[0m\u001b[1;34m\"status\"\u001b[0m\u001b[1;33m]\u001b[0m \u001b[1;33m==\u001b[0m \u001b[1;34m\"failed\"\u001b[0m\u001b[1;33m:\u001b[0m\u001b[1;33m\u001b[0m\u001b[1;33m\u001b[0m\u001b[0m\n\u001b[1;32m> 10861\u001b[1;33m                     \u001b[1;32mraise\u001b[0m \u001b[0mException\u001b[0m\u001b[1;33m(\u001b[0m\u001b[1;34m\"Could not export item: %s\"\u001b[0m \u001b[1;33m%\u001b[0m \u001b[0mself\u001b[0m\u001b[1;33m.\u001b[0m\u001b[0mitemid\u001b[0m\u001b[1;33m)\u001b[0m\u001b[1;33m\u001b[0m\u001b[1;33m\u001b[0m\u001b[0m\n\u001b[0m\u001b[0;32m  10862\u001b[0m                 \u001b[1;32melif\u001b[0m \u001b[0mstatus\u001b[0m\u001b[1;33m[\u001b[0m\u001b[1;34m\"status\"\u001b[0m\u001b[1;33m]\u001b[0m\u001b[1;33m.\u001b[0m\u001b[0mlower\u001b[0m\u001b[1;33m(\u001b[0m\u001b[1;33m)\u001b[0m \u001b[1;33m==\u001b[0m \u001b[1;34m\"completed\"\u001b[0m\u001b[1;33m:\u001b[0m\u001b[1;33m\u001b[0m\u001b[1;33m\u001b[0m\u001b[0m\n\u001b[0;32m  10863\u001b[0m                     \u001b[1;32mreturn\u001b[0m \u001b[0mexport_item\u001b[0m\u001b[1;33m\u001b[0m\u001b[1;33m\u001b[0m\u001b[0m\n",
      "\u001b[1;31mException\u001b[0m: Could not export item: 85dda3e3facc4d649f07904dedc6bb6c"
     ]
    }
   ],
   "source": [
    "store_csv_w_attachments = False\n",
    "keep_org_item = False\n",
    "\n",
    "# Connect to GIS Portal and identify Survey form\n",
    "gis = GIS(portalURL, username, password)\n",
    "survey_by_id = gis.content.get(survey_item_id)\n",
    "print(survey_by_id.type)\n",
    "survey_by_id\n",
    "\n",
    "# Download service\n",
    "rel_fs = survey_by_id.related_items('Survey2Service','forward')[0]\n",
    "rel_fs\n",
    "\n",
    "item_excel = rel_fs.export(title=survey_by_id.title, export_format='Excel')\n",
    "item_excel.download(save_path=save_path)\n",
    "if not bool(keep_org_item):\n",
    "    item_excel.delete(force=True)"
   ]
  },
  {
   "cell_type": "code",
   "execution_count": null,
   "metadata": {},
   "outputs": [
    {
     "name": "stdout",
     "output_type": "stream",
     "text": [
      "Item:  <FeatureLayer url:\"https://gissp.bracell.com/server/rest/services/Hosted/service_4eea1c5526b04afe8112e57caae83efc/FeatureServer/0\"> HAS ATTACHMENTS\n",
      "Done!\n"
     ]
    }
   ],
   "source": [
    "# Process feature layers and attachments\n",
    "layers = rel_fs.layers + rel_fs.tables\n",
    "for i in layers:\n",
    "    if i.properties.hasAttachments:\n",
    "        print(\"Item: \", i, \"HAS ATTACHMENTS\")\n",
    "        feature_layer_folder = os.path.join(save_path, '{}_attachments'.format(re.sub(r'[^A-Za-z0-9]+', '', i.properties.name)))\n",
    "        if not os.path.exists(feature_layer_folder):\n",
    "            os.mkdir(feature_layer_folder)         \n",
    "        if bool(store_csv_w_attachments):\n",
    "            path = os.path.join(feature_layer_folder, \"{}_attachments.csv\".format(i.properties.name))\n",
    "        elif not bool(store_csv_w_attachments):\n",
    "            path = os.path.join(save_path, \"{}_attachments.csv\".format(i.properties.name))\n",
    "        csv_fields = ['Parent objectId','Attachment path']\n",
    "        with open(path, 'w', newline='') as csvfile:\n",
    "            csvwriter = csv.writer(csvfile)\n",
    "            csvwriter.writerow(csv_fields)\n",
    "            feature_object_ids = i.query(where=\"1=1\", return_ids_only=True, order_by_fields='objectid ASC')\n",
    "            for j in range(len(feature_object_ids['objectIds'])):\n",
    "                current_oid = feature_object_ids['objectIds'][j]\n",
    "                current_oid_attachments = i.attachments.get_list(current_oid)\n",
    "                if current_oid_attachments is not None and len(current_oid_attachments) > 0:\n",
    "                    for k in range(len(current_oid_attachments)):\n",
    "                        attachment_id = current_oid_attachments[k]['id']\n",
    "                        global_id = str(i.query(where=\"1=1\", return_geometry=False, return_ids_only=True, order_by_fields='objectid ASC')['objectIds'][j])\n",
    "                        current_attachment_path = i.attachments.download(oid=current_oid, attachment_id=attachment_id, save_path=feature_layer_folder)\n",
    "                        if current_attachment_path is not None:\n",
    "                            new_attachment_path = os.path.join(feature_layer_folder, global_id + \"_\" + os.path.split(current_attachment_path[0])[1])\n",
    "                            shutil.move(current_attachment_path[0], new_attachment_path)\n",
    "                            csvwriter.writerow([current_oid, os.path.join('{}_attachments'.format(re.sub(r'[^A-Za-z0-9]+', '', i.properties.name)), os.path.split(new_attachment_path)[1])])\n",
    "                        else:\n",
    "                            print(\"Item: \", i, \"DOES NOT HAVE ATTACHMENTS\")\n",
    "print('Done!')"
   ]
  },
  {
   "cell_type": "code",
   "execution_count": null,
   "metadata": {},
   "outputs": [],
   "source": [
    "carregamento = r\"F:\\Qualidade_Florestal\\01- SÃO PAULO\\04- Logística, transporte e estradas\\00 - Bases de Trabalho\\Carregamento Primeiro Nível\\Avaliação_de_Qualidade_Carregamento__1°_Nível.xlsx\"\n",
    "\n",
    "dados = pd.read_excel(carregamento, engine='openpyxl')"
   ]
  }
 ],
 "metadata": {
  "kernelspec": {
   "display_name": "Python 3",
   "language": "python",
   "name": "python3"
  },
  "language_info": {
   "codemirror_mode": {
    "name": "ipython",
    "version": 3
   },
   "file_extension": ".py",
   "mimetype": "text/x-python",
   "name": "python",
   "nbconvert_exporter": "python",
   "pygments_lexer": "ipython3",
   "version": "3.7.11"
  },
  "orig_nbformat": 4
 },
 "nbformat": 4,
 "nbformat_minor": 2
}
