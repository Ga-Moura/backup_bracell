{
 "cells": [
  {
   "cell_type": "code",
   "execution_count": 7,
   "metadata": {},
   "outputs": [],
   "source": [
    "from arcgis.gis import GIS\n",
    "import pandas as pd\n",
    "import os\n",
    "import shutil\n",
    "from math import sqrt\n",
    "import locale"
   ]
  },
  {
   "cell_type": "code",
   "execution_count": 8,
   "metadata": {},
   "outputs": [
    {
     "data": {
      "text/plain": [
       "'Portuguese_Brazil.1252'"
      ]
     },
     "execution_count": 8,
     "metadata": {},
     "output_type": "execute_result"
    }
   ],
   "source": [
    "locale.setlocale(locale.LC_ALL, 'pt_BR.utf8')"
   ]
  },
  {
   "cell_type": "code",
   "execution_count": 9,
   "metadata": {},
   "outputs": [],
   "source": [
    "# Define variables\n",
    "portalURL = r'https://gissp.bracell.com/portal/'\n",
    "username = \"Qualidade_Florestal\"\n",
    "password = \"Qualidade@24\"\n",
    "save_path = r'U:\\Publica\\Florestal\\Relatórios de Qualidade\\Avaliações de 2º nível de Silvicultura\\Bases Survey'\n",
    "save_path2=r'F:\\Qualidade_Florestal\\03- ADMINISTRATIVO\\2023\\06- COLABORADORES\\Gabriel\\1 - Processamento de dados\\Viveiros'"
   ]
  },
  {
   "cell_type": "code",
   "execution_count": 10,
   "metadata": {},
   "outputs": [],
   "source": [
    "viveiro = ['4ff0490e27d94d8288b344eb6ef3d6cc', '57269c4693744169b2069ed25012cb30','2f8ce04c7c1c4a76b12098e351daea2b','a4c5b186ed534f3eadc2353244188ed1','78b2f3425ea349bfac2526efd022328f','b124871dc45145a3a927b23799d7c2a0','3ad2fb2f2458432a9d1cb2920df41d9a','a7d5b9f89cb8487a8db856c1b6ed47c7','c516474a043a47a1b73e74a21e06c6eb','01a3ff1399bd404cb6d5c160ffd58c18']\n",
    "\n",
    "ids = pd.DataFrame(viveiro)\n",
    "\n",
    "ids = ids.rename(columns={0: \"Viveiros\"})\n",
    "\n"
   ]
  },
  {
   "cell_type": "code",
   "execution_count": 11,
   "metadata": {},
   "outputs": [],
   "source": [
    "def baixar_survey (survey_id):\n",
    "    keep_org_item = False\n",
    "    try:\n",
    "        gis = GIS(portalURL, username, password)\n",
    "        survey_by_id = gis.content.get(survey_id)\n",
    "        print(survey_by_id.title)\n",
    "        rel_fs = survey_by_id.related_items('Survey2Service','forward')[0]\n",
    "        item_excel = rel_fs.export(title=survey_by_id.title, export_format='Excel')\n",
    "        item_excel.download(save_path=save_path)\n",
    "        item_excel.download(save_path=save_path2)\n",
    "        if not bool(keep_org_item):\n",
    "            item_excel.delete(force=True)    \n",
    "    except:\n",
    "        print(\"Tivemos Problemas ao baixar o survey:\", survey_by_id.title)"
   ]
  },
  {
   "cell_type": "code",
   "execution_count": 12,
   "metadata": {},
   "outputs": [
    {
     "name": "stdout",
     "output_type": "stream",
     "text": [
      "Qualidade Mudas - Viveiro MS\n",
      "LAUDO DE QUALIDADE DE MUDAS EM EXPEDIÇÃO\n",
      "LAUDO CONSUMO DE MUDAS EM EXPEDIÇÃO\n",
      "Pragas e Doenças - Levantamento MS\n",
      "Qualidade - Árvores Esparsas MS\n",
      "Qualidade Estradas - Silvicultura\n",
      "Avaliação Atendimento - RAF\n",
      "Abertura Chamado - RAF\n"
     ]
    }
   ],
   "source": [
    "for i in ids['Viveiros']:\n",
    "    baixar_survey(i)"
   ]
  }
 ],
 "metadata": {
  "kernelspec": {
   "display_name": "Python 3",
   "language": "python",
   "name": "python3"
  },
  "language_info": {
   "codemirror_mode": {
    "name": "ipython",
    "version": 3
   },
   "file_extension": ".py",
   "mimetype": "text/x-python",
   "name": "python",
   "nbconvert_exporter": "python",
   "pygments_lexer": "ipython3",
   "version": "3.7.11"
  },
  "orig_nbformat": 4
 },
 "nbformat": 4,
 "nbformat_minor": 2
}
