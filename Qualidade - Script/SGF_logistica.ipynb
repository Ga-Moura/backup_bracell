{
 "cells": [
  {
   "cell_type": "code",
   "execution_count": 1,
   "metadata": {},
   "outputs": [],
   "source": [
    "import selenium\n",
    "from selenium import webdriver\n",
    "from time import sleep\n",
    "import pandas as pd\n",
    "from selenium.webdriver.support.ui import WebDriverWait\n",
    "from selenium.webdriver.support import expected_conditions as EC\n",
    "from selenium.webdriver.common.by import By\n",
    "from selenium.webdriver.common.action_chains import ActionChains\n",
    "import zipfile as zf\n",
    "import os\n",
    "import shutil\n",
    "import xlsxwriter\n",
    "import datetime"
   ]
  },
  {
   "cell_type": "code",
   "execution_count": 2,
   "metadata": {},
   "outputs": [
    {
     "name": "stderr",
     "output_type": "stream",
     "text": [
      "There was an error managing chrome (Unsuccessful response (403 Forbidden) for URL https://storage.googleapis.com/chrome-for-testing-public/126.0.6478.182/win64/chromedriver-win64.zip); using driver found in the cache\n"
     ]
    }
   ],
   "source": [
    "#criando o web driver\n",
    "options = webdriver.ChromeOptions()\n",
    "\n",
    "#atualizando a preferência\n",
    "prefs = {\"download.default_directory\": r\"F:\\Qualidade_Florestal\\03- ADMINISTRATIVO\\2023\\06- COLABORADORES\\Gabriel\\1 - Processamento de dados\"}\n",
    "\n",
    "#definindo que a nova preferência seja atualizada\n",
    "options.add_experimental_option(\"prefs\", prefs)\n",
    "\n",
    "#definindo que o webdriver.chrome deve vir com as definições options\n",
    "nav = webdriver.Chrome(options=options)"
   ]
  },
  {
   "cell_type": "code",
   "execution_count": 3,
   "metadata": {},
   "outputs": [
    {
     "ename": "UnexpectedAlertPresentException",
     "evalue": "Alert Text: The user name or password is incorrect\nMessage: unexpected alert open: {Alert text : The user name or password is incorrect}\n  (Session info: chrome=126.0.6478.57)\nStacktrace:\n\tGetHandleVerifier [0x00007FF76B13EEA2+31554]\n\t(No symbol) [0x00007FF76B0B7ED9]\n\t(No symbol) [0x00007FF76AF7872A]\n\t(No symbol) [0x00007FF76B00D146]\n\t(No symbol) [0x00007FF76AFECDD3]\n\t(No symbol) [0x00007FF76AFBA33B]\n\t(No symbol) [0x00007FF76AFBAED1]\n\tGetHandleVerifier [0x00007FF76B448B1D+3217341]\n\tGetHandleVerifier [0x00007FF76B495AE3+3532675]\n\tGetHandleVerifier [0x00007FF76B48B0E0+3489152]\n\tGetHandleVerifier [0x00007FF76B1EE776+750614]\n\t(No symbol) [0x00007FF76B0C375F]\n\t(No symbol) [0x00007FF76B0BEB14]\n\t(No symbol) [0x00007FF76B0BECA2]\n\t(No symbol) [0x00007FF76B0AE16F]\n\tBaseThreadInitThunk [0x00007FFA39067374+20]\n\tRtlUserThreadStart [0x00007FFA39C7CC91+33]\n",
     "output_type": "error",
     "traceback": [
      "\u001b[1;31m---------------------------------------------------------------------------\u001b[0m",
      "\u001b[1;31mUnexpectedAlertPresentException\u001b[0m           Traceback (most recent call last)",
      "Cell \u001b[1;32mIn[3], line 16\u001b[0m\n\u001b[0;32m     14\u001b[0m nav\u001b[38;5;241m.\u001b[39mfind_element(\u001b[38;5;124m'\u001b[39m\u001b[38;5;124mxpath\u001b[39m\u001b[38;5;124m'\u001b[39m,\u001b[38;5;124m'\u001b[39m\u001b[38;5;124m//*[@id=\u001b[39m\u001b[38;5;124m\"\u001b[39m\u001b[38;5;124mbtnOk\u001b[39m\u001b[38;5;124m\"\u001b[39m\u001b[38;5;124m]\u001b[39m\u001b[38;5;124m'\u001b[39m)\u001b[38;5;241m.\u001b[39mclick()\n\u001b[0;32m     15\u001b[0m sleep(\u001b[38;5;241m3\u001b[39m)\n\u001b[1;32m---> 16\u001b[0m \u001b[43mnav\u001b[49m\u001b[38;5;241;43m.\u001b[39;49m\u001b[43mfind_element\u001b[49m\u001b[43m(\u001b[49m\u001b[38;5;124;43m'\u001b[39;49m\u001b[38;5;124;43mxpath\u001b[39;49m\u001b[38;5;124;43m'\u001b[39;49m\u001b[43m,\u001b[49m\u001b[43m \u001b[49m\u001b[38;5;124;43m'\u001b[39;49m\u001b[38;5;124;43m//*[@id=\u001b[39;49m\u001b[38;5;124;43m\"\u001b[39;49m\u001b[38;5;124;43mimbModuloP3\u001b[39;49m\u001b[38;5;124;43m\"\u001b[39;49m\u001b[38;5;124;43m]\u001b[39;49m\u001b[38;5;124;43m'\u001b[39;49m\u001b[43m)\u001b[49m\u001b[38;5;241m.\u001b[39mclick()\n\u001b[0;32m     17\u001b[0m sleep(\u001b[38;5;241m2\u001b[39m)\n\u001b[0;32m     18\u001b[0m element \u001b[38;5;241m=\u001b[39m WebDriverWait(nav, \u001b[38;5;241m5\u001b[39m)\u001b[38;5;241m.\u001b[39muntil(EC\u001b[38;5;241m.\u001b[39mpresence_of_element_located((By\u001b[38;5;241m.\u001b[39mXPATH, \u001b[38;5;124m'\u001b[39m\u001b[38;5;124m//*[@id=\u001b[39m\u001b[38;5;124m\"\u001b[39m\u001b[38;5;124mIcMessage\u001b[39m\u001b[38;5;124m\"\u001b[39m\u001b[38;5;124m]/table/tbody/tr/td[2]/div/img\u001b[39m\u001b[38;5;124m'\u001b[39m)))\n",
      "File \u001b[1;32mc:\\Users\\gamoura.AMCNET\\AppData\\Local\\Programs\\Python\\Python311\\Lib\\site-packages\\selenium\\webdriver\\remote\\webdriver.py:738\u001b[0m, in \u001b[0;36mWebDriver.find_element\u001b[1;34m(self, by, value)\u001b[0m\n\u001b[0;32m    735\u001b[0m     by \u001b[38;5;241m=\u001b[39m By\u001b[38;5;241m.\u001b[39mCSS_SELECTOR\n\u001b[0;32m    736\u001b[0m     value \u001b[38;5;241m=\u001b[39m \u001b[38;5;124mf\u001b[39m\u001b[38;5;124m'\u001b[39m\u001b[38;5;124m[name=\u001b[39m\u001b[38;5;124m\"\u001b[39m\u001b[38;5;132;01m{\u001b[39;00mvalue\u001b[38;5;132;01m}\u001b[39;00m\u001b[38;5;124m\"\u001b[39m\u001b[38;5;124m]\u001b[39m\u001b[38;5;124m'\u001b[39m\n\u001b[1;32m--> 738\u001b[0m \u001b[38;5;28;01mreturn\u001b[39;00m \u001b[38;5;28;43mself\u001b[39;49m\u001b[38;5;241;43m.\u001b[39;49m\u001b[43mexecute\u001b[49m\u001b[43m(\u001b[49m\u001b[43mCommand\u001b[49m\u001b[38;5;241;43m.\u001b[39;49m\u001b[43mFIND_ELEMENT\u001b[49m\u001b[43m,\u001b[49m\u001b[43m \u001b[49m\u001b[43m{\u001b[49m\u001b[38;5;124;43m\"\u001b[39;49m\u001b[38;5;124;43musing\u001b[39;49m\u001b[38;5;124;43m\"\u001b[39;49m\u001b[43m:\u001b[49m\u001b[43m \u001b[49m\u001b[43mby\u001b[49m\u001b[43m,\u001b[49m\u001b[43m \u001b[49m\u001b[38;5;124;43m\"\u001b[39;49m\u001b[38;5;124;43mvalue\u001b[39;49m\u001b[38;5;124;43m\"\u001b[39;49m\u001b[43m:\u001b[49m\u001b[43m \u001b[49m\u001b[43mvalue\u001b[49m\u001b[43m}\u001b[49m\u001b[43m)\u001b[49m[\u001b[38;5;124m\"\u001b[39m\u001b[38;5;124mvalue\u001b[39m\u001b[38;5;124m\"\u001b[39m]\n",
      "File \u001b[1;32mc:\\Users\\gamoura.AMCNET\\AppData\\Local\\Programs\\Python\\Python311\\Lib\\site-packages\\selenium\\webdriver\\remote\\webdriver.py:344\u001b[0m, in \u001b[0;36mWebDriver.execute\u001b[1;34m(self, driver_command, params)\u001b[0m\n\u001b[0;32m    342\u001b[0m response \u001b[38;5;241m=\u001b[39m \u001b[38;5;28mself\u001b[39m\u001b[38;5;241m.\u001b[39mcommand_executor\u001b[38;5;241m.\u001b[39mexecute(driver_command, params)\n\u001b[0;32m    343\u001b[0m \u001b[38;5;28;01mif\u001b[39;00m response:\n\u001b[1;32m--> 344\u001b[0m     \u001b[38;5;28;43mself\u001b[39;49m\u001b[38;5;241;43m.\u001b[39;49m\u001b[43merror_handler\u001b[49m\u001b[38;5;241;43m.\u001b[39;49m\u001b[43mcheck_response\u001b[49m\u001b[43m(\u001b[49m\u001b[43mresponse\u001b[49m\u001b[43m)\u001b[49m\n\u001b[0;32m    345\u001b[0m     response[\u001b[38;5;124m\"\u001b[39m\u001b[38;5;124mvalue\u001b[39m\u001b[38;5;124m\"\u001b[39m] \u001b[38;5;241m=\u001b[39m \u001b[38;5;28mself\u001b[39m\u001b[38;5;241m.\u001b[39m_unwrap_value(response\u001b[38;5;241m.\u001b[39mget(\u001b[38;5;124m\"\u001b[39m\u001b[38;5;124mvalue\u001b[39m\u001b[38;5;124m\"\u001b[39m, \u001b[38;5;28;01mNone\u001b[39;00m))\n\u001b[0;32m    346\u001b[0m     \u001b[38;5;28;01mreturn\u001b[39;00m response\n",
      "File \u001b[1;32mc:\\Users\\gamoura.AMCNET\\AppData\\Local\\Programs\\Python\\Python311\\Lib\\site-packages\\selenium\\webdriver\\remote\\errorhandler.py:228\u001b[0m, in \u001b[0;36mErrorHandler.check_response\u001b[1;34m(self, response)\u001b[0m\n\u001b[0;32m    226\u001b[0m     \u001b[38;5;28;01melif\u001b[39;00m \u001b[38;5;124m\"\u001b[39m\u001b[38;5;124malert\u001b[39m\u001b[38;5;124m\"\u001b[39m \u001b[38;5;129;01min\u001b[39;00m value:\n\u001b[0;32m    227\u001b[0m         alert_text \u001b[38;5;241m=\u001b[39m value[\u001b[38;5;124m\"\u001b[39m\u001b[38;5;124malert\u001b[39m\u001b[38;5;124m\"\u001b[39m]\u001b[38;5;241m.\u001b[39mget(\u001b[38;5;124m\"\u001b[39m\u001b[38;5;124mtext\u001b[39m\u001b[38;5;124m\"\u001b[39m)\n\u001b[1;32m--> 228\u001b[0m     \u001b[38;5;28;01mraise\u001b[39;00m exception_class(message, screen, stacktrace, alert_text)  \u001b[38;5;66;03m# type: ignore[call-arg]  # mypy is not smart enough here\u001b[39;00m\n\u001b[0;32m    229\u001b[0m \u001b[38;5;28;01mraise\u001b[39;00m exception_class(message, screen, stacktrace)\n",
      "\u001b[1;31mUnexpectedAlertPresentException\u001b[0m: Alert Text: The user name or password is incorrect\nMessage: unexpected alert open: {Alert text : The user name or password is incorrect}\n  (Session info: chrome=126.0.6478.57)\nStacktrace:\n\tGetHandleVerifier [0x00007FF76B13EEA2+31554]\n\t(No symbol) [0x00007FF76B0B7ED9]\n\t(No symbol) [0x00007FF76AF7872A]\n\t(No symbol) [0x00007FF76B00D146]\n\t(No symbol) [0x00007FF76AFECDD3]\n\t(No symbol) [0x00007FF76AFBA33B]\n\t(No symbol) [0x00007FF76AFBAED1]\n\tGetHandleVerifier [0x00007FF76B448B1D+3217341]\n\tGetHandleVerifier [0x00007FF76B495AE3+3532675]\n\tGetHandleVerifier [0x00007FF76B48B0E0+3489152]\n\tGetHandleVerifier [0x00007FF76B1EE776+750614]\n\t(No symbol) [0x00007FF76B0C375F]\n\t(No symbol) [0x00007FF76B0BEB14]\n\t(No symbol) [0x00007FF76B0BECA2]\n\t(No symbol) [0x00007FF76B0AE16F]\n\tBaseThreadInitThunk [0x00007FFA39067374+20]\n\tRtlUserThreadStart [0x00007FFA39C7CC91+33]\n"
     ]
    }
   ],
   "source": [
    "link = r'https://sgf-sp.bracell.com/sgf/'\n",
    "login = 'gamoura'\n",
    "password = 'Marte.04'\n",
    "#mazimizando a janela\n",
    "\n",
    "nav.maximize_window()\n",
    "#abrindo site\n",
    "nav.get(link)\n",
    "sleep(2)\n",
    "nav.find_element('xpath', '//*[@id=\"txtLogin\"]').send_keys(login)\n",
    "sleep(2)\n",
    "nav.find_element('xpath','//*[@id=\"txtSenha\"]').send_keys(password)\n",
    "sleep(2)\n",
    "nav.find_element('xpath','//*[@id=\"btnOk\"]').click()\n",
    "sleep(3)\n",
    "nav.find_element('xpath', '//*[@id=\"imbModuloP3\"]').click()\n",
    "sleep(2)\n",
    "element = WebDriverWait(nav, 5).until(EC.presence_of_element_located((By.XPATH, '//*[@id=\"IcMessage\"]/table/tbody/tr/td[2]/div/img')))\n",
    "element.click()\n",
    "sleep(2)\n",
    "nav.find_element('xpath','//*[@id=\"Menu1-menuItem005\"]/div').click()\n",
    "element1= WebDriverWait(nav,5).until(EC.presence_of_element_located((By.XPATH,'//*[@id=\"Menu1-menuItem005-subMenu-menuItem011\"]')))\n",
    "element1.click()"
   ]
  },
  {
   "cell_type": "code",
   "execution_count": null,
   "metadata": {},
   "outputs": [],
   "source": [
    "iframe = WebDriverWait(nav, 10).until(EC.presence_of_element_located((By.XPATH, '//*[@id=\"conteudo\"]')))\n",
    "nav.switch_to.frame(iframe)"
   ]
  },
  {
   "cell_type": "code",
   "execution_count": null,
   "metadata": {},
   "outputs": [],
   "source": [
    "import calendar\n",
    "hoje = datetime.datetime.now()\n",
    "mes = hoje.month\n",
    "ano = hoje.year\n",
    "_,num_dias = calendar.monthrange(ano,mes)\n",
    "max_dias = str(num_dias)\n",
    "mes = \"{:02d}\".format(mes)\n",
    "\n",
    "data_inicio = '01'+ str(mes)+ str(ano) + \" 00\" + \"00\"\n",
    "data_fim = str(max_dias)+ str(mes)+str(ano) + \"23\" + \"59\"\n",
    "\n",
    "data_inicio = '010320240000'\n",
    "data_fim = '310320242359'"
   ]
  },
  {
   "cell_type": "code",
   "execution_count": null,
   "metadata": {},
   "outputs": [],
   "source": [
    "element2 = WebDriverWait(nav, 10).until(EC.visibility_of_element_located((By.XPATH, '//*[@id=\"ctl03_ctl01_ctl03_DataChegadaBalanca\"]')))\n",
    "element2.send_keys(data_inicio)"
   ]
  },
  {
   "cell_type": "code",
   "execution_count": null,
   "metadata": {},
   "outputs": [],
   "source": [
    "element3 =WebDriverWait(nav,10).until(EC.presence_of_element_located((By.XPATH, '//*[@id=\"ctl03_ctl01_ctl03_DataChegadaBalancaATE\"]')))\n",
    "element3.send_keys(data_fim)"
   ]
  },
  {
   "cell_type": "code",
   "execution_count": null,
   "metadata": {},
   "outputs": [],
   "source": [
    "element4 = WebDriverWait(nav,10).until(EC.presence_of_element_located((By.XPATH, ' //*[@id=\"VwCuboDadosGuiaCemDao\"]/div/table/tbody/tr[2]/td[1]/a[1]/img')))\n",
    "element4.click()\n",
    "sleep(10)"
   ]
  },
  {
   "cell_type": "code",
   "execution_count": null,
   "metadata": {},
   "outputs": [],
   "source": [
    "element5 = WebDriverWait(nav,10).until(EC.presence_of_element_located((By.XPATH,'//*[@id=\"VwCuboDadosGuiaCemDao\"]/span/input[3]')))\n",
    "element5.click()\n",
    "sleep(20)"
   ]
  },
  {
   "cell_type": "code",
   "execution_count": null,
   "metadata": {},
   "outputs": [],
   "source": [
    "nav.quit()"
   ]
  },
  {
   "cell_type": "code",
   "execution_count": null,
   "metadata": {},
   "outputs": [],
   "source": [
    "path = r\"F:\\Qualidade_Florestal\\03- ADMINISTRATIVO\\2023\\06- COLABORADORES\\Gabriel\\1 - Processamento de dados\"\n",
    "arquivos = [os.path.join(path, arquivo) for arquivo in os.listdir(path)]\n",
    "arquivo_mais_recente = max(arquivos, key=os.path.getctime)"
   ]
  },
  {
   "cell_type": "code",
   "execution_count": null,
   "metadata": {},
   "outputs": [],
   "source": [
    "if arquivo_mais_recente.endswith('.zip'):\n",
    "    with zf.ZipFile(arquivo_mais_recente,\"r\") as z:\n",
    "        z.extractall(path)\n",
    "    os.remove(arquivo_mais_recente)"
   ]
  },
  {
   "cell_type": "code",
   "execution_count": null,
   "metadata": {},
   "outputs": [],
   "source": [
    "directory_path = 'F:/Qualidade_Florestal/03- ADMINISTRATIVO/2023/06- COLABORADORES/Gabriel/1 - Processamento de dados'\n",
    "\n",
    "for file_name in os.listdir(directory_path):\n",
    "    if 'gamoura' in file_name:\n",
    "        file_path = os.path.join(directory_path, file_name)"
   ]
  },
  {
   "cell_type": "code",
   "execution_count": null,
   "metadata": {},
   "outputs": [],
   "source": [
    "import locale\n",
    "\n",
    "# Defina o locale correto para o seu sistema operacional\n",
    "locale.setlocale(locale.LC_ALL, 'pt_BR.utf8')\n",
    "\n",
    "# Carregue a tabela HTML e especifique o locale\n",
    "tabela = pd.read_html(file_path, decimal=',', thousands='.', header=0, index_col=False)[0]"
   ]
  },
  {
   "cell_type": "code",
   "execution_count": null,
   "metadata": {},
   "outputs": [],
   "source": [
    "caminho_sgf = 'F:/Qualidade_Florestal/03- ADMINISTRATIVO/2023/06- COLABORADORES/Gabriel/1 - Processamento de dados/SGF_export {}.{}.xlsx'.format(mes, ano)\n",
    "sgf_export = tabela.to_excel(caminho_sgf, index=False)\n",
    "os.remove(file_path)"
   ]
  },
  {
   "cell_type": "code",
   "execution_count": null,
   "metadata": {},
   "outputs": [],
   "source": [
    "# Ler o arquivo original\n",
    "sgf = pd.read_excel(caminho_sgf)\n",
    "# Salvar em um novo arquivo com a nova aba\n",
    "with pd.ExcelWriter('F:/Qualidade_Florestal/03- ADMINISTRATIVO/2023/06- COLABORADORES/Gabriel/1 - Processamento de dados/SGF_export {}.{}.xlsx'.format(mes, ano), engine='xlsxwriter') as writer:\n",
    "    sgf.to_excel(writer, sheet_name='Export', index=False)"
   ]
  },
  {
   "cell_type": "code",
   "execution_count": null,
   "metadata": {},
   "outputs": [],
   "source": [
    "df_sgf = pd.DataFrame() # inicializa um dataframe vazio para armazenar a concatenação\n",
    "\n",
    "for arquivos in os.listdir(directory_path):\n",
    "    url = str(directory_path) + \"/\" + str(arquivos)\n",
    "    if \"SGF_export\" in arquivos:\n",
    "        concatenado = pd.read_excel(url)\n",
    "        df_sgf = pd.concat([df_sgf, concatenado], axis=0, ignore_index=True)"
   ]
  },
  {
   "cell_type": "code",
   "execution_count": null,
   "metadata": {},
   "outputs": [],
   "source": [
    "df_sgf['Talhão'] = df_sgf.apply(lambda x: x['Quadra/Pilha Origem'][-3:] if pd.isnull(x['Talhão']) else x['Talhão'], axis=1)"
   ]
  },
  {
   "cell_type": "code",
   "execution_count": null,
   "metadata": {},
   "outputs": [],
   "source": [
    "df_sgf['Projeto'] = df_sgf.apply(lambda x: x['Quadra/Pilha Origem'].split(\"-\")[1] if pd.isnull(x['Projeto']) else x['Projeto'], axis=1)"
   ]
  },
  {
   "cell_type": "code",
   "execution_count": null,
   "metadata": {},
   "outputs": [],
   "source": [
    "df_sgf['Id Projeto'] = df_sgf.apply(\n",
    "    lambda x: 1094 if \"caieiras\" in x['Projeto'].lower()  else\n",
    "    1110 if \"piracema\" in x['Projeto'].lower() else\n",
    "    1109 if \"guanabara\" in x['Projeto'].lower() else x[\"Id Projeto\"],\n",
    "    axis=1\n",
    ")"
   ]
  },
  {
   "cell_type": "code",
   "execution_count": null,
   "metadata": {},
   "outputs": [],
   "source": [
    "df_sgf.to_excel(r\"F:\\Qualidade_Florestal\\01- SÃO PAULO\\04- Logística, transporte e estradas\\00 - Bases de Trabalho\\export_sgf_carregamento.xlsx\" , sheet_name= \"Export\")"
   ]
  }
 ],
 "metadata": {
  "kernelspec": {
   "display_name": "Python 3",
   "language": "python",
   "name": "python3"
  },
  "language_info": {
   "codemirror_mode": {
    "name": "ipython",
    "version": 3
   },
   "file_extension": ".py",
   "mimetype": "text/x-python",
   "name": "python",
   "nbconvert_exporter": "python",
   "pygments_lexer": "ipython3",
   "version": "3.11.1"
  },
  "orig_nbformat": 4
 },
 "nbformat": 4,
 "nbformat_minor": 2
}
