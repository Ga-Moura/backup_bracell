{
 "cells": [
  {
   "cell_type": "code",
   "execution_count": 14,
   "metadata": {},
   "outputs": [],
   "source": [
    "import pandas as pd\n",
    "import os\n",
    "from reportlab.pdfgen import canvas\n",
    "from reportlab.lib.pagesizes import A4\n",
    "from reportlab.lib.colors import HexColor\n",
    "from matplotlib import pyplot as plt"
   ]
  },
  {
   "cell_type": "code",
   "execution_count": 15,
   "metadata": {},
   "outputs": [],
   "source": [
    "logo_bracel = r'F:\\Qualidade_Florestal\\03- ADMINISTRATIVO\\2023\\06- COLABORADORES\\Gabriel\\2 - Modelagem\\logo - Bracell.jpg'"
   ]
  },
  {
   "cell_type": "code",
   "execution_count": 16,
   "metadata": {},
   "outputs": [],
   "source": [
    "logo_msf = r'F:\\Qualidade_Florestal\\03- ADMINISTRATIVO\\2023\\06- COLABORADORES\\Gabriel\\2 - Modelagem\\logo msf jpg.jpg'"
   ]
  },
  {
   "cell_type": "code",
   "execution_count": 17,
   "metadata": {},
   "outputs": [],
   "source": [
    "foto_branco = r'F:\\Qualidade_Florestal\\03- ADMINISTRATIVO\\2023\\06- COLABORADORES\\Gabriel\\2 - Modelagem\\Imagem em Branco - Pdfs.png'"
   ]
  },
  {
   "cell_type": "code",
   "execution_count": 18,
   "metadata": {},
   "outputs": [],
   "source": [
    "path = r\"F:\\Qualidade_Florestal\\01- SÃO PAULO\\02- Silvicultura e Sobrevivência\\00 - Arquivos Surveys\\FormigaManualDosagem_attachments\""
   ]
  },
  {
   "cell_type": "code",
   "execution_count": 19,
   "metadata": {},
   "outputs": [],
   "source": [
    "path_fotos = []\n",
    "for i in os.listdir(path):\n",
    "    fotos= os.path.join(path,i)\n",
    "    path_fotos.append(fotos)\n",
    "\n",
    "base_fotos = pd.DataFrame(path_fotos)\n",
    "base_fotos = base_fotos.rename(columns={0: 'url'})"
   ]
  },
  {
   "cell_type": "code",
   "execution_count": 20,
   "metadata": {},
   "outputs": [],
   "source": [
    "base_fotos['nome_foto'] = base_fotos['url'].apply(lambda x: x.split(\"\\\\\")[-1] )\n",
    "base_fotos['tipo'] = base_fotos['nome_foto'].apply(lambda x: x.split(\"-\")[1] if len(x.split(\"-\")) > 1 else None)\n",
    "base_fotos['objectid'] = base_fotos['nome_foto'].apply(lambda x: x.split(\"-\")[0] if len(x.split(\"-\")) > 1 else -1).astype(int)\n",
    "base_fotos = base_fotos.loc[base_fotos['objectid'].notna()]"
   ]
  },
  {
   "cell_type": "code",
   "execution_count": 21,
   "metadata": {},
   "outputs": [],
   "source": [
    "base_fotos_assinatura = base_fotos.loc[base_fotos['tipo']=='assinatura']\n",
    "base_fotos_assinatura = base_fotos_assinatura.rename(columns={\"tipo\":\"tipo_assinatura\", 'url':'url_assinatura'})\n",
    "\n",
    "base_fotos_balanca = base_fotos.loc[base_fotos['tipo']=='balanca']\n",
    "base_fotos_balanca = base_fotos_balanca.rename(columns={\"tipo\":\"tipo_evidencia\", 'url':'balanca'})\n",
    "\n",
    "base_fotos_local_coleta = base_fotos.loc[base_fotos['tipo']=='local_coleta']\n",
    "base_fotos_local_coleta = base_fotos_local_coleta.rename(columns={'tipo':'tipo_coleta', 'url':'url_coleta'})\n",
    "\n",
    "base_fotos_avaliacao = base_fotos.loc[base_fotos['tipo']=='evidencia_avaliacao']\n",
    "base_fotos_avaliacao = base_fotos_avaliacao.rename(columns={'tipo':'tipo_avaliacao', 'url':'url_avaliacao'})"
   ]
  },
  {
   "cell_type": "code",
   "execution_count": 22,
   "metadata": {},
   "outputs": [],
   "source": [
    "url_base_att = r'F:\\Qualidade_Florestal\\01- SÃO PAULO\\02- Silvicultura e Sobrevivência\\00 - Arquivos Surveys\\Formiga_Manual_Dosagem_attachments.csv'"
   ]
  },
  {
   "cell_type": "code",
   "execution_count": 23,
   "metadata": {},
   "outputs": [],
   "source": [
    "url_base_survey = r'F:\\Qualidade_Florestal\\01- SÃO PAULO\\02- Silvicultura e Sobrevivência\\00 - Arquivos Surveys\\Formiga_Manual_Dosagem.xlsx'"
   ]
  },
  {
   "cell_type": "code",
   "execution_count": 24,
   "metadata": {},
   "outputs": [],
   "source": [
    "path_cadastro = r'F:\\Qualidade_Florestal\\03- ADMINISTRATIVO\\2023\\06- COLABORADORES\\Gabriel\\1 - Processamento de dados\\Cadastro Florestal.xlsx'"
   ]
  },
  {
   "cell_type": "code",
   "execution_count": 25,
   "metadata": {},
   "outputs": [],
   "source": [
    "base_att = pd.read_csv(url_base_att,delimiter=\",\")"
   ]
  },
  {
   "cell_type": "code",
   "execution_count": 26,
   "metadata": {},
   "outputs": [],
   "source": [
    "cadastro = pd.read_excel(path_cadastro)\n",
    "cadastro = cadastro[['Talhão','Id Projeto','Projeto','Região']]\n",
    "cadastro.loc[:, 'Talhão'] = cadastro['Talhão'].fillna('').astype(str).str.split('.').str[0].str.zfill(3)\n",
    "cadastro.loc[:,'Id Projeto'] = cadastro['Id Projeto'].fillna('').astype(str).str.split('.').str[0].str.zfill(4)\n",
    "cadastro[\"Projeto e Talhão\"] = cadastro['Id Projeto']+ cadastro['Talhão']"
   ]
  },
  {
   "cell_type": "code",
   "execution_count": 27,
   "metadata": {},
   "outputs": [],
   "source": [
    "import calendar\n",
    "import datetime\n",
    "hoje = datetime.datetime.now()\n",
    "mes = hoje.month\n",
    "ano = hoje.year\n",
    "_,num_dias = calendar.monthrange(ano,mes)\n",
    "max_dias = str(num_dias)\n",
    "mes = \"{:02d}\".format(mes)\n",
    "\n",
    "data_filtro = str(mes) +\"-\"+ str(ano)\n",
    "\n",
    "#data_filtro = '08-2023'"
   ]
  },
  {
   "cell_type": "code",
   "execution_count": 28,
   "metadata": {},
   "outputs": [],
   "source": [
    "##Filtro para o nível, não é necessário fazer todos os prints e sim apenas os que competem a função\n",
    "survey = pd.read_excel(url_base_survey)\n",
    "survey = survey[['objectid','fazenda', 'talhao','nivel','data', 'observacoes','regiao']]\n",
    "#survey = survey.loc[survey['nivel'] =='2° Nível']\n",
    "survey['mes_ano'] = survey['data'].dt.to_period('M')\n",
    "survey = survey.loc[survey['mes_ano'] == data_filtro ]\n",
    "survey['talhao'] = survey['talhao'].fillna('').astype(str).str.split('.').str[0].str.zfill(3)\n",
    "survey['nome_fazenda'] = survey['fazenda'].fillna('').astype(str).str.split('.').str[0].str.zfill(4)\n",
    "survey['Projeto e Talhão'] = survey['nome_fazenda']+ survey['talhao']\n",
    "survey['datahoje'] = survey['data'].dt.date\n",
    "survey['observacoes_gerais'] = survey['observacoes'].fillna(\"\")"
   ]
  },
  {
   "cell_type": "code",
   "execution_count": 29,
   "metadata": {},
   "outputs": [],
   "source": [
    "survey = survey.merge(cadastro, left_on='Projeto e Talhão', right_on='Projeto e Talhão', how = 'left')"
   ]
  },
  {
   "cell_type": "code",
   "execution_count": 30,
   "metadata": {},
   "outputs": [],
   "source": [
    "survey = survey.merge(base_fotos_assinatura[['url_assinatura','tipo_assinatura','objectid']], left_on='objectid', right_on='objectid',how='left')"
   ]
  },
  {
   "cell_type": "code",
   "execution_count": 31,
   "metadata": {},
   "outputs": [],
   "source": [
    "survey = survey.merge(base_fotos_avaliacao[['url_avaliacao','tipo_avaliacao','objectid']], left_on='objectid', right_on='objectid',how='left')"
   ]
  },
  {
   "cell_type": "code",
   "execution_count": 32,
   "metadata": {},
   "outputs": [],
   "source": [
    "survey = survey.merge(base_fotos_local_coleta[['url_coleta','tipo_coleta','objectid']],left_on='objectid',right_on='objectid',how='left')"
   ]
  },
  {
   "cell_type": "code",
   "execution_count": 33,
   "metadata": {},
   "outputs": [],
   "source": [
    "survey = survey.merge(base_fotos_balanca[['balanca','tipo_evidencia','objectid']],left_on='objectid',right_on='objectid', how='left')"
   ]
  },
  {
   "cell_type": "code",
   "execution_count": 34,
   "metadata": {},
   "outputs": [],
   "source": [
    "survey['url_assinatura'] = survey['url_assinatura'].apply(lambda x: foto_branco if pd.isnull(x) else x)\n",
    "survey['url_avaliacao'] = survey['url_avaliacao'].apply(lambda x: foto_branco if pd.isnull(x) else x)\n",
    "survey['url_coleta'] = survey['url_coleta'].apply(lambda x: foto_branco if pd.isnull(x) else x)\n",
    "survey['balanca'] = survey['balanca'].apply(lambda x: foto_branco if pd.isnull(x) else x)"
   ]
  },
  {
   "cell_type": "code",
   "execution_count": 35,
   "metadata": {},
   "outputs": [],
   "source": [
    "import os\n",
    "caminho_completo = os.path.abspath(r\"F:\\Qualidade_Florestal\\01- SÃO PAULO\\02- Silvicultura e Sobrevivência\\00 - Arquivos Surveys\\Arquivos PDF\\Formiga Manual Dosagem\")\n",
    "for arquivo in os.listdir(caminho_completo):\n",
    "    caminho_arquivo = os.path.join(caminho_completo, arquivo)\n",
    "    try:\n",
    "        os.remove(caminho_arquivo)\n",
    "    except OSError as e:\n",
    "        print(f\"Erro ao deletar arquivo {arquivo}: {e}\")"
   ]
  },
  {
   "cell_type": "code",
   "execution_count": 36,
   "metadata": {},
   "outputs": [
    {
     "name": "stdout",
     "output_type": "stream",
     "text": [
      "Erro ao processar arquivo para o objeto de identificação 9564: \n",
      "fileName=<_io.BufferedReader name='F:\\\\Qualidade_Florestal\\\\01- SÃO PAULO\\\\02- Silvicultura e Sobrevivência\\\\00 - Arquivos Surveys\\\\FormigaManualDosagem_attachments\\\\9564-evidencia_avaliacao-20231218-170958.jpg'> identity=[ImageReader@0x1a5800e0990] cannot identify image file <_io.BytesIO object at 0x000001A5FBBAD2B0>\n"
     ]
    }
   ],
   "source": [
    "for i, row in survey.iterrows():\n",
    "        try:\n",
    "                filename = 'CDI{} - {} {} - {} - {} - {}.pdf'.format(row['objectid'], row['Projeto'], row['Talhão'],row['nivel'],row['regiao'] ,row['datahoje'])\n",
    "                cnv = canvas.Canvas(r'F:\\Qualidade_Florestal\\01- SÃO PAULO\\02- Silvicultura e Sobrevivência\\00 - Arquivos Surveys\\Arquivos PDF\\Formiga Manual Dosagem/' + filename)\n",
    "                #cnv = canvas.Canvas(survey['Projeto'][0] + \" \" + str(survey['Talhão'][0]) + \" - \" + str(survey['datahoje'][0]) + '.pdf')\n",
    "                \n",
    "                if row['regiao'] == \"SP\":\n",
    "                        logo = logo_bracel\n",
    "                else:\n",
    "                        logo = logo_msf\n",
    "\n",
    "                cnv.drawImage(logo, 0,(820 - 25), width=100, height=25)\n",
    "                cnv.setFont(\"Helvetica-Bold\", 15)\n",
    "                cnv.drawString(110,(820-20), \"Evidência de Formiga Manual Dosagem\")\n",
    "                cor_linha = HexColor(\"#A4d061\")\n",
    "                cnv.setStrokeColor(cor_linha)\n",
    "                cnv.line(10,(820-40),596,(820-40))\n",
    "\n",
    "                cnv.drawString(10,(820-70), \"Código de Identificação:\")\n",
    "\n",
    "                cnv.setFont('Helvetica',13)\n",
    "                cnv.drawString(190,(820-70),str(row['objectid']))\n",
    "                cnv.setFont(\"Helvetica-Bold\", 15)\n",
    "                cnv.drawString(10,(820-100),\"Data:\")\n",
    "\n",
    "                cnv.setFont(\"Helvetica\", 13)\n",
    "                cnv.drawString(50,(820-100),str(row['datahoje']))\n",
    "\n",
    "\n",
    "                cnv.setFont(\"Helvetica-Bold\", 15)\n",
    "                cnv.drawString(10,(820-130),\"Fazenda:\")\n",
    "                cnv.setFont(\"Helvetica\", 13)\n",
    "                cnv.drawString(80,(820-130),str(row['Projeto']))\n",
    "\n",
    "                \n",
    "\n",
    "                cnv.setFont(\"Helvetica-Bold\", 15)\n",
    "                cnv.drawString(10,(820-160),\"Talhão:\")\n",
    "                cnv.setFont(\"Helvetica\", 13)\n",
    "                cnv.drawString(80,(820-160),str(row['Talhão']))\n",
    "\n",
    "\n",
    "                cnv.setFont(\"Helvetica-Bold\", 15)\n",
    "                cnv.drawString(10,(820-190),\"Região:\")\n",
    "                cnv.setFont(\"Helvetica\", 13)\n",
    "                cnv.drawString(80,(820-190),str(row['Região']))\n",
    "                \n",
    "\n",
    "                cnv.setFont(\"Helvetica\", 13)\n",
    "                cnv.drawString(40 ,(550),\"Evidência da Avaliação:\")\n",
    "\n",
    "        #Evidência Avaliação\n",
    "                cnv.drawImage(str(row['url_avaliacao']),40,(330),width=200 ,height=200)\n",
    "\n",
    "                \n",
    "\n",
    "                cnv.setFont('Helvetica',13)\n",
    "                cnv.drawString(360,(550),\"Local de Coleta:\")\n",
    "\n",
    "        #Adicionar imagem aqui\n",
    "                cnv.drawImage(str(row['url_coleta']),360,(330),width=200 ,height=200)\n",
    "                \n",
    "\n",
    "\n",
    "                cnv.setFont('Helvetica',13)\n",
    "                cnv.drawString(40,(300),\"Balança:\")\n",
    "\n",
    "        #Adicionar imagem aqui\n",
    "                cnv.drawImage(str(row['balanca']),40,80,width=200,height=200)\n",
    "\n",
    "                cnv.setFont('Helvetica',13)\n",
    "                cnv.drawString(360,(300),\"Assinatura:\")\n",
    "\n",
    "                cnv.drawImage(str(row['url_assinatura']),360,80,width=200,height=200)\n",
    "\n",
    "\n",
    "        #Adicionar imagem aqui\n",
    "\n",
    "                cnv.setFont('Helvetica',13)\n",
    "                cnv.drawString(250,(60),\"Observações\")\n",
    "\n",
    "                cnv.setFont('Helvetica',10)\n",
    "                cnv.drawString(100,(40), str(row['observacoes_gerais']))\n",
    "\n",
    "\n",
    "                cnv.save()\n",
    "        except Exception as e:\n",
    "                print(f\"Erro ao processar arquivo para o objeto de identificação {row['objectid']}: {e}\")\n",
    "                continue"
   ]
  }
 ],
 "metadata": {
  "kernelspec": {
   "display_name": "Python 3",
   "language": "python",
   "name": "python3"
  },
  "language_info": {
   "codemirror_mode": {
    "name": "ipython",
    "version": 3
   },
   "file_extension": ".py",
   "mimetype": "text/x-python",
   "name": "python",
   "nbconvert_exporter": "python",
   "pygments_lexer": "ipython3",
   "version": "3.11.1"
  },
  "orig_nbformat": 4
 },
 "nbformat": 4,
 "nbformat_minor": 2
}
