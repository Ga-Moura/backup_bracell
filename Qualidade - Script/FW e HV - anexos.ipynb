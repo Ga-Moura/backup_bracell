{
 "cells": [
  {
   "cell_type": "code",
   "execution_count": 1,
   "metadata": {},
   "outputs": [],
   "source": [
    "import pandas as pd\n",
    "import shutil\n",
    "import openpyxl as px \n",
    "import imghdr\n",
    "import os"
   ]
  },
  {
   "cell_type": "markdown",
   "metadata": {},
   "source": [
    "###  FW ###"
   ]
  },
  {
   "cell_type": "code",
   "execution_count": 2,
   "metadata": {},
   "outputs": [],
   "source": [
    "path = r'F:\\Qualidade_Florestal\\01- SÃO PAULO\\03- Colheita\\00 - Bases de Trabalho\\Bases de Apoio\\cadastro_fotos_fw.xlsx'"
   ]
  },
  {
   "cell_type": "code",
   "execution_count": 3,
   "metadata": {},
   "outputs": [],
   "source": [
    "df = pd.read_excel(path,engine='openpyxl')\n",
    "\n",
    "dtype = {\n",
    "    'objectid_operador': pd.Int32Dtype(),\n",
    "    'objectid_parcela':pd.Int32Dtype(),\n",
    "    'objectid_avaliacao':pd.Int32Dtype(),\n",
    "    'fazenda' : pd.Int32Dtype(),\n",
    "    'talhao' : pd.Int32Dtype(),\n",
    "    'operador' : pd.Int32Dtype()\n",
    "}\n",
    "\n",
    "df = df.astype(dtype= dtype ,errors= 'ignore')\n",
    "\n",
    "\n",
    "df['operador'] = df['operador'].fillna(0)"
   ]
  },
  {
   "cell_type": "code",
   "execution_count": 4,
   "metadata": {},
   "outputs": [],
   "source": [
    "parcelas = r'F:\\Qualidade_Florestal\\01- SÃO PAULO\\03- Colheita\\00 - Bases de Trabalho\\Madeira Não removida - FW'"
   ]
  },
  {
   "cell_type": "code",
   "execution_count": 5,
   "metadata": {},
   "outputs": [],
   "source": [
    "operadores = r'F:\\Qualidade_Florestal\\01- SÃO PAULO\\03- Colheita\\00 - Bases de Trabalho\\Nota operadores -FW'"
   ]
  },
  {
   "cell_type": "code",
   "execution_count": 6,
   "metadata": {},
   "outputs": [],
   "source": [
    "fotos_parcela = os.listdir(parcelas)"
   ]
  },
  {
   "cell_type": "code",
   "execution_count": 7,
   "metadata": {},
   "outputs": [
    {
     "name": "stdout",
     "output_type": "stream",
     "text": [
      "O arquivo 396-foto_madeira_sinistro-20240118-190516.jpg não foi encontrado\n",
      "O arquivo 56-foto_madeira_sinistro-20240103-114646.jpg não foi encontrado\n",
      "O arquivo 56-foto_tora_comercial_process-20240103-114435.jpg não foi encontrado\n",
      "O arquivo 56-foto_tora_curta_processada-20240103-114513.jpg não foi encontrado\n",
      "O arquivo 917-foto_madeira_sinistro-20240214-133155.jpg não foi encontrado\n",
      "O arquivo 917-foto_tora_comercial_process-20240214-133105.jpg não foi encontrado\n",
      "O arquivo 918-foto_madeira_sinistro-20240214-133838.jpg não foi encontrado\n",
      "O arquivo 919-foto_madeira_sinistro-20240214-134849.jpg não foi encontrado\n",
      "O arquivo 920-foto_madeira_sinistro-20240214-135355.jpg não foi encontrado\n",
      "O arquivo 921-foto_madeira_sinistro-20240214-140442.jpg não foi encontrado\n",
      "O arquivo 925-foto_tora_curta_processada-20240214-143057.jpg não foi encontrado\n",
      "O arquivo 927-foto_tora_curta_processada-20240214-144746.jpg não foi encontrado\n",
      "O arquivo 928-foto_tora_comercial_process-20240214-145506.jpg não foi encontrado\n",
      "O arquivo 929-foto_tora_comercial_process-20240214-150159.jpg não foi encontrado\n",
      "O arquivo 929-foto_tora_curta_processada-20240214-150217.jpg não foi encontrado\n"
     ]
    }
   ],
   "source": [
    "for imagem in os.listdir(parcelas):\n",
    "    if imghdr.what(os.path.join(parcelas, imagem)):\n",
    "        for index, objectid in enumerate(df[\"objectid_parcela\"]):\n",
    "            if str(objectid) == str(imagem).split(\"-\")[0]:\n",
    "                novo_nome = str(df['avaliacao'][index]) + \" - \"+ str(df[\"modulo_baldeio\"][index]) + \" - \" + str(df['fazenda'][index])+ \" - \" + str(df['talhao'][index]) + \" - \" + str(imagem)\n",
    "                novo_nome = novo_nome.replace(\"/\", \"-\")  # substitui o ponto por hífen\n",
    "                try:\n",
    "                    shutil.move(os.path.join(parcelas, imagem), os.path.join(parcelas, novo_nome))\n",
    "                except Exception:\n",
    "                    print(f\"O arquivo {imagem} não foi encontrado\")\n",
    "                break\n",
    "    else:\n",
    "        print(f\"O arquivo {imagem} não é uma imagem\")"
   ]
  },
  {
   "cell_type": "code",
   "execution_count": 8,
   "metadata": {},
   "outputs": [],
   "source": [
    "for imagem in os.listdir(operadores):\n",
    "    if imghdr.what(os.path.join(operadores, imagem)):\n",
    "        for index, objectid in enumerate(df[\"objectid_operador\"]):\n",
    "            if str(objectid) == str(imagem).split(\"-\")[0]:\n",
    "                novo_nome = str(df['avaliacao'][index]) + \" - \"+ str(df[\"modulo_baldeio\"][index]) + \" - \" + str(df['operador'][index]) + \" - \" + str(df['fazenda'][index])+ \" - \" + str(df['talhao'][index]) + \" - \" + str(imagem)\n",
    "                novo_nome = novo_nome.replace(\"/\", \"-\")  # substitui o ponto por hífen\n",
    "                try:\n",
    "                    shutil.move(os.path.join(operadores, imagem), os.path.join(operadores, novo_nome))\n",
    "                except Exception:\n",
    "                    print(f\"O arquivo {imagem} não foi encontrado\")\n",
    "                break\n",
    "    else:\n",
    "        print(f\"O arquivo {imagem} não é uma imagem\")"
   ]
  },
  {
   "cell_type": "markdown",
   "metadata": {},
   "source": [
    "### HV ###"
   ]
  },
  {
   "cell_type": "code",
   "execution_count": 9,
   "metadata": {},
   "outputs": [],
   "source": [
    "path_hv = r'F:\\Qualidade_Florestal\\01- SÃO PAULO\\03- Colheita\\00 - Bases de Trabalho\\Bases de Apoio\\cadastro_fotos_hv.xlsx'"
   ]
  },
  {
   "cell_type": "code",
   "execution_count": 10,
   "metadata": {},
   "outputs": [],
   "source": [
    "feixe = pd.read_excel(path_hv, engine= 'openpyxl')"
   ]
  },
  {
   "cell_type": "code",
   "execution_count": 11,
   "metadata": {},
   "outputs": [],
   "source": [
    "dtype = {\n",
    "    'objectid_feixe': pd.Int32Dtype(),\n",
    "    'fazenda' : pd.Int32Dtype(),\n",
    "    'talhao' : pd.Int32Dtype(),\n",
    "    'operador' : pd.Int32Dtype(),\n",
    "    }\n",
    "\n",
    "feixe = feixe.astype(dtype = dtype, errors = 'ignore')"
   ]
  },
  {
   "cell_type": "code",
   "execution_count": 12,
   "metadata": {},
   "outputs": [],
   "source": [
    "feixe_fotos = r'F:\\Qualidade_Florestal\\01- SÃO PAULO\\03- Colheita\\00 - Bases de Trabalho\\Avaliação - HV'"
   ]
  },
  {
   "cell_type": "code",
   "execution_count": 13,
   "metadata": {},
   "outputs": [
    {
     "name": "stdout",
     "output_type": "stream",
     "text": [
      "O arquivo 14718-foto_feixe-20240212-165958.jpg não foi encontrado\n",
      "O arquivo 14719-foto_feixe-20240212-170105.jpg não foi encontrado\n",
      "O arquivo 14720-foto_feixe-20240212-170206.jpg não foi encontrado\n",
      "O arquivo 14721-foto_feixe-20240212-170307.jpg não foi encontrado\n",
      "O arquivo 14722-foto_feixe-20240212-170401.jpg não foi encontrado\n",
      "O arquivo 14723-foto_feixe-20240212-170505.jpg não foi encontrado\n",
      "O arquivo 14724-foto_feixe-20240212-170644.jpg não foi encontrado\n",
      "O arquivo 14725-foto_feixe-20240212-170747.jpg não foi encontrado\n",
      "O arquivo 14726-foto_feixe-20240212-170842.jpg não foi encontrado\n",
      "O arquivo 14727-foto_feixe-20240212-170959.jpg não foi encontrado\n",
      "O arquivo 18608-foto_feixe-20240225-213311.jpg não foi encontrado\n",
      "O arquivo 18609-foto_feixe-20240225-213403.jpg não foi encontrado\n",
      "O arquivo 18610-foto_feixe-20240225-213458.jpg não foi encontrado\n",
      "O arquivo 18611-foto_feixe-20240225-213541.jpg não foi encontrado\n",
      "O arquivo 18612-foto_feixe-20240225-213622.jpg não foi encontrado\n",
      "O arquivo 18613-foto_feixe-20240225-213700.jpg não foi encontrado\n",
      "O arquivo 18614-foto_feixe-20240225-213745.jpg não foi encontrado\n",
      "O arquivo 18615-foto_feixe-20240225-213820.jpg não foi encontrado\n",
      "O arquivo 18616-foto_feixe-20240225-213903.jpg não foi encontrado\n",
      "O arquivo 18617-foto_feixe-20240225-213953.jpg não foi encontrado\n",
      "O arquivo 27007-foto_feixe-20240323-140302.jpg não foi encontrado\n",
      "O arquivo 27008-foto_feixe-20240323-140351.jpg não foi encontrado\n",
      "O arquivo 27009-foto_feixe-20240323-140442.jpg não foi encontrado\n",
      "O arquivo 27010-foto_feixe-20240323-140535.jpg não foi encontrado\n",
      "O arquivo 27011-foto_feixe-20240323-140622.jpg não foi encontrado\n",
      "O arquivo 27012-foto_feixe-20240323-140721.jpg não foi encontrado\n",
      "O arquivo 27013-foto_feixe-20240323-140811.jpg não foi encontrado\n",
      "O arquivo 27014-foto_feixe-20240323-140905.jpg não foi encontrado\n",
      "O arquivo 27015-foto_feixe-20240323-141003.jpg não foi encontrado\n",
      "O arquivo 27016-foto_feixe-20240323-141149.jpg não foi encontrado\n",
      "O arquivo 32567-foto_feixe-20240410-181750.jpg não foi encontrado\n",
      "O arquivo 32708-foto_feixe-20240410-091317.jpg não foi encontrado\n",
      "O arquivo 32709-foto_feixe-20240410-091351.jpg não foi encontrado\n",
      "O arquivo 32710-foto_feixe-20240410-091445.jpg não foi encontrado\n",
      "O arquivo 32711-foto_feixe-20240410-091518.jpg não foi encontrado\n",
      "O arquivo 32712-foto_feixe-20240410-091605.jpg não foi encontrado\n",
      "O arquivo 32713-foto_feixe-20240410-091812.jpg não foi encontrado\n",
      "O arquivo 32714-foto_feixe-20240410-091847.jpg não foi encontrado\n",
      "O arquivo 32715-foto_feixe-20240410-091943.jpg não foi encontrado\n",
      "O arquivo 32716-foto_feixe-20240410-092044.jpg não foi encontrado\n",
      "O arquivo 32717-foto_feixe-20240410-092118.jpg não foi encontrado\n",
      "O arquivo 33228-foto_feixe-20240412-145042.jpg não foi encontrado\n",
      "O arquivo 33229-foto_feixe-20240412-145112.jpg não foi encontrado\n",
      "O arquivo 33230-foto_feixe-20240412-145144.jpg não foi encontrado\n",
      "O arquivo 33231-foto_feixe-20240412-145223.jpg não foi encontrado\n",
      "O arquivo 33232-foto_feixe-20240412-145257.jpg não foi encontrado\n",
      "O arquivo 33233-foto_feixe-20240412-145332.jpg não foi encontrado\n",
      "O arquivo 33234-foto_feixe-20240412-145401.jpg não foi encontrado\n",
      "O arquivo 33235-foto_feixe-20240412-145443.jpg não foi encontrado\n",
      "O arquivo 33236-foto_feixe-20240412-145512.jpg não foi encontrado\n",
      "O arquivo 33237-foto_feixe-20240412-145553.jpg não foi encontrado\n",
      "O arquivo 37088-foto_feixe-20240423-124714.jpg não foi encontrado\n",
      "O arquivo 37089-foto_feixe-20240423-124914.jpg não foi encontrado\n",
      "O arquivo 37090-foto_feixe-20240423-125225.jpg não foi encontrado\n",
      "O arquivo 37091-foto_feixe-20240423-125423.jpg não foi encontrado\n",
      "O arquivo 37092-foto_altura_toco-20240423-125557.jpg não foi encontrado\n",
      "O arquivo 37092-foto_feixe-20240423-125648.jpg não foi encontrado\n",
      "O arquivo 37093-foto_altura_toco-20240423-125816.jpg não foi encontrado\n",
      "O arquivo 37093-foto_feixe-20240423-130021.jpg não foi encontrado\n",
      "O arquivo 37094-foto_feixe-20240423-130156.jpg não foi encontrado\n",
      "O arquivo 37095-foto_feixe-20240423-130424.jpg não foi encontrado\n",
      "O arquivo 37096-foto_feixe-20240423-130541.jpg não foi encontrado\n",
      "O arquivo 37097-foto_feixe-20240423-130629.jpg não foi encontrado\n",
      "O arquivo 37128-foto_feixe-20240423-143026.jpg não foi encontrado\n",
      "O arquivo 37129-foto_feixe-20240423-143143.jpg não foi encontrado\n",
      "O arquivo 37130-foto_feixe-20240423-143304.jpg não foi encontrado\n",
      "O arquivo 37131-foto_feixe-20240423-143436.jpg não foi encontrado\n",
      "O arquivo 37132-foto_feixe-20240423-143551.jpg não foi encontrado\n",
      "O arquivo 37133-foto_feixe-20240423-143654.jpg não foi encontrado\n",
      "O arquivo 37134-foto_feixe-20240423-143753.jpg não foi encontrado\n",
      "O arquivo 37135-foto_feixe-20240423-143826.jpg não foi encontrado\n",
      "O arquivo 37136-foto_feixe-20240423-143927.jpg não foi encontrado\n",
      "O arquivo 37137-foto_feixe-20240423-144027.jpg não foi encontrado\n",
      "O arquivo 37198-foto_feixe-20240423-175558.jpg não foi encontrado\n",
      "O arquivo 37199-foto_feixe-20240423-175632.jpg não foi encontrado\n",
      "O arquivo 37200-foto_feixe-20240423-175712.jpg não foi encontrado\n",
      "O arquivo 37201-foto_feixe-20240423-175751.jpg não foi encontrado\n",
      "O arquivo 37202-foto_altura_toco-20240423-175840.jpg não foi encontrado\n",
      "O arquivo 37202-foto_feixe-20240423-175927.jpg não foi encontrado\n",
      "O arquivo 37203-foto_altura_toco-20240423-180001.jpg não foi encontrado\n",
      "O arquivo 37203-foto_feixe-20240423-180022.jpg não foi encontrado\n",
      "O arquivo 37204-foto_feixe-20240423-180125.jpg não foi encontrado\n",
      "O arquivo 37205-foto_feixe-20240423-180224.jpg não foi encontrado\n",
      "O arquivo 37206-foto_feixe-20240423-180321.jpg não foi encontrado\n",
      "O arquivo 37207-foto_feixe-20240423-180431.jpg não foi encontrado\n",
      "O arquivo 38979-foto_feixe-20240429-132342.jpg não foi encontrado\n",
      "O arquivo 38980-foto_feixe-20240429-132420.jpg não foi encontrado\n",
      "O arquivo 38981-foto_feixe-20240429-132533.jpg não foi encontrado\n",
      "O arquivo 38982-foto_feixe-20240429-132651.jpg não foi encontrado\n",
      "O arquivo 38983-foto_feixe-20240429-132740.jpg não foi encontrado\n",
      "O arquivo 38984-foto_feixe-20240429-132832.jpg não foi encontrado\n",
      "O arquivo 38985-foto_feixe-20240429-133052.jpg não foi encontrado\n",
      "O arquivo 38986-foto_feixe-20240429-133143.jpg não foi encontrado\n",
      "O arquivo 38987-foto_feixe-20240429-133215.jpg não foi encontrado\n",
      "O arquivo 38988-foto_feixe-20240429-133300.jpg não foi encontrado\n",
      "O arquivo 39179-foto_feixe-20240430-150040.jpg não foi encontrado\n",
      "O arquivo 39180-foto_feixe-20240430-150121.jpg não foi encontrado\n",
      "O arquivo 39181-foto_feixe-20240430-150229.jpg não foi encontrado\n",
      "O arquivo 39182-foto_feixe-20240430-150306.jpg não foi encontrado\n",
      "O arquivo 39183-foto_feixe-20240430-150340.jpg não foi encontrado\n",
      "O arquivo 39184-foto_feixe-20240430-150411.jpg não foi encontrado\n",
      "O arquivo 39185-foto_feixe-20240430-151613.jpg não foi encontrado\n",
      "O arquivo 39186-foto_feixe-20240430-152914.jpg não foi encontrado\n",
      "O arquivo 39187-foto_feixe-20240430-153006.jpg não foi encontrado\n",
      "O arquivo 39188-foto_feixe-20240430-153052.jpg não foi encontrado\n",
      "O arquivo 40218-foto_feixe-20240502-101329.jpg não foi encontrado\n",
      "O arquivo 40219-foto_feixe-20240502-101418.jpg não foi encontrado\n",
      "O arquivo 40220-foto_feixe-20240502-101454.jpg não foi encontrado\n",
      "O arquivo 40221-foto_feixe-20240502-101532.jpg não foi encontrado\n",
      "O arquivo 40222-foto_feixe-20240502-101645.jpg não foi encontrado\n",
      "O arquivo 40223-foto_feixe-20240502-101728.jpg não foi encontrado\n",
      "O arquivo 40224-foto_feixe-20240502-101800.jpg não foi encontrado\n",
      "O arquivo 40225-foto_feixe-20240502-101902.jpg não foi encontrado\n",
      "O arquivo 40226-foto_feixe-20240502-101935.jpg não foi encontrado\n",
      "O arquivo 40227-foto_feixe-20240502-102014.jpg não foi encontrado\n",
      "O arquivo 41648-foto_feixe-20240508-140051.jpg não foi encontrado\n",
      "O arquivo 41649-foto_feixe-20240508-140158.jpg não foi encontrado\n",
      "O arquivo 41650-foto_feixe-20240508-140259.jpg não foi encontrado\n",
      "O arquivo 41651-foto_altura_toco-20240508-140441.jpg não foi encontrado\n",
      "O arquivo 41651-foto_feixe-20240508-140354.jpg não foi encontrado\n",
      "O arquivo 41652-foto_altura_toco-20240508-140546.jpg não foi encontrado\n",
      "O arquivo 41652-foto_feixe-20240508-140502.jpg não foi encontrado\n",
      "O arquivo 41653-foto_altura_toco-20240508-140708.jpg não foi encontrado\n",
      "O arquivo 41653-foto_feixe-20240508-140620.jpg não foi encontrado\n",
      "O arquivo 41654-foto_feixe-20240508-140732.jpg não foi encontrado\n",
      "O arquivo 41655-foto_altura_toco-20240508-140842.jpg não foi encontrado\n",
      "O arquivo 41655-foto_feixe-20240508-140807.jpg não foi encontrado\n",
      "O arquivo 41656-foto_feixe-20240508-140909.jpg não foi encontrado\n",
      "O arquivo 41657-foto_altura_toco-20240508-141020.jpg não foi encontrado\n",
      "O arquivo 41657-foto_feixe-20240508-140939.jpg não foi encontrado\n",
      "O arquivo 43228-foto_feixe-20240513-122348.jpg não foi encontrado\n",
      "O arquivo 43229-foto_feixe-20240513-122419.jpg não foi encontrado\n",
      "O arquivo 43230-foto_feixe-20240513-122448.jpg não foi encontrado\n",
      "O arquivo 43231-foto_feixe-20240513-122517.jpg não foi encontrado\n",
      "O arquivo 43232-foto_feixe-20240513-122638.jpg não foi encontrado\n",
      "O arquivo 43233-foto_feixe-20240513-122707.jpg não foi encontrado\n",
      "O arquivo 43234-foto_feixe-20240513-122743.jpg não foi encontrado\n",
      "O arquivo 43235-foto_feixe-20240513-122858.jpg não foi encontrado\n",
      "O arquivo 43236-foto_feixe-20240513-123054.jpg não foi encontrado\n",
      "O arquivo 43237-foto_feixe-20240513-123129.jpg não foi encontrado\n",
      "O arquivo 4417-foto_feixe-20240105-171244.jpg não foi encontrado\n",
      "O arquivo 4418-foto_feixe-20240105-171327.jpg não foi encontrado\n",
      "O arquivo 4419-foto_feixe-20240105-171427.jpg não foi encontrado\n",
      "O arquivo 4422-foto_feixe-20240105-171702.jpg não foi encontrado\n",
      "O arquivo 4424-foto_feixe-20240105-171830.jpg não foi encontrado\n",
      "O arquivo 44658-foto_feixe-20240518-205420.jpg não foi encontrado\n",
      "O arquivo 44659-foto_feixe-20240518-205511.jpg não foi encontrado\n",
      "O arquivo 44660-foto_feixe-20240518-205605.jpg não foi encontrado\n",
      "O arquivo 44661-foto_feixe-20240518-205647.jpg não foi encontrado\n",
      "O arquivo 44662-foto_feixe-20240518-205734.jpg não foi encontrado\n",
      "O arquivo 44663-foto_feixe-20240518-205827.jpg não foi encontrado\n",
      "O arquivo 44664-foto_feixe-20240518-205925.jpg não foi encontrado\n",
      "O arquivo 44665-foto_feixe-20240518-210006.jpg não foi encontrado\n",
      "O arquivo 44666-foto_feixe-20240518-210052.jpg não foi encontrado\n",
      "O arquivo 44667-foto_feixe-20240518-210133.jpg não foi encontrado\n"
     ]
    }
   ],
   "source": [
    "for imagem in os.listdir(feixe_fotos):\n",
    "    if imghdr.what(os.path.join(feixe_fotos, imagem)):\n",
    "        for index, objectid in enumerate(feixe[\"objectid_feixe\"]):\n",
    "            if str(objectid) == str(imagem).split(\"-\")[0]:\n",
    "                novo_nome = str(feixe['nivel_avaliacao'][index]) + \" - \"+ str(feixe[\"modulo_corte\"][index]) + \" - \" +str(feixe['cod_maquina'][index]) +\" - \" + str(feixe['operador'][index]) + \" - \" + str(feixe['fazenda'][index])+ \" - \" + str(feixe['talhao'][index]) + \" - \" + str(imagem)\n",
    "                novo_nome = novo_nome.replace(\"/\", \"-\")  # substitui o ponto por hífen\n",
    "                try:\n",
    "                    shutil.move(os.path.join(feixe_fotos, imagem), os.path.join(feixe_fotos, novo_nome))\n",
    "                except Exception:\n",
    "                    print(f\"O arquivo {imagem} não foi encontrado\")\n",
    "                break\n",
    "    else:\n",
    "        print(f\"O arquivo {imagem} não é uma imagem\")"
   ]
  },
  {
   "cell_type": "markdown",
   "metadata": {},
   "source": [
    "### FIM HV ###"
   ]
  }
 ],
 "metadata": {
  "kernelspec": {
   "display_name": "Python 3",
   "language": "python",
   "name": "python3"
  },
  "language_info": {
   "codemirror_mode": {
    "name": "ipython",
    "version": 3
   },
   "file_extension": ".py",
   "mimetype": "text/x-python",
   "name": "python",
   "nbconvert_exporter": "python",
   "pygments_lexer": "ipython3",
   "version": "3.7.11"
  }
 },
 "nbformat": 4,
 "nbformat_minor": 2
}
