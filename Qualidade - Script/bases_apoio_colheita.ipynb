{
 "cells": [
  {
   "cell_type": "code",
   "execution_count": 1,
   "metadata": {},
   "outputs": [],
   "source": [
    "import pandas as pd\n",
    "import os\n",
    "import openpyxl as px\n"
   ]
  },
  {
   "cell_type": "code",
   "execution_count": 2,
   "metadata": {},
   "outputs": [],
   "source": [
    "path_estoque = r\"F:\\Qualidade_Florestal\\01- SÃO PAULO\\03- Colheita\\00 - Bases de Trabalho\\Bases de Apoio\\[204]+COL+-+Estoque+de+Madeira+no+Campo+por+Talhão+sem+Manejo (3).xls\"\n",
    "\n",
    "path_cto_c = r\"F:\\Qualidade_Florestal\\01- SÃO PAULO\\03- Colheita\\00 - Bases de Trabalho\\Bases de Apoio\\[257]+copy+of+Colheita+-+CTO (2).xls\"\n",
    "\n",
    "path_cto_b = r\"F:\\Qualidade_Florestal\\01- SÃO PAULO\\03- Colheita\\00 - Bases de Trabalho\\Bases de Apoio\\[263]+CTO+BALDEIO (2).xls\"\n"
   ]
  },
  {
   "cell_type": "code",
   "execution_count": 3,
   "metadata": {},
   "outputs": [],
   "source": [
    "estoque = pd.read_excel(path_estoque, thousands=\".\", decimal=\",\", index_col=False, skiprows=2)\n",
    "\n",
    "cols_estoque = set(estoque)\n",
    "\n",
    "cols_validas_estoque = []\n",
    "\n",
    "for i in cols_estoque:\n",
    "    if \"Unnamed\" not in i:\n",
    "        cols_validas_estoque.append(i)\n",
    "\n",
    "#filtrando as colunas e ordenando de forma alfabética\n",
    "\n",
    "estoque = estoque[sorted(cols_validas_estoque)]\n",
    "\n",
    "estoque.to_excel(r\"F:\\Qualidade_Florestal\\01- SÃO PAULO\\03- Colheita\\00 - Bases de Trabalho\\Bases de Apoio\\estoque_de_madeira.xlsx\",index=False)\n"
   ]
  },
  {
   "cell_type": "code",
   "execution_count": 4,
   "metadata": {},
   "outputs": [],
   "source": [
    "cto_c = pd.read_excel(path_cto_c, thousands=\".\", decimal=\",\", index_col=False)\n",
    "\n",
    "cto_c.to_excel(r\"F:\\Qualidade_Florestal\\01- SÃO PAULO\\03- Colheita\\00 - Bases de Trabalho\\Bases de Apoio\\cto_colheita.xlsx\",index = False)"
   ]
  },
  {
   "cell_type": "code",
   "execution_count": 5,
   "metadata": {},
   "outputs": [],
   "source": [
    "cto_b = pd.read_excel(path_cto_b, thousands=\".\" , decimal=\",\", index_col=False)\n",
    "\n",
    "cto_b.to_excel(r\"F:\\Qualidade_Florestal\\01- SÃO PAULO\\03- Colheita\\00 - Bases de Trabalho\\Bases de Apoio\\cto_baldeio.xlsx\",index=False)"
   ]
  }
 ],
 "metadata": {
  "kernelspec": {
   "display_name": "Python 3",
   "language": "python",
   "name": "python3"
  },
  "language_info": {
   "codemirror_mode": {
    "name": "ipython",
    "version": 3
   },
   "file_extension": ".py",
   "mimetype": "text/x-python",
   "name": "python",
   "nbconvert_exporter": "python",
   "pygments_lexer": "ipython3",
   "version": "3.11.1"
  }
 },
 "nbformat": 4,
 "nbformat_minor": 2
}
