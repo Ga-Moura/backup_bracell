{
 "cells": [
  {
   "cell_type": "code",
   "execution_count": 1,
   "id": "ccee492d",
   "metadata": {},
   "outputs": [],
   "source": [
    "import selenium\n",
    "from selenium import webdriver\n",
    "import time\n",
    "import pandas as pd\n",
    "import os\n",
    "import openpyxl\n",
    "from openpyxl import load_workbook"
   ]
  },
  {
   "cell_type": "code",
   "execution_count": 2,
   "id": "ca595503",
   "metadata": {},
   "outputs": [],
   "source": [
    "#criando o web driver\n",
    "options = webdriver.ChromeOptions()\n",
    "\n",
    "#atualizando a preferência\n",
    "prefs = {\"download.default_directory\": r\"F:\\Qualidade_Florestal\\03- ADMINISTRATIVO\\2023\\06- COLABORADORES\\Gabriel\\1 - Processamento de dados\"}\n",
    "\n",
    "#definindo que a nova preferência seja atualizada\n",
    "options.add_experimental_option(\"prefs\", prefs)\n",
    "\n",
    "#definindo que o webdriver.chrome deve vir com as definições options\n",
    "nav = webdriver.Chrome(options=options)"
   ]
  },
  {
   "cell_type": "code",
   "execution_count": 3,
   "id": "3c4c58e8",
   "metadata": {},
   "outputs": [],
   "source": [
    "#maximize a janela\n",
    "nav.maximize_window()\n",
    "#abrindo site\n",
    "nav.get(r\"https://eflorestal-my.sharepoint.com/:f:/g/personal/resultados_eflorestal_onmicrosoft_com/EsKFrQ07MoZEqMoW8iAh8vYBsc8rlIFXkG3evAtxGJ21Cg?e=OXeBDH\")\n",
    "time.sleep(5)\n",
    "#selecionando pasta controle de produção\n",
    "nav.find_element(\"xpath\", '//*[@id=\"appRoot\"]/div/div[2]/div/div/div[2]/div[2]/main/div/div/div[2]/div/div/div/div/div[2]/div/div/div/div[1]/div/div/div[3]').click()\n",
    "time.sleep(5)\n",
    "\n",
    "#Clicando na pasta\n",
    "nav.find_element(\"xpath\",'//*[@id=\"appRoot\"]/div/div[2]/div/div/div[2]/div[2]/main/div/div/div[2]/div/div/div/div/div[2]/div/div/div/div[5]/div/div/div[1]/div/div/i[2]').click()\n",
    "time.sleep(5)\n",
    "#clicando para Donwload\n",
    "\n",
    "nav.find_element('xpath', '//*[@id=\"appRoot\"]/div/div[2]/div/div/div[2]/div[1]/div/div/div/div/div/div[1]/div[3]/button/span/span').click()\n",
    "time.sleep(15)\n",
    "#Fechar o executor\n",
    "nav.quit()"
   ]
  },
  {
   "cell_type": "code",
   "execution_count": 4,
   "id": "e65df43c",
   "metadata": {},
   "outputs": [],
   "source": [
    "#alterando o arquivo de xlxb para xlsx\n",
    "path = r\"F:\\Qualidade_Florestal\\03- ADMINISTRATIVO\\2023\\06- COLABORADORES\\Gabriel\\1 - Processamento de dados\"\n",
    "arquivos = [os.path.join(path, arquivo) for arquivo in os.listdir(path)]\n",
    "arquivo_mais_recente = max(arquivos, key=os.path.getctime)"
   ]
  },
  {
   "cell_type": "code",
   "execution_count": 5,
   "id": "8e257999",
   "metadata": {},
   "outputs": [],
   "source": [
    "df_programacao = pd.read_excel(arquivo_mais_recente, engine='pyxlsb', sheet_name=\"Base_programação\")\n",
    "df_entregas = pd.read_excel(arquivo_mais_recente, engine='pyxlsb', sheet_name=\"Base_entregas\")\n",
    "df_descartes = pd.read_excel(arquivo_mais_recente,engine='pyxlsb',sheet_name='Base_descartes')\n",
    "\n",
    "with pd.ExcelWriter(r\"F:\\Qualidade_Florestal\\03- ADMINISTRATIVO\\2023\\06- COLABORADORES\\Gabriel\\1 - Processamento de dados\\Controle diário de Produção e Programação.xlsx\") as writer:\n",
    "    df_programacao.to_excel(writer, sheet_name=\"Base_programação\")\n",
    "    df_entregas.to_excel(writer, sheet_name=\"Base_entregas\")\n",
    "    df_descartes.to_excel(writer,sheet_name=\"Base_descartes\")"
   ]
  },
  {
   "cell_type": "code",
   "execution_count": 6,
   "id": "7e0f8dc8",
   "metadata": {},
   "outputs": [],
   "source": [
    "os.remove(arquivo_mais_recente)"
   ]
  }
 ],
 "metadata": {
  "kernelspec": {
   "display_name": "Python 3",
   "language": "python",
   "name": "python3"
  },
  "language_info": {
   "codemirror_mode": {
    "name": "ipython",
    "version": 3
   },
   "file_extension": ".py",
   "mimetype": "text/x-python",
   "name": "python",
   "nbconvert_exporter": "python",
   "pygments_lexer": "ipython3",
   "version": "3.11.1"
  }
 },
 "nbformat": 4,
 "nbformat_minor": 5
}
