{
 "cells": [
  {
   "cell_type": "code",
   "execution_count": 100,
   "metadata": {},
   "outputs": [],
   "source": [
    "import pandas as pd\n",
    "import os"
   ]
  },
  {
   "cell_type": "code",
   "execution_count": 101,
   "metadata": {},
   "outputs": [],
   "source": [
    "path = os.listdir(r\"F:/Qualidade_Florestal/01- SÃO PAULO/10- Planejamento e Controle 2°nível/2023/12 - Programações Sobrevivência/06 - Resultados/01 - Base de dados\")"
   ]
  },
  {
   "cell_type": "code",
   "execution_count": 102,
   "metadata": {},
   "outputs": [],
   "source": [
    "df = pd.DataFrame()\n",
    "\n",
    "for arquivo in path:\n",
    "    if \"resultados operacionais\" in arquivo.lower() and not \"~\" in arquivo:\n",
    "        tabela = pd.read_excel(f\"F:/Qualidade_Florestal/01- SÃO PAULO/10- Planejamento e Controle 2°nível/2023/12 - Programações Sobrevivência/06 - Resultados/01 - Base de dados/{arquivo}\",sheet_name=\"DadosBrutos\",skiprows=1)\n",
    "        tabela['Nome Origem'] = arquivo\n",
    "        df = pd.concat([df,tabela])"
   ]
  },
  {
   "cell_type": "code",
   "execution_count": 103,
   "metadata": {},
   "outputs": [],
   "source": [
    "df = df.dropna(subset=['OBSERVACAO'])"
   ]
  },
  {
   "cell_type": "code",
   "execution_count": 106,
   "metadata": {},
   "outputs": [],
   "source": [
    "df.to_excel('F:/Qualidade_Florestal/01- SÃO PAULO/10- Planejamento e Controle 2°nível/2023/12 - Programações Sobrevivência/06 - Resultados/01 - Base de dados/ajuste_parcela.xlsx', sheet_name=\"ajustes\")\n",
    "\n",
    "df.to_excel('F:/Qualidade_Florestal/03- ADMINISTRATIVO/2023/06- COLABORADORES/Gabriel/1 - Processamento de dados/ajuste_parcela.xlsx', sheet_name=\"ajustes\")"
   ]
  }
 ],
 "metadata": {
  "kernelspec": {
   "display_name": "Python 3",
   "language": "python",
   "name": "python3"
  },
  "language_info": {
   "codemirror_mode": {
    "name": "ipython",
    "version": 3
   },
   "file_extension": ".py",
   "mimetype": "text/x-python",
   "name": "python",
   "nbconvert_exporter": "python",
   "pygments_lexer": "ipython3",
   "version": "3.11.1"
  }
 },
 "nbformat": 4,
 "nbformat_minor": 2
}
