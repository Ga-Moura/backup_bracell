{
 "cells": [
  {
   "cell_type": "code",
   "execution_count": null,
   "metadata": {},
   "outputs": [],
   "source": [
    "import shutil\n",
    "import arcgis\n",
    "from arcgis.gis import GIS\n",
    "import re, csv\n",
    "import pandas as pd\n",
    "import os\n",
    "# Define variables\n",
    "portalURL = r'https://gissp.bracell.com/portal/'\n",
    "username = \"Qualidade_Florestal\"\n",
    "password = \"Qualidade@24\"\n",
    "survey_item_id = \"650bc0e5ac424603a61c90eef694999e\"\n",
    "save_path = r\"F:\\Qualidade_Florestal\\01- SÃO PAULO\\10- Planejamento e Controle 2°nível\\00 - Base de Dados\""
   ]
  },
  {
   "cell_type": "code",
   "execution_count": null,
   "metadata": {},
   "outputs": [],
   "source": [
    "# Deleta os arquivos existentes na pasta de imagens para não dar erro ao salvar\n",
    "caminho_completo = os.path.abspath(r\"F:\\Qualidade_Florestal\\01- SÃO PAULO\\10- Planejamento e Controle 2°nível\\00 - Base de Dados\\iniciofotos_attachments\")\n",
    "for arquivo in os.listdir(caminho_completo):\n",
    "    caminho_arquivo = os.path.join(caminho_completo, arquivo)\n",
    "    try:\n",
    "        os.remove(caminho_arquivo)\n",
    "    except OSError as e:\n",
    "        print(f\"Erro ao deletar arquivo {arquivo}: {e}\")"
   ]
  },
  {
   "cell_type": "code",
   "execution_count": null,
   "metadata": {},
   "outputs": [],
   "source": [
    "keep_org_item = False\n",
    "store_csv_w_attachments = False\n",
    "\n",
    "# Connect to GIS Portal and identify Survey form\n",
    "gis = GIS(portalURL, username, password)\n",
    "survey_by_id = gis.content.get(survey_item_id)\n",
    "print(survey_by_id.type)\n",
    "survey_by_id\n",
    "\n",
    "# Download service\n",
    "rel_fs = survey_by_id.related_items('Survey2Service','forward')[0]\n",
    "rel_fs\n",
    "\n",
    "item_excel = rel_fs.export(title=survey_by_id.title, export_format='Excel')\n",
    "item_excel.download(save_path=save_path)\n",
    "if not bool(keep_org_item):\n",
    "    item_excel.delete(force=True)"
   ]
  },
  {
   "cell_type": "code",
   "execution_count": null,
   "metadata": {},
   "outputs": [],
   "source": [
    "# Process feature layers and attachments\n",
    "layers = rel_fs.layers + rel_fs.tables\n",
    "for i in layers:\n",
    "    if i.properties.hasAttachments:\n",
    "        print(\"Item: \", i, \"HAS ATTACHMENTS\")\n",
    "        feature_layer_folder = os.path.join(save_path, '{}_attachments'.format(re.sub(r'[^A-Za-z0-9]+', '', i.properties.name)))\n",
    "        if not os.path.exists(feature_layer_folder):\n",
    "            os.mkdir(feature_layer_folder)         \n",
    "        if bool(store_csv_w_attachments):\n",
    "            path = os.path.join(feature_layer_folder, \"{}_attachments.csv\".format(i.properties.name))\n",
    "        elif not bool(store_csv_w_attachments):\n",
    "            path = os.path.join(save_path, \"{}_attachments.csv\".format(i.properties.name))\n",
    "        csv_fields = ['Parent objectId','Attachment path']\n",
    "        with open(path, 'w', newline='') as csvfile:\n",
    "            csvwriter = csv.writer(csvfile)\n",
    "            csvwriter.writerow(csv_fields)\n",
    "            feature_object_ids = i.query(where=\"1=1\", return_ids_only=True, order_by_fields='objectid ASC')\n",
    "            for j in range(len(feature_object_ids['objectIds'])):\n",
    "                current_oid = feature_object_ids['objectIds'][j]\n",
    "                current_oid_attachments = i.attachments.get_list(current_oid)\n",
    "                if current_oid_attachments is not None and len(current_oid_attachments) > 0:\n",
    "                    for k in range(len(current_oid_attachments)):\n",
    "                        attachment_id = current_oid_attachments[k]['id']\n",
    "                        global_id = str(i.query(where=\"1=1\", return_geometry=False, return_ids_only=True, order_by_fields='objectid ASC')['objectIds'][j])\n",
    "                        current_attachment_path = i.attachments.download(oid=current_oid, attachment_id=attachment_id, save_path=feature_layer_folder)\n",
    "                        if current_attachment_path is not None:\n",
    "                            new_attachment_path = os.path.join(feature_layer_folder, global_id + \"_\" + os.path.split(current_attachment_path[0])[1])\n",
    "                            shutil.move(current_attachment_path[0], new_attachment_path)\n",
    "                            csvwriter.writerow([current_oid, os.path.join('{}_attachments'.format(re.sub(r'[^A-Za-z0-9]+', '', i.properties.name)), os.path.split(new_attachment_path)[1])])\n",
    "                        else:\n",
    "                            print(\"Item: \", i, \"DOES NOT HAVE ATTACHMENTS\")\n",
    "print('Done!')\n",
    "            \n",
    "\n",
    "\n",
    "# Ao final, as mensagens indicarão as respostas dos formulários que não tem foto e quando tiver concluído."
   ]
  },
  {
   "cell_type": "code",
   "execution_count": null,
   "metadata": {},
   "outputs": [],
   "source": [
    "tabela = pd.read_excel(\n",
    "    r\"F:\\Qualidade_Florestal\\01- SÃO PAULO\\10- Planejamento e Controle 2°nível\\00 - Base de Dados\\Produção_Segundo_Nível.xlsx\")\n",
    "import os\n",
    "import imghdr\n",
    "\n",
    "caminho_completo = os.path.abspath(r\"F:\\Qualidade_Florestal\\01- SÃO PAULO\\10- Planejamento e Controle 2°nível\\00 - Base de Dados\\iniciofotos_attachments\")\n",
    "\n",
    "for imagem in os.listdir(caminho_completo):\n",
    "    if imghdr.what(os.path.join(caminho_completo, imagem)):\n",
    "        for index, objectid in enumerate(tabela[\"objectid\"]):\n",
    "            if str(objectid) == str(imagem).split(\"_\")[0]:\n",
    "                novo_nome = str(tabela[\"projeto\"][index]) + \" - \" + str(tabela[\"talhao\"][index]) + \" - \" + str(tabela[\"equipe_equilibrio\"][index]) + \" - \" + imagem\n",
    "                novo_caminho = os.path.join(caminho_completo, novo_nome)\n",
    "                os.rename(os.path.join(caminho_completo, imagem), novo_caminho)\n",
    "                break\n",
    "    else:\n",
    "        print(f\"O arquivo {imagem} não é uma imagem\")"
   ]
  },
  {
   "cell_type": "code",
   "execution_count": null,
   "metadata": {},
   "outputs": [],
   "source": [
    "#url_base_survey = r\"F:\\Qualidade_Florestal\\01- SÃO PAULO\\10- Planejamento e Controle 2°nível\\00 - Base de Dados\\Produção_Segundo_Nível.xlsx\"\n",
    "#base = pd.read_excel(url_base_survey)\n",
    "\n",
    "#for index, row in base.iterrows():\n",
    "#    if str(row['unidade']) == \"MS\" and str(row['projeto'])[0] == '2':\n",
    "#        base.at[index, 'projeto'] = str(\"6\" + str(row['projeto'])[-3:])\n",
    "#    else:\n",
    "#        base.at[index, 'projeto'] = str(row['projeto'])\n",
    "\n",
    "#base.to_excel(url_base_survey,index =False)\n"
   ]
  }
 ],
 "metadata": {
  "kernelspec": {
   "display_name": "Python 3",
   "language": "python",
   "name": "python3"
  },
  "language_info": {
   "codemirror_mode": {
    "name": "ipython",
    "version": 3
   },
   "file_extension": ".py",
   "mimetype": "text/x-python",
   "name": "python",
   "nbconvert_exporter": "python",
   "pygments_lexer": "ipython3",
   "version": "3.7.11"
  },
  "orig_nbformat": 4
 },
 "nbformat": 4,
 "nbformat_minor": 2
}
