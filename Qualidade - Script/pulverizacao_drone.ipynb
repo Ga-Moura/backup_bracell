{
 "cells": [
  {
   "cell_type": "code",
   "execution_count": 6,
   "metadata": {},
   "outputs": [],
   "source": [
    "# Deleta os arquivos existentes na pasta de imagens para não dar erro ao salvar\n",
    "import os\n",
    "caminho_completo = os.path.abspath(r\"F:\\Qualidade_Florestal\\01- SÃO PAULO\\02- Silvicultura e Sobrevivência\\00 - Arquivos Surveys\\PulverizacaocomDrone_attachments\")\n",
    "for arquivo in os.listdir(caminho_completo):\n",
    "    caminho_arquivo = os.path.join(caminho_completo, arquivo)\n",
    "    try:\n",
    "       os.remove(caminho_arquivo)\n",
    "    except OSError as e:\n",
    "        print(f\"Erro ao deletar arquivo {arquivo}: {e}\")"
   ]
  },
  {
   "cell_type": "code",
   "execution_count": 7,
   "metadata": {},
   "outputs": [
    {
     "name": "stdout",
     "output_type": "stream",
     "text": [
      "Form\n"
     ]
    }
   ],
   "source": [
    "import shutil\n",
    "import arcgis\n",
    "from arcgis.gis import GIS\n",
    "import re, csv\n",
    "import pandas as pd\n",
    "import os\n",
    "# Define variables\n",
    "portalURL = r'https://gissp.bracell.com/portal/'\n",
    "username = \"Qualidade_Florestal\"\n",
    "password = \"Qualidade@24\"\n",
    "survey_item_id = \"8f93daf32ec544c5a9376986343c6c5e\"\n",
    "save_path = r'F:\\Qualidade_Florestal\\01- SÃO PAULO\\02- Silvicultura e Sobrevivência\\00 - Arquivos Surveys'\n",
    "\n",
    "\n",
    "keep_org_item = False\n",
    "store_csv_w_attachments = False\n",
    "\n",
    "# Connect to GIS Portal and identify Survey form\n",
    "gis = GIS(portalURL, username, password)\n",
    "survey_by_id = gis.content.get(survey_item_id)\n",
    "print(survey_by_id.type)\n",
    "survey_by_id\n",
    "\n",
    "# Download service\n",
    "rel_fs = survey_by_id.related_items('Survey2Service','forward')[0]\n",
    "rel_fs\n",
    "\n",
    "item_excel = rel_fs.export(title=survey_by_id.title, export_format='Excel')\n",
    "item_excel.download(save_path=save_path)\n",
    "if not bool(keep_org_item):\n",
    "    item_excel.delete(force=True)\n",
    "\n",
    "# Process feature layers and attachments\n",
    "layers = rel_fs.layers + rel_fs.tables"
   ]
  },
  {
   "cell_type": "code",
   "execution_count": 8,
   "metadata": {},
   "outputs": [],
   "source": [
    "import calendar\n",
    "import datetime\n",
    "hoje = datetime.datetime.now()\n",
    "mes = hoje.month\n",
    "ano = hoje.year\n",
    "_,num_dias = calendar.monthrange(ano,mes)\n",
    "max_dias = str(num_dias)\n",
    "mes = \"{:02d}\".format(mes)\n",
    "\n",
    "data_filtro = str(mes) +\"-\"+ str(ano)\n",
    "\n"
   ]
  },
  {
   "cell_type": "code",
   "execution_count": 9,
   "metadata": {},
   "outputs": [],
   "source": [
    "import pandas as pd\n",
    "url_base_survey = r'F:\\Qualidade_Florestal\\01- SÃO PAULO\\02- Silvicultura e Sobrevivência\\00 - Arquivos Surveys\\Pulverização_com_Drone.xlsx'\n",
    "\n",
    "base_survey = pd.read_excel(url_base_survey)\n",
    "\n",
    "base_survey = base_survey[['objectid','data']]\n",
    "\n",
    "base_survey['mes_ano'] = base_survey['data'].dt.to_period('M')\n",
    "\n",
    "base_survey= base_survey.loc[base_survey['mes_ano'] == data_filtro]\n",
    "\n",
    "base_survey = base_survey['objectid'].astype(int)\n",
    "\n",
    "base_survey = tuple(base_survey)\n"
   ]
  },
  {
   "cell_type": "code",
   "execution_count": 10,
   "metadata": {},
   "outputs": [
    {
     "name": "stdout",
     "output_type": "stream",
     "text": [
      "Item:  <FeatureLayer url:\"https://gissp.bracell.com/server/rest/services/Hosted/service_9062b31712bf4d7bb11f134f41da767b/FeatureServer/0\"> HAS ATTACHMENTS\n"
     ]
    }
   ],
   "source": [
    "# Process feature layers and attachments\n",
    "for i in layers:\n",
    "    if i.properties.hasAttachments:\n",
    "        print(\"Item: \", i, \"HAS ATTACHMENTS\")\n",
    "        feature_layer_folder = os.path.join(save_path, '{}_attachments'.format(re.sub(r'[^A-Za-z0-9]+', '', i.properties.name)))\n",
    "        if not os.path.exists(feature_layer_folder):\n",
    "            os.mkdir(feature_layer_folder)         \n",
    "        if bool(store_csv_w_attachments):\n",
    "            path = os.path.join(feature_layer_folder, \"{}_attachments.csv\".format(i.properties.name))\n",
    "        elif not bool(store_csv_w_attachments):\n",
    "            path = os.path.join(save_path, \"{}_attachments.csv\".format(i.properties.name))\n",
    "        csv_fields = ['Parent objectId','Attachment path']\n",
    "        with open(path, 'w', newline='') as csvfile:\n",
    "            csvwriter = csv.writer(csvfile)\n",
    "            csvwriter.writerow(csv_fields)\n",
    "            feature_object_ids = i.query(where=\"1=1\", return_ids_only=True, order_by_fields='objectid ASC')\n",
    "            # Verificar se o ID atual está na lista de IDs da base_survey\n",
    "            for j in feature_object_ids['objectIds']:\n",
    "                current_oid = j\n",
    "                if any(oid == current_oid for oid in base_survey):\n",
    "                    current_oid_attachments = i.attachments.get_list(current_oid)\n",
    "                    if current_oid_attachments is not None and len(current_oid_attachments) > 0:\n",
    "                        for k in range(len(current_oid_attachments)):\n",
    "                            attachment_id = current_oid_attachments[k]['id']\n",
    "                            global_id = str(current_oid)\n",
    "                            current_attachment_path = i.attachments.download(oid=current_oid, attachment_id=attachment_id, save_path=feature_layer_folder)\n",
    "                            if current_attachment_path is not None:\n",
    "                                new_attachment_path = os.path.join(feature_layer_folder, global_id + \"-\" + os.path.split(current_attachment_path[0])[1])\n",
    "                                shutil.move(current_attachment_path[0], new_attachment_path)\n",
    "                                csvwriter.writerow([current_oid, os.path.join('{}_attachments'.format(re.sub(r'[^A-Za-z0-9]+', '', i.properties.name)), os.path.split(new_attachment_path)[1])])\n",
    "                            else:\n",
    "                                print(\"Item with ID:\", current_oid, \"DOES NOT HAVE ATTACHMENTS\")\n",
    "                else:\n",
    "                    print(\"Item with ID:\", current_oid, \"is not in the base_survey and will be skipped.\")"
   ]
  },
  {
   "cell_type": "code",
   "execution_count": 11,
   "metadata": {},
   "outputs": [
    {
     "data": {
      "text/plain": [
       "'U:\\\\Publica\\\\Florestal\\\\Relatórios de Qualidade\\\\Avaliações de 2º nível de Silvicultura\\\\Bases Survey\\\\Pulverização_com_Drone.xlsx'"
      ]
     },
     "execution_count": 11,
     "metadata": {},
     "output_type": "execute_result"
    }
   ],
   "source": [
    "pasta_publica = r'U:\\Publica\\Florestal\\Relatórios de Qualidade\\Avaliações de 2º nível de Silvicultura\\Bases Survey'\n",
    "\n",
    "shutil.copy(url_base_survey,pasta_publica)"
   ]
  }
 ],
 "metadata": {
  "kernelspec": {
   "display_name": "Python 3",
   "language": "python",
   "name": "python3"
  },
  "language_info": {
   "codemirror_mode": {
    "name": "ipython",
    "version": 3
   },
   "file_extension": ".py",
   "mimetype": "text/x-python",
   "name": "python",
   "nbconvert_exporter": "python",
   "pygments_lexer": "ipython3",
   "version": "3.7.11"
  },
  "orig_nbformat": 4
 },
 "nbformat": 4,
 "nbformat_minor": 2
}
