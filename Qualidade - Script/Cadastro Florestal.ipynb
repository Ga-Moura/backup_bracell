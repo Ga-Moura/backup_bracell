{
 "cells": [
  {
   "cell_type": "code",
   "execution_count": 1,
   "id": "4dd6bd1e",
   "metadata": {},
   "outputs": [],
   "source": [
    "import selenium\n",
    "from selenium import webdriver\n",
    "from time import sleep\n",
    "import pandas as pd\n",
    "from selenium.webdriver.support.ui import WebDriverWait\n",
    "from selenium.webdriver.support import expected_conditions as EC\n",
    "from selenium.webdriver.common.by import By\n",
    "from selenium.webdriver.common.action_chains import ActionChains\n",
    "import zipfile as zf\n",
    "import os\n",
    "import shutil\n",
    "import xlsxwriter\n",
    "import re"
   ]
  },
  {
   "cell_type": "code",
   "execution_count": 2,
   "id": "ae5d14c7",
   "metadata": {},
   "outputs": [],
   "source": [
    "#criando o web driver\n",
    "options = webdriver.ChromeOptions()\n",
    "\n",
    "#atualizando a preferência\n",
    "prefs = {\"download.default_directory\": r\"F:\\Qualidade_Florestal\\03- ADMINISTRATIVO\\2023\\06- COLABORADORES\\Gabriel\\1 - Processamento de dados\"}\n",
    "\n",
    "#definindo que a nova preferência seja atualizada\n",
    "options.add_experimental_option(\"prefs\", prefs)\n",
    "\n",
    "#definindo que o webdriver.chrome deve vir com as definições options\n",
    "nav = webdriver.Chrome(options=options)"
   ]
  },
  {
   "cell_type": "code",
   "execution_count": 4,
   "id": "01fc2e04",
   "metadata": {},
   "outputs": [],
   "source": [
    "link = r'https://sgf-sp.bracell.com/sgf/'\n",
    "login = 'gamoura'\n",
    "password = 'Marte.04'\n",
    "#mazimizando a janela\n",
    "nav.maximize_window()\n",
    "#abrindo site\n",
    "nav.get(link)\n",
    "sleep(2)\n",
    "nav.find_element('xpath', '//*[@id=\"txtLogin\"]').send_keys(login)\n",
    "sleep(2)\n",
    "nav.find_element('xpath','//*[@id=\"txtSenha\"]').send_keys(password)\n",
    "sleep(2)\n",
    "nav.find_element('xpath','//*[@id=\"btnOk\"]').click()\n",
    "sleep(3)\n",
    "nav.find_element('xpath', '//*[@id=\"imbModuloC1\"]').click()\n",
    "sleep(2)"
   ]
  },
  {
   "cell_type": "code",
   "execution_count": 5,
   "id": "35234e32",
   "metadata": {},
   "outputs": [],
   "source": [
    "#foi necessário abrir um menu secundário para poder clicar no ambiente do cadastro localização>Operacional>Uso do solo\n",
    "\n",
    "menu_locator = (By.XPATH, '//*[@id=\"Menu1-menuItem000\"]/div')\n",
    "menu = WebDriverWait(nav, 5).until(EC.presence_of_element_located(menu_locator))\n",
    "\n",
    "# move o cursor do mouse para o menu principal\n",
    "ActionChains(nav).move_to_element(menu).perform()\n",
    "\n",
    "# espera o submenu ser exibido\n",
    "submenu_locator = (By.XPATH, '//*[@id=\"Menu1-menuItem000-subMenu-menuItem000\"]')\n",
    "submenu = WebDriverWait(nav, 5).until(EC.visibility_of_element_located(submenu_locator))\n",
    "\n",
    "# move o cursor do mouse para o menu principal\n",
    "ActionChains(nav).move_to_element(submenu).perform()\n",
    "\n",
    "# espera o submenu2 a ser exibido\n",
    "submenu_locator2 = (By.XPATH, '//*[@id=\"Menu1-menuItem000-subMenu-menuItem000-subMenu-menuItem002\"]')\n",
    "submenu2= WebDriverWait(nav,5).until(EC.visibility_of_element_located(submenu_locator2))\n",
    "\n",
    "# clica no submenu\n",
    "submenu2.click()\n",
    "sleep(4)"
   ]
  },
  {
   "cell_type": "code",
   "execution_count": 6,
   "id": "85b30c14",
   "metadata": {},
   "outputs": [],
   "source": [
    "# Mudar para o contexto do iframe\n",
    "# o Item estava dentro de um iframe e por isso não era possível baixar, foi necessário pegar o id do Iframe e usar o formato switch_to.frame e utilizar o xpath do iframe\n",
    "\n",
    "iframe = WebDriverWait(nav, 10).until(EC.presence_of_element_located((By.XPATH, '//*[@id=\"conteudo\"]')))\n",
    "nav.switch_to.frame(iframe)\n",
    "\n",
    "# Aguarda até que o elemento com o título 'Exportar dados para Excel' seja visível na página\n",
    "element = WebDriverWait(nav, 10).until(EC.visibility_of_element_located((By.XPATH, \"//input[@type='image'][@title='Exportar dados para Excel']\")))\n",
    "\n",
    "# Clica no elemento\n",
    "element.click()\n",
    "\n",
    "# Retorna para o contexto padrão (fora do iframe)\n",
    "nav.switch_to.default_content()\n",
    "\n",
    "sleep(20)\n",
    "nav.quit()"
   ]
  },
  {
   "cell_type": "code",
   "execution_count": 7,
   "id": "4337e546",
   "metadata": {},
   "outputs": [],
   "source": [
    "path = r\"F:\\Qualidade_Florestal\\03- ADMINISTRATIVO\\2023\\06- COLABORADORES\\Gabriel\\1 - Processamento de dados\"\n",
    "arquivos = [os.path.join(path, arquivo) for arquivo in os.listdir(path)]\n",
    "arquivo_mais_recente = max(arquivos, key=os.path.getctime)"
   ]
  },
  {
   "cell_type": "code",
   "execution_count": 8,
   "id": "8d8afde7",
   "metadata": {},
   "outputs": [],
   "source": [
    "with zf.ZipFile(arquivo_mais_recente,\"r\") as z:\n",
    "    z.extractall(path)"
   ]
  },
  {
   "cell_type": "code",
   "execution_count": 9,
   "id": "617a30b5",
   "metadata": {},
   "outputs": [],
   "source": [
    "os.remove(arquivo_mais_recente)"
   ]
  },
  {
   "cell_type": "code",
   "execution_count": 10,
   "id": "6ce417b8",
   "metadata": {},
   "outputs": [],
   "source": [
    "directory_path = 'F:/Qualidade_Florestal/03- ADMINISTRATIVO/2023/06- COLABORADORES/Gabriel/1 - Processamento de dados'\n",
    "\n",
    "for file_name in os.listdir(directory_path):\n",
    "    if 'gamoura' in file_name:\n",
    "        file_path = os.path.join(directory_path, file_name)\n"
   ]
  },
  {
   "cell_type": "code",
   "execution_count": 11,
   "id": "84a7b8a2",
   "metadata": {},
   "outputs": [],
   "source": [
    "import locale\n",
    "\n",
    "# Defina o locale correto para o seu sistema operacional\n",
    "locale.setlocale(locale.LC_ALL, 'pt_BR.utf8')\n",
    "\n",
    "# Carregue a tabela HTML e especifique o locale\n",
    "tabela = pd.read_html(file_path, decimal=',', thousands='.', header=0, index_col=False)[0]"
   ]
  },
  {
   "cell_type": "code",
   "execution_count": 12,
   "id": "fe4b4472",
   "metadata": {},
   "outputs": [],
   "source": [
    "caminho_cadastro = 'F:/Qualidade_Florestal/03- ADMINISTRATIVO/2023/06- COLABORADORES/Gabriel/1 - Processamento de dados/Cadastro Florestal.xlsx'\n",
    "cadastro = tabela.to_excel(caminho_cadastro, index=False)"
   ]
  },
  {
   "cell_type": "code",
   "execution_count": 13,
   "id": "d185cd23",
   "metadata": {},
   "outputs": [],
   "source": [
    "os.remove(file_path)"
   ]
  },
  {
   "cell_type": "code",
   "execution_count": 17,
   "id": "24044cd7",
   "metadata": {},
   "outputs": [],
   "source": [
    "# Ler o arquivo original\n",
    "cadastro_excel = pd.read_excel('F:/Qualidade_Florestal/03- ADMINISTRATIVO/2023/06- COLABORADORES/Gabriel/1 - Processamento de dados/Cadastro Florestal.xlsx', dtype={' 25': float, ' 26': float})\n",
    "\n",
    "# Tratar a coluna 'Talhão'\n",
    "cadastro_excel['Talhão'] = cadastro_excel['Talhão'].fillna('').astype(str).str.zfill(3)\n",
    "\n",
    "# Tratar a coluna 'Id Projeto'\n",
    "cadastro_excel['Id Projeto'] = cadastro_excel['Id Projeto'].fillna('').astype(str).str.zfill(4)\n",
    "\n",
    "# Criar a coluna 'Projeto e Talhão'\n",
    "cadastro_excel[\"Projeto e Talhão\"] = cadastro_excel['Id Projeto'] + cadastro_excel['Talhão']"
   ]
  },
  {
   "cell_type": "code",
   "execution_count": 19,
   "id": "02e46c9e",
   "metadata": {},
   "outputs": [],
   "source": [
    "# Salvar em um novo arquivo com a nova aba\n",
    "with pd.ExcelWriter('F:/Qualidade_Florestal/03- ADMINISTRATIVO/2023/06- COLABORADORES/Gabriel/1 - Processamento de dados/Cadastro Florestal.xlsx', engine='xlsxwriter') as writer:\n",
    "    cadastro_excel.to_excel(writer, sheet_name='Export', index=False)"
   ]
  },
  {
   "cell_type": "code",
   "execution_count": 20,
   "id": "01f43d55",
   "metadata": {},
   "outputs": [
    {
     "data": {
      "text/plain": [
       "'F:\\\\Qualidade_Florestal\\\\01- SÃO PAULO\\\\10- Planejamento e Controle 2°nível\\\\2023\\\\14 - Cadastro Florestal\\\\Cadastro Florestal.xlsx'"
      ]
     },
     "execution_count": 20,
     "metadata": {},
     "output_type": "execute_result"
    }
   ],
   "source": [
    "caminho_destino = r\"F:\\Qualidade_Florestal\\01- SÃO PAULO\\10- Planejamento e Controle 2°nível\\2023\\14 - Cadastro Florestal\"\n",
    "shutil.copy(caminho_cadastro, caminho_destino)"
   ]
  }
 ],
 "metadata": {
  "kernelspec": {
   "display_name": "Python 3",
   "language": "python",
   "name": "python3"
  },
  "language_info": {
   "codemirror_mode": {
    "name": "ipython",
    "version": 3
   },
   "file_extension": ".py",
   "mimetype": "text/x-python",
   "name": "python",
   "nbconvert_exporter": "python",
   "pygments_lexer": "ipython3",
   "version": "3.11.1"
  }
 },
 "nbformat": 4,
 "nbformat_minor": 5
}
