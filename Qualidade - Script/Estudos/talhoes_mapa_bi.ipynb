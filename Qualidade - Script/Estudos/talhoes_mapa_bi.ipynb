{
 "cells": [
  {
   "cell_type": "code",
   "execution_count": 13,
   "metadata": {},
   "outputs": [],
   "source": [
    "import json\n",
    "import topojson\n",
    "import os\n",
    "import arcgis\n",
    "from arcgis.gis import GIS\n",
    "from arcgis.features import FeatureLayer"
   ]
  },
  {
   "cell_type": "code",
   "execution_count": 18,
   "metadata": {},
   "outputs": [
    {
     "ename": "TypeError",
     "evalue": "'NoneType' object is not subscriptable",
     "output_type": "error",
     "traceback": [
      "\u001b[1;31m---------------------------------------------------------------------------\u001b[0m",
      "\u001b[1;31mTypeError\u001b[0m                                 Traceback (most recent call last)",
      "\u001b[1;32mf:\\Qualidade_Florestal\\03- ADMINISTRATIVO\\2023\\06- COLABORADORES\\Gabriel\\3 - Script\\talhoes_mapa_bi.ipynb Célula 2\u001b[0m in \u001b[0;36m2\n\u001b[0;32m     <a href='vscode-notebook-cell:/f%3A/Qualidade_Florestal/03-%20ADMINISTRATIVO/2023/06-%20COLABORADORES/Gabriel/3%20-%20Script/talhoes_mapa_bi.ipynb#W1sZmlsZQ%3D%3D?line=18'>19</a>\u001b[0m     data \u001b[39m=\u001b[39m {\n\u001b[0;32m     <a href='vscode-notebook-cell:/f%3A/Qualidade_Florestal/03-%20ADMINISTRATIVO/2023/06-%20COLABORADORES/Gabriel/3%20-%20Script/talhoes_mapa_bi.ipynb#W1sZmlsZQ%3D%3D?line=19'>20</a>\u001b[0m         \u001b[39m\"\u001b[39m\u001b[39mtype\u001b[39m\u001b[39m\"\u001b[39m: \u001b[39m\"\u001b[39m\u001b[39mFeatureCollection\u001b[39m\u001b[39m\"\u001b[39m,\n\u001b[0;32m     <a href='vscode-notebook-cell:/f%3A/Qualidade_Florestal/03-%20ADMINISTRATIVO/2023/06-%20COLABORADORES/Gabriel/3%20-%20Script/talhoes_mapa_bi.ipynb#W1sZmlsZQ%3D%3D?line=20'>21</a>\u001b[0m         \u001b[39m\"\u001b[39m\u001b[39mcrs\u001b[39m\u001b[39m\"\u001b[39m: {\u001b[39m\"\u001b[39m\u001b[39mtype\u001b[39m\u001b[39m\"\u001b[39m: \u001b[39m\"\u001b[39m\u001b[39mname\u001b[39m\u001b[39m\"\u001b[39m, \u001b[39m\"\u001b[39m\u001b[39mproperties\u001b[39m\u001b[39m\"\u001b[39m: {\u001b[39m\"\u001b[39m\u001b[39mname\u001b[39m\u001b[39m\"\u001b[39m: \u001b[39m\"\u001b[39m\u001b[39mEPSG:4326\u001b[39m\u001b[39m\"\u001b[39m}},\n\u001b[0;32m     <a href='vscode-notebook-cell:/f%3A/Qualidade_Florestal/03-%20ADMINISTRATIVO/2023/06-%20COLABORADORES/Gabriel/3%20-%20Script/talhoes_mapa_bi.ipynb#W1sZmlsZQ%3D%3D?line=21'>22</a>\u001b[0m         \u001b[39m\"\u001b[39m\u001b[39mfeatures\u001b[39m\u001b[39m\"\u001b[39m: []\n\u001b[0;32m     <a href='vscode-notebook-cell:/f%3A/Qualidade_Florestal/03-%20ADMINISTRATIVO/2023/06-%20COLABORADORES/Gabriel/3%20-%20Script/talhoes_mapa_bi.ipynb#W1sZmlsZQ%3D%3D?line=22'>23</a>\u001b[0m     }\n\u001b[0;32m     <a href='vscode-notebook-cell:/f%3A/Qualidade_Florestal/03-%20ADMINISTRATIVO/2023/06-%20COLABORADORES/Gabriel/3%20-%20Script/talhoes_mapa_bi.ipynb#W1sZmlsZQ%3D%3D?line=23'>24</a>\u001b[0m     \u001b[39mfor\u001b[39;00m f \u001b[39min\u001b[39;00m resultados\u001b[39m.\u001b[39mfeatures:\n\u001b[1;32m---> <a href='vscode-notebook-cell:/f%3A/Qualidade_Florestal/03-%20ADMINISTRATIVO/2023/06-%20COLABORADORES/Gabriel/3%20-%20Script/talhoes_mapa_bi.ipynb#W1sZmlsZQ%3D%3D?line=24'>25</a>\u001b[0m         feature \u001b[39m=\u001b[39m {\u001b[39m\"\u001b[39m\u001b[39mtype\u001b[39m\u001b[39m\"\u001b[39m: \u001b[39m\"\u001b[39m\u001b[39mFeature\u001b[39m\u001b[39m\"\u001b[39m, \u001b[39m\"\u001b[39m\u001b[39mgeometry\u001b[39m\u001b[39m\"\u001b[39m: {\u001b[39m\"\u001b[39m\u001b[39mtype\u001b[39m\u001b[39m\"\u001b[39m: \u001b[39m\"\u001b[39m\u001b[39mPolygon\u001b[39m\u001b[39m\"\u001b[39m, \u001b[39m\"\u001b[39m\u001b[39mcoordinates\u001b[39m\u001b[39m\"\u001b[39m: f\u001b[39m.\u001b[39;49mgeometry[\u001b[39m\"\u001b[39;49m\u001b[39mrings\u001b[39;49m\u001b[39m\"\u001b[39;49m]}, \u001b[39m\"\u001b[39m\u001b[39mproperties\u001b[39m\u001b[39m\"\u001b[39m: f\u001b[39m.\u001b[39mattributes}\n\u001b[0;32m     <a href='vscode-notebook-cell:/f%3A/Qualidade_Florestal/03-%20ADMINISTRATIVO/2023/06-%20COLABORADORES/Gabriel/3%20-%20Script/talhoes_mapa_bi.ipynb#W1sZmlsZQ%3D%3D?line=25'>26</a>\u001b[0m         data[\u001b[39m\"\u001b[39m\u001b[39mfeatures\u001b[39m\u001b[39m\"\u001b[39m]\u001b[39m.\u001b[39mappend(feature)\n\u001b[0;32m     <a href='vscode-notebook-cell:/f%3A/Qualidade_Florestal/03-%20ADMINISTRATIVO/2023/06-%20COLABORADORES/Gabriel/3%20-%20Script/talhoes_mapa_bi.ipynb#W1sZmlsZQ%3D%3D?line=26'>27</a>\u001b[0m \u001b[39melse\u001b[39;00m:\n",
      "\u001b[1;31mTypeError\u001b[0m: 'NoneType' object is not subscriptable"
     ]
    }
   ],
   "source": [
    "portalURL = r'https://gissp.bracell.com/portal/'\n",
    "username = \"Qualidade_Florestal\"\n",
    "password = \"Bracell@21\"\n",
    "\n",
    "gis = GIS(portalURL,username=username, password=password)\n",
    "\n",
    "layer_url = \"https://gissp.bracell.com/server/rest/services/Image_Server/Uso_Solo_Geral/FeatureServer/0\"\n",
    "layer = FeatureLayer(layer_url, gis=gis)\n",
    "\n",
    "pasta = r\"F:\\Qualidade_Florestal\\03- ADMINISTRATIVO\\2023\\06- COLABORADORES\\Gabriel\\1 - Processamento de dados\"\n",
    "save_path = os.path.join(pasta, \"talhao.json\")\n",
    "\n",
    "\n",
    "query = \"1=1\"\n",
    "campos = \"*\"\n",
    "\n",
    "resultados = layer.query(where=query, out_fields=campos, geometry_type='esriGeometryPolygon', spatialRel=\"esriSpatialRelIntersects\",units=\"Kilometers\" ,f=\"json\", return_geometry=False)\n",
    "if len(resultados.features) > 0:\n",
    "    data = {\n",
    "        \"type\": \"FeatureCollection\",\n",
    "        \"crs\": {\"type\": \"name\", \"properties\": {\"name\": \"EPSG:4326\"}},\n",
    "        \"features\": []\n",
    "    }\n",
    "    for f in resultados.features:\n",
    "        feature = {\"type\": \"Feature\", \"geometry\": {\"type\": \"Polygon\", \"coordinates\": f.geometry[\"rings\"]}, \"properties\": f.attributes}\n",
    "        data[\"features\"].append(feature)\n",
    "else:\n",
    "    print(\"A consulta não retornou nenhum resultado.\")\n",
    "\n",
    "with open(save_path, \"w\", encoding=\"utf-8\") as outfile:\n",
    "    json.dump(data, outfile)"
   ]
  },
  {
   "cell_type": "code",
   "execution_count": 16,
   "metadata": {},
   "outputs": [],
   "source": [
    "entrada = r\"F:\\Qualidade_Florestal\\03- ADMINISTRATIVO\\2023\\06- COLABORADORES\\Gabriel\\1 - Processamento de dados\\talhao.json\"\n",
    "saida = r\"F:\\Qualidade_Florestal\\03- ADMINISTRATIVO\\2023\\06- COLABORADORES\\Gabriel\\1 - Processamento de dados\\talhaoFI.json\""
   ]
  },
  {
   "cell_type": "code",
   "execution_count": null,
   "metadata": {},
   "outputs": [],
   "source": [
    "import json\n",
    "import topojson\n",
    "\n",
    "# Abrir o arquivo GeoJSON\n",
    "with open(entrada, 'r', encoding='utf-8') as f:\n",
    "    data = json.load(f)\n",
    "\n",
    "# Converter o GeoJSON em Topology\n",
    "topo = topojson.Topology(data)\n",
    "\n",
    "# Salvar o arquivo Topology\n",
    "with open(saida, 'w') as f:\n",
    "    f.write(topo.to_json())"
   ]
  },
  {
   "cell_type": "code",
   "execution_count": 5,
   "metadata": {},
   "outputs": [],
   "source": [
    "os.remove(entrada)"
   ]
  },
  {
   "cell_type": "code",
   "execution_count": 6,
   "metadata": {},
   "outputs": [],
   "source": [
    "#https://gissp.bracell.com/server/rest/services/Image_Server/PROJETO_2023/FeatureServer/0/query?where=1%3D1&objectIds=&time=&geometry=&geometryType=esriGeometryPolygon&inSR=&spatialRel=esriSpatialRelIntersects&distance=&units=esriSRUnit_Kilometer&relationParam=&outFields=*&returnGeometry=true&maxAllowableOffset=&geometryPrecision=&outSR=4326&having=&gdbVersion=&historicMoment=&returnDistinctValues=false&returnIdsOnly=false&returnCountOnly=false&returnExtentOnly=false&orderByFields=&groupByFieldsForStatistics=&outStatistics=&returnZ=false&returnM=false&multipatchOption=xyFootprint&returnTrueCurves=false&returnExceededLimitFeatures=false&quantizationParameters=&returnCentroid=true&sqlFormat=none&resultType=&featureEncoding=esriDefault&f=geojson\n",
    "\n",
    "#query que deve resultar"
   ]
  }
 ],
 "metadata": {
  "kernelspec": {
   "display_name": "Python 3",
   "language": "python",
   "name": "python3"
  },
  "language_info": {
   "codemirror_mode": {
    "name": "ipython",
    "version": 3
   },
   "file_extension": ".py",
   "mimetype": "text/x-python",
   "name": "python",
   "nbconvert_exporter": "python",
   "pygments_lexer": "ipython3",
   "version": "3.11.1"
  },
  "orig_nbformat": 4
 },
 "nbformat": 4,
 "nbformat_minor": 2
}
