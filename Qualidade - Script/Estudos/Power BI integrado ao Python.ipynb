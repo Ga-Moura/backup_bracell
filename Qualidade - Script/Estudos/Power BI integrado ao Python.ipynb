{
 "cells": [
  {
   "cell_type": "code",
   "execution_count": null,
   "id": "75736417",
   "metadata": {},
   "outputs": [
    {
     "name": "stdout",
     "output_type": "stream",
     "text": [
      "Performing device flow authentication. Please follow the instructions below.\n",
      "To sign in, use a web browser to open the page https://microsoft.com/devicelogin and enter the code E9HT2CWKW to authenticate.\n"
     ]
    }
   ],
   "source": [
    "from powerbiclient import Report, models\n",
    "from powerbiclient.authentication import DeviceCodeLoginAuthentication\n",
    "group_id ='582d9d84-4800-4487-9b24-cdc6471551ae'\n",
    "report_id = '9e392d18-27e2-4085-a0d1-4637c120c0c1'\n",
    "device_auth = DeviceCodeLoginAuthentication()\n",
    "\n",
    "report = Report(group_id=group_id, report_id=report_id, auth=device_auth, permissions=[models.Permissions.READ])\n",
    "pages = report.get_pages()"
   ]
  },
  {
   "cell_type": "code",
   "execution_count": null,
   "id": "98de3579",
   "metadata": {},
   "outputs": [],
   "source": []
  }
 ],
 "metadata": {
  "kernelspec": {
   "display_name": "Python 3",
   "language": "python",
   "name": "python3"
  },
  "language_info": {
   "codemirror_mode": {
    "name": "ipython",
    "version": 3
   },
   "file_extension": ".py",
   "mimetype": "text/x-python",
   "name": "python",
   "nbconvert_exporter": "python",
   "pygments_lexer": "ipython3",
   "version": "3.7.11"
  }
 },
 "nbformat": 4,
 "nbformat_minor": 5
}
