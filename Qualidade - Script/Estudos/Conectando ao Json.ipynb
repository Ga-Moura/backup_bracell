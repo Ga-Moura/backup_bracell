{
 "cells": [
  {
   "cell_type": "code",
   "execution_count": 6,
   "id": "691a67bf",
   "metadata": {},
   "outputs": [],
   "source": [
    "from arcgis.gis import GIS\n",
    "from arcgis.features import FeatureLayer\n",
    "import pandas as pd\n",
    "import json\n",
    "import os\n",
    "import geopandas as gpd"
   ]
  },
  {
   "cell_type": "code",
   "execution_count": 7,
   "id": "36128c84",
   "metadata": {},
   "outputs": [],
   "source": [
    "gis = GIS()\n",
    "portalURL = r'https://gissp.bracell.com/portal/'\n",
    "username = \"Qualidade_Florestal\"\n",
    "password = \"Bracell@21\"\n",
    "survey_item_id = \"ea37f2d8780242a5838f136a3bd9116d\"\n",
    "\n",
    "gis = GIS(portalURL, username=username, password=password)\n",
    "\n",
    "layer_url = \"https://gissp.bracell.com/server/rest/services/Image_Server/PROJETO_2023/FeatureServer/0\"\n",
    "layer = FeatureLayer(layer_url, gis=gis)\n",
    "\n",
    "pasta = r\"F:\\Qualidade_Florestal\\03- ADMINISTRATIVO\\2023\\06- COLABORADORES\\Gabriel\\1 - Processamento de dados\"\n",
    "save_path = os.path.join(pasta, \"mapas.json\")\n",
    "\n",
    "features = layer.query(where=\"1=1\", out_fields=\"*\", return_geometry=True, geometry_type='esriGeometrypolygon', units='esriSRUnit_Kilometer', f='Topojson').features\n",
    "data = [f.attributes for f in features]\n",
    "with open(save_path, \"w\") as outfile:\n",
    "    json.dump(data, outfile)\n",
    "json_mapas = r\"F:\\Qualidade_Florestal\\03- ADMINISTRATIVO\\2023\\06- COLABORADORES\\Gabriel\\1 - Processamento de dados\\mapas.json\"\n",
    "with open(json_mapas) as f:\n",
    "    data = json.load(f)\n",
    "\n",
    "# Criar DataFrame do pandas a partir dos recursos\n",
    "df = pd.DataFrame(data)\n",
    "display(df)"
   ]
  },
  {
   "cell_type": "code",
   "execution_count": 1,
   "id": "49be3d4a",
   "metadata": {},
   "outputs": [
    {
     "name": "stdout",
     "output_type": "stream",
     "text": [
      "Os dados foram salvos em F:\\Qualidade_Florestal\\03- ADMINISTRATIVO\\2023\\06- COLABORADORES\\Gabriel\\1 - Processamento de dados\\mapas.json\n"
     ]
    }
   ],
   "source": [
    "# Importe as bibliotecas necessárias\n",
    "from arcgis import GIS\n",
    "from arcgis.features import FeatureLayer\n",
    "import json\n",
    "import os\n",
    "\n",
    "# Defina as informações de login e a URL do portal ArcGIS\n",
    "portalURL = r'https://gissp.bracell.com/portal/'\n",
    "username = \"Qualidade_Florestal\"\n",
    "password = \"Bracell@21\"\n",
    "\n",
    "# Defina o ID do item da pesquisa (survey) na qual as geometrias são armazenadas\n",
    "survey_item_id = \"ea37f2d8780242a5838f136a3bd9116d\"\n",
    "\n",
    "# Faça login no portal ArcGIS\n",
    "gis = GIS(portalURL, username=username, password=password)\n",
    "\n",
    "# Defina a URL da camada de recursos (feature layer) a ser consultada\n",
    "layer_url = \"https://gissp.bracell.com/server/rest/services/Image_Server/PROJETO_2023/FeatureServer/0\"\n",
    "layer = FeatureLayer(layer_url, gis=gis)\n",
    "\n",
    "# Defina o caminho de salvamento para o arquivo JSON\n",
    "pasta = r\"F:\\Qualidade_Florestal\\03- ADMINISTRATIVO\\2023\\06- COLABORADORES\\Gabriel\\1 - Processamento de dados\"\n",
    "save_path = os.path.join(pasta, \"mapas.json\")\n",
    "\n",
    "# Execute a consulta para obter as geometrias\n",
    "query_result = layer.query(where=\"1=1\", out_fields=\"*\", return_geometry=True, geometry_type='esriGeometryMultipolygon', units='esriSRUnit_Kilometer', f='json')\n",
    "\n",
    "# Verifique se a consulta retornou resultados\n",
    "if query_result.features:\n",
    "\n",
    "    # Extraia os atributos e geometrias de cada feature\n",
    "    data = []\n",
    "    for feature in query_result.features:\n",
    "        attributes = feature.attributes\n",
    "        geometry = feature.geometry\n",
    "\n",
    "        # Adicione a chave \"type\" ao objeto \"geometry\" e especifique o tipo de geometria como \"MultiPolygon\"\n",
    "        data.append({\"attributes\": attributes, \"geometry\": {\"type\": \"MultiPolygon\", \"coordinates\": geometry}})\n",
    "\n",
    "    # Crie o objeto Topology e exporte para JSON\n",
    "    topology = {\n",
    "        \"type\": \"Topology\",\n",
    "        \"objects\": {\n",
    "            \"gj\": {\n",
    "                \"type\": \"GeometryCollection\",\n",
    "                \"geometries\": [g for g in [f[\"geometry\"] for f in data] if g]\n",
    "            }\n",
    "        }\n",
    "    }\n",
    "\n",
    "    # Salve o arquivo JSON\n",
    "    with open(save_path, \"w\") as outfile:\n",
    "        json.dump(topology, outfile)\n",
    "        print(f\"Os dados foram salvos em {save_path}\")\n",
    "else:\n",
    "    print(\"A consulta não retornou resultados.\")"
   ]
  },
  {
   "cell_type": "code",
   "execution_count": 9,
   "id": "77ccb56e",
   "metadata": {},
   "outputs": [
    {
     "ename": "KeyError",
     "evalue": "'features'",
     "output_type": "error",
     "traceback": [
      "\u001b[1;31m---------------------------------------------------------------------------\u001b[0m",
      "\u001b[1;31mKeyError\u001b[0m                                  Traceback (most recent call last)",
      "\u001b[1;32mf:\\Qualidade_Florestal\\03- ADMINISTRATIVO\\2023\\06- COLABORADORES\\Gabriel\\3 - Script\\Untitled.ipynb Célula 6\u001b[0m in \u001b[0;36m1\n\u001b[0;32m     <a href='vscode-notebook-cell:/f%3A/Qualidade_Florestal/03-%20ADMINISTRATIVO/2023/06-%20COLABORADORES/Gabriel/3%20-%20Script/Untitled.ipynb#W5sZmlsZQ%3D%3D?line=10'>11</a>\u001b[0m     data \u001b[39m=\u001b[39m json\u001b[39m.\u001b[39mload(json_file)\n\u001b[0;32m     <a href='vscode-notebook-cell:/f%3A/Qualidade_Florestal/03-%20ADMINISTRATIVO/2023/06-%20COLABORADORES/Gabriel/3%20-%20Script/Untitled.ipynb#W5sZmlsZQ%3D%3D?line=12'>13</a>\u001b[0m \u001b[39m# Cria um objeto GeoJSON a partir de data\u001b[39;00m\n\u001b[1;32m---> <a href='vscode-notebook-cell:/f%3A/Qualidade_Florestal/03-%20ADMINISTRATIVO/2023/06-%20COLABORADORES/Gabriel/3%20-%20Script/Untitled.ipynb#W5sZmlsZQ%3D%3D?line=13'>14</a>\u001b[0m feature_collection \u001b[39m=\u001b[39m geojson\u001b[39m.\u001b[39mFeatureCollection(data[\u001b[39m'\u001b[39;49m\u001b[39mfeatures\u001b[39;49m\u001b[39m'\u001b[39;49m])\n\u001b[0;32m     <a href='vscode-notebook-cell:/f%3A/Qualidade_Florestal/03-%20ADMINISTRATIVO/2023/06-%20COLABORADORES/Gabriel/3%20-%20Script/Untitled.ipynb#W5sZmlsZQ%3D%3D?line=15'>16</a>\u001b[0m \u001b[39m# Cria a topologia\u001b[39;00m\n\u001b[0;32m     <a href='vscode-notebook-cell:/f%3A/Qualidade_Florestal/03-%20ADMINISTRATIVO/2023/06-%20COLABORADORES/Gabriel/3%20-%20Script/Untitled.ipynb#W5sZmlsZQ%3D%3D?line=16'>17</a>\u001b[0m topology \u001b[39m=\u001b[39m topojson\u001b[39m.\u001b[39mTopology(feature_collection, \u001b[39m.\u001b[39m\u001b[39m.\u001b[39m\u001b[39m.\u001b[39m)\n",
      "\u001b[1;31mKeyError\u001b[0m: 'features'"
     ]
    }
   ],
   "source": [
    "import json\n",
    "import geojson\n",
    "import topojson\n",
    "\n",
    "# Caminhos dos arquivos de entrada e saída\n",
    "input_path = r\"F:\\Qualidade_Florestal\\03- ADMINISTRATIVO\\2023\\06- COLABORADORES\\Gabriel\\1 - Processamento de dados\\mapas.json\"\n",
    "output_path = r\"F:\\Qualidade_Florestal\\03- ADMINISTRATIVO\\2023\\06- COLABORADORES\\Gabriel\\1 - Processamento de dados\\mapas.topojson\"\n",
    "\n",
    "# Lê o arquivo JSON\n",
    "with open(input_path) as json_file:\n",
    "    data = json.load(json_file)\n",
    "\n",
    "# Cria um objeto GeoJSON a partir de data\n",
    "feature_collection = geojson.FeatureCollection(data['features'])\n",
    "\n",
    "# Cria a topologia\n",
    "topology = topojson.Topology(feature_collection, ...)\n",
    "\n",
    "# Salva o arquivo TopoJSON\n",
    "with open(output_path, \"w\") as topo_file:\n",
    "    topo_file.write(topology.to_json())\n"
   ]
  },
  {
   "cell_type": "code",
   "execution_count": null,
   "id": "f0baf1a1",
   "metadata": {},
   "outputs": [],
   "source": []
  }
 ],
 "metadata": {
  "kernelspec": {
   "display_name": "Python 3",
   "language": "python",
   "name": "python3"
  },
  "language_info": {
   "codemirror_mode": {
    "name": "ipython",
    "version": 3
   },
   "file_extension": ".py",
   "mimetype": "text/x-python",
   "name": "python",
   "nbconvert_exporter": "python",
   "pygments_lexer": "ipython3",
   "version": "3.11.1"
  }
 },
 "nbformat": 4,
 "nbformat_minor": 5
}
