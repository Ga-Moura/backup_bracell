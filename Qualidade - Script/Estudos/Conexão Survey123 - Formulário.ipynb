{
 "cells": [
  {
   "cell_type": "code",
   "execution_count": 71,
   "id": "fe8f3ccc",
   "metadata": {},
   "outputs": [],
   "source": [
    "#O link precisa ser do Survey123"
   ]
  },
  {
   "cell_type": "code",
   "execution_count": 10,
   "id": "35a35b11",
   "metadata": {},
   "outputs": [
    {
     "data": {
      "text/plain": [
       "'F:/Qualidade_Florestal/03- ADMINISTRATIVO/2023/06- COLABORADORES/Gabriel/1 - Processamento de dados\\\\a9528a162f5ae459084edbee64bbd57e0.xlsx'"
      ]
     },
     "metadata": {},
     "output_type": "display_data"
    }
   ],
   "source": [
    "from arcgis.gis import GIS\n",
    "from arcgis.apps.survey123 import Survey\n",
    "import os\n",
    "\n",
    "# Criando um objeto GIS\n",
    "gis = GIS(url=r\"https://gissp.bracell.com/portal\", username=\"Qualidade_Florestal\", password=\"Bracell@21\")\n",
    "\n",
    "survey_item = gis.content.get(\"13e178e109bf45009e12ddc78e6cb4d3\")\n",
    "survey = Survey(survey_item, gis)\n",
    "\n",
    "# Definindo o diretório onde os dados e os anexos serão salvos\n",
    "diretorio = \"F:/Qualidade_Florestal/03- ADMINISTRATIVO/2023/06- COLABORADORES/Gabriel/1 - Processamento de dados\"\n",
    "\n",
    "# Baixando os dados do formulário em um arquivo Excel\n",
    "survey_df = survey.download('excel', diretorio)\n",
    "\n",
    "# Exibindo o DataFrame com os dados do formulário\n",
    "display(survey_df)"
   ]
  },
  {
   "cell_type": "code",
   "execution_count": 11,
   "id": "eff5533f",
   "metadata": {
    "scrolled": true
   },
   "outputs": [
    {
     "data": {
      "text/html": [
       "<div class=\"item_container\" style=\"height: auto; overflow: hidden; border: 1px solid #cfcfcf; border-radius: 2px; background: #f6fafa; line-height: 1.21429em; padding: 10px;\">\n",
       "                    <div class=\"item_left\" style=\"width: 210px; float: left;\">\n",
       "                       <a href='https://gissp.bracell.com/portal/home/item.html?id=13e178e109bf45009e12ddc78e6cb4d3' target='_blank'>\n",
       "                        <img src='data:image/png;base64,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' width='200' height='133' class=\"itemThumbnail\">\n",
       "                       </a>\n",
       "                    </div>\n",
       "\n",
       "                    <div class=\"item_right\"     style=\"float: none; width: auto; overflow: hidden;\">\n",
       "                        <a href='https://gissp.bracell.com/portal/home/item.html?id=13e178e109bf45009e12ddc78e6cb4d3' target='_blank'><b>Qualidade Florestal - Carregamento Logística</b>\n",
       "                        </a>\n",
       "                        <br/><img src='https://gissp.bracell.com/portal/home/js/jsapi/esri/css/images/item_type_icons/layers16.png' style=\"vertical-align:middle;\">Form by Qualidade_Florestal\n",
       "                        <br/>Last Modified: abril 06, 2023\n",
       "                        <br/>0 comments, 47 views\n",
       "                    </div>\n",
       "                </div>\n",
       "                "
      ],
      "text/plain": [
       "<Item title:\"Qualidade Florestal - Carregamento Logística\" type:Form owner:Qualidade_Florestal>"
      ]
     },
     "metadata": {},
     "output_type": "display_data"
    }
   ],
   "source": [
    "display(survey_item)"
   ]
  },
  {
   "cell_type": "code",
   "execution_count": 3,
   "id": "fb7de483",
   "metadata": {},
   "outputs": [
    {
     "data": {
      "text/plain": [
       "[' Programado Silvicultura - Realizado.xlsx',\n",
       " 'a7e80c6f34a4047a8b42351dcfa38e4a8.xlsx',\n",
       " 'Controle diário de Produção e Programação.xlsx',\n",
       " 'Equilíbrio - Aval. Sobrev. Resultados Operacionais Consolidados.xlsx',\n",
       " 'Histórico',\n",
       " 'Programado Silvicultura - Meta.xlsx',\n",
       " 'Qualidade Florestal - Carregamento & logística - survey.xlsx']"
      ]
     },
     "execution_count": 3,
     "metadata": {},
     "output_type": "execute_result"
    }
   ],
   "source": [
    "os.listdir(\"F:/Qualidade_Florestal/03- ADMINISTRATIVO/2023/06- COLABORADORES/Gabriel/1 - Processamento de dados\")"
   ]
  },
  {
   "cell_type": "code",
   "execution_count": null,
   "id": "e9feba12",
   "metadata": {},
   "outputs": [],
   "source": []
  }
 ],
 "metadata": {
  "kernelspec": {
   "display_name": "Python 3",
   "language": "python",
   "name": "python3"
  },
  "language_info": {
   "codemirror_mode": {
    "name": "ipython",
    "version": 3
   },
   "file_extension": ".py",
   "mimetype": "text/x-python",
   "name": "python",
   "nbconvert_exporter": "python",
   "pygments_lexer": "ipython3",
   "version": "3.7.11"
  }
 },
 "nbformat": 4,
 "nbformat_minor": 5
}
