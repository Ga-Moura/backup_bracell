{
 "cells": [
  {
   "cell_type": "code",
   "execution_count": 1,
   "metadata": {},
   "outputs": [],
   "source": [
    "import json\n",
    "import topojson\n",
    "import os\n",
    "import arcgis\n",
    "from arcgis.gis import GIS\n",
    "from arcgis.features import FeatureLayer"
   ]
  },
  {
   "cell_type": "code",
   "execution_count": 2,
   "metadata": {},
   "outputs": [],
   "source": [
    "portalURL = r'https://gissp.bracell.com/portal/'\n",
    "username = \"Qualidade_Florestal\"\n",
    "password = \"Qualidade@24\"\n",
    "\n",
    "gis = GIS(portalURL,username=username, password=password)\n",
    "\n",
    "layer_url = \"https://gissp.bracell.com/server/rest/services/Image_Server/PROJETO_2023/FeatureServer/0\"\n",
    "layer = FeatureLayer(layer_url, gis=gis)\n",
    "\n",
    "pasta = r\"F:\\Qualidade_Florestal\\03- ADMINISTRATIVO\\2023\\06- COLABORADORES\\Gabriel\\1 - Processamento de dados\"\n",
    "save_path = os.path.join(pasta, \"mapateste.json\")\n",
    "\n",
    "\n",
    "query = \"1=1\"\n",
    "campos = \"*\"\n",
    "\n",
    "resultados = layer.query(where=query, out_fields=campos, geometry_type='esriGeometryPolygon', outSR=4326, returnCentroid=True, spatialRel=\"esriSpatialRelIntersects\", f=\"json\", sqlformat=\"none\")\n",
    "if len(resultados.features) > 0:\n",
    "    data = {\n",
    "        \"type\": \"FeatureCollection\",\n",
    "        \"crs\": {\"type\": \"name\", \"properties\": {\"name\": \"EPSG:4326\"}},\n",
    "        \"features\": []\n",
    "    }\n",
    "    for f in resultados.features:\n",
    "        feature = {\"type\": \"Feature\", \"geometry\": {\"type\": \"Polygon\", \"coordinates\": f.geometry[\"rings\"]}, \"properties\": f.attributes}\n",
    "        data[\"features\"].append(feature)\n",
    "else:\n",
    "    print(\"A consulta não retornou nenhum resultado.\")\n",
    "\n",
    "with open(save_path, \"w\", encoding=\"utf-8\") as outfile:\n",
    "    json.dump(data, outfile)"
   ]
  },
  {
   "cell_type": "code",
   "execution_count": 3,
   "metadata": {},
   "outputs": [],
   "source": [
    "entrada = r\"F:\\Qualidade_Florestal\\03- ADMINISTRATIVO\\2023\\06- COLABORADORES\\Gabriel\\1 - Processamento de dados\\mapateste.json\"\n",
    "saida = r\"F:\\Qualidade_Florestal\\03- ADMINISTRATIVO\\2023\\06- COLABORADORES\\Gabriel\\1 - Processamento de dados\\mapa_powerBI.json\""
   ]
  },
  {
   "cell_type": "code",
   "execution_count": 4,
   "metadata": {},
   "outputs": [
    {
     "name": "stderr",
     "output_type": "stream",
     "text": [
      "c:\\Users\\gamoura\\AppData\\Local\\Programs\\Python\\Python311\\Lib\\site-packages\\topojson\\core\\dedup.py:107: RuntimeWarning: invalid value encountered in cast\n",
      "  data[\"bookkeeping_shared_arcs\"] = array_bk_sarcs.astype(np.int64).tolist()\n"
     ]
    }
   ],
   "source": [
    "import json\n",
    "import topojson\n",
    "\n",
    "# Abrir o arquivo GeoJSON\n",
    "with open(entrada, 'r', encoding='utf-8') as f:\n",
    "    data = json.load(f)\n",
    "\n",
    "# Converter o GeoJSON em Topology\n",
    "topo = topojson.Topology(data)\n",
    "\n",
    "# Salvar o arquivo Topology\n",
    "with open(saida, 'w') as f:\n",
    "    f.write(topo.to_json())"
   ]
  },
  {
   "cell_type": "code",
   "execution_count": 5,
   "metadata": {},
   "outputs": [],
   "source": [
    "os.remove(entrada)"
   ]
  },
  {
   "cell_type": "code",
   "execution_count": 6,
   "metadata": {},
   "outputs": [],
   "source": [
    "#https://gissp.bracell.com/server/rest/services/Image_Server/PROJETO_2023/FeatureServer/0/query?where=1%3D1&objectIds=&time=&geometry=&geometryType=esriGeometryPolygon&inSR=&spatialRel=esriSpatialRelIntersects&distance=&units=esriSRUnit_Kilometer&relationParam=&outFields=*&returnGeometry=true&maxAllowableOffset=&geometryPrecision=&outSR=4326&having=&gdbVersion=&historicMoment=&returnDistinctValues=false&returnIdsOnly=false&returnCountOnly=false&returnExtentOnly=false&orderByFields=&groupByFieldsForStatistics=&outStatistics=&returnZ=false&returnM=false&multipatchOption=xyFootprint&returnTrueCurves=false&returnExceededLimitFeatures=false&quantizationParameters=&returnCentroid=true&sqlFormat=none&resultType=&featureEncoding=esriDefault&f=geojson\n",
    "\n",
    "#query que deve resultar"
   ]
  }
 ],
 "metadata": {
  "kernelspec": {
   "display_name": "Python 3",
   "language": "python",
   "name": "python3"
  },
  "language_info": {
   "codemirror_mode": {
    "name": "ipython",
    "version": 3
   },
   "file_extension": ".py",
   "mimetype": "text/x-python",
   "name": "python",
   "nbconvert_exporter": "python",
   "pygments_lexer": "ipython3",
   "version": "3.11.1"
  },
  "orig_nbformat": 4
 },
 "nbformat": 4,
 "nbformat_minor": 2
}
