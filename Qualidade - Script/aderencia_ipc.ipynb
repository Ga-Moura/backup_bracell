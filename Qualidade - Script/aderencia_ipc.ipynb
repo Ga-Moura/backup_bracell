{
 "cells": [
  {
   "cell_type": "code",
   "execution_count": null,
   "metadata": {},
   "outputs": [],
   "source": [
    "import pandas as pd\n",
    "import os\n",
    "import openpyxl as px"
   ]
  },
  {
   "cell_type": "code",
   "execution_count": null,
   "metadata": {},
   "outputs": [],
   "source": [
    "path = r'F:\\Planejamento_e_Controle\\Relatório Inventário Pré-corte'"
   ]
  },
  {
   "cell_type": "code",
   "execution_count": null,
   "metadata": {},
   "outputs": [],
   "source": [
    "df = pd.DataFrame()\n",
    "\n",
    "colunas = ['Talhão', 'Área (ha)', 'IMA (m3/ha/ano)']\n",
    "\n",
    "aba = 'rel'\n",
    "\n",
    "\n",
    "for root,dirs, files in os.walk(path):\n",
    "    for i in files:\n",
    "        try:\n",
    "            if i[-5:] == \".xlsx\":\n",
    "                # Obtém o nome do sheet\n",
    "                sheet_name = pd.ExcelFile(os.path.join(root, i)).sheet_names[0]\n",
    "\n",
    "                if sheet_name.lower().startswith(aba):\n",
    "                # Configura a coluna 'Talhão' para ser lida como string\n",
    "                    ipc = pd.read_excel(os.path.join(root, i), skiprows=1, usecols=colunas, sheet_name=sheet_name, dtype={'Talhão': str, 'Área (ha)': float,'IMA (m3/ha/ano)':float})\n",
    "                    ipc['arquivo'] = i\n",
    "                    ipc['pasta'] = root\n",
    "                    df = pd.concat([df, ipc], ignore_index=True)\n",
    "                    df = df[df['Talhão'].notnull()]\n",
    "        except Exception as e:\n",
    "            print(f\"Erro ao processar {i}: {e}\")\n",
    "\n"
   ]
  },
  {
   "cell_type": "code",
   "execution_count": null,
   "metadata": {},
   "outputs": [],
   "source": [
    "df.to_excel(r\"F:\\Qualidade_Florestal\\03- ADMINISTRATIVO\\2023\\06- COLABORADORES\\Gabriel\\1 - Processamento de dados\\Aderência IPC.xlsx\",index=False,sheet_name=\"Aderência IPC\")"
   ]
  }
 ],
 "metadata": {
  "kernelspec": {
   "display_name": "Python 3",
   "language": "python",
   "name": "python3"
  },
  "language_info": {
   "codemirror_mode": {
    "name": "ipython",
    "version": 3
   },
   "file_extension": ".py",
   "mimetype": "text/x-python",
   "name": "python",
   "nbconvert_exporter": "python",
   "pygments_lexer": "ipython3",
   "version": "3.11.1"
  }
 },
 "nbformat": 4,
 "nbformat_minor": 2
}
