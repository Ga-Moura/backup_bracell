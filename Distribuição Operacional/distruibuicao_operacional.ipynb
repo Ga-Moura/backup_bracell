{
 "cells": [
  {
   "cell_type": "code",
   "execution_count": 1,
   "metadata": {},
   "outputs": [],
   "source": [
    "import pandas as pd\n",
    "from datetime import datetime\n",
    "from datetime import timedelta\n",
    "import os\n",
    "import openpyxl as px\n",
    "import xlwings as xw\n",
    "import numpy as np\n",
    "import psycopg2 as pg\n",
    "import configparser\n",
    "import shutil"
   ]
  },
  {
   "cell_type": "code",
   "execution_count": 2,
   "metadata": {},
   "outputs": [],
   "source": [
    "#path premissas \n",
    "path_premissas = r'F:\\Silvicultura\\01. SP\\PROCESSOS\\COI Silvicultura - Edicao\\01. Programações & Controles\\001. Rolling Forcast - RF\\2024\\Distribuição Operacional\\premissas.xlsx'"
   ]
  },
  {
   "cell_type": "code",
   "execution_count": 3,
   "metadata": {},
   "outputs": [],
   "source": [
    "premissas_df = pd.read_excel(path_premissas, sheet_name='path')\n",
    "\n",
    "def input_file(file, name_path):\n",
    "    premissas = premissas_df.copy()\n",
    "    \n",
    "    premissas = premissas[premissas['status'] == 'ativo']\n",
    "\n",
    "    premissas = premissas[premissas['arquivos de consumo'] == file]\n",
    "\n",
    "    path = premissas['path'].iloc[0]\n",
    "\n",
    "    return path\n"
   ]
  },
  {
   "cell_type": "code",
   "execution_count": 4,
   "metadata": {},
   "outputs": [],
   "source": [
    "#path credenciais\n",
    "\n",
    "credenciais_path = input_file(file='credenciais_path', name_path='path')"
   ]
  },
  {
   "cell_type": "code",
   "execution_count": 5,
   "metadata": {},
   "outputs": [],
   "source": [
    "#credenciais\n",
    "\n",
    "\n",
    "credenciais = configparser.ConfigParser()\n",
    "\n",
    "credenciais.read(credenciais_path)\n",
    "\n",
    "logins = credenciais['credenciais']\n",
    "\n",
    "\n",
    "conn_dwh = pg.connect(\n",
    "    user =logins['login'],\n",
    "    password =logins['senha_sql'],\n",
    "    host = logins['host'],\n",
    "    port = logins['port'],\n",
    "    database = logins['data_base']\n",
    ")"
   ]
  },
  {
   "cell_type": "code",
   "execution_count": 6,
   "metadata": {},
   "outputs": [],
   "source": [
    "#path histórico\n",
    "\n",
    "path_historico = input_file(file='path_historico', name_path='path')"
   ]
  },
  {
   "cell_type": "code",
   "execution_count": 7,
   "metadata": {},
   "outputs": [],
   "source": [
    "#path lista tecnica\n",
    "\n",
    "path_lista_tecnica = input_file(file='path_lista_tecnica', name_path='path')"
   ]
  },
  {
   "cell_type": "code",
   "execution_count": 8,
   "metadata": {},
   "outputs": [],
   "source": [
    "#Path general service\n",
    "\n",
    "path_general_service = input_file(file='path_general_service', name_path='path')"
   ]
  },
  {
   "cell_type": "code",
   "execution_count": 9,
   "metadata": {},
   "outputs": [],
   "source": [
    "#Base de nomenclatura de operações\n",
    "\n",
    "general_service = pd.read_excel(path_general_service, sheet_name='APOIO', usecols=['General Services','Others'])\n",
    "\n",
    "#Removendo duplicatas\n",
    "general_service = general_service.drop_duplicates(['General Services'], keep='first')"
   ]
  },
  {
   "cell_type": "code",
   "execution_count": 10,
   "metadata": {},
   "outputs": [],
   "source": [
    "#base histórico realizado\n",
    "historico = pd.read_excel(path_historico, skiprows=2)"
   ]
  },
  {
   "cell_type": "code",
   "execution_count": 11,
   "metadata": {},
   "outputs": [],
   "source": [
    "#Capacidade de plantio\n",
    "cap_plantio = pd.read_excel(path_premissas,sheet_name='cap plantio')"
   ]
  },
  {
   "cell_type": "code",
   "execution_count": 12,
   "metadata": {},
   "outputs": [],
   "source": [
    "#Encontrando mês operacional\n",
    "\n",
    "def mes_operacional(df, coluna, nome_coluna):\n",
    "    # Garantir que a coluna é do tipo datetime\n",
    "    if not pd.api.types.is_datetime64_any_dtype(df[coluna]):\n",
    "        df[coluna] = pd.to_datetime(df[coluna], errors='coerce')\n",
    "    \n",
    "    \n",
    "    def calcular_mes_operacional(data):\n",
    "        \n",
    "        if pd.isna(data):\n",
    "            return None \n",
    "        \n",
    "        \n",
    "        dia = data.day\n",
    "        mes = data.month\n",
    "        ano = data.year\n",
    "        \n",
    "        \n",
    "        if dia > 20:\n",
    "            mes = (mes % 12) + 1\n",
    "            if mes == 1:\n",
    "                ano += 1\n",
    "        \n",
    "        # Retornar um Timestamp, garantindo que todos são inteiros\n",
    "        return pd.Timestamp(year=int(ano), month=int(mes), day=1)\n",
    "\n",
    "    # Aplicar a função para a coluna\n",
    "    df[nome_coluna] = df[coluna].apply(calcular_mes_operacional)\n",
    "\n",
    "    return df"
   ]
  },
  {
   "cell_type": "code",
   "execution_count": 13,
   "metadata": {},
   "outputs": [],
   "source": [
    "#Código de usuário responsável\n",
    "\n",
    "\n",
    "cursor_usu_resp = conn_dwh.cursor()\n",
    "\n",
    "cursor_usu_resp.execute(\n",
    "\"\"\" \n",
    "select distinct on (cd_usuario)\n",
    "    dcr_usuario,\n",
    "    cd_usuario,\n",
    "    est_reg\n",
    "\n",
    "from \n",
    "    forestry.d_vw_usuarios_perfil\n",
    "\"\"\"\n",
    "\n",
    ")\n",
    "\n",
    "#Mesmo o est_reg for apenas 'A' ele considera as pessoas que já não estão mais na empresa\n",
    "\n",
    "\n",
    "dados_uso_resp = cursor_usu_resp.fetchall()\n",
    "\n",
    "cursor_usu_resp.close()\n",
    "\n",
    "\n",
    "colunas_uso_resp = [desc[0] for desc in cursor_usu_resp.description]\n",
    "\n",
    "#Fechando conexão com o DWH\n",
    "conn_dwh.close()\n",
    "\n",
    "uso_resp = pd.DataFrame(dados_uso_resp, columns=colunas_uso_resp)\n"
   ]
  },
  {
   "cell_type": "code",
   "execution_count": 14,
   "metadata": {},
   "outputs": [],
   "source": [
    "#Inserindo Supervisor\n",
    "\n",
    "historico = historico.merge(uso_resp[['dcr_usuario','cd_usuario']],left_on=['cd_usuario_resp'], right_on= ['cd_usuario'], how='left').drop('cd_usuario',axis=1)"
   ]
  },
  {
   "cell_type": "code",
   "execution_count": 15,
   "metadata": {},
   "outputs": [],
   "source": [
    "#Filtrando somente o que é plantio\n",
    "historico = historico[historico['Grupo de Atividades'] == 'Plantio']"
   ]
  },
  {
   "cell_type": "code",
   "execution_count": 16,
   "metadata": {},
   "outputs": [],
   "source": [
    "#De para EPS\n",
    "\n",
    "de_para_eps = pd.read_excel(path_premissas, sheet_name='eps')"
   ]
  },
  {
   "cell_type": "code",
   "execution_count": 17,
   "metadata": {},
   "outputs": [],
   "source": [
    "#Encontrando EPS JFI\n",
    "\n",
    "historico['os_eps'] = historico.apply(lambda x : str(x['dcr_ordem_servico'])[8:].split('_')[1].upper(), axis=1)\n",
    "\n",
    "historico['dcr_fornecedor'] = np.where(historico['dcr_fornecedor'] == 'J F I SILVICULTURA', historico['os_eps'], historico['dcr_fornecedor'])\n",
    "\n",
    "historico['dcr_fornecedor'] = np.where( (historico['os_eps'] == 'JFI') & (historico['dcr_usuario'] == 'Danilo Roberto Bavaroski') , 'JFICAPÃO', historico['dcr_fornecedor'])"
   ]
  },
  {
   "cell_type": "code",
   "execution_count": 18,
   "metadata": {},
   "outputs": [],
   "source": [
    "#retirando do histórico os meses que ainda estão planejados e não estão fechado\n",
    "\n",
    "# historico = historico[(historico['[m] Mês Operacional'] != '2024_11') & (historico['[m] Mês Operacional'] != '2024_12')]\n",
    "\n",
    "# historico = historico[(historico['[m] Mês Operacional'] != '2024_12')]"
   ]
  },
  {
   "cell_type": "code",
   "execution_count": 19,
   "metadata": {},
   "outputs": [],
   "source": [
    "#de_para eps\n",
    "historico = historico.merge(de_para_eps, left_on=['dcr_fornecedor'], right_on=['eps_de'],how='left').drop('eps_de',axis=1).rename({'eps_para': 'Equipe de Plantio'},axis=1)"
   ]
  },
  {
   "cell_type": "code",
   "execution_count": 20,
   "metadata": {},
   "outputs": [],
   "source": [
    "#Export histórico\n",
    "historico.to_excel('l - historico.xlsx')"
   ]
  },
  {
   "cell_type": "code",
   "execution_count": 21,
   "metadata": {},
   "outputs": [],
   "source": [
    "#V_anual_pivot\n",
    "\n",
    "v_anual = historico.groupby('[m] Mês Operacional')['Soma de [c] Valor de Produção'].sum().reset_index()\n",
    "\n",
    "\n",
    "#Alterando o tipo de mês operacional\n",
    "\n",
    "v_anual['[m] Mês Operacional'] = pd.to_datetime(v_anual['[m] Mês Operacional'], format= '%Y_%m')\n",
    "\n",
    "\n",
    "#Volume anual pivot, comparar com os próximos anos\n",
    "v_anual_pivot = pd.pivot_table(v_anual, values=['Soma de [c] Valor de Produção'], columns=['[m] Mês Operacional'])\n"
   ]
  },
  {
   "cell_type": "code",
   "execution_count": 22,
   "metadata": {},
   "outputs": [],
   "source": [
    "#v_anual_eps\n",
    "\n",
    "v_anual_eps = historico.groupby(['[m] Mês Operacional','dcr_fornecedor','Equipe de Plantio'])['Soma de [c] Valor de Produção'].sum().reset_index()\n",
    "\n",
    "#Encontrar proporção de plantio \n",
    "v_anual_eps['% de Plantio'] = v_anual_eps['Soma de [c] Valor de Produção'] / v_anual_eps.groupby('[m] Mês Operacional')['Soma de [c] Valor de Produção'].transform('sum')\n"
   ]
  },
  {
   "cell_type": "code",
   "execution_count": 23,
   "metadata": {},
   "outputs": [],
   "source": [
    "#v_anual_eps pivot\n",
    "\n",
    "#Visão de volume por eps ao longo dos anos\n",
    "v_anual_eps_pivot = v_anual_eps.pivot_table(index=['Equipe de Plantio'], columns=['[m] Mês Operacional'], values='Soma de [c] Valor de Produção',aggfunc='sum')\n",
    "\n",
    "#Visão em percentual por eps ao longo dos anos\n",
    "perc_anual_eps_pivot = v_anual_eps.pivot_table(index=['Equipe de Plantio'], columns=['[m] Mês Operacional'], values='% de Plantio',aggfunc='sum')"
   ]
  },
  {
   "cell_type": "code",
   "execution_count": 24,
   "metadata": {},
   "outputs": [],
   "source": [
    "#Export pivot anual_eps\n",
    "#perc_anual_eps_pivot.to_excel('l - percentual de plantio.xlsx')\n",
    "#v_anual_eps_pivot.to_excel('l - volume de plantio.xlsx')"
   ]
  },
  {
   "cell_type": "code",
   "execution_count": 25,
   "metadata": {},
   "outputs": [],
   "source": [
    "#cap_plantio_melt\n",
    "\n",
    "\n",
    "\n",
    "cap_plantio_melt = cap_plantio.melt(id_vars=['Service Provider'], \n",
    "                                    value_vars=[ '2025_01', '2025_02',\n",
    "                                                '2025_03', '2025_04', '2025_05', '2025_06', '2025_07', '2025_08',\n",
    "                                                '2025_09', '2025_10', '2025_11', '2025_12', '2026_01', '2026_02',\n",
    "                                                '2026_03', '2026_04', '2026_05'],\n",
    "                                    var_name='[m] Mês Operacional',\n",
    "                                    value_name='Soma de [c] Valor de Produção',\n",
    "                                    )\n",
    "\n",
    "\n",
    "#Renomear coluna\n",
    "cap_plantio_melt = cap_plantio_melt.rename({'Service Provider': 'Equipe de Plantio'}, axis=1)\n",
    "\n",
    "#Alterando o tipo de dado númerico\n",
    "cap_plantio_melt['Soma de [c] Valor de Produção'] = pd.to_numeric(cap_plantio_melt['Soma de [c] Valor de Produção'], errors = 'coerce')"
   ]
  },
  {
   "cell_type": "code",
   "execution_count": 26,
   "metadata": {},
   "outputs": [],
   "source": [
    "#Concatenando base para rolling_forcast\n",
    "\n",
    "rolling_forcast = pd.concat([v_anual_eps,\n",
    "                             cap_plantio_melt])"
   ]
  },
  {
   "cell_type": "code",
   "execution_count": 27,
   "metadata": {},
   "outputs": [],
   "source": [
    "#Atribuindo regional de acordo com a equipe\n",
    "rolling_forcast = rolling_forcast.merge(de_para_eps[['eps_para','regional','classe equipe']].drop_duplicates('eps_para'),left_on=['Equipe de Plantio'], right_on=['eps_para'],how='left').drop('eps_para',axis=1)\n",
    "\n",
    "\n",
    "#Encontrar proporção de plantio \n",
    "rolling_forcast['% de Plantio'] = rolling_forcast['Soma de [c] Valor de Produção'] / rolling_forcast.groupby('[m] Mês Operacional')['Soma de [c] Valor de Produção'].transform('sum')\n"
   ]
  },
  {
   "cell_type": "code",
   "execution_count": 28,
   "metadata": {},
   "outputs": [],
   "source": [
    "#Colunas utilizadas na Lista técnica de operações\n",
    "cols_lista_tecnica = ['Fase custo padrão','Time (Days)','Operation Description','Tipo','Intensity',\n",
    "                      'Jan-INT', 'Fev-INT', 'Mar-INT', 'Abr-INT',\n",
    "                      'Mai-INT', 'Jun-INT', 'Jul-INT', 'Ago-INT', \n",
    "                      'Set-INT', 'Out-INT', 'Nov-INT', 'Dez-INT']"
   ]
  },
  {
   "cell_type": "code",
   "execution_count": 29,
   "metadata": {},
   "outputs": [],
   "source": [
    "#Lista técnica regional SU\n",
    "\n",
    "lista_tecnica_su = pd.read_excel(path_lista_tecnica,sheet_name='LT_REFSU',skiprows=1, usecols=cols_lista_tecnica)\n",
    "\n",
    "lista_tecnica_su = lista_tecnica_su[lista_tecnica_su['Tipo'] == 'Serviço']\n",
    "\n",
    "lista_tecnica_su['regional'] = 'SU'"
   ]
  },
  {
   "cell_type": "code",
   "execution_count": 30,
   "metadata": {},
   "outputs": [],
   "source": [
    "#Lista técnica regional CE\n",
    "\n",
    "lista_tecnica_ce = pd.read_excel(path_lista_tecnica,sheet_name='LT_REFCE',skiprows=1, usecols=cols_lista_tecnica)\n",
    "\n",
    "lista_tecnica_ce = lista_tecnica_ce[lista_tecnica_ce['Tipo'] == 'Serviço']\n",
    "\n",
    "lista_tecnica_ce['regional'] = 'CE'"
   ]
  },
  {
   "cell_type": "code",
   "execution_count": 31,
   "metadata": {},
   "outputs": [],
   "source": [
    "#Lista técnica regional NW\n",
    "\n",
    "lista_tecnica_nw = pd.read_excel(path_lista_tecnica,sheet_name='LT_REFNR',skiprows=1, usecols=cols_lista_tecnica)\n",
    "\n",
    "lista_tecnica_nw = lista_tecnica_nw[lista_tecnica_nw['Tipo'] == 'Serviço']\n",
    "\n",
    "lista_tecnica_nw['regional'] = 'NW'"
   ]
  },
  {
   "cell_type": "code",
   "execution_count": 32,
   "metadata": {},
   "outputs": [],
   "source": [
    "#Lista técnica regional NO\n",
    "\n",
    "lista_tecnica_no = pd.read_excel(path_lista_tecnica,sheet_name='LT_REFNO',skiprows=1, usecols=cols_lista_tecnica)\n",
    "\n",
    "lista_tecnica_no = lista_tecnica_no[lista_tecnica_no['Tipo'] == 'Serviço']\n",
    "\n",
    "lista_tecnica_no['regional'] = 'NO'"
   ]
  },
  {
   "cell_type": "code",
   "execution_count": 33,
   "metadata": {},
   "outputs": [],
   "source": [
    "#Lista técnica regional CP\n",
    "    #Talhadia\n",
    "\n",
    "lista_tecnica_cp = pd.read_excel(path_lista_tecnica,sheet_name='LT_REBGL',skiprows=1, usecols=cols_lista_tecnica)\n",
    "\n",
    "lista_tecnica_cp = lista_tecnica_cp[lista_tecnica_cp['Tipo'] == 'Serviço']\n",
    "\n",
    "lista_tecnica_cp['regional'] = 'CP'"
   ]
  },
  {
   "cell_type": "code",
   "execution_count": 34,
   "metadata": {},
   "outputs": [],
   "source": [
    "#Concatenando lista tecnica\n",
    "\n",
    "lista_tecnica = pd.concat([lista_tecnica_su,\n",
    "                          lista_tecnica_ce,\n",
    "                          lista_tecnica_no,\n",
    "                          lista_tecnica_nw,\n",
    "                          lista_tecnica_cp])\n",
    "\n",
    "\n",
    "#Removendo fase Harvesting devido por se repetir na fase maintenance 5-6\n",
    "lista_tecnica = lista_tecnica[lista_tecnica['Fase custo padrão'] != 'HARVESTING']"
   ]
  },
  {
   "cell_type": "code",
   "execution_count": 35,
   "metadata": {},
   "outputs": [],
   "source": [
    "#Export lista técnica\n",
    "lista_tecnica.to_excel('l - lista_tecnica.xlsx')"
   ]
  },
  {
   "cell_type": "code",
   "execution_count": 36,
   "metadata": {},
   "outputs": [],
   "source": [
    "#Cadastro de operações\n",
    "\n",
    "cad_op = pd.read_excel(path_premissas,sheet_name='cad operacoes')"
   ]
  },
  {
   "cell_type": "code",
   "execution_count": 37,
   "metadata": {},
   "outputs": [],
   "source": [
    "#Atribuindo equipes a lista tecnica\n",
    "\n",
    "#Não posso atribuir equipe a lista técnica, seria um erro pensar que todas as equipes fazem todas as operações, o que não é o caso\n",
    "\n",
    "#lista_tecnica = lista_tecnica.merge(de_para_eps[['eps_para','regional']].drop_duplicates('eps_para'), left_on='regional', right_on='regional', how='left')"
   ]
  },
  {
   "cell_type": "code",
   "execution_count": 38,
   "metadata": {},
   "outputs": [],
   "source": [
    "#Alterando o formato de datas rolling_forcast\n",
    "rolling_forcast['[m] Mês Operacional'] = pd.to_datetime(rolling_forcast['[m] Mês Operacional'],format='%Y_%m')"
   ]
  },
  {
   "cell_type": "code",
   "execution_count": 39,
   "metadata": {},
   "outputs": [],
   "source": [
    "#Produção bdsgf\n",
    "\n",
    "#Área indicada pelo Caio\n",
    "\n",
    "bdsgf = pd.read_excel(path_premissas, sheet_name='area referencia')\n",
    "\n",
    "bdsgf = bdsgf[bdsgf['Tipo'] != 'Exaustão']\n",
    "\n",
    "bdsgf = bdsgf.groupby(['Mês'])['Área'].sum().reset_index()\n",
    "\n",
    "bdsgf_pivot = pd.pivot_table(bdsgf,values='Área',columns=['Mês'])\n",
    "\n",
    "bdsgf_pivot = bdsgf_pivot.rename({'Área':'Área bdsgf'},axis=0)\n"
   ]
  },
  {
   "cell_type": "code",
   "execution_count": 40,
   "metadata": {},
   "outputs": [],
   "source": [
    "#Renomeando v_anual_pivot\n",
    "v_anual_pivot = v_anual_pivot.rename({'Soma de [c] Valor de Produção':'Área sgf'}, axis = 0)\n"
   ]
  },
  {
   "cell_type": "code",
   "execution_count": 41,
   "metadata": {},
   "outputs": [],
   "source": [
    "#delta_sgf_bdsgf\n",
    "\n",
    "#Encontrando delta entre o que foi apontado no sgf e o que foi utilizado no orçamento\n",
    "\n",
    "#Verificar volume de plantio apontado no sgf vs apontado no cadastro de áreas budget\n",
    "\n",
    "#E ajustar conforme volume plantado, remover organicamente os percentuais de acordo com o mes e ano, chamaremos de delta ajustado bdsgf\n",
    "\n",
    "\n",
    "delta_sgf_bdsgf = pd.concat([v_anual_pivot,bdsgf_pivot])\n",
    "\n",
    "delta_sgf_bdsgf.loc['delta ha'] = delta_sgf_bdsgf.loc['Área bdsgf'] - delta_sgf_bdsgf.loc['Área sgf']\n",
    "\n",
    "delta_sgf_bdsgf.loc['delta %'] = delta_sgf_bdsgf.loc['Área bdsgf'] / delta_sgf_bdsgf.loc['Área sgf']\n",
    "\n",
    "delta_sgf_bdsgf.loc['ajuste'] = delta_sgf_bdsgf.loc['delta %'] - 1"
   ]
  },
  {
   "cell_type": "code",
   "execution_count": 42,
   "metadata": {},
   "outputs": [],
   "source": [
    "#Export delta sgf\n",
    "#delta_sgf_bdsgf.to_excel(\"l - delta_sgf_bdsgf.xlsx\")"
   ]
  },
  {
   "cell_type": "code",
   "execution_count": 43,
   "metadata": {},
   "outputs": [],
   "source": [
    "#Transpondo o Data Frame para encontrar o ajuste necessário\n",
    "\n",
    "t_delta_sgf_bdsgf = delta_sgf_bdsgf.T.reset_index()\n",
    "\n",
    "t_delta_sgf_bdsgf = t_delta_sgf_bdsgf.rename({'index': 'Mês Operacional'},axis=1)"
   ]
  },
  {
   "cell_type": "code",
   "execution_count": 44,
   "metadata": {},
   "outputs": [],
   "source": [
    "#Atribuir os ajustes no rolling forecast\n",
    "\n",
    "rolling_forcast = rolling_forcast.merge(t_delta_sgf_bdsgf[['Mês Operacional', 'delta ha']], left_on=['[m] Mês Operacional'], right_on=['Mês Operacional'], how='left').drop('Mês Operacional', axis=1)\n"
   ]
  },
  {
   "cell_type": "code",
   "execution_count": 45,
   "metadata": {},
   "outputs": [],
   "source": [
    "#Ajustando volumes rolling forcast\n",
    "\n",
    "#Pegaremos os valores de delta (ha) e o percentual que cada eps plantou\n",
    "\n",
    "rolling_forcast['Soma de [c] Valor de Produção'] = np.where(pd.notna(rolling_forcast['delta ha']),\n",
    "\n",
    "((rolling_forcast['% de Plantio'] * rolling_forcast['delta ha']) + rolling_forcast['Soma de [c] Valor de Produção']), rolling_forcast['Soma de [c] Valor de Produção'])\n"
   ]
  },
  {
   "cell_type": "code",
   "execution_count": 46,
   "metadata": {},
   "outputs": [],
   "source": [
    "#Alteração mês de março\n",
    "#Devido ao calendário operacional\n",
    "\n",
    "#Antes de atribuir a lista técnica, alterar o mês de março para dia 02 (*Observações ao mês de fevereiro)\n",
    "\n",
    "rolling_forcast['[m] Mês Operacional'] = np.where(rolling_forcast['[m] Mês Operacional'].dt.month == 3, \n",
    "                                                rolling_forcast['[m] Mês Operacional'] + timedelta(days= 2),\n",
    "                                                rolling_forcast['[m] Mês Operacional'])"
   ]
  },
  {
   "cell_type": "code",
   "execution_count": 47,
   "metadata": {},
   "outputs": [],
   "source": [
    "#Atribuindo a lista tecnica ao rolling_forcast\n",
    "\n",
    "rolling_forcast = rolling_forcast.merge(lista_tecnica,left_on=['regional'], right_on=['regional'], how='left')"
   ]
  },
  {
   "cell_type": "code",
   "execution_count": 48,
   "metadata": {},
   "outputs": [],
   "source": [
    "#Export rolling forcast - antes de ajustes\n",
    "#rolling_forcast.to_excel('l - rolling_forcast.xlsx', index=False)"
   ]
  },
  {
   "cell_type": "code",
   "execution_count": 49,
   "metadata": {},
   "outputs": [],
   "source": [
    "#Atribuindo operações\n",
    "\n",
    "rolling_forcast = rolling_forcast.merge(cad_op, left_on='Operation Description', right_on='Operações', how='left').drop('Operações',axis=1)"
   ]
  },
  {
   "cell_type": "code",
   "execution_count": 50,
   "metadata": {},
   "outputs": [],
   "source": [
    "#Atribuir quais equipes irão executar atividade\n",
    "\n",
    "#Atribuindo bracell 1 para operações que não devem ser feitas de forma tercerizada\n",
    "\n",
    "#Atribuir terceiros para operações que bracell atual\n",
    "    #Pensar como redistribuir as operações definidas para terceiros\n",
    "\n",
    "\n",
    "#Classe de trabalho -> Tipo de operação e qual frente deve atuar\n",
    "\n",
    "#Classe equipe -> Se a equipe é própria ou terceira\n",
    "\n",
    "\n",
    "rolling_forcast['Equipe de Plantio - R'] = np.where((rolling_forcast['classe equipe'] == 'Terceiros') &\n",
    "                                                    (rolling_forcast['Classe de trabalho'] == 'Bracell')\n",
    "                                                    ,'Bracell 1',\n",
    "                                                    \n",
    "                                                    np.where( (rolling_forcast['classe equipe'] == 'Bracell') & \n",
    "                                                            (rolling_forcast['Classe de trabalho'] == 'Terceiros'),'Terceiros',\n",
    "                                                    \n",
    "                                                        np.where(((rolling_forcast['classe equipe'] == 'Terceiros') |\n",
    "                                                                    (rolling_forcast['classe equipe'] == 'Bracell') |\n",
    "                                                                    (rolling_forcast['classe equipe'] == 'Coppice')) &\n",
    "                                                                    (rolling_forcast['Classe de trabalho'] == 'Bracell Apoio'), 'Bracell Apoio',\n",
    "                                                                    rolling_forcast['Equipe de Plantio'])))\n"
   ]
  },
  {
   "cell_type": "code",
   "execution_count": 51,
   "metadata": {},
   "outputs": [],
   "source": [
    "#Encontrando as datas de operação \n",
    "\n",
    "rolling_forcast['data de operação'] = rolling_forcast['[m] Mês Operacional'] + pd.to_timedelta(rolling_forcast['Time (Days)'], unit='D')\n",
    "\n",
    "#Mês operacional\n",
    "\n",
    "rolling_forcast = mes_operacional(rolling_forcast,'data de operação', 'data de operação - co')\n"
   ]
  },
  {
   "cell_type": "code",
   "execution_count": 52,
   "metadata": {},
   "outputs": [],
   "source": [
    "#Intensidade e Sazonalidade\n",
    "\n",
    "#Encontrando sazonalidade e intensidade de execusão de atividade\n",
    "\n",
    "rolling_forcast['v_intensidade'] = np.where(\n",
    "    rolling_forcast['data de operação - co'].dt.month == 1, rolling_forcast['Soma de [c] Valor de Produção'] * rolling_forcast['Jan-INT'],\n",
    "    np.where(\n",
    "        rolling_forcast['data de operação - co'].dt.month == 2, rolling_forcast['Soma de [c] Valor de Produção'] * rolling_forcast['Fev-INT'],\n",
    "        np.where(\n",
    "            rolling_forcast['data de operação - co'].dt.month == 3, rolling_forcast['Soma de [c] Valor de Produção'] * rolling_forcast['Mar-INT'],\n",
    "            np.where(\n",
    "                rolling_forcast['data de operação - co'].dt.month == 4, rolling_forcast['Soma de [c] Valor de Produção'] * rolling_forcast['Abr-INT'],\n",
    "                np.where(\n",
    "                    rolling_forcast['data de operação - co'].dt.month == 5, rolling_forcast['Soma de [c] Valor de Produção'] * rolling_forcast['Mai-INT'],\n",
    "                    np.where(\n",
    "                        rolling_forcast['data de operação - co'].dt.month == 6, rolling_forcast['Soma de [c] Valor de Produção'] * rolling_forcast['Jun-INT'],\n",
    "                        np.where(\n",
    "                            rolling_forcast['data de operação - co'].dt.month == 7, rolling_forcast['Soma de [c] Valor de Produção'] * rolling_forcast['Jul-INT'],\n",
    "                            np.where(\n",
    "                                rolling_forcast['data de operação - co'].dt.month == 8, rolling_forcast['Soma de [c] Valor de Produção'] * rolling_forcast['Ago-INT'],\n",
    "                                np.where(\n",
    "                                    rolling_forcast['data de operação - co'].dt.month == 9, rolling_forcast['Soma de [c] Valor de Produção'] * rolling_forcast['Set-INT'],\n",
    "                                    np.where(\n",
    "                                        rolling_forcast['data de operação - co'].dt.month == 10, rolling_forcast['Soma de [c] Valor de Produção'] * rolling_forcast['Out-INT'],\n",
    "                                        np.where(\n",
    "                                            rolling_forcast['data de operação - co'].dt.month == 11, rolling_forcast['Soma de [c] Valor de Produção'] * rolling_forcast['Nov-INT'],\n",
    "                                            np.where(\n",
    "                                                rolling_forcast['data de operação - co'].dt.month == 12, rolling_forcast['Soma de [c] Valor de Produção'] * rolling_forcast['Dez-INT'],\n",
    "                                                \n",
    "                                                rolling_forcast['Soma de [c] Valor de Produção']  # Valor padrão\n",
    "                                            )\n",
    "                                        )\n",
    "                                    )\n",
    "                                )\n",
    "                            )\n",
    "                        )\n",
    "                    )\n",
    "                )\n",
    "            )\n",
    "        )\n",
    "    )\n",
    ")\n",
    "\n",
    "\n",
    "\n"
   ]
  },
  {
   "cell_type": "code",
   "execution_count": 53,
   "metadata": {},
   "outputs": [],
   "source": [
    "#Reprogramação\n",
    "\n",
    "#Reprogramar volumes para equipes indicados pela aba de reprogramação\n",
    "\n",
    "reprogramacao = pd.read_excel(path_premissas, sheet_name='reprogramacao')\n",
    "\n",
    "#Removendo colunas que são de interesse para colunas e mantendo apenas linhas\n",
    "cols_reprog_data = [col for col in reprogramacao.columns if col not in ['Operação', 'Equipe atual', 'Nova Equipe responsável', 'Tipo de valor']]\n",
    "\n",
    "cols_reprog_index = ['Operação', 'Equipe atual', 'Nova Equipe responsável', 'Tipo de valor']\n",
    "\n",
    "\n",
    "#melt de reprogramação\n",
    "    #melt retira o pivot table e pivot table cria o melt\n",
    "\n",
    "reprogramacao_melt = reprogramacao.melt(id_vars=cols_reprog_index , value_vars=cols_reprog_data, value_name='Valores', var_name='Mês Operacional')\n",
    "\n",
    "\n",
    "#Retirando os percentuais vazios, para não duplicar a base no momento que fizer o merge com o rolling forecast\n",
    "reprogramacao_melt = reprogramacao_melt[pd.notna(reprogramacao_melt['Valores'])]\n",
    "\n",
    "\n",
    "#Alterando o tipo de dado do mês operacional\n",
    "\n",
    "reprogramacao_melt['Mês Operacional'] = pd.to_datetime(reprogramacao_melt['Mês Operacional'], format='%Y_%m')\n",
    "\n"
   ]
  },
  {
   "cell_type": "code",
   "execution_count": 54,
   "metadata": {},
   "outputs": [],
   "source": [
    "#Rolling forcast e reprogramação\n",
    "\n",
    "rolling_forcast = rolling_forcast.merge(reprogramacao_melt[['Operação', 'Equipe atual', 'Nova Equipe responsável','Mês Operacional', 'Valores']], \n",
    "        left_on=['Equipe de Plantio - R', 'Operation Description', 'data de operação - co'],\n",
    "        right_on=['Equipe atual', 'Operação', 'Mês Operacional'],\n",
    "         how='left').drop(['Operação','Mês Operacional', 'Equipe atual'],axis=1)\n",
    "\n",
    "\n",
    "\n",
    "#Alterando valores de equipe atual\n",
    "\n",
    "rolling_forcast['Equipe de Plantio - R'] = np.where(pd.notna(rolling_forcast['Nova Equipe responsável']), \n",
    "                                                    rolling_forcast['Nova Equipe responsável'],\n",
    "                                                    rolling_forcast['Equipe de Plantio - R'])\n",
    "\n",
    "\n",
    "#Alterando valores de v_intensidade\n",
    "\n",
    "rolling_forcast['v_intensidade'] = np.where(pd.notna(rolling_forcast['Valores']),\n",
    "                                            (rolling_forcast['v_intensidade'] * rolling_forcast['Valores']),\n",
    "                                            rolling_forcast['v_intensidade'])"
   ]
  },
  {
   "cell_type": "code",
   "execution_count": 55,
   "metadata": {},
   "outputs": [],
   "source": [
    "#Rolling forcast após ajustes\n",
    "\n",
    "#rolling_forcast.to_excel('e - rolling_forcast.xlsx', index=False)"
   ]
  },
  {
   "cell_type": "code",
   "execution_count": 56,
   "metadata": {},
   "outputs": [],
   "source": [
    "#Condição de Área\n",
    "#Definindo diferenças para Rebrota e Reforma\n",
    "\n",
    "cond_map = {'CP': 'Rebrota',\n",
    "            'CE': 'Reforma',\n",
    "            'NO': 'Reforma',\n",
    "            'NW': 'Reforma',\n",
    "            'SU': 'Reforma'\n",
    "            }\n",
    "\n",
    "#Atribuindo a condição de área\n",
    "rolling_forcast['Condição de Área'] = rolling_forcast['regional'].map(cond_map)"
   ]
  },
  {
   "cell_type": "code",
   "execution_count": 57,
   "metadata": {},
   "outputs": [],
   "source": [
    "#Base query\n",
    "\n",
    "#Agrupar volumes que foram duplicados\n",
    "\n",
    "#Encontrar base para classificar operações da mesma forma que o PCP, olharemos para as mesmas operações dentro dos mesmos grupos\n",
    "\n",
    "rf_agg = {'v_intensidade':'sum',\n",
    "          #'Time (Days)': 'mean',\n",
    "          }\n",
    "\n",
    "rf_query = rolling_forcast.groupby(['Fase custo padrão','Operation Description','Condição de Área','Equipe de Plantio - R','data de operação - co']).agg(rf_agg).reset_index()\n"
   ]
  },
  {
   "cell_type": "code",
   "execution_count": 58,
   "metadata": {},
   "outputs": [],
   "source": [
    "#Listando Regional apartir da EPS\n",
    "\n",
    "rf_query = rf_query.merge(de_para_eps[['eps_para','classe equipe','regional']].drop_duplicates(['eps_para'],keep='first'), left_on='Equipe de Plantio - R', right_on='eps_para', how='left').drop(['eps_para'],axis=1)"
   ]
  },
  {
   "cell_type": "code",
   "execution_count": 59,
   "metadata": {},
   "outputs": [],
   "source": [
    "#Merge de grupo de operações\n",
    "\n",
    "rf_query = rf_query.merge(general_service,left_on=['Operation Description'], right_on=['General Services'], how='left').drop(['General Services'], axis = 1)\n"
   ]
  },
  {
   "cell_type": "code",
   "execution_count": 60,
   "metadata": {},
   "outputs": [],
   "source": [
    "#Renomeando grupo de operações\n",
    "\n",
    "rename_query_rf = {'Fase custo padrão': 'Fase Custo Padrão',\n",
    "                   'Operation Description': 'Descrição de Operação',\n",
    "                   'regional_x' : 'Lista Técnica',\n",
    "                   'regional' : 'Regional',\n",
    "                   'Equipe de Plantio - R': 'EPS',\n",
    "                   '[m] Mês Operacional': 'Data De Plantio',\n",
    "                   'data de operação - co' : 'Previsão de Data de Operação',\n",
    "                   'v_intensidade' : 'Volume (Ha)',\n",
    "                   'Time (Days)' : 'Tempo em relação ao Plantio (Dias)',\n",
    "                   'Others':'Grupo de Operações',\n",
    "                   'classe equipe': 'Classe Equipe'}\n",
    "\n",
    "\n",
    "\n",
    "rf_query = rf_query.rename(rename_query_rf,axis=1)"
   ]
  },
  {
   "cell_type": "code",
   "execution_count": 61,
   "metadata": {},
   "outputs": [],
   "source": [
    "#Definindo meses ativos\n",
    "\n",
    "mes_ativo = pd.read_excel(path_premissas, sheet_name='periodo_ativo')\n",
    "\n",
    "mes_ativo = mes_ativo.drop_duplicates('Mês Operacional', keep='first')\n",
    "\n",
    "mes_ativo['Mês Operacional'] = pd.to_datetime(mes_ativo['Mês Operacional'], format= '%Y_%m')\n"
   ]
  },
  {
   "cell_type": "code",
   "execution_count": 62,
   "metadata": {},
   "outputs": [],
   "source": [
    "#Filtrando apenas meses Sensíveis\n",
    "#O envio para operação deve ser em formato de trimestres (*Devido a informações sensíveis)\n",
    "\n",
    "#Filtro Ano 2025\n",
    "\n",
    "rf_query = rf_query[rf_query['Previsão de Data de Operação'].dt.year == 2025]\n",
    "\n",
    "#Filtro para retirar EPS Bracell Apoio\n",
    "rf_query = rf_query[rf_query['EPS'] != 'Bracell Apoio']\n",
    "\n",
    "#Adicionar filtro trimestral\n",
    "rf_query = rf_query.merge(mes_ativo, left_on='Previsão de Data de Operação', right_on='Mês Operacional', how='left')\n",
    "\n",
    "\n",
    "rf_query = rf_query[rf_query['Status Mês'] == 'Ativo']\n",
    "\n",
    "\n",
    "#Remover operações < 0\n",
    "#Isso incluí operações com intensidade 0 na lista tecnica\n",
    "\n",
    "rf_query = rf_query[rf_query['Volume (Ha)'] > 0]\n"
   ]
  },
  {
   "cell_type": "code",
   "execution_count": 63,
   "metadata": {},
   "outputs": [],
   "source": [
    "#Reordenar Colunas\n",
    "\n",
    "rf_query = rf_query[['Fase Custo Padrão','Grupo de Operações','Descrição de Operação','Condição de Área','Regional','EPS','Classe Equipe',\n",
    "                     'Previsão de Data de Operação','Volume (Ha)']]"
   ]
  },
  {
   "cell_type": "code",
   "execution_count": 64,
   "metadata": {},
   "outputs": [],
   "source": [
    "#Puxando a variável para salvar o nome do arquivo\n",
    "\n",
    "path_save_rf = input_file(file='path_save_rf', name_path = 'path')"
   ]
  },
  {
   "cell_type": "code",
   "execution_count": 65,
   "metadata": {},
   "outputs": [],
   "source": [
    "#Puxando a variável para adicioanr o número do rf\n",
    "\n",
    "path_number_rf = input_file(file='path_number_rf', name_path='path')"
   ]
  },
  {
   "cell_type": "code",
   "execution_count": 66,
   "metadata": {},
   "outputs": [],
   "source": [
    "#Arquivo Modelo\n",
    "\n",
    "path_model_file = input_file(file='path_model_file', name_path='path')"
   ]
  },
  {
   "cell_type": "code",
   "execution_count": 67,
   "metadata": {},
   "outputs": [
    {
     "data": {
      "text/plain": [
       "array(['Bracell 1', 'Equipe Escavadeira', 'Carpelo', 'Emflora', 'GN',\n",
       "       'Geração', 'Gers', 'Inovesa', 'JFI Duartina', 'JFI Itatinga',\n",
       "       'JFI Sul (CB/DO)', 'Migrar', 'Nilza', 'RA', 'Sollum', 'Tecponta',\n",
       "       'Vemflors', 'ALSV', 'Maverick', 'Terceiros'], dtype=object)"
      ]
     },
     "execution_count": 67,
     "metadata": {},
     "output_type": "execute_result"
    }
   ],
   "source": [
    "rf_query['EPS'].unique()"
   ]
  },
  {
   "cell_type": "code",
   "execution_count": 68,
   "metadata": {},
   "outputs": [],
   "source": [
    "#Criar função para exportar os dados para cada pasta e cada uma com seu próprio mês\n",
    "\n",
    "#Desenho da estrutura:\n",
    "\n",
    "# Rolling Forcast - RF\n",
    "    #2024\n",
    "        #RF01 > Budget > EPS\n",
    "        #RF02 > Budget > EPS\n",
    "        #RF12 > Budget > EPS\n",
    "    \n",
    "    #Definindo qual é o arquivo modelo e fazendo a cópia dele \n",
    "\n",
    "\n",
    "#Criar lógica da pasta e onde deve ser salvo\n",
    "\n",
    "\n",
    "#Definir em qual pasta será salvo\n",
    "\n",
    "def fechamento(path_folder_file, rf_number):\n",
    "\n",
    "    eps_list = rf_query['EPS'].unique().tolist()\n",
    "\n",
    "    \n",
    "    for eps in eps_list:\n",
    "\n",
    "        #Realizando filtro por EPS\n",
    "        rf_subquery = rf_query[rf_query['EPS'] == eps]\n",
    "\n",
    "        #Renomeando os itens que não podem conter no nome do excel        \n",
    "        eps_rename = eps.replace('/' , '-')\n",
    "\n",
    "        try:\n",
    "            #Criando o diretório para salvar o arquivo\n",
    "            dir_path = os.path.join(path_folder_file, \"RF_\"+str(rf_number),eps_rename)\n",
    "\n",
    "            #Escolhendo o local para criação\n",
    "            make_dir = os.makedirs(dir_path, exist_ok=True)\n",
    "\n",
    "            #Definindo o nome do arquivo principal\n",
    "            file_name_rf = os.path.basename(path_model_file)\n",
    "\n",
    "            #Junção o novo nome\n",
    "            file_name_rf_join = os.path.join(dir_path,file_name_rf)\n",
    "\n",
    "            #Salvando arquivo do RF\n",
    "            file_path = os.path.join(dir_path, f'RF_{rf_number}_{eps_rename}.xlsx')\n",
    "            rf_subquery.to_excel(file_path,index = False)\n",
    "            \n",
    "            print(f\"Exportando arquivo da {eps}\")\n",
    "\n",
    "            #Realizando a cópia do arquivo modelo\n",
    "            shutil.copy(path_model_file,dir_path)\n",
    "\n",
    "            \n",
    "            #new name\n",
    "            new_name = eps_rename + \" - \" + file_name_rf\n",
    "            new_name_rf_join = os.path.join(dir_path, new_name)\n",
    "\n",
    "            \n",
    "            with xw.App(visible=True) as app:  # Definindo visibilidade para False\n",
    "                workbook = app.books.open(file_name_rf_join)\n",
    "\n",
    "                # Acessando a planilha 'path'\n",
    "                worksheet = workbook.sheets['path']\n",
    "                \n",
    "                #Difinir o que será escrito na célula -> variável dir_path\n",
    "                # Escrevendo o diretório na célula A2\n",
    "                worksheet.range('A2').value = dir_path\n",
    "\n",
    "                #Atualizar as consultas do Power Query\n",
    "                workbook.api.RefreshAll()\n",
    "\n",
    "                #Força a atualização\n",
    "                worksheet.api.Calculate()\n",
    "\n",
    "                # Salvando e fechando o arquivo\n",
    "                workbook.save()\n",
    "                \n",
    "                #Fechando os arquivos\n",
    "                workbook.close()\n",
    "\n",
    "\n",
    "            #Renomear o arquivo com o nome da eps              \n",
    "            os.rename(file_name_rf_join , new_name_rf_join)\n",
    "\n",
    "      \n",
    "        except Exception as e:\n",
    "            # Se houver algum erro, ele será capturado aqui\n",
    "            print(f\"Erro ao criar o diretório: {e}\")\n",
    "\n",
    "        \n",
    "        \n",
    "\n",
    "    return print(\"Arquivos exportados com Sucesso\")\n",
    "\n",
    "    \n"
   ]
  },
  {
   "cell_type": "code",
   "execution_count": 69,
   "metadata": {},
   "outputs": [],
   "source": [
    "#fechamento(path_save_rf, path_number_rf)"
   ]
  },
  {
   "cell_type": "code",
   "execution_count": 70,
   "metadata": {},
   "outputs": [],
   "source": [
    "#Query RF export\n",
    "#Criar lógica para exportar por mês e já criar uma pasta com o seu nome e data \n",
    "\n",
    "rf_query.to_excel('rolling_forecast.xlsx', index=False, sheet_name='Rolling forecast')"
   ]
  },
  {
   "cell_type": "code",
   "execution_count": 71,
   "metadata": {},
   "outputs": [],
   "source": [
    "#Log de Premissas\n",
    "    #Garantir que os percentuais não estão somando de forma que duplique ou remova valores\n",
    "\n",
    "\n",
    "log = reprogramacao_melt.groupby(['Operação','Equipe atual', 'Mês Operacional'])['Valores'].sum().reset_index()\n",
    "\n",
    "#Removendo todos os valores que são diferentes de 1\n",
    "log = log[log['Valores'] != 1]\n",
    "\n",
    "\n",
    "#Transformando  o log em um dicionário para incluir ele por inteiro no log de premissas\n",
    "\n",
    "log_dict = log.to_dict(orient='records')\n",
    "\n",
    "#Nome do arquivo\n",
    "log_erros = 'log de erros.txt'\n",
    "\n",
    "\n",
    "#Hora de execussão\n",
    "hr_ex = datetime.now().strftime('%H:%M:%S')\n",
    "\n",
    "l = '_'*150\n",
    "\n",
    "\n",
    "#Gerando o arquivo com diferentes percentuais\n",
    "\n",
    "with open (log_erros,'w', encoding= 'latin-1') as log_txt:\n",
    "    log_txt.write('Log de erros:'+ '\\n')\n",
    "    log_txt.write('Operações com percentual diferente de zero que precisam de revisão'+'\\n')\n",
    "    log_txt.write(\"Se o campo 'Valores' for maior do que 1, logo é necessário que haja revisão dos percentuais atuais\" +'\\n')\n",
    "    log_txt.write(f'Executado as {hr_ex}')\n",
    "\n",
    "    log_txt.write('\\n' + l + '\\n')\n",
    "\n",
    "    for record in log_dict:\n",
    "        line = \", \".join([f\"{k}: {v}\" for k, v in record.items()])\n",
    "        log_txt.write(line + \"\\n\")\n",
    "\n",
    "\n"
   ]
  }
 ],
 "metadata": {
  "kernelspec": {
   "display_name": "Python 3",
   "language": "python",
   "name": "python3"
  },
  "language_info": {
   "codemirror_mode": {
    "name": "ipython",
    "version": 3
   },
   "file_extension": ".py",
   "mimetype": "text/x-python",
   "name": "python",
   "nbconvert_exporter": "python",
   "pygments_lexer": "ipython3",
   "version": "3.11.1"
  }
 },
 "nbformat": 4,
 "nbformat_minor": 2
}
