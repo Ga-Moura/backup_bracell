{
 "cells": [
  {
   "cell_type": "code",
   "execution_count": 48,
   "metadata": {},
   "outputs": [],
   "source": [
    "import pandas as pd\n",
    "from datetime import datetime\n",
    "from datetime import timedelta\n",
    "import os\n",
    "import openpyxl as px\n",
    "import numpy as np\n",
    "import psycopg2 as pg\n",
    "import configparser"
   ]
  },
  {
   "cell_type": "code",
   "execution_count": 3,
   "metadata": {},
   "outputs": [],
   "source": [
    "#path credenciais\n",
    "\n",
    "credenciais_path = r\"F:\\Silvicultura\\01. SP\\PROCESSOS\\COI Silvicultura - Edicao\\04. Pessoas\\Gabriel Moura\\00 - Silvicultura\\00 - Credenciais\\credenciais.conf\""
   ]
  },
  {
   "cell_type": "code",
   "execution_count": 4,
   "metadata": {},
   "outputs": [],
   "source": [
    "#credenciais\n",
    "\n",
    "\n",
    "credenciais = configparser.ConfigParser()\n",
    "\n",
    "credenciais.read(credenciais_path)\n",
    "\n",
    "logins = credenciais['credenciais']\n",
    "\n",
    "\n",
    "conn_dwh = pg.connect(\n",
    "    user =logins['login'],\n",
    "    password =logins['senha_sql'],\n",
    "    host = logins['host'],\n",
    "    port = logins['port'],\n",
    "    database = logins['data_base']\n",
    ")"
   ]
  },
  {
   "cell_type": "code",
   "execution_count": 5,
   "metadata": {},
   "outputs": [],
   "source": [
    "#path premissas \n",
    "path_premissas = r'F:\\Silvicultura\\01. SP\\PROCESSOS\\COI Silvicultura - Edicao\\01. Programações & Controles\\001. Rolling Forcast - RF\\2024\\Distribuição Operacional\\premissas.xlsx'"
   ]
  },
  {
   "cell_type": "code",
   "execution_count": 6,
   "metadata": {},
   "outputs": [],
   "source": [
    "#path histórico\n",
    "\n",
    "path_historico = r'F:\\Silvicultura\\01. SP\\PROCESSOS\\COI Silvicultura - Edicao\\01. Programações & Controles\\001. Rolling Forcast - RF\\2024\\Distribuição Operacional\\histórico - realizado.xlsx'"
   ]
  },
  {
   "cell_type": "code",
   "execution_count": 7,
   "metadata": {},
   "outputs": [],
   "source": [
    "#path lista tecnica\n",
    "\n",
    "path_lista_tecnica = r'F:\\Silvicultura\\01. SP\\PROCESSOS\\COI Silvicultura - Edicao\\01. Programações & Controles\\001. Rolling Forcast - RF\\2024\\Distribuição Operacional\\20241029_ListasTecnicas-v16.xlsx'"
   ]
  },
  {
   "cell_type": "code",
   "execution_count": 8,
   "metadata": {},
   "outputs": [],
   "source": [
    "#base histórico realizado\n",
    "historico = pd.read_excel(path_historico, skiprows=2)"
   ]
  },
  {
   "cell_type": "code",
   "execution_count": 9,
   "metadata": {},
   "outputs": [],
   "source": [
    "#Capacidade de plantio\n",
    "cap_plantio = pd.read_excel(path_premissas,sheet_name='cap plantio')"
   ]
  },
  {
   "cell_type": "code",
   "execution_count": 10,
   "metadata": {},
   "outputs": [],
   "source": [
    "#Encontrando mês operacional\n",
    "\n",
    "def mes_operacional(df, coluna, nome_coluna):\n",
    "    # Garantir que a coluna é do tipo datetime\n",
    "    if not pd.api.types.is_datetime64_any_dtype(df[coluna]):\n",
    "        df[coluna] = pd.to_datetime(df[coluna], errors='coerce')\n",
    "    \n",
    "    \n",
    "    def calcular_mes_operacional(data):\n",
    "        \n",
    "        if pd.isna(data):\n",
    "            return None \n",
    "        \n",
    "        \n",
    "        dia = data.day\n",
    "        mes = data.month\n",
    "        ano = data.year\n",
    "        \n",
    "        \n",
    "        if dia > 20:\n",
    "            mes = (mes % 12) + 1\n",
    "            if mes == 1:\n",
    "                ano += 1\n",
    "        \n",
    "        # Retornar um Timestamp, garantindo que todos são inteiros\n",
    "        return pd.Timestamp(year=int(ano), month=int(mes), day=1)\n",
    "\n",
    "    # Aplicar a função para a coluna\n",
    "    df[nome_coluna] = df[coluna].apply(calcular_mes_operacional)\n",
    "\n",
    "    return df"
   ]
  },
  {
   "cell_type": "code",
   "execution_count": 11,
   "metadata": {},
   "outputs": [],
   "source": [
    "#Código de usuário responsável\n",
    "\n",
    "\n",
    "cursor_usu_resp = conn_dwh.cursor()\n",
    "\n",
    "cursor_usu_resp.execute(\n",
    "\"\"\" \n",
    "select distinct on (cd_usuario)\n",
    "    dcr_usuario,\n",
    "    cd_usuario,\n",
    "    est_reg\n",
    "\n",
    "from \n",
    "    forestry.d_vw_usuarios_perfil\n",
    "\"\"\"\n",
    "\n",
    ")\n",
    "\n",
    "#Mesmo o est_reg for apenas 'A' ele considera as pessoas que já não estão mais na empresa\n",
    "\n",
    "\n",
    "dados_uso_resp = cursor_usu_resp.fetchall()\n",
    "\n",
    "cursor_usu_resp.close()\n",
    "\n",
    "\n",
    "colunas_uso_resp = [desc[0] for desc in cursor_usu_resp.description]\n",
    "\n",
    "#Fechando conexão com o DWH\n",
    "conn_dwh.close()\n",
    "\n",
    "uso_resp = pd.DataFrame(dados_uso_resp, columns=colunas_uso_resp)"
   ]
  },
  {
   "cell_type": "code",
   "execution_count": 12,
   "metadata": {},
   "outputs": [],
   "source": [
    "#Inserindo Supervisor\n",
    "\n",
    "historico = historico.merge(uso_resp[['dcr_usuario','cd_usuario']],left_on=['cd_usuario_resp'], right_on= ['cd_usuario'], how='left').drop('cd_usuario',axis=1)"
   ]
  },
  {
   "cell_type": "code",
   "execution_count": 13,
   "metadata": {},
   "outputs": [],
   "source": [
    "#Filtrando somente o que é plantio\n",
    "historico = historico[historico['Grupo de Atividades'] == 'Plantio']"
   ]
  },
  {
   "cell_type": "code",
   "execution_count": 14,
   "metadata": {},
   "outputs": [
    {
     "data": {
      "text/html": [
       "<div>\n",
       "<style scoped>\n",
       "    .dataframe tbody tr th:only-of-type {\n",
       "        vertical-align: middle;\n",
       "    }\n",
       "\n",
       "    .dataframe tbody tr th {\n",
       "        vertical-align: top;\n",
       "    }\n",
       "\n",
       "    .dataframe thead th {\n",
       "        text-align: right;\n",
       "    }\n",
       "</style>\n",
       "<table border=\"1\" class=\"dataframe\">\n",
       "  <thead>\n",
       "    <tr style=\"text-align: right;\">\n",
       "      <th></th>\n",
       "      <th>eps_de</th>\n",
       "      <th>eps_para</th>\n",
       "      <th>regional</th>\n",
       "    </tr>\n",
       "  </thead>\n",
       "  <tbody>\n",
       "    <tr>\n",
       "      <th>0</th>\n",
       "      <td>SOLLUM EMPREEND FLORESTAIS EIRELI EPP</td>\n",
       "      <td>Sollum</td>\n",
       "      <td>CE</td>\n",
       "    </tr>\n",
       "    <tr>\n",
       "      <th>1</th>\n",
       "      <td>NILZA MARIA G CAVALHEIRO EPP</td>\n",
       "      <td>Nilza</td>\n",
       "      <td>CE</td>\n",
       "    </tr>\n",
       "    <tr>\n",
       "      <th>2</th>\n",
       "      <td>CARPELO SERVICOS FLORESTAIS</td>\n",
       "      <td>Carpelo</td>\n",
       "      <td>NW</td>\n",
       "    </tr>\n",
       "  </tbody>\n",
       "</table>\n",
       "</div>"
      ],
      "text/plain": [
       "                                  eps_de eps_para regional\n",
       "0  SOLLUM EMPREEND FLORESTAIS EIRELI EPP   Sollum       CE\n",
       "1           NILZA MARIA G CAVALHEIRO EPP    Nilza       CE\n",
       "2            CARPELO SERVICOS FLORESTAIS  Carpelo       NW"
      ]
     },
     "execution_count": 14,
     "metadata": {},
     "output_type": "execute_result"
    }
   ],
   "source": [
    "#De para EPS\n",
    "\n",
    "de_para_eps = pd.read_excel(path_premissas, sheet_name='eps')\n",
    "\n",
    "de_para_eps.head(3)"
   ]
  },
  {
   "cell_type": "code",
   "execution_count": 15,
   "metadata": {},
   "outputs": [],
   "source": [
    "#Encontrando Regional JFI\n",
    "\n",
    "historico['os_eps'] = historico.apply(lambda x : str(x['dcr_ordem_servico'])[8:].split('_')[1].upper(), axis=1)\n",
    "\n",
    "historico['dcr_fornecedor'] = np.where(historico['dcr_fornecedor'] == 'J F I SILVICULTURA', historico['os_eps'], historico['dcr_fornecedor'])\n",
    "\n",
    "historico['dcr_fornecedor'] = np.where( (historico['os_eps'] == 'JFI') & (historico['dcr_usuario'] == 'Danilo Roberto Bavaroski') , 'JFICAPÃO', historico['dcr_fornecedor'])"
   ]
  },
  {
   "cell_type": "code",
   "execution_count": null,
   "metadata": {},
   "outputs": [],
   "source": [
    "#retirando do histórico os meses que ainda estão planejados e não estão fechado\n",
    "\n",
    "historico = historico[(historico['[m] Mês Operacional'] != '2024_11') & (historico['[m] Mês Operacional'] != '2024_12')]"
   ]
  },
  {
   "cell_type": "code",
   "execution_count": 17,
   "metadata": {},
   "outputs": [],
   "source": [
    "#Atualizando o nome das equipes\n",
    "historico = historico.merge(de_para_eps, left_on=['dcr_fornecedor'], right_on=['eps_de'],how='left').drop('eps_de',axis=1).rename({'eps_para': 'Equipe de Plantio'},axis=1)"
   ]
  },
  {
   "cell_type": "code",
   "execution_count": 18,
   "metadata": {},
   "outputs": [],
   "source": [
    "#Volume de plantio agrupado por mês\n",
    "v_anual = historico.groupby('[m] Mês Operacional')['Soma de [c] Valor de Produção'].sum().reset_index()"
   ]
  },
  {
   "cell_type": "code",
   "execution_count": 19,
   "metadata": {},
   "outputs": [],
   "source": [
    "#Volume de plantio agrupado por mês e fornecedor\n",
    "v_anual_eps = historico.groupby(['[m] Mês Operacional','dcr_fornecedor','Equipe de Plantio'])['Soma de [c] Valor de Produção'].sum().reset_index()\n",
    "\n",
    "#Encontrar proporção de plantio \n",
    "v_anual_eps['% de Plantio'] = v_anual_eps['Soma de [c] Valor de Produção'] / v_anual_eps.groupby('[m] Mês Operacional')['Soma de [c] Valor de Produção'].transform('sum')"
   ]
  },
  {
   "cell_type": "code",
   "execution_count": 20,
   "metadata": {},
   "outputs": [],
   "source": [
    "#Pivot_table\n",
    "\n",
    "#Visão de volume por eps ao longo dos anos\n",
    "v_anual_eps_pivot = v_anual_eps.pivot_table(index=['Equipe de Plantio'], columns=['[m] Mês Operacional'], values='Soma de [c] Valor de Produção',aggfunc='sum')\n",
    "\n",
    "#Visão em percentual por eps ao longo dos anos\n",
    "perc_anual_eps_pivot = v_anual_eps.pivot_table(index=['Equipe de Plantio'], columns=['[m] Mês Operacional'], values='% de Plantio',aggfunc='sum')"
   ]
  },
  {
   "cell_type": "code",
   "execution_count": null,
   "metadata": {},
   "outputs": [],
   "source": [
    "#último quadrimetre operacional do realizado\n",
    "\n",
    "last4 = pd.to_datetime(v_anual_eps['[m] Mês Operacional'],format='%Y_%m').max()\n",
    "\n",
    "last4 = last4 - timedelta(days=120)\n"
   ]
  },
  {
   "cell_type": "code",
   "execution_count": null,
   "metadata": {},
   "outputs": [],
   "source": [
    "#Base com produção e representatividade do último quadrimestre\n",
    "\n",
    "#Proporção de planejamento do último quadrimestre\n",
    "\n",
    "quad_v_anual_eps_pivot = v_anual_eps[pd.to_datetime(v_anual_eps['[m] Mês Operacional'],format='%Y_%m') > last4]"
   ]
  },
  {
   "cell_type": "code",
   "execution_count": 59,
   "metadata": {},
   "outputs": [],
   "source": [
    "#Área referência para distribuição de blocos\n",
    "\n",
    "area_ref = pd.read_excel(path_premissas,sheet_name='area referencia')\n",
    "\n",
    "#Retirando áreas de exaustão\n",
    "\n",
    "area_ref = area_ref[area_ref['Tipo'] != 'Exaustão']\n",
    "\n",
    "\n",
    "area_ref = area_ref.groupby(['Regional','Mês'])['Área'].sum().reset_index()"
   ]
  },
  {
   "cell_type": "code",
   "execution_count": 60,
   "metadata": {},
   "outputs": [
    {
     "data": {
      "text/html": [
       "<div>\n",
       "<style scoped>\n",
       "    .dataframe tbody tr th:only-of-type {\n",
       "        vertical-align: middle;\n",
       "    }\n",
       "\n",
       "    .dataframe tbody tr th {\n",
       "        vertical-align: top;\n",
       "    }\n",
       "\n",
       "    .dataframe thead th {\n",
       "        text-align: right;\n",
       "    }\n",
       "</style>\n",
       "<table border=\"1\" class=\"dataframe\">\n",
       "  <thead>\n",
       "    <tr style=\"text-align: right;\">\n",
       "      <th></th>\n",
       "      <th>Regional</th>\n",
       "      <th>Mês</th>\n",
       "      <th>Área</th>\n",
       "    </tr>\n",
       "  </thead>\n",
       "  <tbody>\n",
       "    <tr>\n",
       "      <th>0</th>\n",
       "      <td>Global</td>\n",
       "      <td>2020-01-01</td>\n",
       "      <td>3128.57</td>\n",
       "    </tr>\n",
       "    <tr>\n",
       "      <th>1</th>\n",
       "      <td>Global</td>\n",
       "      <td>2020-02-01</td>\n",
       "      <td>3352.17</td>\n",
       "    </tr>\n",
       "    <tr>\n",
       "      <th>2</th>\n",
       "      <td>Global</td>\n",
       "      <td>2020-03-01</td>\n",
       "      <td>1290.72</td>\n",
       "    </tr>\n",
       "    <tr>\n",
       "      <th>3</th>\n",
       "      <td>Global</td>\n",
       "      <td>2020-04-01</td>\n",
       "      <td>1725.23</td>\n",
       "    </tr>\n",
       "    <tr>\n",
       "      <th>4</th>\n",
       "      <td>Global</td>\n",
       "      <td>2020-05-01</td>\n",
       "      <td>2062.73</td>\n",
       "    </tr>\n",
       "    <tr>\n",
       "      <th>...</th>\n",
       "      <td>...</td>\n",
       "      <td>...</td>\n",
       "      <td>...</td>\n",
       "    </tr>\n",
       "    <tr>\n",
       "      <th>79</th>\n",
       "      <td>Global</td>\n",
       "      <td>2026-08-01</td>\n",
       "      <td>3125.00</td>\n",
       "    </tr>\n",
       "    <tr>\n",
       "      <th>80</th>\n",
       "      <td>Global</td>\n",
       "      <td>2026-09-01</td>\n",
       "      <td>3125.00</td>\n",
       "    </tr>\n",
       "    <tr>\n",
       "      <th>81</th>\n",
       "      <td>Global</td>\n",
       "      <td>2026-10-01</td>\n",
       "      <td>3125.00</td>\n",
       "    </tr>\n",
       "    <tr>\n",
       "      <th>82</th>\n",
       "      <td>Global</td>\n",
       "      <td>2026-11-01</td>\n",
       "      <td>3125.00</td>\n",
       "    </tr>\n",
       "    <tr>\n",
       "      <th>83</th>\n",
       "      <td>Global</td>\n",
       "      <td>2026-12-01</td>\n",
       "      <td>3125.00</td>\n",
       "    </tr>\n",
       "  </tbody>\n",
       "</table>\n",
       "<p>84 rows × 3 columns</p>\n",
       "</div>"
      ],
      "text/plain": [
       "   Regional        Mês     Área\n",
       "0    Global 2020-01-01  3128.57\n",
       "1    Global 2020-02-01  3352.17\n",
       "2    Global 2020-03-01  1290.72\n",
       "3    Global 2020-04-01  1725.23\n",
       "4    Global 2020-05-01  2062.73\n",
       "..      ...        ...      ...\n",
       "79   Global 2026-08-01  3125.00\n",
       "80   Global 2026-09-01  3125.00\n",
       "81   Global 2026-10-01  3125.00\n",
       "82   Global 2026-11-01  3125.00\n",
       "83   Global 2026-12-01  3125.00\n",
       "\n",
       "[84 rows x 3 columns]"
      ]
     },
     "execution_count": 60,
     "metadata": {},
     "output_type": "execute_result"
    }
   ],
   "source": [
    "area_ref"
   ]
  }
 ],
 "metadata": {
  "kernelspec": {
   "display_name": "Python 3",
   "language": "python",
   "name": "python3"
  },
  "language_info": {
   "codemirror_mode": {
    "name": "ipython",
    "version": 3
   },
   "file_extension": ".py",
   "mimetype": "text/x-python",
   "name": "python",
   "nbconvert_exporter": "python",
   "pygments_lexer": "ipython3",
   "version": "3.11.1"
  }
 },
 "nbformat": 4,
 "nbformat_minor": 2
}
