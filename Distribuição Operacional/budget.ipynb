{
 "cells": [
  {
   "cell_type": "code",
   "execution_count": 1,
   "metadata": {},
   "outputs": [],
   "source": [
    "import pandas as pd\n",
    "import os\n",
    "import numpy as np\n"
   ]
  },
  {
   "cell_type": "code",
   "execution_count": 140,
   "metadata": {},
   "outputs": [],
   "source": [
    "import warnings\n",
    "\n",
    "# Suprimir avisos específicos\n",
    "warnings.filterwarnings(\"ignore\", category=UserWarning, module=\"openpyxl\")"
   ]
  },
  {
   "cell_type": "code",
   "execution_count": 141,
   "metadata": {},
   "outputs": [],
   "source": [
    "#path premissas \n",
    "path_premissas = r'F:\\Silvicultura\\01. SP\\PROCESSOS\\COI Silvicultura - Edicao\\01. Programações & Controles\\001. Rolling Forcast - RF\\2024\\Distribuição Operacional\\premissas.xlsx'"
   ]
  },
  {
   "cell_type": "code",
   "execution_count": 142,
   "metadata": {},
   "outputs": [],
   "source": [
    "premissas_df = pd.read_excel(path_premissas, sheet_name='join')\n",
    "\n",
    "def input_file(file):\n",
    "    premissas = premissas_df.copy()\n",
    "    \n",
    "    premissas = premissas[premissas['status'] == 'ativo']\n",
    "\n",
    "    premissas = premissas[premissas['arquivos de consumo'] == file]\n",
    "\n",
    "    path = premissas['path'].iloc[0]\n",
    "\n",
    "    return path"
   ]
  },
  {
   "cell_type": "code",
   "execution_count": 143,
   "metadata": {},
   "outputs": [],
   "source": [
    "name_save = input_file('name_save')"
   ]
  },
  {
   "cell_type": "code",
   "execution_count": 144,
   "metadata": {},
   "outputs": [],
   "source": [
    "save_path = input_file('save_path')"
   ]
  },
  {
   "cell_type": "code",
   "execution_count": 145,
   "metadata": {},
   "outputs": [],
   "source": [
    "#Definindo path para juntar os arquivos\n",
    "path_join = input_file(file='path_join')"
   ]
  },
  {
   "cell_type": "code",
   "execution_count": 146,
   "metadata": {},
   "outputs": [],
   "source": [
    "btg = pd.DataFrame()\n",
    "\n",
    "for root, dirs, files in os.walk(path_join):\n",
    "    for file in files:\n",
    "        if \"serviços\" in file.lower() and not \"~\" in file:\n",
    "            file_path = os.path.join(root,file)\n",
    "            tabelas = pd.read_excel(file_path, sheet_name='Consolidado', header=21)\n",
    "            tabelas[\"Nome origem\"] = file\n",
    "            btg = pd.concat([btg, tabelas], axis=0, ignore_index=True)"
   ]
  },
  {
   "cell_type": "code",
   "execution_count": 147,
   "metadata": {},
   "outputs": [],
   "source": [
    "btg = btg[['Fase Custo Padrão', 'Grupo de Operações', 'Descrição de Operação',\n",
    "       'Condição de Área', 'Regional', 'EPS', 'Classe Equipe',\n",
    "       'Previsão de Data de Operação', 'Volume (Ha)','Reajuste Volume (Ha)',\n",
    "       'Volume (Ha) Ajustado', 'Classe de Reajuste',\n",
    "       'Nome origem']]"
   ]
  },
  {
   "cell_type": "code",
   "execution_count": 148,
   "metadata": {},
   "outputs": [
    {
     "data": {
      "text/plain": [
       "array(['MAINTENANCE 0 - 1', 'MAINTENANCE 1 - 2', 'MAINTENANCE 2 - 3',\n",
       "       'MAINTENANCE 3 - 4', 'MAINTENANCE 4 - 5', 'AREA PREPARATION',\n",
       "       'PLANTING', 'MAINTENANCE 5 - 6'], dtype=object)"
      ]
     },
     "execution_count": 148,
     "metadata": {},
     "output_type": "execute_result"
    }
   ],
   "source": [
    "btg['Fase Custo Padrão'].unique()"
   ]
  },
  {
   "cell_type": "code",
   "execution_count": 149,
   "metadata": {},
   "outputs": [
    {
     "data": {
      "text/plain": [
       "array(['Pests control', 'Others', 'Trail cleaning',\n",
       "       'Weed Control&Fertilization', 'Savannah', 'Lowering stumps',\n",
       "       'Weed control (pre-emergent)', 'Weed control (post-emergent)',\n",
       "       'Ants control', 'Basin', 'Soil preparation - APS', 'Irrigation',\n",
       "       'Planting', 'Replanting', 'Soil preparation', 'Liming',\n",
       "       'Fertilization', 'Weed control (slash)', 'Roads'], dtype=object)"
      ]
     },
     "execution_count": 149,
     "metadata": {},
     "output_type": "execute_result"
    }
   ],
   "source": [
    "btg['Grupo de Operações'].unique()"
   ]
  },
  {
   "cell_type": "code",
   "execution_count": 150,
   "metadata": {},
   "outputs": [
    {
     "data": {
      "text/plain": [
       "array(['SERV CONTROLE DE PRAGAS DRONE TERCEIRO', 'APOIO AUTO-PROPELIDO',\n",
       "       'LIMPA TRILHO', 'METRINHO',\n",
       "       'Prototipo Capina Quim Mec 2ª Barra e Adub Solida Mec 360',\n",
       "       'REALINHAMENTO (SAVANNAH)', 'REBAIXAMENTO (SAVANNAH)',\n",
       "       'SERV CAPINA AREA TOTAL AUTOPROPELIDO - pré emergente',\n",
       "       'SERV CAPINA AREA TOTAL AUTOPROPELIDO PROPRIO',\n",
       "       'SERV CAPINA AREA TOTAL DRONE PROPRIO',\n",
       "       'SERV COMB FORMIGA REPASSE', 'SERV CONSTR BACIA REFORMA AGRIC',\n",
       "       'SERV GRADINHA HASTE NEGATIVA PROPRIO',\n",
       "       'SERV IRRIGACAO NIVEL 1 AGRIC',\n",
       "       'SERV IRRIGACAO REPLANTIO NIVEL 1 AGRIC', 'SERV PLANTIO AGRIC',\n",
       "       'SERV PLANTIO IRRIGADO NIVEL 1 AGRIC', 'SERV REPLANTIO AGRIC',\n",
       "       'SUBSOLAGEM PROPRIA', 'TRANSPORTE DE ADUBO',\n",
       "       'VIVEIRO ESPERA / TRANSPORTE MUDAS',\n",
       "       'SERV APLIC CALCARIO NIVEL 1 AGRIC',\n",
       "       'SERV APLIC CALCARIO NIVEL 1 DECL AGRIC',\n",
       "       'SERV APLIC CALCARIO NIVEL 2 DECL AGRIC',\n",
       "       'SERV APLIC CALCARIO NIVEL 3 AGRIC',\n",
       "       'SERV APLIC HERB AREA TOTAL NIVEL 1 AGRIC',\n",
       "       'SERV CAP QUIM 1 PRE EMERG AREA TOT AGRIC',\n",
       "       'SERV CAP QUIM MEC BARRA AGRIC',\n",
       "       'SERV COMB FORMIGA MANUAL 1 RUA AGRIC',\n",
       "       'SERV COMB FORMIGA PRE PLANTIO 1ª',\n",
       "       'SERV COMB FORMIGA PRE PLANTIO 2ª',\n",
       "       'SERV COMB FORMIGA TERMONEBULIZADOR',\n",
       "       'SERV ADUBACAO SOLIDA MEC 360DIAS AGRIC',\n",
       "       'SERV CAP QUIM 2 PRE EMERG AREA TOT AGRIC',\n",
       "       'SERV CAP QUIM 3 PRE EMERG AREA TOT AGRIC',\n",
       "       'SERV CAP QUIM MANUAL MEDIA AGRIC',\n",
       "       'SERV CAP QUIM MEC 2ª BARRA AGRIC',\n",
       "       'SERV CONTROLE DE PRAGAS AGRIC',\n",
       "       'SERV ROCADA QUIM MECANIZADA AGRIC',\n",
       "       'SERV ROÇADA DESBROTA N4 AGRIC', 'SERV ADUBACAO SOLIDA MEC AGRIC',\n",
       "       'SERV CAP QUIM MEC 3ª BARRA AGRIC',\n",
       "       'SERV CAP QUIM MEC 4ª BARRA AGRIC', 'ESCAVADEIRA',\n",
       "       'REBAIXAMENTO (ESCAVADEIRA)'], dtype=object)"
      ]
     },
     "execution_count": 150,
     "metadata": {},
     "output_type": "execute_result"
    }
   ],
   "source": [
    "btg['Descrição de Operação'].unique()"
   ]
  },
  {
   "cell_type": "code",
   "execution_count": 151,
   "metadata": {},
   "outputs": [
    {
     "data": {
      "text/plain": [
       "array([nan, 'NW', 'NO', 'SU', 'CE'], dtype=object)"
      ]
     },
     "execution_count": 151,
     "metadata": {},
     "output_type": "execute_result"
    }
   ],
   "source": [
    "btg['Regional'].unique()"
   ]
  },
  {
   "cell_type": "code",
   "execution_count": 152,
   "metadata": {},
   "outputs": [
    {
     "data": {
      "text/plain": [
       "array(['ALSV - Orçamento 2025 - Serviços.xlsx',\n",
       "       'Bracell 1 - Orçamento 2025 - Serviços.xlsx',\n",
       "       'Carpelo - Orçamento 2025 - Serviços.xlsx',\n",
       "       'Emflora - Orçamento 2025 - Serviços.xlsx',\n",
       "       'Equipe Escavadeira - Orçamento 2025 - Serviços.xlsx',\n",
       "       'Geração - Orçamento 2025 - Serviços.xlsx',\n",
       "       'Gers - Orçamento 2025 - Serviços.xlsx',\n",
       "       'GN - Orçamento 2025 - Serviços.xlsx',\n",
       "       'Inovesa - Orçamento 2025 - Serviços.xlsx',\n",
       "       'JFI Duartina - Orçamento 2025 - Serviços.xlsx',\n",
       "       'JFI Itatinga - Orçamento 2025 - Serviços.xlsx',\n",
       "       'JFI Sul (CB-DO) - Orçamento 2025 - Serviços.xlsx',\n",
       "       'Maverick - Orçamento 2025 - Serviços.xlsx',\n",
       "       'Migrar - Orçamento 2025 - Serviços.xlsx',\n",
       "       'Nilza - Orçamento 2025 - Serviços.xlsx',\n",
       "       'RA - Orçamento 2025 - Serviços.xlsx',\n",
       "       'Sollum - Orçamento 2025 - Serviços.xlsx',\n",
       "       'Tecponta - Orçamento 2025 - Serviços.xlsx',\n",
       "       'Vemflors - Orçamento 2025 - Serviços.xlsx'], dtype=object)"
      ]
     },
     "execution_count": 152,
     "metadata": {},
     "output_type": "execute_result"
    }
   ],
   "source": [
    "btg['Nome origem'].unique()"
   ]
  },
  {
   "cell_type": "code",
   "execution_count": 153,
   "metadata": {},
   "outputs": [],
   "source": [
    "#Ordenando como salvar a base\n",
    "\n",
    "save = os.path.join(save_path,name_save)\n",
    "\n",
    "save = os.path.join(save, f'Budget_{name_save}.xlsx')\n",
    "\n",
    "os.makedirs(os.path.dirname(save), exist_ok=True)"
   ]
  },
  {
   "cell_type": "code",
   "execution_count": 154,
   "metadata": {},
   "outputs": [],
   "source": [
    "btg.to_excel(save, index=False)"
   ]
  }
 ],
 "metadata": {
  "kernelspec": {
   "display_name": "Python 3",
   "language": "python",
   "name": "python3"
  },
  "language_info": {
   "codemirror_mode": {
    "name": "ipython",
    "version": 3
   },
   "file_extension": ".py",
   "mimetype": "text/x-python",
   "name": "python",
   "nbconvert_exporter": "python",
   "pygments_lexer": "ipython3",
   "version": "3.11.1"
  }
 },
 "nbformat": 4,
 "nbformat_minor": 2
}
